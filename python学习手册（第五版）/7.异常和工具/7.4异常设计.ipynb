{
 "cells": [
  {
   "cell_type": "markdown",
   "metadata": {
    "collapsed": true,
    "pycharm": {
     "name": "#%% md\n"
    }
   },
   "source": [
    "## 7.4.1 嵌套异常处理程序"
   ]
  },
  {
   "cell_type": "code",
   "execution_count": 1,
   "outputs": [
    {
     "name": "stdout",
     "output_type": "stream",
     "text": [
      "inner try\n"
     ]
    }
   ],
   "source": [
    "def action2():\n",
    "    print(1+[])\n",
    "def action1():\n",
    "    try:\n",
    "        action2()\n",
    "    except TypeError:\n",
    "        print('inner try')\n",
    "try:\n",
    "    action1()\n",
    "except TypeError:\n",
    "    print('outer try')"
   ],
   "metadata": {
    "collapsed": false,
    "pycharm": {
     "name": "#%%\n"
    }
   }
  },
  {
   "cell_type": "markdown",
   "source": [
    "## 7.4.2 异常的习惯用法"
   ],
   "metadata": {
    "collapsed": false
   }
  },
  {
   "cell_type": "code",
   "execution_count": 1,
   "outputs": [
    {
     "name": "stdout",
     "output_type": "stream",
     "text": [
      "loop3:0\n",
      "loop3:1\n",
      "loop3:2\n",
      "loop3:3\n",
      "continue\n"
     ]
    }
   ],
   "source": [
    "# 我们可以使用异常来跳出多重循环\n",
    "class Exitloop(Exception): pass\n",
    "try:\n",
    "    while True:\n",
    "        while True:\n",
    "            for i in range(10):\n",
    "                if i>3:\n",
    "                    raise Exitloop()\n",
    "                print('loop3:%d' % i)\n",
    "        print('loop2')\n",
    "    print('loop1')\n",
    "except Exitloop:\n",
    "    print('continue')"
   ],
   "metadata": {
    "collapsed": false,
    "pycharm": {
     "name": "#%%\n"
    }
   }
  },
  {
   "cell_type": "code",
   "execution_count": null,
   "outputs": [],
   "source": [
    "# 异常还可以用于断开文件与服务器连接"
   ],
   "metadata": {
    "collapsed": false,
    "pycharm": {
     "name": "#%%\n"
    }
   }
  },
  {
   "cell_type": "code",
   "execution_count": 3,
   "outputs": [
    {
     "name": "stdout",
     "output_type": "stream",
     "text": [
      "uncaught! <class 'IndexError'> 错误信息\n"
     ]
    }
   ],
   "source": [
    "#我们可以捕获异常的详细信息\n",
    "try:\n",
    "    raise IndexError(\"错误信息\")\n",
    "except:\n",
    "    import sys\n",
    "    print('uncaught!',sys.exc_info()[0],sys.exc_info()[1])"
   ],
   "metadata": {
    "collapsed": false,
    "pycharm": {
     "name": "#%%\n"
    }
   }
  },
  {
   "cell_type": "code",
   "execution_count": 4,
   "outputs": [
    {
     "name": "stdout",
     "output_type": "stream",
     "text": [
      "bye\n"
     ]
    },
    {
     "name": "stderr",
     "output_type": "stream",
     "text": [
      "Traceback (most recent call last):\n",
      "  File \"C:\\Users\\xiaoyou\\AppData\\Local\\Temp\\ipykernel_8168\\2391317606.py\", line 6, in <module>\n",
      "    inverse(0)\n",
      "  File \"C:\\Users\\xiaoyou\\AppData\\Local\\Temp\\ipykernel_8168\\2391317606.py\", line 4, in inverse\n",
      "    return 1/x\n",
      "ZeroDivisionError: division by zero\n"
     ]
    }
   ],
   "source": [
    "# 我们也可以打印错误栈\n",
    "import traceback\n",
    "def inverse(x):\n",
    "    return 1/x\n",
    "try:\n",
    "    inverse(0)\n",
    "except Exception:\n",
    "    traceback.print_exc()\n",
    "print('bye')"
   ],
   "metadata": {
    "collapsed": false,
    "pycharm": {
     "name": "#%%\n"
    }
   }
  },
  {
   "cell_type": "markdown",
   "source": [
    "## 7.4.3 异常设计的建议与陷阱"
   ],
   "metadata": {
    "collapsed": false
   }
  },
  {
   "cell_type": "code",
   "execution_count": 5,
   "outputs": [
    {
     "name": "stdout",
     "output_type": "stream",
     "text": [
      "捕获异常\n",
      "继续\n"
     ]
    }
   ],
   "source": [
    "# try会拦截程序的终止\n",
    "try:\n",
    "    sys.exit(40)\n",
    "except:\n",
    "    print(\"捕获异常\")\n",
    "print('继续')"
   ],
   "metadata": {
    "collapsed": false,
    "pycharm": {
     "name": "#%%\n"
    }
   }
  },
  {
   "cell_type": "code",
   "execution_count": 6,
   "outputs": [
    {
     "ename": "SystemExit",
     "evalue": "40",
     "output_type": "error",
     "traceback": [
      "An exception has occurred, use %tb to see the full traceback.\n",
      "\u001B[1;31mSystemExit\u001B[0m\u001B[1;31m:\u001B[0m 40\n"
     ]
    },
    {
     "name": "stderr",
     "output_type": "stream",
     "text": [
      "d:\\app\\python\\377\\lib\\site-packages\\IPython\\core\\interactiveshell.py:3532: UserWarning: To exit: use 'exit', 'quit', or Ctrl-D.\n",
      "  warn(\"To exit: use 'exit', 'quit', or Ctrl-D.\", stacklevel=1)\n"
     ]
    }
   ],
   "source": [
    "# 当然也可以这样，但是依旧不是很好\n",
    "try:\n",
    "    sys.exit(40)\n",
    "except Exception:\n",
    "    print(\"捕获异常\")\n",
    "print('继续')"
   ],
   "metadata": {
    "collapsed": false,
    "pycharm": {
     "name": "#%%\n"
    }
   }
  }
 ],
 "metadata": {
  "kernelspec": {
   "display_name": "Python 3",
   "language": "python",
   "name": "python3"
  },
  "language_info": {
   "codemirror_mode": {
    "name": "ipython",
    "version": 2
   },
   "file_extension": ".py",
   "mimetype": "text/x-python",
   "name": "python",
   "nbconvert_exporter": "python",
   "pygments_lexer": "ipython2",
   "version": "2.7.6"
  }
 },
 "nbformat": 4,
 "nbformat_minor": 0
}