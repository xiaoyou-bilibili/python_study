{
 "cells": [
  {
   "cell_type": "markdown",
   "metadata": {
    "collapsed": true,
    "pycharm": {
     "name": "#%% md\n"
    }
   },
   "source": [
    "## 6.6.1 python和OOP"
   ]
  },
  {
   "cell_type": "markdown",
   "source": [
    "## 6.6.2 OOP和继承"
   ],
   "metadata": {
    "collapsed": false
   }
  },
  {
   "cell_type": "markdown",
   "source": [
    "## 6.6.3 OOP和组和"
   ],
   "metadata": {
    "collapsed": false
   }
  },
  {
   "cell_type": "markdown",
   "source": [
    "## 6.6.4 类的伪私有属性"
   ],
   "metadata": {
    "collapsed": false
   }
  },
  {
   "cell_type": "code",
   "execution_count": 1,
   "outputs": [
    {
     "name": "stdout",
     "output_type": "stream",
     "text": [
      "{'_People__name': 'bob'}\n"
     ]
    },
    {
     "ename": "AttributeError",
     "evalue": "'People' object has no attribute '__name'",
     "output_type": "error",
     "traceback": [
      "\u001B[1;31m---------------------------------------------------------------------------\u001B[0m",
      "\u001B[1;31mAttributeError\u001B[0m                            Traceback (most recent call last)",
      "\u001B[1;32m~\\AppData\\Local\\Temp\\ipykernel_3288\\2238191825.py\u001B[0m in \u001B[0;36m<module>\u001B[1;34m\u001B[0m\n\u001B[0;32m      5\u001B[0m \u001B[0mp\u001B[0m \u001B[1;33m=\u001B[0m \u001B[0mPeople\u001B[0m\u001B[1;33m(\u001B[0m\u001B[1;34m\"bob\"\u001B[0m\u001B[1;33m)\u001B[0m\u001B[1;33m\u001B[0m\u001B[1;33m\u001B[0m\u001B[0m\n\u001B[0;32m      6\u001B[0m \u001B[0mprint\u001B[0m\u001B[1;33m(\u001B[0m\u001B[0mp\u001B[0m\u001B[1;33m.\u001B[0m\u001B[0m__dict__\u001B[0m\u001B[1;33m)\u001B[0m\u001B[1;33m\u001B[0m\u001B[1;33m\u001B[0m\u001B[0m\n\u001B[1;32m----> 7\u001B[1;33m \u001B[0mprint\u001B[0m\u001B[1;33m(\u001B[0m\u001B[0mp\u001B[0m\u001B[1;33m.\u001B[0m\u001B[0m__name\u001B[0m\u001B[1;33m)\u001B[0m\u001B[1;33m\u001B[0m\u001B[1;33m\u001B[0m\u001B[0m\n\u001B[0m",
      "\u001B[1;31mAttributeError\u001B[0m: 'People' object has no attribute '__name'"
     ]
    }
   ],
   "source": [
    "# 我们一般会对私有的对象加两个下划线\n",
    "class People:\n",
    "    def __init__(self, name):\n",
    "        self.__name = name\n",
    "p = People(\"bob\")\n",
    "print(p.__dict__)\n",
    "print(p.__name)"
   ],
   "metadata": {
    "collapsed": false,
    "pycharm": {
     "name": "#%%\n"
    }
   }
  },
  {
   "cell_type": "markdown",
   "source": [
    "## 6.6.5 方法是对象：绑定或未绑定"
   ],
   "metadata": {
    "collapsed": false
   }
  },
  {
   "cell_type": "code",
   "execution_count": 2,
   "outputs": [
    {
     "name": "stdout",
     "output_type": "stream",
     "text": [
      "hello,word\n"
     ]
    }
   ],
   "source": [
    "class Spam:\n",
    "    def doit(self, message):\n",
    "        print(message)\n",
    "object1 = Spam()\n",
    "object1.doit('hello,word')"
   ],
   "metadata": {
    "collapsed": false,
    "pycharm": {
     "name": "#%%\n"
    }
   }
  },
  {
   "cell_type": "code",
   "execution_count": 3,
   "outputs": [
    {
     "name": "stdout",
     "output_type": "stream",
     "text": [
      "hello word\n"
     ]
    }
   ],
   "source": [
    "# 我们可以把对象里面的方法提取出来\n",
    "object = Spam()\n",
    "x = object.doit\n",
    "x('hello word')"
   ],
   "metadata": {
    "collapsed": false,
    "pycharm": {
     "name": "#%%\n"
    }
   }
  },
  {
   "cell_type": "code",
   "execution_count": 4,
   "outputs": [
    {
     "name": "stdout",
     "output_type": "stream",
     "text": [
      "hello word\n"
     ]
    }
   ],
   "source": [
    "# 如果直接获取类的方法时， 需要我们手动传入对象\n",
    "object = Spam()\n",
    "t = Spam.doit\n",
    "t(object, 'hello word')"
   ],
   "metadata": {
    "collapsed": false,
    "pycharm": {
     "name": "#%%\n"
    }
   }
  },
  {
   "cell_type": "code",
   "execution_count": 5,
   "outputs": [],
   "source": [
    "# 我们可以这样操作\n",
    "class Number:\n",
    "    def __init__(self, base):\n",
    "        self.base = base\n",
    "    def double(self):\n",
    "        return self.base*2\n",
    "    def triple(self):\n",
    "        return self.base*3"
   ],
   "metadata": {
    "collapsed": false,
    "pycharm": {
     "name": "#%%\n"
    }
   }
  },
  {
   "cell_type": "code",
   "execution_count": 6,
   "outputs": [
    {
     "name": "stdout",
     "output_type": "stream",
     "text": [
      "4\n"
     ]
    }
   ],
   "source": [
    "x = Number(2)\n",
    "y = Number(3)\n",
    "z = Number(4)\n",
    "print(x.double())"
   ],
   "metadata": {
    "collapsed": false,
    "pycharm": {
     "name": "#%%\n"
    }
   }
  },
  {
   "cell_type": "code",
   "execution_count": 7,
   "outputs": [
    {
     "name": "stdout",
     "output_type": "stream",
     "text": [
      "4\n",
      "6\n",
      "9\n",
      "8\n"
     ]
    }
   ],
   "source": [
    "# 我们可以直接把方法当做对象存储起来\n",
    "acts = [x.double, y.double, y.triple, z.double]\n",
    "for act in acts:\n",
    "    print(act())"
   ],
   "metadata": {
    "collapsed": false,
    "pycharm": {
     "name": "#%%\n"
    }
   }
  },
  {
   "cell_type": "code",
   "execution_count": 9,
   "outputs": [
    {
     "name": "stdout",
     "output_type": "stream",
     "text": [
      "<__main__.Number object at 0x000001F576C1B348>\n",
      "<function Number.double at 0x000001F576C08CA8>\n",
      "2\n",
      "4\n"
     ]
    }
   ],
   "source": [
    "# 绑定的方法对象同样有自己的内省信息\n",
    "bound = x.double\n",
    "print(bound.__self__)\n",
    "print(bound.__func__)\n",
    "print(bound.__self__.base)\n",
    "print(bound())"
   ],
   "metadata": {
    "collapsed": false,
    "pycharm": {
     "name": "#%%\n"
    }
   }
  },
  {
   "cell_type": "markdown",
   "source": [
    "## 6.6.6 类是对象：一般对象的工厂"
   ],
   "metadata": {
    "collapsed": false
   }
  },
  {
   "cell_type": "code",
   "execution_count": 15,
   "outputs": [
    {
     "name": "stdout",
     "output_type": "stream",
     "text": [
      "99\n",
      "('arthur', 'king') {}\n",
      "() {'name': 'Brian'}\n"
     ]
    }
   ],
   "source": [
    "# 我们定义一个工厂\n",
    "def factory(a_class, *args, **kwargs):\n",
    "    if len(args) == 0 and len(kwargs) == 0:\n",
    "        return a_class()\n",
    "    return a_class(args,kwargs)\n",
    "\n",
    "# 下面我们定义多个对象\n",
    "class Spam:\n",
    "    def doit(self, message):\n",
    "        print(message)\n",
    "\n",
    "class Person:\n",
    "    def __init__(self,name,job=None):\n",
    "        self.name = name\n",
    "        self.job = job\n",
    "\n",
    "object1 = factory(Spam)\n",
    "object2 = factory(Person,\"arthur\",\"king\")\n",
    "object3 = factory(Person,name='Brian')\n",
    "object1.doit(99)\n",
    "print(object2.name, object2.job)\n",
    "print(object3.name, object3.job)"
   ],
   "metadata": {
    "collapsed": false,
    "pycharm": {
     "name": "#%%\n"
    }
   }
  },
  {
   "cell_type": "markdown",
   "source": [
    "## 6.6.7 多继承"
   ],
   "metadata": {
    "collapsed": false
   }
  },
  {
   "cell_type": "markdown",
   "source": [
    "## 6.6.8 与类设计相关的其他话题"
   ],
   "metadata": {
    "collapsed": false
   }
  },
  {
   "cell_type": "markdown",
   "source": [],
   "metadata": {
    "collapsed": false
   }
  }
 ],
 "metadata": {
  "kernelspec": {
   "display_name": "Python 3",
   "language": "python",
   "name": "python3"
  },
  "language_info": {
   "codemirror_mode": {
    "name": "ipython",
    "version": 2
   },
   "file_extension": ".py",
   "mimetype": "text/x-python",
   "name": "python",
   "nbconvert_exporter": "python",
   "pygments_lexer": "ipython2",
   "version": "2.7.6"
  }
 },
 "nbformat": 4,
 "nbformat_minor": 0
}