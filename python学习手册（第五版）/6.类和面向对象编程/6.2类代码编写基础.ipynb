{
 "cells": [
  {
   "cell_type": "markdown",
   "metadata": {
    "collapsed": true,
    "pycharm": {
     "name": "#%% md\n"
    }
   },
   "source": [
    "## 6.2.1 类生成多个实例对象"
   ]
  },
  {
   "cell_type": "code",
   "execution_count": 3,
   "metadata": {
    "collapsed": false,
    "pycharm": {
     "name": "#%%\n"
    }
   },
   "outputs": [],
   "source": [
    "class FirstClass:\n",
    "    def setdata(self,value):\n",
    "        self.data = value\n",
    "    def display(self):\n",
    "        print(self.data)"
   ]
  },
  {
   "cell_type": "code",
   "execution_count": 4,
   "metadata": {
    "collapsed": false,
    "pycharm": {
     "name": "#%%\n"
    }
   },
   "outputs": [
    {
     "name": "stdout",
     "output_type": "stream",
     "text": [
      "haha\n",
      "3.1415926\n"
     ]
    }
   ],
   "source": [
    "x = FirstClass()\n",
    "y = FirstClass()\n",
    "x.setdata(\"haha\")\n",
    "y.setdata(3.1415926)\n",
    "x.display()\n",
    "y.display()"
   ]
  },
  {
   "cell_type": "code",
   "execution_count": 5,
   "metadata": {
    "collapsed": false,
    "pycharm": {
     "name": "#%%\n"
    }
   },
   "outputs": [
    {
     "name": "stdout",
     "output_type": "stream",
     "text": [
      "new value\n"
     ]
    }
   ],
   "source": [
    "x.data = \"new value\"\n",
    "x.display()"
   ]
  },
  {
   "cell_type": "code",
   "execution_count": 6,
   "metadata": {
    "collapsed": false,
    "pycharm": {
     "name": "#%%\n"
    }
   },
   "outputs": [
    {
     "name": "stdout",
     "output_type": "stream",
     "text": [
      "12345\n"
     ]
    }
   ],
   "source": [
    "# 我们可以直接给对象添加一个新的属性\n",
    "x.another = 12345\n",
    "print(x.another)"
   ]
  },
  {
   "cell_type": "markdown",
   "metadata": {
    "collapsed": false
   },
   "source": [
    "## 6.2.2 类通过继承进行定制"
   ]
  },
  {
   "cell_type": "code",
   "execution_count": 7,
   "metadata": {
    "collapsed": false,
    "pycharm": {
     "name": "#%%\n"
    }
   },
   "outputs": [],
   "source": [
    "# 我们创建第二个类，继承了第一个类\n",
    "class SecondClass(FirstClass):\n",
    "    def display(self):\n",
    "        print(\"current value=%s\" % self.data)"
   ]
  },
  {
   "cell_type": "code",
   "execution_count": 8,
   "metadata": {
    "collapsed": false,
    "pycharm": {
     "name": "#%%\n"
    }
   },
   "outputs": [
    {
     "name": "stdout",
     "output_type": "stream",
     "text": [
      "current value=42\n"
     ]
    }
   ],
   "source": [
    "# 子类会直接覆盖父类的方法\n",
    "z = SecondClass()\n",
    "z.setdata(42)\n",
    "z.display()"
   ]
  },
  {
   "cell_type": "code",
   "execution_count": 9,
   "metadata": {
    "collapsed": false,
    "pycharm": {
     "name": "#%%\n"
    }
   },
   "outputs": [
    {
     "name": "stdout",
     "output_type": "stream",
     "text": [
      "12\n"
     ]
    }
   ],
   "source": [
    "# 父类不会被影响\n",
    "x = FirstClass()\n",
    "x.setdata(\"12\")\n",
    "x.display()"
   ]
  },
  {
   "cell_type": "code",
   "execution_count": null,
   "metadata": {
    "collapsed": false,
    "pycharm": {
     "name": "#%%\n"
    }
   },
   "outputs": [],
   "source": [
    "# 我们可以使用from xx import xx的形式来加载类\n",
    "# 单一模块可以有一个以上的类，每个模块可以混合任意多的变量"
   ]
  },
  {
   "cell_type": "markdown",
   "metadata": {
    "collapsed": false
   },
   "source": [
    "## 6.2.3 类可以截取python运算符"
   ]
  },
  {
   "cell_type": "code",
   "execution_count": 10,
   "metadata": {
    "collapsed": false,
    "pycharm": {
     "name": "#%%\n"
    }
   },
   "outputs": [],
   "source": [
    "class ThirdClass(SecondClass):\n",
    "    # 初始化方法，在初始化类的时候调用\n",
    "    def __init__(self, value):\n",
    "        self.data = value\n",
    "    # 运算符方法重载\n",
    "    def __add__(self, other):\n",
    "        return ThirdClass(self.data+other)\n",
    "    # 自定义打印方法\n",
    "    def __str__(self):\n",
    "        return '[thirdClass: %s]' % self.data\n",
    "    # 自己的方法\n",
    "    def mul(self, other):\n",
    "        self.data *= other"
   ]
  },
  {
   "cell_type": "code",
   "execution_count": 12,
   "metadata": {
    "collapsed": false,
    "pycharm": {
     "name": "#%%\n"
    }
   },
   "outputs": [
    {
     "name": "stdout",
     "output_type": "stream",
     "text": [
      "current value=abc\n"
     ]
    }
   ],
   "source": [
    "# 初始化类的时候把属性给传递进去\n",
    "a = ThirdClass(\"abc\")\n",
    "a.display()"
   ]
  },
  {
   "cell_type": "code",
   "execution_count": 13,
   "metadata": {
    "collapsed": false,
    "pycharm": {
     "name": "#%%\n"
    }
   },
   "outputs": [
    {
     "name": "stdout",
     "output_type": "stream",
     "text": [
      "<__main__.FirstClass object at 0x000001BB3B19F5C8>\n",
      "[thirdClass: abc]\n"
     ]
    }
   ],
   "source": [
    "# 测试一下我们之前的打印方法\n",
    "print(x)\n",
    "print(a)"
   ]
  },
  {
   "cell_type": "code",
   "execution_count": 14,
   "metadata": {
    "collapsed": false,
    "pycharm": {
     "name": "#%%\n"
    }
   },
   "outputs": [
    {
     "name": "stdout",
     "output_type": "stream",
     "text": [
      "current value=abcxyz\n",
      "[thirdClass: abcxyz]\n"
     ]
    }
   ],
   "source": [
    "# 测试一下我们的重载方法\n",
    "b = a+'xyz'\n",
    "b.display()\n",
    "print(b)"
   ]
  },
  {
   "cell_type": "code",
   "execution_count": 15,
   "metadata": {
    "collapsed": false,
    "pycharm": {
     "name": "#%%\n"
    }
   },
   "outputs": [
    {
     "name": "stdout",
     "output_type": "stream",
     "text": [
      "[thirdClass: abcabcabc]\n"
     ]
    }
   ],
   "source": [
    "# 最后测试一下我们自己定义的方法\n",
    "a.mul(3)\n",
    "print(a)"
   ]
  },
  {
   "cell_type": "markdown",
   "metadata": {
    "collapsed": false
   },
   "source": [
    "## 6.2.4 最简单的类"
   ]
  },
  {
   "cell_type": "code",
   "execution_count": 16,
   "metadata": {
    "collapsed": false,
    "pycharm": {
     "name": "#%%\n"
    }
   },
   "outputs": [],
   "source": [
    "class rec: pass"
   ]
  },
  {
   "cell_type": "code",
   "execution_count": 17,
   "metadata": {
    "collapsed": false,
    "pycharm": {
     "name": "#%%\n"
    }
   },
   "outputs": [
    {
     "name": "stdout",
     "output_type": "stream",
     "text": [
      "bob\n"
     ]
    }
   ],
   "source": [
    "# 我们可以手动给对象添加属性\n",
    "rec.name = 'bob'\n",
    "rec.age = 40\n",
    "print(rec.name)"
   ]
  },
  {
   "cell_type": "code",
   "execution_count": 18,
   "metadata": {
    "collapsed": false,
    "pycharm": {
     "name": "#%%\n"
    }
   },
   "outputs": [
    {
     "name": "stdout",
     "output_type": "stream",
     "text": [
      "bob bob\n"
     ]
    }
   ],
   "source": [
    "# 添加好后我们初始化对象就会带上这个属性\n",
    "x = rec()\n",
    "y = rec()\n",
    "print(x.name, y.name)"
   ]
  },
  {
   "cell_type": "code",
   "execution_count": 19,
   "metadata": {
    "collapsed": false,
    "pycharm": {
     "name": "#%%\n"
    }
   },
   "outputs": [
    {
     "name": "stdout",
     "output_type": "stream",
     "text": [
      "bob sue bob\n"
     ]
    }
   ],
   "source": [
    "# 对象的属性是支持修改的\n",
    "x.name = 'sue'\n",
    "print(rec.name,x.name,y.name)"
   ]
  },
  {
   "cell_type": "code",
   "execution_count": 20,
   "metadata": {
    "collapsed": false,
    "pycharm": {
     "name": "#%%\n"
    }
   },
   "outputs": [
    {
     "name": "stdout",
     "output_type": "stream",
     "text": [
      "sue sue\n"
     ]
    }
   ],
   "source": [
    "# 我们也可以使用下面的方法来获取属性\n",
    "print(x.name, x.__dict__['name'])"
   ]
  },
  {
   "cell_type": "code",
   "execution_count": 21,
   "metadata": {
    "collapsed": false,
    "pycharm": {
     "name": "#%%\n"
    }
   },
   "outputs": [
    {
     "name": "stdout",
     "output_type": "stream",
     "text": [
      "<class '__main__.rec'>\n",
      "<class 'object'>\n"
     ]
    }
   ],
   "source": [
    "# 也可以查看对应的类以及基类\n",
    "print(x.__class__)\n",
    "print(rec.__base__)"
   ]
  }
 ],
 "metadata": {
  "kernelspec": {
   "display_name": "Python 3",
   "language": "python",
   "name": "python3"
  },
  "language_info": {
   "codemirror_mode": {
    "name": "ipython",
    "version": 3
   },
   "file_extension": ".py",
   "mimetype": "text/x-python",
   "name": "python",
   "nbconvert_exporter": "python",
   "pygments_lexer": "ipython3",
   "version": "3.7.7"
  }
 },
 "nbformat": 4,
 "nbformat_minor": 0
}