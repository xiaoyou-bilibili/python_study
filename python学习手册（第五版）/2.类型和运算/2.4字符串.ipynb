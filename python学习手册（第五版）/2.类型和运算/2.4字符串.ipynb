{
 "cells": [
  {
   "cell_type": "markdown",
   "source": [
    "## 2.4.1 字符串基础"
   ],
   "metadata": {
    "collapsed": false
   }
  },
  {
   "cell_type": "markdown",
   "source": [
    "字符串是不可变的序列，常见的字符串字面量和操作如下\n",
    "![](.2_images/9703e500.png)\n",
    "![](.2_images/5f470fab.png)"
   ],
   "metadata": {
    "collapsed": false,
    "pycharm": {
     "name": "#%% md\n"
    }
   }
  },
  {
   "cell_type": "markdown",
   "source": [
    "## 2.4.2 字符串字面量\n",
    "\n",
    "![](.2_images/ecb6296d.png)"
   ],
   "metadata": {
    "collapsed": false
   }
  },
  {
   "cell_type": "markdown",
   "source": [
    "### 2.4.2.1 单引号和双引号"
   ],
   "metadata": {
    "collapsed": false
   }
  },
  {
   "cell_type": "code",
   "execution_count": 1,
   "outputs": [
    {
     "name": "stdout",
     "output_type": "stream",
     "text": [
      "aaa aaa\n"
     ]
    }
   ],
   "source": [
    "# 单用和双引号是一样的\n",
    "print('aaa', \"aaa\")"
   ],
   "metadata": {
    "collapsed": false,
    "pycharm": {
     "name": "#%%\n"
    }
   }
  },
  {
   "cell_type": "code",
   "execution_count": 2,
   "outputs": [
    {
     "name": "stdout",
     "output_type": "stream",
     "text": [
      "a\"b a'b\n"
     ]
    }
   ],
   "source": [
    "# 可以在双引号中使用单引号，反之\n",
    "print('a\"b', \"a'b\")"
   ],
   "metadata": {
    "collapsed": false,
    "pycharm": {
     "name": "#%%\n"
    }
   }
  },
  {
   "cell_type": "code",
   "execution_count": 3,
   "outputs": [
    {
     "name": "stdout",
     "output_type": "stream",
     "text": [
      "aaabbbccc\n"
     ]
    }
   ],
   "source": [
    "# 可以使用下面这种方式来进行拼接操作\n",
    "title = \"aaa\" 'bbb' \"ccc\"\n",
    "print(title)"
   ],
   "metadata": {
    "collapsed": false,
    "pycharm": {
     "name": "#%%\n"
    }
   }
  },
  {
   "cell_type": "markdown",
   "source": [
    "### 2.4.2.2 转义序列"
   ],
   "metadata": {
    "collapsed": false
   }
  },
  {
   "cell_type": "code",
   "execution_count": 5,
   "outputs": [
    {
     "name": "stdout",
     "output_type": "stream",
     "text": [
      "a'b\n",
      "a\n",
      "v\tc\n",
      "5\n"
     ]
    }
   ],
   "source": [
    "# 使用\\表示转义符号\n",
    "print('a\\'b')\n",
    "# \\n表示换行\\t表示制表符\n",
    "print('a\\nv\\tc')\n",
    "print(len('a\\nv\\tc'))"
   ],
   "metadata": {
    "collapsed": false,
    "pycharm": {
     "name": "#%%\n"
    }
   }
  },
  {
   "cell_type": "markdown",
   "source": [
    "常用的转义符号\n",
    "![](.2_images/6a311ae0.png)"
   ],
   "metadata": {
    "collapsed": false,
    "pycharm": {
     "name": "#%% md\n"
    }
   }
  },
  {
   "cell_type": "markdown",
   "source": [
    "### 2.4.2.3 原始字符串阻止转义"
   ],
   "metadata": {
    "collapsed": false
   }
  },
  {
   "cell_type": "code",
   "execution_count": null,
   "outputs": [],
   "source": [
    "# 为了避免\\n被转义，我们可以使用r来表示原始字符串\n",
    "f = open('c:\\new\\text.dat')\n",
    "f = open(r'c:\\new\\text.dat')\n",
    "# 当然也可以使用两个\\\\来消歧\n",
    "f = open('c:\\\\new\\\\text.dat')"
   ],
   "metadata": {
    "collapsed": false,
    "pycharm": {
     "name": "#%%\n"
    }
   }
  },
  {
   "cell_type": "markdown",
   "source": [
    "### 2.4.2.4 三引号"
   ],
   "metadata": {
    "collapsed": false
   }
  },
  {
   "cell_type": "code",
   "execution_count": 9,
   "outputs": [
    {
     "name": "stdout",
     "output_type": "stream",
     "text": [
      "aaa\n",
      "bbb\n",
      "ccc\n",
      "\n",
      "aaa\n",
      "bbb\n",
      "ccc\n",
      "\n"
     ]
    }
   ],
   "source": [
    "# 三引号可以用于表示多行字符串\n",
    "a = \"\"\"aaa\n",
    "bbb\n",
    "ccc\n",
    "\"\"\"\n",
    "print(a)\n",
    "# 或者可以使用下面这种方式\n",
    "a = (\n",
    "    \"aaa\\n\"\n",
    "    \"bbb\\n\"\n",
    "    \"ccc\\n\"\n",
    ")\n",
    "print(a)"
   ],
   "metadata": {
    "collapsed": false,
    "pycharm": {
     "name": "#%%\n"
    }
   }
  },
  {
   "cell_type": "code",
   "execution_count": null,
   "outputs": [],
   "source": [
    "# 我们可以使用“”“来快速废弃大段代码\n",
    "\"\"\"\n",
    "a = 1\n",
    "b = 1\n",
    "\"\"\"\n",
    "c = 1"
   ],
   "metadata": {
    "collapsed": false,
    "pycharm": {
     "name": "#%%\n"
    }
   }
  },
  {
   "cell_type": "markdown",
   "source": [
    "## 2.4.3 实际应用"
   ],
   "metadata": {
    "collapsed": false
   }
  },
  {
   "cell_type": "markdown",
   "source": [
    "### 2.4.3.1 基本操作"
   ],
   "metadata": {
    "collapsed": false
   }
  },
  {
   "cell_type": "code",
   "execution_count": 10,
   "outputs": [
    {
     "name": "stdout",
     "output_type": "stream",
     "text": [
      "3\n",
      "abcdef\n",
      "abcabcabcabc\n"
     ]
    }
   ],
   "source": [
    "# 字符串长度\n",
    "print(len('abc'))\n",
    "# 字符串拼接\n",
    "print('abc'+'def')\n",
    "# 字符串重复\n",
    "print('abc'*4)"
   ],
   "metadata": {
    "collapsed": false,
    "pycharm": {
     "name": "#%%\n"
    }
   }
  },
  {
   "cell_type": "code",
   "execution_count": 11,
   "outputs": [
    {
     "name": "stdout",
     "output_type": "stream",
     "text": [
      "a\n",
      "b\n",
      "c\n",
      "True\n",
      "True\n"
     ]
    }
   ],
   "source": [
    "# 字符串迭代\n",
    "s = 'abc'\n",
    "for c in s:\n",
    "    print(c)\n",
    "# 判断字符串是否存在\n",
    "print('a' in s)\n",
    "print('ab' in s)"
   ],
   "metadata": {
    "collapsed": false,
    "pycharm": {
     "name": "#%%\n"
    }
   }
  },
  {
   "cell_type": "markdown",
   "source": [
    "### 2.4.3.2 索引和分片"
   ],
   "metadata": {
    "collapsed": false
   }
  },
  {
   "cell_type": "code",
   "execution_count": 12,
   "outputs": [
    {
     "name": "stdout",
     "output_type": "stream",
     "text": [
      "s a\n",
      "pa pan spa\n"
     ]
    }
   ],
   "source": [
    "s = 'span'\n",
    "# 索引操作\n",
    "print(s[0], s[-2])\n",
    "# 分片操作 => [)\n",
    "print(s[1:3], s[1:], s[:-1])"
   ],
   "metadata": {
    "collapsed": false,
    "pycharm": {
     "name": "#%%\n"
    }
   }
  },
  {
   "cell_type": "markdown",
   "source": [
    "### 2.4.3.3 分片\n",
    "\n",
    "可以使用下面这个方式来理解分片\n",
    "![](.2_images/f8c462c0.png)"
   ],
   "metadata": {
    "collapsed": false
   }
  },
  {
   "cell_type": "code",
   "execution_count": 15,
   "outputs": [
    {
     "name": "stdout",
     "output_type": "stream",
     "text": [
      "ac\n",
      "dcba\n"
     ]
    }
   ],
   "source": [
    "# 带步长的分片\n",
    "a = 'abcd'\n",
    "print(a[::2])\n",
    "# 可以使用下面这个方式来快速反转字符串\n",
    "print(a[::-1])"
   ],
   "metadata": {
    "collapsed": false,
    "pycharm": {
     "name": "#%%\n"
    }
   }
  },
  {
   "cell_type": "markdown",
   "source": [
    "### 2.4.3.4 字符串转换工具"
   ],
   "metadata": {
    "collapsed": false
   }
  },
  {
   "cell_type": "code",
   "execution_count": 16,
   "outputs": [
    {
     "ename": "TypeError",
     "evalue": "can only concatenate str (not \"int\") to str",
     "output_type": "error",
     "traceback": [
      "\u001B[1;31m---------------------------------------------------------------------------\u001B[0m",
      "\u001B[1;31mTypeError\u001B[0m                                 Traceback (most recent call last)",
      "\u001B[1;32m~\\AppData\\Local\\Temp\\ipykernel_9516\\3384962116.py\u001B[0m in \u001B[0;36m<module>\u001B[1;34m\u001B[0m\n\u001B[0;32m      1\u001B[0m \u001B[1;31m# 字符串和数字是不能直接相加的\u001B[0m\u001B[1;33m\u001B[0m\u001B[1;33m\u001B[0m\u001B[1;33m\u001B[0m\u001B[0m\n\u001B[1;32m----> 2\u001B[1;33m \u001B[0mprint\u001B[0m\u001B[1;33m(\u001B[0m\u001B[1;34m\"42\"\u001B[0m \u001B[1;33m+\u001B[0m\u001B[1;36m1\u001B[0m \u001B[1;33m)\u001B[0m\u001B[1;33m\u001B[0m\u001B[1;33m\u001B[0m\u001B[0m\n\u001B[0m",
      "\u001B[1;31mTypeError\u001B[0m: can only concatenate str (not \"int\") to str"
     ]
    }
   ],
   "source": [
    "# 字符串和数字是不能直接相加的\n",
    "print(\"42\" + 1 )"
   ],
   "metadata": {
    "collapsed": false,
    "pycharm": {
     "name": "#%%\n"
    }
   }
  },
  {
   "cell_type": "code",
   "execution_count": 17,
   "outputs": [
    {
     "name": "stdout",
     "output_type": "stream",
     "text": [
      "42\n",
      "42\n"
     ]
    }
   ],
   "source": [
    "# 字符串转换为数组\n",
    "print(int(\"42\"))\n",
    "# 数字转换为字符串\n",
    "print(str(42))"
   ],
   "metadata": {
    "collapsed": false,
    "pycharm": {
     "name": "#%%\n"
    }
   }
  },
  {
   "cell_type": "code",
   "execution_count": 20,
   "outputs": [
    {
     "name": "stdout",
     "output_type": "stream",
     "text": [
      "True\n"
     ]
    }
   ],
   "source": [
    "# repr也可以转换为字符串\n",
    "print(repr(42) == \"42\")"
   ],
   "metadata": {
    "collapsed": false,
    "pycharm": {
     "name": "#%%\n"
    }
   }
  },
  {
   "cell_type": "code",
   "execution_count": 22,
   "outputs": [
    {
     "name": "stdout",
     "output_type": "stream",
     "text": [
      "3.1415 3.1415\n"
     ]
    }
   ],
   "source": [
    "# 我们也可以在浮点数之间相互转换\n",
    "print(str(3.1415), float('3.1415'))"
   ],
   "metadata": {
    "collapsed": false,
    "pycharm": {
     "name": "#%%\n"
    }
   }
  },
  {
   "cell_type": "code",
   "execution_count": 23,
   "outputs": [
    {
     "name": "stdout",
     "output_type": "stream",
     "text": [
      "115\n",
      "s\n"
     ]
    }
   ],
   "source": [
    "# 使用ord可以获取ASCII码值\n",
    "print(ord('s'))\n",
    "# 使用chr可以ASCII码对应的字符\n",
    "print(chr(115))"
   ],
   "metadata": {
    "collapsed": false,
    "pycharm": {
     "name": "#%%\n"
    }
   }
  },
  {
   "cell_type": "markdown",
   "source": [
    "### 2.4.3.5 修改字符串"
   ],
   "metadata": {
    "collapsed": false
   }
  },
  {
   "cell_type": "code",
   "execution_count": 24,
   "outputs": [
    {
     "ename": "TypeError",
     "evalue": "'str' object does not support item assignment",
     "output_type": "error",
     "traceback": [
      "\u001B[1;31m---------------------------------------------------------------------------\u001B[0m",
      "\u001B[1;31mTypeError\u001B[0m                                 Traceback (most recent call last)",
      "\u001B[1;32m~\\AppData\\Local\\Temp\\ipykernel_9516\\1207568472.py\u001B[0m in \u001B[0;36m<module>\u001B[1;34m\u001B[0m\n\u001B[0;32m      1\u001B[0m \u001B[1;31m# 字符串是不能修改的\u001B[0m\u001B[1;33m\u001B[0m\u001B[1;33m\u001B[0m\u001B[1;33m\u001B[0m\u001B[0m\n\u001B[0;32m      2\u001B[0m \u001B[0ms\u001B[0m \u001B[1;33m=\u001B[0m \u001B[1;34m'123'\u001B[0m\u001B[1;33m\u001B[0m\u001B[1;33m\u001B[0m\u001B[0m\n\u001B[1;32m----> 3\u001B[1;33m \u001B[0ms\u001B[0m\u001B[1;33m[\u001B[0m\u001B[1;36m0\u001B[0m\u001B[1;33m]\u001B[0m \u001B[1;33m=\u001B[0m \u001B[1;34m'2'\u001B[0m\u001B[1;33m\u001B[0m\u001B[1;33m\u001B[0m\u001B[0m\n\u001B[0m",
      "\u001B[1;31mTypeError\u001B[0m: 'str' object does not support item assignment"
     ]
    }
   ],
   "source": [
    "# 字符串是不能修改的\n",
    "s = '123'\n",
    "s[0] = '2'"
   ],
   "metadata": {
    "collapsed": false,
    "pycharm": {
     "name": "#%%\n"
    }
   }
  },
  {
   "cell_type": "code",
   "execution_count": 26,
   "outputs": [
    {
     "name": "stdout",
     "output_type": "stream",
     "text": [
      "223\n",
      "223\n"
     ]
    }
   ],
   "source": [
    "# 但是可以使用下面这样的方式来间接去修改\n",
    "s = '123'\n",
    "print('2'+s[1:])\n",
    "# 也可以使用replace来替换字符串\n",
    "print(s.replace('1', '2'))"
   ],
   "metadata": {
    "collapsed": false,
    "pycharm": {
     "name": "#%%\n"
    }
   }
  },
  {
   "cell_type": "markdown",
   "source": [
    "## 2.4.4 字符串方法"
   ],
   "metadata": {
    "collapsed": false
   }
  },
  {
   "cell_type": "markdown",
   "source": [
    "### 2.4.4.1 方法调用语法"
   ],
   "metadata": {
    "collapsed": false
   }
  },
  {
   "cell_type": "code",
   "execution_count": 27,
   "outputs": [
    {
     "name": "stdout",
     "output_type": "stream",
     "text": [
      "1\n"
     ]
    }
   ],
   "source": [
    "# 查找字符串\n",
    "s = 'span'\n",
    "print(s.find('pa'))"
   ],
   "metadata": {
    "collapsed": false,
    "pycharm": {
     "name": "#%%\n"
    }
   }
  },
  {
   "cell_type": "markdown",
   "metadata": {
    "collapsed": true,
    "pycharm": {
     "name": "#%% md\n"
    }
   },
   "source": [
    "### 2.4.4.2 字符串方法\n",
    "\n",
    "字符串里面其实是包括很多方法的，这里就不一一介绍了"
   ]
  },
  {
   "cell_type": "markdown",
   "source": [
    "### 2.4.4.3 修改字符串"
   ],
   "metadata": {
    "collapsed": false
   }
  },
  {
   "cell_type": "code",
   "execution_count": 29,
   "outputs": [
    {
     "name": "stdout",
     "output_type": "stream",
     "text": [
      "ccbb\n",
      "cabb\n",
      "cabb\n"
     ]
    }
   ],
   "source": [
    "# 替换字符串可以指定替换次数\n",
    "s = 'aabb'\n",
    "print(s.replace('a', 'c'))\n",
    "print(s.replace('a', 'c', 1))\n",
    "\n",
    "# 也可以把变量转换为列表，修改列表值\n",
    "l = list(s)\n",
    "l[0] = 'c'\n",
    "print(''.join(l))"
   ],
   "metadata": {
    "collapsed": false,
    "pycharm": {
     "name": "#%%\n"
    }
   }
  },
  {
   "cell_type": "markdown",
   "source": [
    "### 2.4.4.4 解析文本"
   ],
   "metadata": {
    "collapsed": false
   }
  },
  {
   "cell_type": "code",
   "execution_count": 30,
   "outputs": [
    {
     "name": "stdout",
     "output_type": "stream",
     "text": [
      "['aa', 'bb', 'cc']\n",
      "['aa', 'bb', 'cc']\n"
     ]
    }
   ],
   "source": [
    "# 使用split对字符串进行拆分\n",
    "line1 = 'aa bb cc'\n",
    "line2 = 'aa,bb,cc'\n",
    "print(line1.split())\n",
    "print(line2.split(','))"
   ],
   "metadata": {
    "collapsed": false,
    "pycharm": {
     "name": "#%%\n"
    }
   }
  },
  {
   "cell_type": "markdown",
   "source": [
    "### 2.4.4.5 其他方法"
   ],
   "metadata": {
    "collapsed": false
   }
  },
  {
   "cell_type": "markdown",
   "source": [
    "## 2.4.5 字符串格式化表达式\n",
    "\n",
    "字符串格式化表达式 '...%s..' % (value)\n",
    "字符串格式化方法 '...{}..'.format(value)"
   ],
   "metadata": {
    "collapsed": false
   }
  },
  {
   "cell_type": "markdown",
   "source": [
    "### 2.4.5.1 格式化基础"
   ],
   "metadata": {
    "collapsed": false
   }
  },
  {
   "cell_type": "code",
   "execution_count": 31,
   "outputs": [
    {
     "name": "stdout",
     "output_type": "stream",
     "text": [
      "this is 1 dead bird\n"
     ]
    }
   ],
   "source": [
    "print('this is %d %s bird' % (1,'dead'))"
   ],
   "metadata": {
    "collapsed": false,
    "pycharm": {
     "name": "#%%\n"
    }
   }
  },
  {
   "cell_type": "markdown",
   "source": [
    "### 2.4.5.2 高级格式化语法\n",
    "\n",
    "![](.2_images/150a7191.png)"
   ],
   "metadata": {
    "collapsed": false
   }
  },
  {
   "cell_type": "markdown",
   "source": [
    "### 2.4.5.3 高级格式化举例"
   ],
   "metadata": {
    "collapsed": false
   }
  },
  {
   "cell_type": "code",
   "execution_count": 33,
   "outputs": [
    {
     "name": "stdout",
     "output_type": "stream",
     "text": [
      "1234.\n",
      "1234  .\n",
      "001234.\n"
     ]
    }
   ],
   "source": [
    "x = 1234\n",
    "# %-6d表示6位左对齐格式化\n",
    "# %06d表示6位补0格式化\n",
    "print('%d.\\n%-6d.\\n%06d.' % (x,x,x))"
   ],
   "metadata": {
    "collapsed": false,
    "pycharm": {
     "name": "#%%\n"
    }
   }
  },
  {
   "cell_type": "code",
   "execution_count": 34,
   "outputs": [
    {
     "name": "stdout",
     "output_type": "stream",
     "text": [
      "1.234568e+00 | 1.234568 | 1.23457\n"
     ]
    }
   ],
   "source": [
    "x = 1.23456789\n",
    "# %e使用指数的方式来表示\n",
    "# %f为一般的情况\n",
    "# %g表示如果指数小于-4或者不小于精度，那么就使用指数格式e，否则使用f，默认精度为6位数\n",
    "print('%e | %f | %g' % (x,x,x))"
   ],
   "metadata": {
    "collapsed": false,
    "pycharm": {
     "name": "#%%\n"
    }
   }
  },
  {
   "cell_type": "code",
   "execution_count": 36,
   "outputs": [
    {
     "name": "stdout",
     "output_type": "stream",
     "text": [
      "1.23  .\n",
      "001.23.\n",
      "+001.2\n"
     ]
    }
   ],
   "source": [
    "# 也可以保留小数点和补0操作\n",
    "print('%-6.2f.\\n%06.2f.\\n%+06.1f' % (x,x,x,))"
   ],
   "metadata": {
    "collapsed": false,
    "pycharm": {
     "name": "#%%\n"
    }
   }
  },
  {
   "cell_type": "markdown",
   "source": [
    "### 2.4.5.4 基于字典的格式化"
   ],
   "metadata": {
    "collapsed": false
   }
  },
  {
   "cell_type": "code",
   "execution_count": 38,
   "outputs": [
    {
     "name": "stdout",
     "output_type": "stream",
     "text": [
      "hello xiaoyou, you gae is 40\n"
     ]
    }
   ],
   "source": [
    "d = {'name': 'xiaoyou', 'age': 40}\n",
    "print('hello %(name)s, you gae is %(age)d' % d)"
   ],
   "metadata": {
    "collapsed": false,
    "pycharm": {
     "name": "#%%\n"
    }
   }
  },
  {
   "cell_type": "code",
   "execution_count": null,
   "outputs": [],
   "source": [
    "name = 'xiaoyou'\n",
    "age = 40\n",
    "# 使用vars可以快速把前面的变量全部转换为字典\n",
    "print(vars())"
   ],
   "metadata": {
    "collapsed": false,
    "pycharm": {
     "name": "#%%\n",
     "is_executing": true
    }
   }
  },
  {
   "cell_type": "markdown",
   "source": [
    "## 2.4.6 字符串格式化方法调用"
   ],
   "metadata": {
    "collapsed": false
   }
  },
  {
   "cell_type": "markdown",
   "source": [
    "### 2.4.6.1 字符串格式化方法基础"
   ],
   "metadata": {
    "collapsed": false
   }
  },
  {
   "cell_type": "code",
   "execution_count": 41,
   "outputs": [
    {
     "name": "stdout",
     "output_type": "stream",
     "text": [
      "span,ham and eggs\n"
     ]
    }
   ],
   "source": [
    "# 可以使用数字来表示顺序\n",
    "template = '{0},{1} and {2}'\n",
    "print(template.format('span', 'ham', 'eggs'))"
   ],
   "metadata": {
    "collapsed": false,
    "pycharm": {
     "name": "#%%\n"
    }
   }
  },
  {
   "cell_type": "code",
   "execution_count": 42,
   "outputs": [
    {
     "name": "stdout",
     "output_type": "stream",
     "text": [
      "span,ham and eggs\n"
     ]
    }
   ],
   "source": [
    "# 或者使用字典的方式来格式化\n",
    "template = '{motto},{pork} and {food}'\n",
    "print(template.format(motto = 'span', pork = 'ham', food = 'eggs'))"
   ],
   "metadata": {
    "collapsed": false,
    "pycharm": {
     "name": "#%%\n"
    }
   }
  },
  {
   "cell_type": "code",
   "execution_count": 43,
   "outputs": [
    {
     "name": "stdout",
     "output_type": "stream",
     "text": [
      "span,ham and eggs\n"
     ]
    }
   ],
   "source": [
    "# 甚至可以混合使用\n",
    "template = '{motto},{0} and {food}'\n",
    "print(template.format('ham', motto = 'span', food = 'eggs'))"
   ],
   "metadata": {
    "collapsed": false,
    "pycharm": {
     "name": "#%%\n"
    }
   }
  },
  {
   "cell_type": "code",
   "execution_count": 45,
   "outputs": [
    {
     "name": "stdout",
     "output_type": "stream",
     "text": [
      "span,ham and eggs\n"
     ]
    }
   ],
   "source": [
    "# 也可以啥也不加，就靠绝对位置进行定位\n",
    "template = '{},{} and {}'\n",
    "print(template.format('span', 'ham', 'eggs'))"
   ],
   "metadata": {
    "collapsed": false,
    "pycharm": {
     "name": "#%%\n"
    }
   }
  },
  {
   "cell_type": "code",
   "execution_count": 46,
   "outputs": [
    {
     "name": "stdout",
     "output_type": "stream",
     "text": [
      "span,1 and [1, 2, 3]\n"
     ]
    }
   ],
   "source": [
    "# format里面的内容是任意的\n",
    "template = '{},{} and {}'\n",
    "print(template.format('span', 1, [1,2,3]))"
   ],
   "metadata": {
    "collapsed": false,
    "pycharm": {
     "name": "#%%\n"
    }
   }
  },
  {
   "cell_type": "markdown",
   "source": [
    "### 2.4.6.2 添加键、属性和偏移量"
   ],
   "metadata": {
    "collapsed": false
   }
  },
  {
   "cell_type": "code",
   "execution_count": 49,
   "outputs": [
    {
     "name": "stdout",
     "output_type": "stream",
     "text": [
      "my laptop runs win32\n",
      "my laptop runs win32\n"
     ]
    }
   ],
   "source": [
    "# format可以取字典里面的某一个值\n",
    "import sys\n",
    "print('my {1[kind]} runs {0.platform}'.format(sys, {'kind': 'laptop'}))\n",
    "print('my {map[kind]} runs {sys.platform}'.format(sys=sys, map = {'kind': 'laptop'}))"
   ],
   "metadata": {
    "collapsed": false,
    "pycharm": {
     "name": "#%%\n"
    }
   }
  },
  {
   "cell_type": "markdown",
   "source": [
    "### 2.4.6.3 高级格式化方法语法"
   ],
   "metadata": {
    "collapsed": false
   }
  },
  {
   "cell_type": "markdown",
   "source": [
    "### 2.4.6.4 高级格式化方法举例"
   ],
   "metadata": {
    "collapsed": false
   }
  },
  {
   "cell_type": "code",
   "execution_count": 55,
   "outputs": [
    {
     "name": "stdout",
     "output_type": "stream",
     "text": [
      "span      =   123.456\n",
      "span      =   123.456\n"
     ]
    }
   ],
   "source": [
    "# <表示左对齐，>表示右对齐\n",
    "print('{0:<10}={1:>10}'.format('span', 123.456))\n",
    "print('{0:10}={1:10}'.format('span', 123.456))"
   ],
   "metadata": {
    "collapsed": false,
    "pycharm": {
     "name": "#%%\n"
    }
   }
  },
  {
   "cell_type": "code",
   "execution_count": 52,
   "outputs": [
    {
     "name": "stdout",
     "output_type": "stream",
     "text": [
      "3.141590e+00,3.142e+00,3.14159\n",
      "3.141590,3.14,003.14\n"
     ]
    }
   ],
   "source": [
    "# 也可以使用前面使用%的那种效果\n",
    "x = 3.14159\n",
    "print('{0:e},{1:.3e},{2:g}'.format(x,x,x))\n",
    "print('{0:f},{1:.2f},{2:06.2f}'.format(x,x,x))"
   ],
   "metadata": {
    "collapsed": false,
    "pycharm": {
     "name": "#%%\n"
    }
   }
  },
  {
   "cell_type": "markdown",
   "source": [
    "### 2.4.6.5 为什么使用格式化方法"
   ],
   "metadata": {
    "collapsed": false
   }
  },
  {
   "cell_type": "code",
   "execution_count": 59,
   "outputs": [
    {
     "name": "stdout",
     "output_type": "stream",
     "text": [
      "1111111111111111\n"
     ]
    },
    {
     "ename": "ValueError",
     "evalue": "unsupported format character 'b' (0x62) at index 1",
     "output_type": "error",
     "traceback": [
      "\u001B[1;31m---------------------------------------------------------------------------\u001B[0m",
      "\u001B[1;31mValueError\u001B[0m                                Traceback (most recent call last)",
      "\u001B[1;32m~\\AppData\\Local\\Temp\\ipykernel_9516\\3143126782.py\u001B[0m in \u001B[0;36m<module>\u001B[1;34m\u001B[0m\n\u001B[0;32m      2\u001B[0m \u001B[0mprint\u001B[0m\u001B[1;33m(\u001B[0m\u001B[1;34m'{0:b}'\u001B[0m\u001B[1;33m.\u001B[0m\u001B[0mformat\u001B[0m\u001B[1;33m(\u001B[0m\u001B[1;33m(\u001B[0m\u001B[1;36m2\u001B[0m\u001B[1;33m**\u001B[0m\u001B[1;36m16\u001B[0m\u001B[1;33m)\u001B[0m\u001B[1;33m-\u001B[0m\u001B[1;36m1\u001B[0m\u001B[1;33m)\u001B[0m\u001B[1;33m)\u001B[0m\u001B[1;33m\u001B[0m\u001B[1;33m\u001B[0m\u001B[0m\n\u001B[0;32m      3\u001B[0m \u001B[1;31m# 但是%不支持\u001B[0m\u001B[1;33m\u001B[0m\u001B[1;33m\u001B[0m\u001B[1;33m\u001B[0m\u001B[0m\n\u001B[1;32m----> 4\u001B[1;33m \u001B[0mprint\u001B[0m\u001B[1;33m(\u001B[0m\u001B[1;34m'%b'\u001B[0m \u001B[1;33m%\u001B[0m \u001B[1;33m(\u001B[0m\u001B[1;33m(\u001B[0m\u001B[1;36m2\u001B[0m\u001B[1;33m**\u001B[0m\u001B[1;36m16\u001B[0m\u001B[1;33m)\u001B[0m\u001B[1;33m-\u001B[0m\u001B[1;36m1\u001B[0m\u001B[1;33m)\u001B[0m\u001B[1;33m)\u001B[0m\u001B[1;33m\u001B[0m\u001B[1;33m\u001B[0m\u001B[0m\n\u001B[0m",
      "\u001B[1;31mValueError\u001B[0m: unsupported format character 'b' (0x62) at index 1"
     ]
    }
   ],
   "source": [
    "# format支持二进制的格式\n",
    "print('{0:b}'.format((2**16)-1))\n",
    "# 但是%不支持\n",
    "print('%b' % ((2**16)-1))"
   ],
   "metadata": {
    "collapsed": false,
    "pycharm": {
     "name": "#%%\n"
    }
   }
  },
  {
   "cell_type": "code",
   "execution_count": 60,
   "outputs": [
    {
     "name": "stdout",
     "output_type": "stream",
     "text": [
      "999,999,999,999\n"
     ]
    }
   ],
   "source": [
    "# format支持格式化方法\n",
    "print('{:,d}'.format(999999999999))"
   ],
   "metadata": {
    "collapsed": false,
    "pycharm": {
     "name": "#%%\n"
    }
   }
  },
  {
   "cell_type": "markdown",
   "source": [
    "## 2.4.7 通用类型分类\n",
    "\n",
    "![](.2_images/351b7008.png)"
   ],
   "metadata": {
    "collapsed": false,
    "pycharm": {
     "name": "#%% md\n"
    }
   }
  }
 ],
 "metadata": {
  "kernelspec": {
   "display_name": "Python 3",
   "language": "python",
   "name": "python3"
  },
  "language_info": {
   "codemirror_mode": {
    "name": "ipython",
    "version": 2
   },
   "file_extension": ".py",
   "mimetype": "text/x-python",
   "name": "python",
   "nbconvert_exporter": "python",
   "pygments_lexer": "ipython2",
   "version": "2.7.6"
  }
 },
 "nbformat": 4,
 "nbformat_minor": 0
}