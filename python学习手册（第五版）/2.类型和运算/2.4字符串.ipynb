{
 "cells": [
  {
   "cell_type": "markdown",
   "metadata": {
    "collapsed": false
   },
   "source": [
    "## 2.4.1 字符串基础"
   ]
  },
  {
   "cell_type": "markdown",
   "metadata": {
    "collapsed": false,
    "pycharm": {
     "name": "#%% md\n"
    }
   },
   "source": [
    "字符串是不可变的序列，常见的字符串字面量和操作如下\n",
    "\n",
    "![](.2_images/9703e500.png)\n",
    "\n",
    "![](.2_images/5f470fab.png)"
   ]
  },
  {
   "cell_type": "markdown",
   "metadata": {},
   "source": []
  },
  {
   "cell_type": "markdown",
   "metadata": {
    "collapsed": false
   },
   "source": [
    "## 2.4.2 字符串字面量\n",
    "\n",
    "![](.2_images/ecb6296d.png)"
   ]
  },
  {
   "cell_type": "markdown",
   "metadata": {
    "collapsed": false
   },
   "source": [
    "### 2.4.2.1 单引号和双引号"
   ]
  },
  {
   "cell_type": "code",
   "execution_count": 2,
   "metadata": {
    "collapsed": false,
    "pycharm": {
     "name": "#%%\n"
    }
   },
   "outputs": [
    {
     "name": "stdout",
     "output_type": "stream",
     "text": [
      "aaa aaa\n"
     ]
    }
   ],
   "source": [
    "# 单用和双引号是一样的\n",
    "print('aaa', \"aaa\")"
   ]
  },
  {
   "cell_type": "code",
   "execution_count": 3,
   "metadata": {
    "collapsed": false,
    "pycharm": {
     "name": "#%%\n"
    }
   },
   "outputs": [
    {
     "name": "stdout",
     "output_type": "stream",
     "text": [
      "a\"b a'b\n"
     ]
    }
   ],
   "source": [
    "# 可以在双引号中使用单引号，反之\n",
    "print('a\"b', \"a'b\")"
   ]
  },
  {
   "cell_type": "code",
   "execution_count": 4,
   "metadata": {
    "collapsed": false,
    "pycharm": {
     "name": "#%%\n"
    }
   },
   "outputs": [
    {
     "name": "stdout",
     "output_type": "stream",
     "text": [
      "aaabbbccc\n"
     ]
    }
   ],
   "source": [
    "# 可以使用下面这种方式来进行拼接操作\n",
    "title = \"aaa\" 'bbb' \"ccc\"\n",
    "print(title)"
   ]
  },
  {
   "cell_type": "markdown",
   "metadata": {
    "collapsed": false
   },
   "source": [
    "### 2.4.2.2 转义序列"
   ]
  },
  {
   "cell_type": "code",
   "execution_count": 5,
   "metadata": {
    "collapsed": false,
    "pycharm": {
     "name": "#%%\n"
    }
   },
   "outputs": [
    {
     "name": "stdout",
     "output_type": "stream",
     "text": [
      "a'b\n",
      "a\n",
      "v\tc\n",
      "5\n"
     ]
    }
   ],
   "source": [
    "# 使用\\表示转义符号\n",
    "print('a\\'b')\n",
    "# \\n表示换行\\t表示制表符\n",
    "print('a\\nv\\tc')\n",
    "print(len('a\\nv\\tc'))"
   ]
  },
  {
   "cell_type": "markdown",
   "metadata": {
    "collapsed": false,
    "pycharm": {
     "name": "#%% md\n"
    }
   },
   "source": [
    "常用的转义符号\n",
    "![](.2_images/6a311ae0.png)"
   ]
  },
  {
   "cell_type": "markdown",
   "metadata": {
    "collapsed": false
   },
   "source": [
    "### 2.4.2.3 原始字符串阻止转义"
   ]
  },
  {
   "cell_type": "code",
   "execution_count": null,
   "metadata": {
    "collapsed": false,
    "pycharm": {
     "name": "#%%\n"
    }
   },
   "outputs": [],
   "source": [
    "# 为了避免\\n被转义，我们可以使用r来表示原始字符串\n",
    "f = open('c:\\new\\text.dat')\n",
    "f = open(r'c:\\new\\text.dat')\n",
    "# 当然也可以使用两个\\\\来消歧\n",
    "f = open('c:\\\\new\\\\text.dat')"
   ]
  },
  {
   "cell_type": "markdown",
   "metadata": {
    "collapsed": false
   },
   "source": [
    "### 2.4.2.4 三引号"
   ]
  },
  {
   "cell_type": "code",
   "execution_count": 6,
   "metadata": {
    "collapsed": false,
    "pycharm": {
     "name": "#%%\n"
    }
   },
   "outputs": [
    {
     "name": "stdout",
     "output_type": "stream",
     "text": [
      "aaa\n",
      "bbb\n",
      "ccc\n",
      "\n",
      "aaa\n",
      "bbb\n",
      "ccc\n",
      "\n"
     ]
    }
   ],
   "source": [
    "# 三引号可以用于表示多行字符串\n",
    "a = \"\"\"aaa\n",
    "bbb\n",
    "ccc\n",
    "\"\"\"\n",
    "print(a)\n",
    "# 或者可以使用下面这种方式\n",
    "a = (\n",
    "    \"aaa\\n\"\n",
    "    \"bbb\\n\"\n",
    "    \"ccc\\n\"\n",
    ")\n",
    "print(a)"
   ]
  },
  {
   "cell_type": "code",
   "execution_count": null,
   "metadata": {
    "collapsed": false,
    "pycharm": {
     "name": "#%%\n"
    }
   },
   "outputs": [],
   "source": [
    "# 我们可以使用“”“来快速废弃大段代码\n",
    "\"\"\"\n",
    "a = 1\n",
    "b = 1\n",
    "\"\"\"\n",
    "c = 1"
   ]
  },
  {
   "cell_type": "markdown",
   "metadata": {
    "collapsed": false
   },
   "source": [
    "## 2.4.3 实际应用"
   ]
  },
  {
   "cell_type": "markdown",
   "metadata": {
    "collapsed": false
   },
   "source": [
    "### 2.4.3.1 基本操作"
   ]
  },
  {
   "cell_type": "code",
   "execution_count": 7,
   "metadata": {
    "collapsed": false,
    "pycharm": {
     "name": "#%%\n"
    }
   },
   "outputs": [
    {
     "name": "stdout",
     "output_type": "stream",
     "text": [
      "3\n",
      "abcdef\n",
      "abcabcabcabc\n"
     ]
    }
   ],
   "source": [
    "# 字符串长度\n",
    "print(len('abc'))\n",
    "# 字符串拼接\n",
    "print('abc'+'def')\n",
    "# 字符串重复\n",
    "print('abc'*4)"
   ]
  },
  {
   "cell_type": "code",
   "execution_count": 8,
   "metadata": {
    "collapsed": false,
    "pycharm": {
     "name": "#%%\n"
    }
   },
   "outputs": [
    {
     "name": "stdout",
     "output_type": "stream",
     "text": [
      "a\n",
      "b\n",
      "c\n",
      "True\n",
      "True\n"
     ]
    }
   ],
   "source": [
    "# 字符串迭代\n",
    "s = 'abc'\n",
    "for c in s:\n",
    "    print(c)\n",
    "# 判断字符串是否存在\n",
    "print('a' in s)\n",
    "print('ab' in s)"
   ]
  },
  {
   "cell_type": "markdown",
   "metadata": {
    "collapsed": false
   },
   "source": [
    "### 2.4.3.2 索引和分片"
   ]
  },
  {
   "cell_type": "code",
   "execution_count": 9,
   "metadata": {
    "collapsed": false,
    "pycharm": {
     "name": "#%%\n"
    }
   },
   "outputs": [
    {
     "name": "stdout",
     "output_type": "stream",
     "text": [
      "s a\n",
      "pa pan spa\n"
     ]
    }
   ],
   "source": [
    "s = 'span'\n",
    "# 索引操作\n",
    "print(s[0], s[-2])\n",
    "# 分片操作 => [)\n",
    "print(s[1:3], s[1:], s[:-1])"
   ]
  },
  {
   "cell_type": "markdown",
   "metadata": {
    "collapsed": false
   },
   "source": [
    "### 2.4.3.3 分片\n",
    "\n",
    "可以使用下面这个方式来理解分片\n",
    "![](.2_images/f8c462c0.png)"
   ]
  },
  {
   "cell_type": "code",
   "execution_count": 10,
   "metadata": {
    "collapsed": false,
    "pycharm": {
     "name": "#%%\n"
    }
   },
   "outputs": [
    {
     "name": "stdout",
     "output_type": "stream",
     "text": [
      "ac\n",
      "dcba\n"
     ]
    }
   ],
   "source": [
    "# 带步长的分片\n",
    "a = 'abcd'\n",
    "print(a[::2])\n",
    "# 可以使用下面这个方式来快速反转字符串\n",
    "print(a[::-1])"
   ]
  },
  {
   "cell_type": "markdown",
   "metadata": {
    "collapsed": false
   },
   "source": [
    "### 2.4.3.4 字符串转换工具"
   ]
  },
  {
   "cell_type": "code",
   "execution_count": 11,
   "metadata": {
    "collapsed": false,
    "pycharm": {
     "name": "#%%\n"
    }
   },
   "outputs": [
    {
     "ename": "TypeError",
     "evalue": "can only concatenate str (not \"int\") to str",
     "output_type": "error",
     "traceback": [
      "\u001b[1;31m---------------------------------------------------------------------------\u001b[0m",
      "\u001b[1;31mTypeError\u001b[0m                                 Traceback (most recent call last)",
      "\u001b[1;32m~\\AppData\\Local\\Temp\\ipykernel_1196\\1892750123.py\u001b[0m in \u001b[0;36m<module>\u001b[1;34m\u001b[0m\n\u001b[0;32m      1\u001b[0m \u001b[1;31m# 字符串和数字是不能直接相加的\u001b[0m\u001b[1;33m\u001b[0m\u001b[1;33m\u001b[0m\u001b[1;33m\u001b[0m\u001b[0m\n\u001b[1;32m----> 2\u001b[1;33m \u001b[0mprint\u001b[0m\u001b[1;33m(\u001b[0m\u001b[1;34m\"42\"\u001b[0m \u001b[1;33m+\u001b[0m \u001b[1;36m1\u001b[0m \u001b[1;33m)\u001b[0m\u001b[1;33m\u001b[0m\u001b[1;33m\u001b[0m\u001b[0m\n\u001b[0m",
      "\u001b[1;31mTypeError\u001b[0m: can only concatenate str (not \"int\") to str"
     ]
    }
   ],
   "source": [
    "# 字符串和数字是不能直接相加的\n",
    "print(\"42\" + 1 )"
   ]
  },
  {
   "cell_type": "code",
   "execution_count": 12,
   "metadata": {
    "collapsed": false,
    "pycharm": {
     "name": "#%%\n"
    }
   },
   "outputs": [
    {
     "name": "stdout",
     "output_type": "stream",
     "text": [
      "42\n",
      "42\n"
     ]
    }
   ],
   "source": [
    "# 字符串转换为数字\n",
    "print(int(\"42\"))\n",
    "# 数字转换为字符串\n",
    "print(str(42))"
   ]
  },
  {
   "cell_type": "code",
   "execution_count": 13,
   "metadata": {
    "collapsed": false,
    "pycharm": {
     "name": "#%%\n"
    }
   },
   "outputs": [
    {
     "name": "stdout",
     "output_type": "stream",
     "text": [
      "True\n"
     ]
    }
   ],
   "source": [
    "# repr也可以转换为字符串\n",
    "print(repr(42) == \"42\")"
   ]
  },
  {
   "cell_type": "code",
   "execution_count": 14,
   "metadata": {
    "collapsed": false,
    "pycharm": {
     "name": "#%%\n"
    }
   },
   "outputs": [
    {
     "name": "stdout",
     "output_type": "stream",
     "text": [
      "3.1415 3.1415\n"
     ]
    }
   ],
   "source": [
    "# 我们也可以在浮点数之间相互转换\n",
    "print(str(3.1415), float('3.1415'))"
   ]
  },
  {
   "cell_type": "code",
   "execution_count": 15,
   "metadata": {
    "collapsed": false,
    "pycharm": {
     "name": "#%%\n"
    }
   },
   "outputs": [
    {
     "name": "stdout",
     "output_type": "stream",
     "text": [
      "115\n",
      "s\n"
     ]
    }
   ],
   "source": [
    "# 使用ord可以获取ASCII码值\n",
    "print(ord('s'))\n",
    "# 使用chr可以ASCII码对应的字符\n",
    "print(chr(115))"
   ]
  },
  {
   "cell_type": "markdown",
   "metadata": {
    "collapsed": false
   },
   "source": [
    "### 2.4.3.5 修改字符串"
   ]
  },
  {
   "cell_type": "code",
   "execution_count": 16,
   "metadata": {
    "collapsed": false,
    "pycharm": {
     "name": "#%%\n"
    }
   },
   "outputs": [
    {
     "ename": "TypeError",
     "evalue": "'str' object does not support item assignment",
     "output_type": "error",
     "traceback": [
      "\u001b[1;31m---------------------------------------------------------------------------\u001b[0m",
      "\u001b[1;31mTypeError\u001b[0m                                 Traceback (most recent call last)",
      "\u001b[1;32m~\\AppData\\Local\\Temp\\ipykernel_1196\\2021349878.py\u001b[0m in \u001b[0;36m<module>\u001b[1;34m\u001b[0m\n\u001b[0;32m      1\u001b[0m \u001b[1;31m# 字符串是不能修改的\u001b[0m\u001b[1;33m\u001b[0m\u001b[1;33m\u001b[0m\u001b[1;33m\u001b[0m\u001b[0m\n\u001b[0;32m      2\u001b[0m \u001b[0ms\u001b[0m \u001b[1;33m=\u001b[0m \u001b[1;34m'123'\u001b[0m\u001b[1;33m\u001b[0m\u001b[1;33m\u001b[0m\u001b[0m\n\u001b[1;32m----> 3\u001b[1;33m \u001b[0ms\u001b[0m\u001b[1;33m[\u001b[0m\u001b[1;36m0\u001b[0m\u001b[1;33m]\u001b[0m \u001b[1;33m=\u001b[0m \u001b[1;34m'2'\u001b[0m\u001b[1;33m\u001b[0m\u001b[1;33m\u001b[0m\u001b[0m\n\u001b[0m",
      "\u001b[1;31mTypeError\u001b[0m: 'str' object does not support item assignment"
     ]
    }
   ],
   "source": [
    "# 字符串是不能修改的\n",
    "s = '123'\n",
    "s[0] = '2'"
   ]
  },
  {
   "cell_type": "code",
   "execution_count": 17,
   "metadata": {
    "collapsed": false,
    "pycharm": {
     "name": "#%%\n"
    }
   },
   "outputs": [
    {
     "name": "stdout",
     "output_type": "stream",
     "text": [
      "223\n",
      "223\n"
     ]
    }
   ],
   "source": [
    "# 但是可以使用下面这样的方式来间接去修改\n",
    "s = '123'\n",
    "print('2'+s[1:])\n",
    "# 也可以使用replace来替换字符串\n",
    "print(s.replace('1', '2'))"
   ]
  },
  {
   "cell_type": "markdown",
   "metadata": {
    "collapsed": false
   },
   "source": [
    "## 2.4.4 字符串方法"
   ]
  },
  {
   "cell_type": "markdown",
   "metadata": {
    "collapsed": false
   },
   "source": [
    "### 2.4.4.1 方法调用语法"
   ]
  },
  {
   "cell_type": "code",
   "execution_count": 18,
   "metadata": {
    "collapsed": false,
    "pycharm": {
     "name": "#%%\n"
    }
   },
   "outputs": [
    {
     "name": "stdout",
     "output_type": "stream",
     "text": [
      "1\n"
     ]
    }
   ],
   "source": [
    "# 查找字符串\n",
    "s = 'span'\n",
    "print(s.find('pa'))"
   ]
  },
  {
   "cell_type": "markdown",
   "metadata": {
    "collapsed": true,
    "pycharm": {
     "name": "#%% md\n"
    }
   },
   "source": [
    "### 2.4.4.2 字符串方法\n",
    "\n",
    "字符串里面其实是包括很多方法的，这里就不一一介绍了"
   ]
  },
  {
   "cell_type": "markdown",
   "metadata": {
    "collapsed": false
   },
   "source": [
    "### 2.4.4.3 修改字符串"
   ]
  },
  {
   "cell_type": "code",
   "execution_count": 19,
   "metadata": {
    "collapsed": false,
    "pycharm": {
     "name": "#%%\n"
    }
   },
   "outputs": [
    {
     "name": "stdout",
     "output_type": "stream",
     "text": [
      "ccbb\n",
      "cabb\n",
      "cabb\n"
     ]
    }
   ],
   "source": [
    "# 替换字符串可以指定替换次数\n",
    "s = 'aabb'\n",
    "print(s.replace('a', 'c'))\n",
    "print(s.replace('a', 'c', 1))\n",
    "\n",
    "# 也可以把变量转换为列表，修改列表值\n",
    "l = list(s)\n",
    "l[0] = 'c'\n",
    "print(''.join(l))"
   ]
  },
  {
   "cell_type": "markdown",
   "metadata": {
    "collapsed": false
   },
   "source": [
    "### 2.4.4.4 解析文本"
   ]
  },
  {
   "cell_type": "code",
   "execution_count": 20,
   "metadata": {
    "collapsed": false,
    "pycharm": {
     "name": "#%%\n"
    }
   },
   "outputs": [
    {
     "name": "stdout",
     "output_type": "stream",
     "text": [
      "['aa', 'bb', 'cc']\n",
      "['aa', 'bb', 'cc']\n"
     ]
    }
   ],
   "source": [
    "# 使用split对字符串进行拆分\n",
    "line1 = 'aa bb cc'\n",
    "line2 = 'aa,bb,cc'\n",
    "print(line1.split())\n",
    "print(line2.split(','))"
   ]
  },
  {
   "cell_type": "markdown",
   "metadata": {
    "collapsed": false
   },
   "source": [
    "### 2.4.4.5 其他方法"
   ]
  },
  {
   "cell_type": "markdown",
   "metadata": {
    "collapsed": false
   },
   "source": [
    "## 2.4.5 字符串格式化表达式\n",
    "\n",
    "字符串格式化表达式 '...%s..' % (value)\n",
    "字符串格式化方法 '...{}..'.format(value)"
   ]
  },
  {
   "cell_type": "markdown",
   "metadata": {
    "collapsed": false
   },
   "source": [
    "### 2.4.5.1 格式化基础"
   ]
  },
  {
   "cell_type": "code",
   "execution_count": null,
   "metadata": {
    "collapsed": false,
    "pycharm": {
     "name": "#%%\n"
    }
   },
   "outputs": [],
   "source": [
    "print('this is %d %s bird' % (1,'dead'))"
   ]
  },
  {
   "cell_type": "markdown",
   "metadata": {
    "collapsed": false
   },
   "source": [
    "### 2.4.5.2 高级格式化语法\n",
    "\n",
    "![](.2_images/150a7191.png)"
   ]
  },
  {
   "cell_type": "markdown",
   "metadata": {
    "collapsed": false
   },
   "source": [
    "### 2.4.5.3 高级格式化举例"
   ]
  },
  {
   "cell_type": "code",
   "execution_count": 21,
   "metadata": {
    "collapsed": false,
    "pycharm": {
     "name": "#%%\n"
    }
   },
   "outputs": [
    {
     "name": "stdout",
     "output_type": "stream",
     "text": [
      "1234.\n",
      "1234  .\n",
      "001234.\n"
     ]
    }
   ],
   "source": [
    "x = 1234\n",
    "# %-6d表示6位左对齐格式化\n",
    "# %06d表示6位补0格式化\n",
    "print('%d.\\n%-6d.\\n%06d.' % (x,x,x))"
   ]
  },
  {
   "cell_type": "code",
   "execution_count": 22,
   "metadata": {
    "collapsed": false,
    "pycharm": {
     "name": "#%%\n"
    }
   },
   "outputs": [
    {
     "name": "stdout",
     "output_type": "stream",
     "text": [
      "1.234568e+00 | 1.234568 | 1.23457\n"
     ]
    }
   ],
   "source": [
    "x = 1.23456789\n",
    "# %e使用指数的方式来表示\n",
    "# %f为一般的情况\n",
    "# %g表示如果指数小于-4或者不小于精度，那么就使用指数格式e，否则使用f，默认精度为6位数\n",
    "print('%e | %f | %g' % (x,x,x))"
   ]
  },
  {
   "cell_type": "code",
   "execution_count": 24,
   "metadata": {
    "collapsed": false,
    "pycharm": {
     "name": "#%%\n"
    }
   },
   "outputs": [
    {
     "name": "stdout",
     "output_type": "stream",
     "text": [
      "1.23  .\n",
      "001.23.\n",
      "0001.2\n"
     ]
    }
   ],
   "source": [
    "# 也可以保留小数点和补0操作\n",
    "print('%-6.2f.\\n%06.2f.\\n%06.1f' % (x,x,x,))"
   ]
  },
  {
   "cell_type": "markdown",
   "metadata": {
    "collapsed": false
   },
   "source": [
    "### 2.4.5.4 基于字典的格式化"
   ]
  },
  {
   "cell_type": "code",
   "execution_count": 25,
   "metadata": {
    "collapsed": false,
    "pycharm": {
     "name": "#%%\n"
    }
   },
   "outputs": [
    {
     "name": "stdout",
     "output_type": "stream",
     "text": [
      "hello xiaoyou, you gae is 40\n"
     ]
    }
   ],
   "source": [
    "d = {'name': 'xiaoyou', 'age': 40}\n",
    "print('hello %(name)s, you gae is %(age)d' % d)"
   ]
  },
  {
   "cell_type": "code",
   "execution_count": 26,
   "metadata": {
    "collapsed": false,
    "pycharm": {
     "is_executing": true,
     "name": "#%%\n"
    }
   },
   "outputs": [
    {
     "name": "stdout",
     "output_type": "stream",
     "text": [
      "{'__name__': '__main__', '__doc__': 'Automatically created module for IPython interactive environment', '__package__': None, '__loader__': None, '__spec__': None, '__builtin__': <module 'builtins' (built-in)>, '__builtins__': <module 'builtins' (built-in)>, '_ih': ['', '# 单用和双引号是一样的\\nprint(\\'aaa\\', \"aaa\")', '# 单用和双引号是一样的\\nprint(\\'aaa\\', \"aaa\")', '# 可以在双引号中使用单引号，反之\\nprint(\\'a\"b\\', \"a\\'b\")', '# 可以使用下面这种方式来进行拼接操作\\ntitle = \"aaa\" \\'bbb\\' \"ccc\"\\nprint(title)', \"# 使用\\\\表示转义符号\\nprint('a\\\\'b')\\n# \\\\n表示换行\\\\t表示制表符\\nprint('a\\\\nv\\\\tc')\\nprint(len('a\\\\nv\\\\tc'))\", '# 三引号可以用于表示多行字符串\\na = \"\"\"aaa\\nbbb\\nccc\\n\"\"\"\\nprint(a)\\n# 或者可以使用下面这种方式\\na = (\\n    \"aaa\\\\n\"\\n    \"bbb\\\\n\"\\n    \"ccc\\\\n\"\\n)\\nprint(a)', \"# 字符串长度\\nprint(len('abc'))\\n# 字符串拼接\\nprint('abc'+'def')\\n# 字符串重复\\nprint('abc'*4)\", \"# 字符串迭代\\ns = 'abc'\\nfor c in s:\\n    print(c)\\n# 判断字符串是否存在\\nprint('a' in s)\\nprint('ab' in s)\", \"s = 'span'\\n# 索引操作\\nprint(s[0], s[-2])\\n# 分片操作 => [)\\nprint(s[1:3], s[1:], s[:-1])\", \"# 带步长的分片\\na = 'abcd'\\nprint(a[::2])\\n# 可以使用下面这个方式来快速反转字符串\\nprint(a[::-1])\", '# 字符串和数字是不能直接相加的\\nprint(\"42\" + 1 )', '# 字符串转换为数组\\nprint(int(\"42\"))\\n# 数字转换为字符串\\nprint(str(42))', '# repr也可以转换为字符串\\nprint(repr(42) == \"42\")', \"# 我们也可以在浮点数之间相互转换\\nprint(str(3.1415), float('3.1415'))\", \"# 使用ord可以获取ASCII码值\\nprint(ord('s'))\\n# 使用chr可以ASCII码对应的字符\\nprint(chr(115))\", \"# 字符串是不能修改的\\ns = '123'\\ns[0] = '2'\", \"# 但是可以使用下面这样的方式来间接去修改\\ns = '123'\\nprint('2'+s[1:])\\n# 也可以使用replace来替换字符串\\nprint(s.replace('1', '2'))\", \"# 查找字符串\\ns = 'span'\\nprint(s.find('pa'))\", \"# 替换字符串可以指定替换次数\\ns = 'aabb'\\nprint(s.replace('a', 'c'))\\nprint(s.replace('a', 'c', 1))\\n\\n# 也可以把变量转换为列表，修改列表值\\nl = list(s)\\nl[0] = 'c'\\nprint(''.join(l))\", \"# 使用split对字符串进行拆分\\nline1 = 'aa bb cc'\\nline2 = 'aa,bb,cc'\\nprint(line1.split())\\nprint(line2.split(','))\", \"x = 1234\\n# %-6d表示6位左对齐格式化\\n# %06d表示6位补0格式化\\nprint('%d.\\\\n%-6d.\\\\n%06d.' % (x,x,x))\", \"x = 1.23456789\\n# %e使用指数的方式来表示\\n# %f为一般的情况\\n# %g表示如果指数小于-4或者不小于精度，那么就使用指数格式e，否则使用f，默认精度为6位数\\nprint('%e | %f | %g' % (x,x,x))\", \"# 也可以保留小数点和补0操作\\nprint('%-6.2f.\\\\n%06.2f.\\\\n%+06.1f' % (x,x,x,))\", \"# 也可以保留小数点和补0操作\\nprint('%-6.2f.\\\\n%06.2f.\\\\n%06.1f' % (x,x,x,))\", \"d = {'name': 'xiaoyou', 'age': 40}\\nprint('hello %(name)s, you gae is %(age)d' % d)\", \"name = 'xiaoyou'\\nage = 40\\n# 使用vars可以快速把前面的变量全部转换为字典\\nprint(vars())\"], '_oh': {}, '_dh': ['e:\\\\CODE\\\\xiaoyou-bilibili\\\\python-study\\\\python学习手册（第五版）\\\\2.类型和运算'], 'In': ['', '# 单用和双引号是一样的\\nprint(\\'aaa\\', \"aaa\")', '# 单用和双引号是一样的\\nprint(\\'aaa\\', \"aaa\")', '# 可以在双引号中使用单引号，反之\\nprint(\\'a\"b\\', \"a\\'b\")', '# 可以使用下面这种方式来进行拼接操作\\ntitle = \"aaa\" \\'bbb\\' \"ccc\"\\nprint(title)', \"# 使用\\\\表示转义符号\\nprint('a\\\\'b')\\n# \\\\n表示换行\\\\t表示制表符\\nprint('a\\\\nv\\\\tc')\\nprint(len('a\\\\nv\\\\tc'))\", '# 三引号可以用于表示多行字符串\\na = \"\"\"aaa\\nbbb\\nccc\\n\"\"\"\\nprint(a)\\n# 或者可以使用下面这种方式\\na = (\\n    \"aaa\\\\n\"\\n    \"bbb\\\\n\"\\n    \"ccc\\\\n\"\\n)\\nprint(a)', \"# 字符串长度\\nprint(len('abc'))\\n# 字符串拼接\\nprint('abc'+'def')\\n# 字符串重复\\nprint('abc'*4)\", \"# 字符串迭代\\ns = 'abc'\\nfor c in s:\\n    print(c)\\n# 判断字符串是否存在\\nprint('a' in s)\\nprint('ab' in s)\", \"s = 'span'\\n# 索引操作\\nprint(s[0], s[-2])\\n# 分片操作 => [)\\nprint(s[1:3], s[1:], s[:-1])\", \"# 带步长的分片\\na = 'abcd'\\nprint(a[::2])\\n# 可以使用下面这个方式来快速反转字符串\\nprint(a[::-1])\", '# 字符串和数字是不能直接相加的\\nprint(\"42\" + 1 )', '# 字符串转换为数组\\nprint(int(\"42\"))\\n# 数字转换为字符串\\nprint(str(42))', '# repr也可以转换为字符串\\nprint(repr(42) == \"42\")', \"# 我们也可以在浮点数之间相互转换\\nprint(str(3.1415), float('3.1415'))\", \"# 使用ord可以获取ASCII码值\\nprint(ord('s'))\\n# 使用chr可以ASCII码对应的字符\\nprint(chr(115))\", \"# 字符串是不能修改的\\ns = '123'\\ns[0] = '2'\", \"# 但是可以使用下面这样的方式来间接去修改\\ns = '123'\\nprint('2'+s[1:])\\n# 也可以使用replace来替换字符串\\nprint(s.replace('1', '2'))\", \"# 查找字符串\\ns = 'span'\\nprint(s.find('pa'))\", \"# 替换字符串可以指定替换次数\\ns = 'aabb'\\nprint(s.replace('a', 'c'))\\nprint(s.replace('a', 'c', 1))\\n\\n# 也可以把变量转换为列表，修改列表值\\nl = list(s)\\nl[0] = 'c'\\nprint(''.join(l))\", \"# 使用split对字符串进行拆分\\nline1 = 'aa bb cc'\\nline2 = 'aa,bb,cc'\\nprint(line1.split())\\nprint(line2.split(','))\", \"x = 1234\\n# %-6d表示6位左对齐格式化\\n# %06d表示6位补0格式化\\nprint('%d.\\\\n%-6d.\\\\n%06d.' % (x,x,x))\", \"x = 1.23456789\\n# %e使用指数的方式来表示\\n# %f为一般的情况\\n# %g表示如果指数小于-4或者不小于精度，那么就使用指数格式e，否则使用f，默认精度为6位数\\nprint('%e | %f | %g' % (x,x,x))\", \"# 也可以保留小数点和补0操作\\nprint('%-6.2f.\\\\n%06.2f.\\\\n%+06.1f' % (x,x,x,))\", \"# 也可以保留小数点和补0操作\\nprint('%-6.2f.\\\\n%06.2f.\\\\n%06.1f' % (x,x,x,))\", \"d = {'name': 'xiaoyou', 'age': 40}\\nprint('hello %(name)s, you gae is %(age)d' % d)\", \"name = 'xiaoyou'\\nage = 40\\n# 使用vars可以快速把前面的变量全部转换为字典\\nprint(vars())\"], 'Out': {}, 'get_ipython': <bound method InteractiveShell.get_ipython of <ipykernel.zmqshell.ZMQInteractiveShell object at 0x00000255F3EE6248>>, 'exit': <IPython.core.autocall.ZMQExitAutocall object at 0x00000255F3EF7D88>, 'quit': <IPython.core.autocall.ZMQExitAutocall object at 0x00000255F3EF7D88>, '_': '', '__': '', '___': '', 'sys': <module 'sys' (built-in)>, 'site': <module 'site' from 'D:\\\\APP\\\\python\\\\377\\\\lib\\\\site.py'>, 'os': <module 'os' from 'D:\\\\APP\\\\python\\\\377\\\\lib\\\\os.py'>, '__vsc_ipynb_file__': 'e:\\\\CODE\\\\xiaoyou-bilibili\\\\python-study\\\\python学习手册（第五版）\\\\2.类型和运算\\\\2.4字符串.ipynb', '_i': \"d = {'name': 'xiaoyou', 'age': 40}\\nprint('hello %(name)s, you gae is %(age)d' % d)\", '_ii': \"# 也可以保留小数点和补0操作\\nprint('%-6.2f.\\\\n%06.2f.\\\\n%06.1f' % (x,x,x,))\", '_iii': \"# 也可以保留小数点和补0操作\\nprint('%-6.2f.\\\\n%06.2f.\\\\n%+06.1f' % (x,x,x,))\", '_i1': '# 单用和双引号是一样的\\nprint(\\'aaa\\', \"aaa\")', '_i2': '# 单用和双引号是一样的\\nprint(\\'aaa\\', \"aaa\")', '_i3': '# 可以在双引号中使用单引号，反之\\nprint(\\'a\"b\\', \"a\\'b\")', '_i4': '# 可以使用下面这种方式来进行拼接操作\\ntitle = \"aaa\" \\'bbb\\' \"ccc\"\\nprint(title)', 'title': 'aaabbbccc', '_i5': \"# 使用\\\\表示转义符号\\nprint('a\\\\'b')\\n# \\\\n表示换行\\\\t表示制表符\\nprint('a\\\\nv\\\\tc')\\nprint(len('a\\\\nv\\\\tc'))\", '_i6': '# 三引号可以用于表示多行字符串\\na = \"\"\"aaa\\nbbb\\nccc\\n\"\"\"\\nprint(a)\\n# 或者可以使用下面这种方式\\na = (\\n    \"aaa\\\\n\"\\n    \"bbb\\\\n\"\\n    \"ccc\\\\n\"\\n)\\nprint(a)', 'a': 'abcd', '_i7': \"# 字符串长度\\nprint(len('abc'))\\n# 字符串拼接\\nprint('abc'+'def')\\n# 字符串重复\\nprint('abc'*4)\", '_i8': \"# 字符串迭代\\ns = 'abc'\\nfor c in s:\\n    print(c)\\n# 判断字符串是否存在\\nprint('a' in s)\\nprint('ab' in s)\", 's': 'aabb', 'c': 'c', '_i9': \"s = 'span'\\n# 索引操作\\nprint(s[0], s[-2])\\n# 分片操作 => [)\\nprint(s[1:3], s[1:], s[:-1])\", '_i10': \"# 带步长的分片\\na = 'abcd'\\nprint(a[::2])\\n# 可以使用下面这个方式来快速反转字符串\\nprint(a[::-1])\", '_i11': '# 字符串和数字是不能直接相加的\\nprint(\"42\" + 1 )', '_i12': '# 字符串转换为数组\\nprint(int(\"42\"))\\n# 数字转换为字符串\\nprint(str(42))', '_i13': '# repr也可以转换为字符串\\nprint(repr(42) == \"42\")', '_i14': \"# 我们也可以在浮点数之间相互转换\\nprint(str(3.1415), float('3.1415'))\", '_i15': \"# 使用ord可以获取ASCII码值\\nprint(ord('s'))\\n# 使用chr可以ASCII码对应的字符\\nprint(chr(115))\", '_i16': \"# 字符串是不能修改的\\ns = '123'\\ns[0] = '2'\", '_i17': \"# 但是可以使用下面这样的方式来间接去修改\\ns = '123'\\nprint('2'+s[1:])\\n# 也可以使用replace来替换字符串\\nprint(s.replace('1', '2'))\", '_i18': \"# 查找字符串\\ns = 'span'\\nprint(s.find('pa'))\", '_i19': \"# 替换字符串可以指定替换次数\\ns = 'aabb'\\nprint(s.replace('a', 'c'))\\nprint(s.replace('a', 'c', 1))\\n\\n# 也可以把变量转换为列表，修改列表值\\nl = list(s)\\nl[0] = 'c'\\nprint(''.join(l))\", 'l': ['c', 'a', 'b', 'b'], '_i20': \"# 使用split对字符串进行拆分\\nline1 = 'aa bb cc'\\nline2 = 'aa,bb,cc'\\nprint(line1.split())\\nprint(line2.split(','))\", 'line1': 'aa bb cc', 'line2': 'aa,bb,cc', '_i21': \"x = 1234\\n# %-6d表示6位左对齐格式化\\n# %06d表示6位补0格式化\\nprint('%d.\\\\n%-6d.\\\\n%06d.' % (x,x,x))\", 'x': 1.23456789, '_i22': \"x = 1.23456789\\n# %e使用指数的方式来表示\\n# %f为一般的情况\\n# %g表示如果指数小于-4或者不小于精度，那么就使用指数格式e，否则使用f，默认精度为6位数\\nprint('%e | %f | %g' % (x,x,x))\", '_i23': \"# 也可以保留小数点和补0操作\\nprint('%-6.2f.\\\\n%06.2f.\\\\n%+06.1f' % (x,x,x,))\", '_i24': \"# 也可以保留小数点和补0操作\\nprint('%-6.2f.\\\\n%06.2f.\\\\n%06.1f' % (x,x,x,))\", '_i25': \"d = {'name': 'xiaoyou', 'age': 40}\\nprint('hello %(name)s, you gae is %(age)d' % d)\", 'd': {'name': 'xiaoyou', 'age': 40}, '_i26': \"name = 'xiaoyou'\\nage = 40\\n# 使用vars可以快速把前面的变量全部转换为字典\\nprint(vars())\", 'name': 'xiaoyou', 'age': 40}\n"
     ]
    }
   ],
   "source": [
    "name = 'xiaoyou'\n",
    "age = 40\n",
    "# 使用vars可以快速把前面的变量全部转换为字典\n",
    "print(vars())"
   ]
  },
  {
   "cell_type": "markdown",
   "metadata": {
    "collapsed": false
   },
   "source": [
    "## 2.4.6 字符串格式化方法调用"
   ]
  },
  {
   "cell_type": "markdown",
   "metadata": {
    "collapsed": false
   },
   "source": [
    "### 2.4.6.1 字符串格式化方法基础"
   ]
  },
  {
   "cell_type": "code",
   "execution_count": 27,
   "metadata": {
    "collapsed": false,
    "pycharm": {
     "name": "#%%\n"
    }
   },
   "outputs": [
    {
     "name": "stdout",
     "output_type": "stream",
     "text": [
      "span,ham and eggs\n"
     ]
    }
   ],
   "source": [
    "# 可以使用数字来表示顺序\n",
    "template = '{0},{1} and {2}'\n",
    "print(template.format('span', 'ham', 'eggs'))"
   ]
  },
  {
   "cell_type": "code",
   "execution_count": 28,
   "metadata": {
    "collapsed": false,
    "pycharm": {
     "name": "#%%\n"
    }
   },
   "outputs": [
    {
     "name": "stdout",
     "output_type": "stream",
     "text": [
      "span,ham and eggs\n"
     ]
    }
   ],
   "source": [
    "# 或者使用字典的方式来格式化\n",
    "template = '{motto},{pork} and {food}'\n",
    "print(template.format(motto = 'span', pork = 'ham', food = 'eggs'))"
   ]
  },
  {
   "cell_type": "code",
   "execution_count": 29,
   "metadata": {
    "collapsed": false,
    "pycharm": {
     "name": "#%%\n"
    }
   },
   "outputs": [
    {
     "name": "stdout",
     "output_type": "stream",
     "text": [
      "span,ham and eggs\n"
     ]
    }
   ],
   "source": [
    "# 甚至可以混合使用\n",
    "template = '{motto},{0} and {food}'\n",
    "print(template.format('ham', motto = 'span', food = 'eggs'))"
   ]
  },
  {
   "cell_type": "code",
   "execution_count": 30,
   "metadata": {
    "collapsed": false,
    "pycharm": {
     "name": "#%%\n"
    }
   },
   "outputs": [
    {
     "name": "stdout",
     "output_type": "stream",
     "text": [
      "span,ham and eggs\n"
     ]
    }
   ],
   "source": [
    "# 也可以啥也不加，就靠绝对位置进行定位\n",
    "template = '{},{} and {}'\n",
    "print(template.format('span', 'ham', 'eggs'))"
   ]
  },
  {
   "cell_type": "code",
   "execution_count": 31,
   "metadata": {
    "collapsed": false,
    "pycharm": {
     "name": "#%%\n"
    }
   },
   "outputs": [
    {
     "name": "stdout",
     "output_type": "stream",
     "text": [
      "span,1 and [1, 2, 3]\n"
     ]
    }
   ],
   "source": [
    "# format里面的内容是任意的\n",
    "template = '{},{} and {}'\n",
    "print(template.format('span', 1, [1,2,3]))"
   ]
  },
  {
   "cell_type": "markdown",
   "metadata": {
    "collapsed": false
   },
   "source": [
    "### 2.4.6.2 添加键、属性和偏移量"
   ]
  },
  {
   "cell_type": "code",
   "execution_count": 32,
   "metadata": {
    "collapsed": false,
    "pycharm": {
     "name": "#%%\n"
    }
   },
   "outputs": [
    {
     "name": "stdout",
     "output_type": "stream",
     "text": [
      "my laptop runs win32\n",
      "my laptop runs win32\n"
     ]
    }
   ],
   "source": [
    "# format可以取字典里面的某一个值\n",
    "import sys\n",
    "print('my {1[kind]} runs {0.platform}'.format(sys, {'kind': 'laptop'}))\n",
    "print('my {map[kind]} runs {sys.platform}'.format(sys=sys, map = {'kind': 'laptop'}))"
   ]
  },
  {
   "cell_type": "markdown",
   "metadata": {
    "collapsed": false
   },
   "source": [
    "### 2.4.6.3 高级格式化方法语法"
   ]
  },
  {
   "cell_type": "markdown",
   "metadata": {
    "collapsed": false
   },
   "source": [
    "### 2.4.6.4 高级格式化方法举例"
   ]
  },
  {
   "cell_type": "code",
   "execution_count": 34,
   "metadata": {
    "collapsed": false,
    "pycharm": {
     "name": "#%%\n"
    }
   },
   "outputs": [
    {
     "name": "stdout",
     "output_type": "stream",
     "text": [
      "span      =123.456   \n",
      "span      =   123.456\n"
     ]
    }
   ],
   "source": [
    "# <表示左对齐，>表示右对齐\n",
    "print('{0:<10}={1:<10}'.format('span', 123.456))\n",
    "print('{0:10}={1:10}'.format('span', 123.456))"
   ]
  },
  {
   "cell_type": "code",
   "execution_count": 35,
   "metadata": {
    "collapsed": false,
    "pycharm": {
     "name": "#%%\n"
    }
   },
   "outputs": [
    {
     "name": "stdout",
     "output_type": "stream",
     "text": [
      "3.141590e+00,3.142e+00,3.14159\n",
      "3.141590,3.14,003.14\n"
     ]
    }
   ],
   "source": [
    "# 也可以使用前面使用%的那种效果\n",
    "x = 3.14159\n",
    "print('{0:e},{1:.3e},{2:g}'.format(x,x,x))\n",
    "print('{0:f},{1:.2f},{2:06.2f}'.format(x,x,x))"
   ]
  },
  {
   "cell_type": "markdown",
   "metadata": {
    "collapsed": false
   },
   "source": [
    "### 2.4.6.5 为什么使用格式化方法"
   ]
  },
  {
   "cell_type": "code",
   "execution_count": 36,
   "metadata": {
    "collapsed": false,
    "pycharm": {
     "name": "#%%\n"
    }
   },
   "outputs": [
    {
     "name": "stdout",
     "output_type": "stream",
     "text": [
      "1111111111111111\n"
     ]
    },
    {
     "ename": "ValueError",
     "evalue": "unsupported format character 'b' (0x62) at index 1",
     "output_type": "error",
     "traceback": [
      "\u001b[1;31m---------------------------------------------------------------------------\u001b[0m",
      "\u001b[1;31mValueError\u001b[0m                                Traceback (most recent call last)",
      "\u001b[1;32m~\\AppData\\Local\\Temp\\ipykernel_1196\\1483602869.py\u001b[0m in \u001b[0;36m<module>\u001b[1;34m\u001b[0m\n\u001b[0;32m      2\u001b[0m \u001b[0mprint\u001b[0m\u001b[1;33m(\u001b[0m\u001b[1;34m'{0:b}'\u001b[0m\u001b[1;33m.\u001b[0m\u001b[0mformat\u001b[0m\u001b[1;33m(\u001b[0m\u001b[1;33m(\u001b[0m\u001b[1;36m2\u001b[0m\u001b[1;33m**\u001b[0m\u001b[1;36m16\u001b[0m\u001b[1;33m)\u001b[0m\u001b[1;33m-\u001b[0m\u001b[1;36m1\u001b[0m\u001b[1;33m)\u001b[0m\u001b[1;33m)\u001b[0m\u001b[1;33m\u001b[0m\u001b[1;33m\u001b[0m\u001b[0m\n\u001b[0;32m      3\u001b[0m \u001b[1;31m# 但是%不支持\u001b[0m\u001b[1;33m\u001b[0m\u001b[1;33m\u001b[0m\u001b[1;33m\u001b[0m\u001b[0m\n\u001b[1;32m----> 4\u001b[1;33m \u001b[0mprint\u001b[0m\u001b[1;33m(\u001b[0m\u001b[1;34m'%b'\u001b[0m \u001b[1;33m%\u001b[0m \u001b[1;33m(\u001b[0m\u001b[1;33m(\u001b[0m\u001b[1;36m2\u001b[0m\u001b[1;33m**\u001b[0m\u001b[1;36m16\u001b[0m\u001b[1;33m)\u001b[0m\u001b[1;33m-\u001b[0m\u001b[1;36m1\u001b[0m\u001b[1;33m)\u001b[0m\u001b[1;33m)\u001b[0m\u001b[1;33m\u001b[0m\u001b[1;33m\u001b[0m\u001b[0m\n\u001b[0m",
      "\u001b[1;31mValueError\u001b[0m: unsupported format character 'b' (0x62) at index 1"
     ]
    }
   ],
   "source": [
    "# format支持二进制的格式\n",
    "print('{0:b}'.format((2**16)-1))\n",
    "# 但是%不支持\n",
    "print('%b' % ((2**16)-1))"
   ]
  },
  {
   "cell_type": "code",
   "execution_count": 37,
   "metadata": {
    "collapsed": false,
    "pycharm": {
     "name": "#%%\n"
    }
   },
   "outputs": [
    {
     "name": "stdout",
     "output_type": "stream",
     "text": [
      "999,999,999,999\n"
     ]
    }
   ],
   "source": [
    "# format支持格式化方法\n",
    "print('{:,d}'.format(999999999999))"
   ]
  },
  {
   "cell_type": "markdown",
   "metadata": {
    "collapsed": false,
    "pycharm": {
     "name": "#%% md\n"
    }
   },
   "source": [
    "## 2.4.7 通用类型分类\n",
    "\n",
    "![](.2_images/351b7008.png)"
   ]
  }
 ],
 "metadata": {
  "kernelspec": {
   "display_name": "Python 3",
   "language": "python",
   "name": "python3"
  },
  "language_info": {
   "codemirror_mode": {
    "name": "ipython",
    "version": 3
   },
   "file_extension": ".py",
   "mimetype": "text/x-python",
   "name": "python",
   "nbconvert_exporter": "python",
   "pygments_lexer": "ipython3",
   "version": "3.7.7"
  }
 },
 "nbformat": 4,
 "nbformat_minor": 0
}
