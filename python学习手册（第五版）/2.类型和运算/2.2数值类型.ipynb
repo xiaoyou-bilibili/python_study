{
 "cells": [
  {
   "cell_type": "markdown",
   "metadata": {
    "collapsed": true,
    "pycharm": {
     "name": "#%% md\n"
    }
   },
   "source": [
    "## 2.2.1 数值类型基础知识\n",
    "\n",
    "完整的python数值类型包括\n",
    "![](.2_images/3b3fb15a.png)\n",
    "![](.2_images/016da6c3.png)"
   ]
  },
  {
   "cell_type": "markdown",
   "source": [
    "### 2.2.1.1 数值字面量\n",
    "\n",
    "![](.2_images/1aaa5e1f.png)"
   ],
   "metadata": {
    "collapsed": false
   }
  },
  {
   "cell_type": "markdown",
   "source": [
    "### 2.2.1.2 内置数值工具"
   ],
   "metadata": {
    "collapsed": false
   }
  },
  {
   "cell_type": "markdown",
   "source": [
    "### 2.2.1.3 python表达式运算符\n",
    "\n",
    "下面这些运算符的顺序是越往下优先级越高\n",
    "![](.2_images/540cde95.png)"
   ],
   "metadata": {
    "collapsed": false
   }
  },
  {
   "cell_type": "markdown",
   "source": [
    "## 2.2.2 数字的实际应用"
   ],
   "metadata": {
    "collapsed": false
   }
  },
  {
   "cell_type": "markdown",
   "source": [
    "### 2.2.2.1 变量与基础表达式"
   ],
   "metadata": {
    "collapsed": false
   }
  },
  {
   "cell_type": "markdown",
   "source": [
    "### 2.2.2.2 数值的显示格式"
   ],
   "metadata": {
    "collapsed": false
   }
  },
  {
   "cell_type": "code",
   "execution_count": 2,
   "outputs": [
    {
     "name": "stdout",
     "output_type": "stream",
     "text": [
      "0.3333333333333333\n",
      "3.333333e-01\n",
      "0.33\n",
      "0.33\n"
     ]
    }
   ],
   "source": [
    "# 我们可以通过下面的方式来控制位数显示\n",
    "num = 1/3.0\n",
    "print(num)\n",
    "# 科学计数法\n",
    "print('%e' % num)\n",
    "# 总长度为4，保留2位小数\n",
    "print('%4.2f' % num)\n",
    "print('{0:4.2f}'.format(num))"
   ],
   "metadata": {
    "collapsed": false,
    "pycharm": {
     "name": "#%%\n"
    }
   }
  },
  {
   "cell_type": "markdown",
   "source": [
    "### 2.2.2.3 str和repr显示格式"
   ],
   "metadata": {
    "collapsed": false
   }
  },
  {
   "cell_type": "code",
   "execution_count": 3,
   "outputs": [
    {
     "name": "stdout",
     "output_type": "stream",
     "text": [
      "span\n",
      "'span'\n"
     ]
    }
   ],
   "source": [
    "# str用于一般显示\n",
    "print(str('span'))\n",
    "# repr可以显示额外的细节\n",
    "print(repr('span'))"
   ],
   "metadata": {
    "collapsed": false,
    "pycharm": {
     "name": "#%%\n"
    }
   }
  },
  {
   "cell_type": "markdown",
   "source": [
    "### 2.2.2.4 普通比较与链式比较"
   ],
   "metadata": {
    "collapsed": false
   }
  },
  {
   "cell_type": "code",
   "execution_count": 4,
   "outputs": [
    {
     "name": "stdout",
     "output_type": "stream",
     "text": [
      "True\n",
      "True\n",
      "True\n"
     ]
    }
   ],
   "source": [
    "# 普通的比较\n",
    "print(1<2)\n",
    "x,y,z = 2,4,6\n",
    "# 链式比较\n",
    "print(x < y < z)\n",
    "# 下面这个和上面等价\n",
    "print(x<y and y<z)"
   ],
   "metadata": {
    "collapsed": false,
    "pycharm": {
     "name": "#%%\n"
    }
   }
  },
  {
   "cell_type": "code",
   "execution_count": 6,
   "outputs": [
    {
     "name": "stdout",
     "output_type": "stream",
     "text": [
      "False\n",
      "3.3000000000000003\n"
     ]
    }
   ],
   "source": [
    "# 浮点数比较会有精度问题\n",
    "print(1.1+2.2 == 3.3)\n",
    "print(1.1+2.2)"
   ],
   "metadata": {
    "collapsed": false,
    "pycharm": {
     "name": "#%%\n"
    }
   }
  },
  {
   "cell_type": "markdown",
   "source": [
    "### 2.2.2.5 除法"
   ],
   "metadata": {
    "collapsed": false
   }
  },
  {
   "cell_type": "code",
   "execution_count": 8,
   "outputs": [
    {
     "name": "stdout",
     "output_type": "stream",
     "text": [
      "2.5\n",
      "2.5\n",
      "2.0\n"
     ]
    }
   ],
   "source": [
    "# 真除法，无论任何类型最终都会保留小数部分\n",
    "print(10/4)\n",
    "print(10/4.0)\n",
    "# 向下取整除法，会省略小数部分\n",
    "print(10//4.0)"
   ],
   "metadata": {
    "collapsed": false,
    "pycharm": {
     "name": "#%%\n"
    }
   }
  },
  {
   "cell_type": "code",
   "execution_count": 9,
   "outputs": [
    {
     "name": "stdout",
     "output_type": "stream",
     "text": [
      "2.5 -2.5\n",
      "2 -3\n"
     ]
    }
   ],
   "source": [
    "# // 也叫做截断除法。会向下取整\n",
    "print(5/2, 5/-2)\n",
    "print(5//2, 5//-2)"
   ],
   "metadata": {
    "collapsed": false,
    "pycharm": {
     "name": "#%%\n"
    }
   }
  },
  {
   "cell_type": "markdown",
   "source": [
    "### 2.2.2.6 整数精度"
   ],
   "metadata": {
    "collapsed": false
   }
  },
  {
   "cell_type": "code",
   "execution_count": 10,
   "outputs": [
    {
     "name": "stdout",
     "output_type": "stream",
     "text": [
      "1606938044258990275541962092341162602522202993782792835301376\n"
     ]
    }
   ],
   "source": [
    "# python的整数进度是无限制大小的\n",
    "print(2**200)"
   ],
   "metadata": {
    "collapsed": false,
    "pycharm": {
     "name": "#%%\n"
    }
   }
  },
  {
   "cell_type": "markdown",
   "source": [
    "### 2.2.2.7 复数"
   ],
   "metadata": {
    "collapsed": false
   }
  },
  {
   "cell_type": "code",
   "execution_count": 11,
   "outputs": [
    {
     "name": "stdout",
     "output_type": "stream",
     "text": [
      "(2+3j)\n"
     ]
    }
   ],
   "source": [
    "# 虚部会使用j或J后缀来表示\n",
    "print(2+1j*3)"
   ],
   "metadata": {
    "collapsed": false,
    "pycharm": {
     "name": "#%%\n"
    }
   }
  },
  {
   "cell_type": "markdown",
   "source": [
    "### 2.2.2.8 十六、八、二进制"
   ],
   "metadata": {
    "collapsed": false
   }
  },
  {
   "cell_type": "code",
   "execution_count": 14,
   "outputs": [
    {
     "name": "stdout",
     "output_type": "stream",
     "text": [
      "16\n",
      "16\n",
      "16\n"
     ]
    }
   ],
   "source": [
    "# 16进制用0x\n",
    "print(0x10)\n",
    "# 八进制使用0o\n",
    "print(0o20)\n",
    "# 二进制使用0b\n",
    "print(0b10000)"
   ],
   "metadata": {
    "collapsed": false,
    "pycharm": {
     "name": "#%%\n"
    }
   }
  },
  {
   "cell_type": "code",
   "execution_count": 15,
   "outputs": [
    {
     "name": "stdout",
     "output_type": "stream",
     "text": [
      "0x10\n",
      "0o20\n",
      "0b10000\n"
     ]
    }
   ],
   "source": [
    "# 可以使用下面这个方法来获取对应数字的进制\n",
    "print(hex(16))\n",
    "print(oct(16))\n",
    "print(bin(16))"
   ],
   "metadata": {
    "collapsed": false,
    "pycharm": {
     "name": "#%%\n"
    }
   }
  },
  {
   "cell_type": "code",
   "execution_count": 16,
   "outputs": [
    {
     "name": "stdout",
     "output_type": "stream",
     "text": [
      "16\n"
     ]
    }
   ],
   "source": [
    "# eval可以把字符串作为python代码来执行\n",
    "print(eval('0x10'))"
   ],
   "metadata": {
    "collapsed": false,
    "pycharm": {
     "name": "#%%\n"
    }
   }
  },
  {
   "cell_type": "code",
   "execution_count": 19,
   "outputs": [
    {
     "name": "stdout",
     "output_type": "stream",
     "text": [
      "10,20,10000\n",
      "ff,FF,20\n"
     ]
    }
   ],
   "source": [
    "# 也可以使用格式化来获取对应的进制信息\n",
    "print('{0:x},{1:o},{2:b}'.format(16,16,16))\n",
    "print('%x,%X,%o'%(255,255,16))"
   ],
   "metadata": {
    "collapsed": false,
    "pycharm": {
     "name": "#%%\n"
    }
   }
  },
  {
   "cell_type": "markdown",
   "source": [
    "### 2.2.2.9 按位操作"
   ],
   "metadata": {
    "collapsed": false
   }
  },
  {
   "cell_type": "code",
   "execution_count": 20,
   "outputs": [
    {
     "name": "stdout",
     "output_type": "stream",
     "text": [
      "4\n",
      "3\n",
      "1\n"
     ]
    }
   ],
   "source": [
    "# python支持按位来操作\n",
    "x = 1\n",
    "print(x<<2) # 0100\n",
    "print(x|2) # 0011\n",
    "print(x&1) # 0001"
   ],
   "metadata": {
    "collapsed": false,
    "pycharm": {
     "name": "#%%\n"
    }
   }
  },
  {
   "cell_type": "code",
   "execution_count": 23,
   "outputs": [
    {
     "name": "stdout",
     "output_type": "stream",
     "text": [
      "0b11111111\n",
      "0b1010101\n",
      "85\n"
     ]
    }
   ],
   "source": [
    "# 当然也支持其他进制的位操作 ^是异或操作，相同为0，不同为1\n",
    "x = 0xFF\n",
    "print(bin(x))\n",
    "print(bin(x^0b10101010))\n",
    "print(x^0b10101010)"
   ],
   "metadata": {
    "collapsed": false,
    "pycharm": {
     "name": "#%%\n"
    }
   }
  },
  {
   "cell_type": "code",
   "execution_count": 26,
   "outputs": [
    {
     "name": "stdout",
     "output_type": "stream",
     "text": [
      "0b1100011 7\n",
      "7\n"
     ]
    }
   ],
   "source": [
    "# 使用bit_length 可以获取以二进制表示时，所需要的位数(使用len长度要减去2，也就是前面的0b)\n",
    "x = 99\n",
    "print(bin(x), len(bin(x))-2)\n",
    "print(x.bit_length())"
   ],
   "metadata": {
    "collapsed": false,
    "pycharm": {
     "name": "#%%\n"
    }
   }
  },
  {
   "cell_type": "markdown",
   "source": [
    "### 2.2.2.10 其他内置数值工具"
   ],
   "metadata": {
    "collapsed": false
   }
  },
  {
   "cell_type": "code",
   "execution_count": 27,
   "outputs": [
    {
     "name": "stdout",
     "output_type": "stream",
     "text": [
      "3.141592653589793 2.718281828459045\n",
      "0.05233595624294383\n",
      "2.0\n",
      "16 16\n",
      "2.5\n",
      "10\n",
      "3\n",
      "1\n",
      "2 -3\n",
      "3 -2\n",
      "2 -2\n",
      "3 2\n"
     ]
    }
   ],
   "source": [
    "# python内部提供了数值处理的模块 match\n",
    "import math\n",
    "# 比如我们获取π和自然数\n",
    "print(math.pi, math.e)\n",
    "# 计算sin\n",
    "print(math.sin(3*math.pi/180))\n",
    "# 计算开根号\n",
    "print(math.sqrt(4))\n",
    "# 计算幂，下面这两个操作是等价的\n",
    "print(pow(2, 4), 2**4)\n",
    "# 计算绝对值\n",
    "print(abs(-2.5))\n",
    "# 求和\n",
    "print(sum((1,2,3,4)))\n",
    "# 球最大值和最小值\n",
    "print(max(1,2,3))\n",
    "print(min(1,2,3))\n",
    "# 向下取整\n",
    "print(math.floor(2.56), math.floor(-2.56))\n",
    "# 向上取整\n",
    "print(math.ceil(2.56), math.ceil(-2.56))\n",
    "# 直接截断\n",
    "print(math.trunc(2.56), math.trunc(-2.56))\n",
    "# 四舍五入\n",
    "print(round(2.56), round(2.4))"
   ],
   "metadata": {
    "collapsed": false,
    "pycharm": {
     "name": "#%%\n"
    }
   }
  },
  {
   "cell_type": "code",
   "execution_count": 28,
   "outputs": [
    {
     "name": "stdout",
     "output_type": "stream",
     "text": [
      "0.7059621943358311\n",
      "0.350374238028878\n",
      "2\n"
     ]
    }
   ],
   "source": [
    "# 生成一个随机数\n",
    "import random\n",
    "print(random.random())\n",
    "print(random.random())\n",
    "# 指定范围的随机数\n",
    "print(random.randint(1,10)) # 生成1-10的随机数"
   ],
   "metadata": {
    "collapsed": false,
    "pycharm": {
     "name": "#%%\n"
    }
   }
  },
  {
   "cell_type": "code",
   "execution_count": 33,
   "outputs": [
    {
     "name": "stdout",
     "output_type": "stream",
     "text": [
      "3\n",
      "None\n",
      "[2, 3, 1]\n"
     ]
    }
   ],
   "source": [
    "# 随机选择列表\n",
    "print(random.choice([1,2,3]))\n",
    "# 也可以把列表打乱\n",
    "l = [1,2,3]\n",
    "random.shuffle(l)\n",
    "print(l)"
   ],
   "metadata": {
    "collapsed": false,
    "pycharm": {
     "name": "#%%\n"
    }
   }
  },
  {
   "cell_type": "markdown",
   "source": [
    "## 2.2.3 其他数值类型"
   ],
   "metadata": {
    "collapsed": false
   }
  },
  {
   "cell_type": "markdown",
   "source": [
    "### 2.2.3.1 小数类型"
   ],
   "metadata": {
    "collapsed": false
   }
  },
  {
   "cell_type": "code",
   "execution_count": 34,
   "outputs": [
    {
     "name": "stdout",
     "output_type": "stream",
     "text": [
      "5.551115123125783e-17\n"
     ]
    }
   ],
   "source": [
    "# 浮点运算缺乏精度\n",
    "print(0.1+0.1+0.1-0.3)"
   ],
   "metadata": {
    "collapsed": false,
    "pycharm": {
     "name": "#%%\n"
    }
   }
  },
  {
   "cell_type": "code",
   "execution_count": 35,
   "outputs": [
    {
     "name": "stdout",
     "output_type": "stream",
     "text": [
      "0.0\n"
     ]
    }
   ],
   "source": [
    "# 为了解决这个问题可以使用小数对象来计算\n",
    "from decimal import  Decimal\n",
    "print(Decimal('0.1')+Decimal('0.1')+Decimal('0.1')-Decimal('0.3'))"
   ],
   "metadata": {
    "collapsed": false,
    "pycharm": {
     "name": "#%%\n"
    }
   }
  },
  {
   "cell_type": "code",
   "execution_count": 36,
   "outputs": [
    {
     "name": "stdout",
     "output_type": "stream",
     "text": [
      "0.1428571428571428571428571429\n",
      "0.1429\n"
     ]
    }
   ],
   "source": [
    "# 可以设置全局的小数精度\n",
    "import decimal\n",
    "print(decimal.Decimal(1)/decimal.Decimal(7))\n",
    "decimal.getcontext().prec = 4\n",
    "print(decimal.Decimal(1)/decimal.Decimal(7))"
   ],
   "metadata": {
    "collapsed": false,
    "pycharm": {
     "name": "#%%\n"
    }
   }
  },
  {
   "cell_type": "code",
   "execution_count": 37,
   "outputs": [
    {
     "name": "stdout",
     "output_type": "stream",
     "text": [
      "0.3333\n",
      "0.33\n",
      "0.3333\n"
     ]
    }
   ],
   "source": [
    "# 可以使用with来临时管理小数精度\n",
    "import decimal\n",
    "print(decimal.Decimal(1)/decimal.Decimal(3))\n",
    "with decimal.localcontext() as ctx:\n",
    "    ctx.prec = 2\n",
    "    print(decimal.Decimal(1)/decimal.Decimal(3))\n",
    "print(decimal.Decimal(1)/decimal.Decimal(3))"
   ],
   "metadata": {
    "collapsed": false,
    "pycharm": {
     "name": "#%%\n"
    }
   }
  },
  {
   "cell_type": "markdown",
   "source": [
    "### 2.2.3.2 分数类型"
   ],
   "metadata": {
    "collapsed": false
   }
  },
  {
   "cell_type": "code",
   "execution_count": 39,
   "outputs": [
    {
     "name": "stdout",
     "output_type": "stream",
     "text": [
      "1/3 2/3\n",
      "1\n",
      "-1/3\n",
      "2/9\n"
     ]
    }
   ],
   "source": [
    "# 使用fraction来表示分数\n",
    "from fractions import Fraction\n",
    "x = Fraction(1,3)\n",
    "y = Fraction(4,6)\n",
    "print(x,y)\n",
    "# 下面我们进行分数计算\n",
    "print(x+y)\n",
    "print(x-y)\n",
    "print(x*y)"
   ],
   "metadata": {
    "collapsed": false,
    "pycharm": {
     "name": "#%%\n"
    }
   }
  },
  {
   "cell_type": "code",
   "execution_count": 40,
   "outputs": [
    {
     "name": "stdout",
     "output_type": "stream",
     "text": [
      "1/4\n"
     ]
    }
   ],
   "source": [
    "# 也可以使用浮点数来创建分数\n",
    "print(Fraction('.25'))"
   ],
   "metadata": {
    "collapsed": false,
    "pycharm": {
     "name": "#%%\n"
    }
   }
  },
  {
   "cell_type": "code",
   "execution_count": 41,
   "outputs": [
    {
     "name": "stdout",
     "output_type": "stream",
     "text": [
      "(5, 2)\n",
      "5/2\n"
     ]
    }
   ],
   "source": [
    "# 可以把浮点数转换为分数\n",
    "print(2.5.as_integer_ratio())\n",
    "f = 2.5\n",
    "print(Fraction(*f.as_integer_ratio()))"
   ],
   "metadata": {
    "collapsed": false,
    "pycharm": {
     "name": "#%%\n"
    }
   }
  },
  {
   "cell_type": "code",
   "execution_count": 43,
   "outputs": [
    {
     "name": "stdout",
     "output_type": "stream",
     "text": [
      "2.3333333333333335\n",
      "5/3\n"
     ]
    }
   ],
   "source": [
    "# 分数可以和浮点数混用\n",
    "x = Fraction(1,3)\n",
    "print(x+2.0)\n",
    "print(x+Fraction(4,3))"
   ],
   "metadata": {
    "collapsed": false,
    "pycharm": {
     "name": "#%%\n"
    }
   }
  },
  {
   "cell_type": "markdown",
   "source": [
    "### 2.2.3.3 集合\n",
    "\n",
    "集合用于表示唯一，不可变的无序集合体，既不是序列、也不是映射。集合具有基本的数学特性"
   ],
   "metadata": {
    "collapsed": false
   }
  },
  {
   "cell_type": "code",
   "execution_count": 56,
   "outputs": [
    {
     "name": "stdout",
     "output_type": "stream",
     "text": [
      "{'e', 'c', 'a', 'd', 'b'} {'x', 'y', 'd', 'b', 'z'}\n"
     ]
    }
   ],
   "source": [
    "# 使用set或者{}来创建一个集合\n",
    "x = set('abcde')\n",
    "y = {'b','d','x','y','z'}\n",
    "print(x,y)"
   ],
   "metadata": {
    "collapsed": false,
    "pycharm": {
     "name": "#%%\n"
    }
   }
  },
  {
   "cell_type": "code",
   "execution_count": 46,
   "outputs": [
    {
     "name": "stdout",
     "output_type": "stream",
     "text": [
      "{'e', 'c', 'a'}\n",
      "{'e', 'c', 'a', 'x', 'y', 'd', 'b', 'z'}\n",
      "{'b', 'd'}\n",
      "{'e', 'c', 'x', 'a', 'y', 'z'}\n",
      "False False\n",
      "True\n"
     ]
    }
   ],
   "source": [
    "# 集合支持基本的数学运算\n",
    "print(x-y)\n",
    "# 两个集合所有元素\n",
    "print(x|y)\n",
    "# 两个集合相等的元素\n",
    "print(x&y)\n",
    "# 两个集合不同的元素\n",
    "print(x^y)\n",
    "# 集合范围比较\n",
    "print(x>y, x<y)\n",
    "print(set('a') < set('ab'))"
   ],
   "metadata": {
    "collapsed": false,
    "pycharm": {
     "name": "#%%\n"
    }
   }
  },
  {
   "cell_type": "code",
   "execution_count": 47,
   "outputs": [
    {
     "name": "stdout",
     "output_type": "stream",
     "text": [
      "True\n"
     ]
    }
   ],
   "source": [
    "# 可以使用in判断集合是否存在某个元素\n",
    "print('a' in x)"
   ],
   "metadata": {
    "collapsed": false,
    "pycharm": {
     "name": "#%%\n"
    }
   }
  },
  {
   "cell_type": "code",
   "execution_count": 50,
   "outputs": [
    {
     "name": "stdout",
     "output_type": "stream",
     "text": [
      "{'b', 'd'}\n",
      "{'b', 'd', 'span'}\n",
      "{'span', 'b', 'a', 'd'}\n",
      "{'span', 'a', 'd'}\n"
     ]
    }
   ],
   "source": [
    "# 集合也提供了一些方法\n",
    "# 两个集合相等的元素\n",
    "z = x.intersection(y)\n",
    "print(z)\n",
    "# 添加元素\n",
    "z.add('span')\n",
    "print(z)\n",
    "# update可以添加新的元素或集合到当前集合中，如果添加的元素在集合中已存在，则该元素只会出现一次，重复的会忽略。\n",
    "z.update(set('ab'))\n",
    "print(z)\n",
    "# 集合删除元素\n",
    "z.remove('b')\n",
    "print(z)"
   ],
   "metadata": {
    "collapsed": false,
    "pycharm": {
     "name": "#%%\n"
    }
   }
  },
  {
   "cell_type": "code",
   "execution_count": 54,
   "outputs": [
    {
     "name": "stdout",
     "output_type": "stream",
     "text": [
      "e\n",
      "c\n",
      "a\n",
      "d\n",
      "b\n"
     ]
    }
   ],
   "source": [
    "# 集合迭代\n",
    "for item in x:\n",
    "    print(item)"
   ],
   "metadata": {
    "collapsed": false,
    "pycharm": {
     "name": "#%%\n"
    }
   }
  },
  {
   "cell_type": "code",
   "execution_count": 55,
   "outputs": [
    {
     "ename": "TypeError",
     "evalue": "'set' object is not subscriptable",
     "output_type": "error",
     "traceback": [
      "\u001B[1;31m---------------------------------------------------------------------------\u001B[0m",
      "\u001B[1;31mTypeError\u001B[0m                                 Traceback (most recent call last)",
      "\u001B[1;32m~\\AppData\\Local\\Temp\\ipykernel_11032\\1090181473.py\u001B[0m in \u001B[0;36m<module>\u001B[1;34m\u001B[0m\n\u001B[0;32m      1\u001B[0m \u001B[1;31m# 集合是无序的不能索引和分片\u001B[0m\u001B[1;33m\u001B[0m\u001B[1;33m\u001B[0m\u001B[1;33m\u001B[0m\u001B[0m\n\u001B[1;32m----> 2\u001B[1;33m \u001B[0mprint\u001B[0m\u001B[1;33m(\u001B[0m\u001B[0mx\u001B[0m\u001B[1;33m[\u001B[0m\u001B[1;36m1\u001B[0m\u001B[1;33m]\u001B[0m\u001B[1;33m)\u001B[0m\u001B[1;33m\u001B[0m\u001B[1;33m\u001B[0m\u001B[0m\n\u001B[0m",
      "\u001B[1;31mTypeError\u001B[0m: 'set' object is not subscriptable"
     ]
    }
   ],
   "source": [
    "# 集合是无序的不能索引和分片\n",
    "print(x[1])"
   ],
   "metadata": {
    "collapsed": false,
    "pycharm": {
     "name": "#%%\n"
    }
   }
  },
  {
   "cell_type": "code",
   "execution_count": 57,
   "outputs": [
    {
     "name": "stdout",
     "output_type": "stream",
     "text": [
      "<class 'dict'>\n",
      "<class 'set'>\n"
     ]
    }
   ],
   "source": [
    "# python中虽然可以使用{}来创建集合，但是空的集合不能使用{}来创建\n",
    "print(type({}))\n",
    "# 创建空集合使用set来创建\n",
    "print(type(set()))"
   ],
   "metadata": {
    "collapsed": false,
    "pycharm": {
     "name": "#%%\n"
    }
   }
  },
  {
   "cell_type": "code",
   "execution_count": 58,
   "outputs": [
    {
     "name": "stdout",
     "output_type": "stream",
     "text": [
      "{1, 2, 3, 4}\n"
     ]
    },
    {
     "ename": "TypeError",
     "evalue": "unsupported operand type(s) for |: 'set' and 'list'",
     "output_type": "error",
     "traceback": [
      "\u001B[1;31m---------------------------------------------------------------------------\u001B[0m",
      "\u001B[1;31mTypeError\u001B[0m                                 Traceback (most recent call last)",
      "\u001B[1;32m~\\AppData\\Local\\Temp\\ipykernel_11032\\3876693906.py\u001B[0m in \u001B[0;36m<module>\u001B[1;34m\u001B[0m\n\u001B[0;32m      2\u001B[0m \u001B[0mprint\u001B[0m\u001B[1;33m(\u001B[0m\u001B[1;33m{\u001B[0m\u001B[1;36m1\u001B[0m\u001B[1;33m,\u001B[0m\u001B[1;36m2\u001B[0m\u001B[1;33m,\u001B[0m\u001B[1;36m3\u001B[0m\u001B[1;33m}\u001B[0m\u001B[1;33m|\u001B[0m\u001B[1;33m{\u001B[0m\u001B[1;36m3\u001B[0m\u001B[1;33m,\u001B[0m\u001B[1;36m4\u001B[0m\u001B[1;33m}\u001B[0m\u001B[1;33m)\u001B[0m\u001B[1;33m\u001B[0m\u001B[1;33m\u001B[0m\u001B[0m\n\u001B[0;32m      3\u001B[0m \u001B[1;31m# 集合不能和列表直接取|\u001B[0m\u001B[1;33m\u001B[0m\u001B[1;33m\u001B[0m\u001B[1;33m\u001B[0m\u001B[0m\n\u001B[1;32m----> 4\u001B[1;33m \u001B[0mprint\u001B[0m\u001B[1;33m(\u001B[0m\u001B[1;33m{\u001B[0m\u001B[1;36m1\u001B[0m\u001B[1;33m,\u001B[0m\u001B[1;36m2\u001B[0m\u001B[1;33m,\u001B[0m\u001B[1;36m3\u001B[0m\u001B[1;33m}\u001B[0m\u001B[1;33m|\u001B[0m\u001B[1;33m[\u001B[0m\u001B[1;36m3\u001B[0m\u001B[1;33m,\u001B[0m\u001B[1;36m4\u001B[0m\u001B[1;33m]\u001B[0m\u001B[1;33m)\u001B[0m\u001B[1;33m\u001B[0m\u001B[1;33m\u001B[0m\u001B[0m\n\u001B[0m",
      "\u001B[1;31mTypeError\u001B[0m: unsupported operand type(s) for |: 'set' and 'list'"
     ]
    }
   ],
   "source": [
    "# 集合和其他类型操作需要使用对应的关键字\n",
    "print({1,2,3}|{3,4})\n",
    "# 集合不能和列表直接取|\n",
    "print({1,2,3}|[3,4])"
   ],
   "metadata": {
    "collapsed": false,
    "pycharm": {
     "name": "#%%\n"
    }
   }
  },
  {
   "cell_type": "code",
   "execution_count": 59,
   "outputs": [
    {
     "name": "stdout",
     "output_type": "stream",
     "text": [
      "{1, 2, 3, 4}\n"
     ]
    }
   ],
   "source": [
    "# 但是可以使用下面这样的方式\n",
    "print({1,2,3}.union([3,4]))"
   ],
   "metadata": {
    "collapsed": false,
    "pycharm": {
     "name": "#%%\n"
    }
   }
  },
  {
   "cell_type": "code",
   "execution_count": 60,
   "outputs": [
    {
     "name": "stdout",
     "output_type": "stream",
     "text": [
      "{1, 3}\n"
     ]
    }
   ],
   "source": [
    "# 获取集合和列表中相同的元素\n",
    "print({1,2,3}.intersection([1,3,5]))"
   ],
   "metadata": {
    "collapsed": false,
    "pycharm": {
     "name": "#%%\n"
    }
   }
  },
  {
   "cell_type": "code",
   "execution_count": 61,
   "outputs": [
    {
     "ename": "TypeError",
     "evalue": "unhashable type: 'list'",
     "output_type": "error",
     "traceback": [
      "\u001B[1;31m---------------------------------------------------------------------------\u001B[0m",
      "\u001B[1;31mTypeError\u001B[0m                                 Traceback (most recent call last)",
      "\u001B[1;32m~\\AppData\\Local\\Temp\\ipykernel_11032\\3566767029.py\u001B[0m in \u001B[0;36m<module>\u001B[1;34m\u001B[0m\n\u001B[0;32m      3\u001B[0m \u001B[0ms\u001B[0m\u001B[1;33m.\u001B[0m\u001B[0madd\u001B[0m\u001B[1;33m(\u001B[0m\u001B[1;36m1\u001B[0m\u001B[1;33m)\u001B[0m\u001B[1;33m\u001B[0m\u001B[1;33m\u001B[0m\u001B[0m\n\u001B[0;32m      4\u001B[0m \u001B[0ms\u001B[0m\u001B[1;33m.\u001B[0m\u001B[0madd\u001B[0m\u001B[1;33m(\u001B[0m\u001B[1;33m(\u001B[0m\u001B[1;36m1\u001B[0m\u001B[1;33m,\u001B[0m\u001B[1;36m2\u001B[0m\u001B[1;33m,\u001B[0m\u001B[1;36m3\u001B[0m\u001B[1;33m)\u001B[0m\u001B[1;33m)\u001B[0m\u001B[1;33m\u001B[0m\u001B[1;33m\u001B[0m\u001B[0m\n\u001B[1;32m----> 5\u001B[1;33m \u001B[0ms\u001B[0m\u001B[1;33m.\u001B[0m\u001B[0madd\u001B[0m\u001B[1;33m(\u001B[0m\u001B[1;33m[\u001B[0m\u001B[1;36m1\u001B[0m\u001B[1;33m,\u001B[0m\u001B[1;36m2\u001B[0m\u001B[1;33m,\u001B[0m\u001B[1;36m3\u001B[0m\u001B[1;33m]\u001B[0m\u001B[1;33m)\u001B[0m\u001B[1;33m\u001B[0m\u001B[1;33m\u001B[0m\u001B[0m\n\u001B[0m",
      "\u001B[1;31mTypeError\u001B[0m: unhashable type: 'list'"
     ]
    }
   ],
   "source": [
    "# 集合必须是不可变的，所有列表和字典不能放入集合中，但是可以放入元组\n",
    "s = set()\n",
    "s.add(1)\n",
    "s.add((1,2,3))\n",
    "s.add([1,2,3])"
   ],
   "metadata": {
    "collapsed": false,
    "pycharm": {
     "name": "#%%\n"
    }
   }
  },
  {
   "cell_type": "code",
   "execution_count": 62,
   "outputs": [
    {
     "name": "stdout",
     "output_type": "stream",
     "text": [
      "{1, 2, 3}\n",
      "['1', '2', '3']\n"
     ]
    }
   ],
   "source": [
    "# 集合和列表是支持互相转换的\n",
    "print(set([1,2,3]))\n",
    "print(list(set('123')))"
   ],
   "metadata": {
    "collapsed": false,
    "pycharm": {
     "name": "#%%\n"
    }
   }
  },
  {
   "cell_type": "code",
   "execution_count": 63,
   "outputs": [
    {
     "name": "stdout",
     "output_type": "stream",
     "text": [
      "False\n",
      "True\n",
      "True\n"
     ]
    }
   ],
   "source": [
    "# 我们可以用集合快速判断两个数组是否相等\n",
    "l1,l2 = [1,3,5,2,4],[2,5,3,4,1]\n",
    "print(l1==l2)\n",
    "print(set(l1) == set(l2))\n",
    "# 或者使用排序来判断\n",
    "print(sorted(l1) == sorted(l2))"
   ],
   "metadata": {
    "collapsed": false,
    "pycharm": {
     "name": "#%%\n"
    }
   }
  },
  {
   "cell_type": "markdown",
   "source": [
    "### 2.2.3.4 布尔型"
   ],
   "metadata": {
    "collapsed": false
   }
  },
  {
   "cell_type": "code",
   "execution_count": 64,
   "outputs": [
    {
     "name": "stdout",
     "output_type": "stream",
     "text": [
      "<class 'bool'>\n",
      "True\n",
      "True\n",
      "5\n"
     ]
    }
   ],
   "source": [
    "print(type(True))\n",
    "# 实际上bool其实就是int,值为1\n",
    "print(isinstance(True, int))\n",
    "print(True == 1)\n",
    "print(True + 4)"
   ],
   "metadata": {
    "collapsed": false,
    "pycharm": {
     "name": "#%%\n"
    }
   }
  },
  {
   "cell_type": "markdown",
   "source": [
    "## 2.2.4 数值扩展"
   ],
   "metadata": {
    "collapsed": false
   }
  },
  {
   "cell_type": "markdown",
   "source": [
    "可以使用numpy来进行更加高级的数字运算，这里就不讲了"
   ],
   "metadata": {
    "collapsed": false,
    "pycharm": {
     "name": "#%% md\n"
    }
   }
  }
 ],
 "metadata": {
  "kernelspec": {
   "display_name": "Python 3",
   "language": "python",
   "name": "python3"
  },
  "language_info": {
   "codemirror_mode": {
    "name": "ipython",
    "version": 2
   },
   "file_extension": ".py",
   "mimetype": "text/x-python",
   "name": "python",
   "nbconvert_exporter": "python",
   "pygments_lexer": "ipython2",
   "version": "2.7.6"
  }
 },
 "nbformat": 4,
 "nbformat_minor": 0
}