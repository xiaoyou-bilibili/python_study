{
 "cells": [
  {
   "cell_type": "markdown",
   "source": [
    "## 2.6.1 元组\n",
    "![](.2_images/17962547.png)\n",
    "![](.2_images/290d45db.png)"
   ],
   "metadata": {
    "collapsed": false
   }
  },
  {
   "cell_type": "markdown",
   "source": [
    "### 2.6.1.1 元组实际应用"
   ],
   "metadata": {
    "collapsed": false
   }
  },
  {
   "cell_type": "code",
   "execution_count": 1,
   "outputs": [
    {
     "name": "stdout",
     "output_type": "stream",
     "text": [
      "(1, 2, 3, 4)\n",
      "(1, 2, 1, 2, 1, 2, 1, 2)\n",
      "1 (2, 3)\n"
     ]
    }
   ],
   "source": [
    "# 元组支持前面的序列操作\n",
    "import json\n",
    "\n",
    "print((1,2) + (3,4))\n",
    "# 重复\n",
    "print((1,2) *4)\n",
    "# 获取某一个范围\n",
    "t = (1,2,3,4)\n",
    "print(t[0],t[1:3])"
   ],
   "metadata": {
    "collapsed": false,
    "pycharm": {
     "name": "#%%\n"
    }
   }
  },
  {
   "cell_type": "code",
   "execution_count": 2,
   "outputs": [
    {
     "name": "stdout",
     "output_type": "stream",
     "text": [
      "4\n",
      "(4,)\n"
     ]
    }
   ],
   "source": [
    "# 如果元组只有一个元素，需要加上,\n",
    "print((4))\n",
    "print((4,))"
   ],
   "metadata": {
    "collapsed": false,
    "pycharm": {
     "name": "#%%\n"
    }
   }
  },
  {
   "cell_type": "code",
   "execution_count": 3,
   "outputs": [
    {
     "name": "stdout",
     "output_type": "stream",
     "text": [
      "['cc', 'aa', 'dd', 'bb']\n",
      "['aa', 'bb', 'cc', 'dd']\n",
      "('aa', 'bb', 'cc', 'dd')\n",
      "['aa', 'bb', 'cc', 'dd']\n"
     ]
    }
   ],
   "source": [
    "# 元组和列表之间是可以互相转换的\n",
    "t = ('cc','aa','dd','bb')\n",
    "tmp = list(t)\n",
    "print(tmp)\n",
    "tmp.sort()\n",
    "print(tmp)\n",
    "# 列表再转换为元组\n",
    "T = tuple(tmp)\n",
    "print(T)\n",
    "# 对元组进行排序,实际上会转换为列表\n",
    "print(sorted(T))"
   ],
   "metadata": {
    "collapsed": false,
    "pycharm": {
     "name": "#%%\n"
    }
   }
  },
  {
   "cell_type": "code",
   "execution_count": 4,
   "outputs": [
    {
     "name": "stdout",
     "output_type": "stream",
     "text": [
      "[21, 22, 23, 24, 25]\n"
     ]
    }
   ],
   "source": [
    "# 元组可以用于列表推导\n",
    "T = [1,2,3,4,5]\n",
    "L = [x+20 for x in T]\n",
    "print(L)"
   ],
   "metadata": {
    "collapsed": false,
    "pycharm": {
     "name": "#%%\n"
    }
   }
  },
  {
   "cell_type": "code",
   "execution_count": 5,
   "outputs": [
    {
     "name": "stdout",
     "output_type": "stream",
     "text": [
      "1\n",
      "1\n"
     ]
    }
   ],
   "source": [
    "t = ('a','b','c')\n",
    "# 元组可以定位\n",
    "print(t.index('b'))\n",
    "# 统计元素出现的个数\n",
    "print(t.count('b'))"
   ],
   "metadata": {
    "collapsed": false,
    "pycharm": {
     "name": "#%%\n"
    }
   }
  },
  {
   "cell_type": "code",
   "execution_count": 6,
   "outputs": [
    {
     "ename": "TypeError",
     "evalue": "'tuple' object does not support item assignment",
     "output_type": "error",
     "traceback": [
      "\u001B[1;31m---------------------------------------------------------------------------\u001B[0m",
      "\u001B[1;31mTypeError\u001B[0m                                 Traceback (most recent call last)",
      "\u001B[1;32m~\\AppData\\Local\\Temp\\ipykernel_7364\\2810447256.py\u001B[0m in \u001B[0;36m<module>\u001B[1;34m\u001B[0m\n\u001B[0;32m      1\u001B[0m \u001B[1;31m# 元组不能修改\u001B[0m\u001B[1;33m\u001B[0m\u001B[1;33m\u001B[0m\u001B[1;33m\u001B[0m\u001B[0m\n\u001B[0;32m      2\u001B[0m \u001B[0mt\u001B[0m \u001B[1;33m=\u001B[0m \u001B[1;33m(\u001B[0m\u001B[1;34m'a'\u001B[0m\u001B[1;33m,\u001B[0m\u001B[1;34m'b'\u001B[0m\u001B[1;33m,\u001B[0m\u001B[1;34m'c'\u001B[0m\u001B[1;33m)\u001B[0m\u001B[1;33m\u001B[0m\u001B[1;33m\u001B[0m\u001B[0m\n\u001B[1;32m----> 3\u001B[1;33m \u001B[0mt\u001B[0m\u001B[1;33m[\u001B[0m\u001B[1;36m1\u001B[0m\u001B[1;33m]\u001B[0m \u001B[1;33m=\u001B[0m \u001B[1;34m'd'\u001B[0m\u001B[1;33m\u001B[0m\u001B[1;33m\u001B[0m\u001B[0m\n\u001B[0m",
      "\u001B[1;31mTypeError\u001B[0m: 'tuple' object does not support item assignment"
     ]
    }
   ],
   "source": [
    "# 元组不能修改\n",
    "t = ('a','b','c')\n",
    "t[1] = 'd'"
   ],
   "metadata": {
    "collapsed": false,
    "pycharm": {
     "name": "#%%\n"
    }
   }
  },
  {
   "cell_type": "code",
   "execution_count": 7,
   "outputs": [
    {
     "name": "stdout",
     "output_type": "stream",
     "text": [
      "('a', [1, 1], 'c')\n"
     ]
    }
   ],
   "source": [
    "# 但是元组里面的列表可以修改\n",
    "t = ('a', [1,2], 'c')\n",
    "t[1][1] = 1\n",
    "print(t)"
   ],
   "metadata": {
    "collapsed": false,
    "pycharm": {
     "name": "#%%\n"
    }
   }
  },
  {
   "cell_type": "markdown",
   "source": [
    "### 2.6.1.3 有名元组"
   ],
   "metadata": {
    "collapsed": false
   }
  },
  {
   "cell_type": "code",
   "execution_count": 2,
   "outputs": [
    {
     "name": "stdout",
     "output_type": "stream",
     "text": [
      "Bob ['dev', ['mgr']]\n",
      "OrderedDict([('name', 'Bob'), ('age', 40.5), ('jobs', ['dev', ['mgr']])])\n"
     ]
    }
   ],
   "source": [
    "# 有名元组是一个元组、字典、类的混合体\n",
    "from collections import namedtuple\n",
    "rec = namedtuple('rec', ['name', 'age', 'jobs'])\n",
    "bob = rec('Bob', age=40.5, jobs=['dev', ['mgr']])\n",
    "print(bob.name, bob.jobs)\n",
    "\n",
    "# 我们可以这样转换为列表\n",
    "print(bob._asdict())"
   ],
   "metadata": {
    "collapsed": false,
    "pycharm": {
     "name": "#%%\n"
    }
   }
  },
  {
   "cell_type": "markdown",
   "source": [
    "## 2.6.2 文件\n",
    "\n",
    "![](.2_images/2d5362f7.png)\n",
    "![](.2_images/8507ad5e.png)"
   ],
   "metadata": {
    "collapsed": false
   }
  },
  {
   "cell_type": "markdown",
   "source": [
    "### 2.6.2.1 打开文件"
   ],
   "metadata": {
    "collapsed": false
   }
  },
  {
   "cell_type": "code",
   "execution_count": null,
   "outputs": [],
   "source": [
    "# 使用+表示我们可以读，也可以写文件\n",
    "open(\"a\",\"w+\")"
   ],
   "metadata": {
    "collapsed": false,
    "pycharm": {
     "name": "#%%\n"
    }
   }
  },
  {
   "cell_type": "markdown",
   "source": [
    "### 2.6.2.2 使用文件"
   ],
   "metadata": {
    "collapsed": false
   }
  },
  {
   "cell_type": "markdown",
   "source": [
    "### 2.6.2.3 文件的使用应用"
   ],
   "metadata": {
    "collapsed": false
   }
  },
  {
   "cell_type": "code",
   "execution_count": 4,
   "outputs": [
    {
     "name": "stdout",
     "output_type": "stream",
     "text": [
      "hello text \n",
      "good bye \n"
     ]
    }
   ],
   "source": [
    "# 打开一个文件\n",
    "test = open(\"test.txt\", \"w\")\n",
    "test.write(\"hello text \\n\")\n",
    "test.write(\"good bye \\n\")\n",
    "test.close()\n",
    "\n",
    "# 读取数据\n",
    "test2 = open(\"test.txt\")\n",
    "# 读取一行\n",
    "print(test2.readline(), end='')\n",
    "print(test2.readline(), end='')\n",
    "print(test2.readline(), end='')"
   ],
   "metadata": {
    "collapsed": false,
    "pycharm": {
     "name": "#%%\n"
    }
   }
  },
  {
   "cell_type": "code",
   "execution_count": 5,
   "outputs": [
    {
     "name": "stdout",
     "output_type": "stream",
     "text": [
      "hello text \n",
      "good bye \n",
      "\n"
     ]
    }
   ],
   "source": [
    "# 可以直接读取所有内容\n",
    "print(open(\"test.txt\").read())"
   ],
   "metadata": {
    "collapsed": false,
    "pycharm": {
     "name": "#%%\n"
    }
   }
  },
  {
   "cell_type": "code",
   "execution_count": 6,
   "outputs": [
    {
     "name": "stdout",
     "output_type": "stream",
     "text": [
      "hello text \n",
      "good bye \n"
     ]
    }
   ],
   "source": [
    "# 我们可以逐行扫描\n",
    "for line in open(\"test.txt\"):\n",
    "    print(line, end='')"
   ],
   "metadata": {
    "collapsed": false,
    "pycharm": {
     "name": "#%%\n"
    }
   }
  },
  {
   "cell_type": "markdown",
   "source": [
    "### 2.6.2.4 文本和二进制文件"
   ],
   "metadata": {
    "collapsed": false
   }
  },
  {
   "cell_type": "code",
   "execution_count": 7,
   "outputs": [
    {
     "name": "stdout",
     "output_type": "stream",
     "text": [
      "b'hello text \\r\\ngood bye \\r\\n'\n"
     ]
    }
   ],
   "source": [
    "# 我们使用二进制的方式阿里读取文件\n",
    "data = open(\"test.txt\",'rb').read()\n",
    "print(data)"
   ],
   "metadata": {
    "collapsed": false,
    "pycharm": {
     "name": "#%%\n"
    }
   }
  },
  {
   "cell_type": "markdown",
   "source": [
    "### 2.6.2.5 文件中存储python对象"
   ],
   "metadata": {
    "collapsed": false
   }
  },
  {
   "cell_type": "markdown",
   "source": [
    "### 2.6.2.6 存储python原生对象"
   ],
   "metadata": {
    "collapsed": false
   }
  },
  {
   "cell_type": "code",
   "execution_count": 8,
   "outputs": [
    {
     "name": "stdout",
     "output_type": "stream",
     "text": [
      "{'a': 1, 'b': 2}\n"
     ]
    }
   ],
   "source": [
    "import pickle\n",
    "# 我们可以是pickle来存储任何对象\n",
    "d = {'a':1,'b':2}\n",
    "f = open(\"data.pkl\", \"wb\")\n",
    "pickle.dump(d,f)\n",
    "f.close()\n",
    "\n",
    "# 读取我们的对象\n",
    "f2 = open(\"data.pkl\", \"rb\")\n",
    "e = pickle.load(f2)\n",
    "print(e)"
   ],
   "metadata": {
    "collapsed": false,
    "pycharm": {
     "name": "#%%\n"
    }
   }
  },
  {
   "cell_type": "markdown",
   "source": [
    "### 2.6.2.7 使用json格式"
   ],
   "metadata": {
    "collapsed": false
   }
  },
  {
   "cell_type": "code",
   "execution_count": 10,
   "outputs": [
    {
     "name": "stdout",
     "output_type": "stream",
     "text": [
      "{\"a\": 1, \"b\": 2}\n"
     ]
    }
   ],
   "source": [
    "import json\n",
    "# 可以使用json模块来把对象转换为json字符串\n",
    "a = {'a':1,'b':2}\n",
    "print(json.dumps(a))"
   ],
   "metadata": {
    "collapsed": false,
    "pycharm": {
     "name": "#%%\n"
    }
   }
  },
  {
   "cell_type": "code",
   "execution_count": 11,
   "outputs": [
    {
     "name": "stdout",
     "output_type": "stream",
     "text": [
      "{'a': 1, 'b': 2}\n"
     ]
    }
   ],
   "source": [
    "# 也可以把json字符串转换为对象\n",
    "data = json.loads('{\"a\": 1, \"b\": 2}')\n",
    "print(data)"
   ],
   "metadata": {
    "collapsed": false,
    "pycharm": {
     "name": "#%%\n"
    }
   }
  },
  {
   "cell_type": "markdown",
   "source": [
    "### 2.6.2.8 打包二进制数据"
   ],
   "metadata": {
    "collapsed": false
   }
  },
  {
   "cell_type": "code",
   "execution_count": 12,
   "outputs": [
    {
     "name": "stdout",
     "output_type": "stream",
     "text": [
      "b'\\x00\\x00\\x00\\x07span\\x00\\x08'\n",
      "b'\\x00\\x00\\x00\\x07span\\x00\\x08'\n",
      "(7, b'span', 8)\n"
     ]
    }
   ],
   "source": [
    "# 使用struct包可以打包二进制的文件\n",
    "f = open('data.bin',\"wb\")\n",
    "import struct\n",
    "data = struct.pack('>i4sh',7,b'span',8)\n",
    "print(data)\n",
    "f.write(data)\n",
    "f.close()\n",
    "\n",
    "# 读取这个二进制文件\n",
    "f = open(\"data.bin\", \"rb\")\n",
    "data = f.read()\n",
    "print(data)\n",
    "values = struct.unpack('>i4sh', data)\n",
    "print(values)"
   ],
   "metadata": {
    "collapsed": false,
    "pycharm": {
     "name": "#%%\n"
    }
   }
  },
  {
   "cell_type": "markdown",
   "source": [
    "### 2.6.2.9 文件上下文管理器"
   ],
   "metadata": {
    "collapsed": false
   }
  },
  {
   "cell_type": "code",
   "execution_count": 13,
   "outputs": [
    {
     "name": "stdout",
     "output_type": "stream",
     "text": [
      "hello text \n",
      "good bye \n",
      "\n"
     ]
    }
   ],
   "source": [
    "# 可以使用with关键字自动管理文件关闭\n",
    "with open(\"test.txt\") as f:\n",
    "    print(f.read())"
   ],
   "metadata": {
    "collapsed": false,
    "pycharm": {
     "name": "#%%\n"
    }
   }
  },
  {
   "cell_type": "markdown",
   "source": [
    "### 2.6.2.10 其他文件工具"
   ],
   "metadata": {
    "collapsed": false
   }
  },
  {
   "cell_type": "markdown",
   "source": [
    "## 2.6.3 核心类型复习与总结\n",
    "![](.2_images/e2829804.png)"
   ],
   "metadata": {
    "collapsed": false
   }
  },
  {
   "cell_type": "markdown",
   "source": [
    "### 2.6.3.1 运算符重载"
   ],
   "metadata": {
    "collapsed": false
   }
  },
  {
   "cell_type": "markdown",
   "source": [
    "### 2.6.3.2 对象灵活性"
   ],
   "metadata": {
    "collapsed": false
   }
  },
  {
   "cell_type": "markdown",
   "source": [
    "### 2.6.3.3 引用VS复制"
   ],
   "metadata": {
    "collapsed": false
   }
  },
  {
   "cell_type": "code",
   "execution_count": 14,
   "outputs": [
    {
     "name": "stdout",
     "output_type": "stream",
     "text": [
      "[3, [1, 3], 4]\n",
      "[1, [1, 3], 4]\n"
     ]
    }
   ],
   "source": [
    "# copy只能进行顶层复制\n",
    "a = [1,[2,3],4]\n",
    "b = a.copy()\n",
    "a[1][0] = 1\n",
    "a[0] = 3\n",
    "print(a)\n",
    "print(b)"
   ],
   "metadata": {
    "collapsed": false,
    "pycharm": {
     "name": "#%%\n"
    }
   }
  },
  {
   "cell_type": "code",
   "execution_count": 15,
   "outputs": [
    {
     "name": "stdout",
     "output_type": "stream",
     "text": [
      "[3, [1, 3], 4]\n",
      "[1, [2, 3], 4]\n"
     ]
    }
   ],
   "source": [
    "# 深层复制需要使用copy包\n",
    "import copy\n",
    "a = [1,[2,3],4]\n",
    "b = copy.deepcopy(a)\n",
    "a[1][0] = 1\n",
    "a[0] = 3\n",
    "print(a)\n",
    "print(b)"
   ],
   "metadata": {
    "collapsed": false,
    "pycharm": {
     "name": "#%%\n"
    }
   }
  },
  {
   "cell_type": "markdown",
   "metadata": {
    "collapsed": true,
    "pycharm": {
     "name": "#%% md\n"
    }
   },
   "source": [
    "### 2.6.3.4 比较、等价性和真值"
   ]
  },
  {
   "cell_type": "markdown",
   "source": [
    "### 2.6.3.5 python TRUE和FALSE"
   ],
   "metadata": {
    "collapsed": false
   }
  },
  {
   "cell_type": "code",
   "execution_count": 16,
   "outputs": [
    {
     "name": "stdout",
     "output_type": "stream",
     "text": [
      "False\n",
      "True\n"
     ]
    }
   ],
   "source": [
    "# is和==不一样\n",
    "l1 = [1,('a',3)]\n",
    "l2 = [1,('a',3)]\n",
    "print(l1 is l2)\n",
    "print(l1 == l2)"
   ],
   "metadata": {
    "collapsed": false,
    "pycharm": {
     "name": "#%%\n"
    }
   }
  },
  {
   "cell_type": "code",
   "execution_count": 18,
   "outputs": [
    {
     "name": "stdout",
     "output_type": "stream",
     "text": [
      "True\n",
      "True\n",
      "False\n",
      "True\n"
     ]
    }
   ],
   "source": [
    "# python内部会对字符串等内容进行优化\n",
    "a = 'span'\n",
    "b = 'span'\n",
    "print(a is b)\n",
    "print(a == b)\n",
    "\n",
    "# 但是长的就不行了\n",
    "a = 'hello word'\n",
    "b = 'hello word'\n",
    "print(a is b)\n",
    "print(a == b)"
   ],
   "metadata": {
    "collapsed": false,
    "pycharm": {
     "name": "#%%\n"
    }
   }
  },
  {
   "cell_type": "code",
   "execution_count": 19,
   "outputs": [
    {
     "name": "stdout",
     "output_type": "stream",
     "text": [
      "False False True\n"
     ]
    }
   ],
   "source": [
    "# 对象的大小比较是嵌套的\n",
    "l1 = [1, ('a', 3)]\n",
    "l2 = [1, ('a', 2)]\n",
    "print(l1 < l2 , l1 == l2, l1 > l2)"
   ],
   "metadata": {
    "collapsed": false,
    "pycharm": {
     "name": "#%%\n"
    }
   }
  },
  {
   "cell_type": "markdown",
   "source": [
    "![](.2_images/911873a5.png)"
   ],
   "metadata": {
    "collapsed": false,
    "pycharm": {
     "name": "#%% md\n"
    }
   }
  },
  {
   "cell_type": "code",
   "execution_count": 20,
   "outputs": [
    {
     "name": "stdout",
     "output_type": "stream",
     "text": [
      "False\n"
     ]
    }
   ],
   "source": [
    "# 我们可以验证一下\n",
    "print(bool({}))"
   ],
   "metadata": {
    "collapsed": false,
    "pycharm": {
     "name": "#%%\n"
    }
   }
  },
  {
   "cell_type": "markdown",
   "source": [
    "### 2.6.3.6 python的类型层次"
   ],
   "metadata": {
    "collapsed": false
   }
  },
  {
   "cell_type": "markdown",
   "source": [
    "### 2.6.3.7 类型的对象"
   ],
   "metadata": {
    "collapsed": false
   }
  },
  {
   "cell_type": "markdown",
   "source": [
    "### 2.6.3.8 python其他数据类型"
   ],
   "metadata": {
    "collapsed": false
   }
  },
  {
   "cell_type": "markdown",
   "source": [
    "## 2.6.4 内置类型的陷阱"
   ],
   "metadata": {
    "collapsed": false
   }
  },
  {
   "cell_type": "markdown",
   "source": [
    "### 2.6.4.1 赋值创建引用而不是赋值"
   ],
   "metadata": {
    "collapsed": false
   }
  },
  {
   "cell_type": "code",
   "execution_count": 22,
   "outputs": [
    {
     "name": "stdout",
     "output_type": "stream",
     "text": [
      "['x', [1, 0, 3], 'y']\n",
      "['x', [1, 2, 3], 'y']\n"
     ]
    }
   ],
   "source": [
    "# python赋值赋的是引用类型\n",
    "l = [1,2,3]\n",
    "m =['x',l,'y']\n",
    "l[1] = 0\n",
    "print(m)\n",
    "# 为了避免这个问题我们可以使用切片来设置\n",
    "l = [1,2,3]\n",
    "m = ['x',l[:],'y']\n",
    "l[1] = 0\n",
    "print(m)"
   ],
   "metadata": {
    "collapsed": false,
    "pycharm": {
     "name": "#%%\n"
    }
   }
  },
  {
   "cell_type": "markdown",
   "source": [
    "### 2.6.4.2 重复会增加层次深度"
   ],
   "metadata": {
    "collapsed": false
   }
  },
  {
   "cell_type": "code",
   "execution_count": 24,
   "outputs": [
    {
     "name": "stdout",
     "output_type": "stream",
     "text": [
      "[4, 5, 6, 4, 5, 6, 4, 5, 6, 4, 5, 6]\n",
      "[[4, 5, 6], [4, 5, 6], [4, 5, 6], [4, 5, 6]]\n",
      "[4, 5, 6, 4, 5, 6, 4, 5, 6, 4, 5, 6]\n",
      "[[4, 0, 6], [4, 0, 6], [4, 0, 6], [4, 0, 6]]\n"
     ]
    }
   ],
   "source": [
    "l = [4,5,6]\n",
    "x = l*4\n",
    "y = [l]*4\n",
    "print(x)\n",
    "print(y)\n",
    "# 重复修改会导致变换\n",
    "l[1] = 0\n",
    "print(x)\n",
    "print(y)"
   ],
   "metadata": {
    "collapsed": false,
    "pycharm": {
     "name": "#%%\n"
    }
   }
  },
  {
   "cell_type": "code",
   "execution_count": 25,
   "outputs": [
    {
     "name": "stdout",
     "output_type": "stream",
     "text": [
      "[[4, 5, 6], [4, 5, 6], [4, 5, 6], [4, 5, 6]]\n"
     ]
    }
   ],
   "source": [
    "# 如果不想出现上面这个问题，可以这样操作，这样就可以避免共享的问题\n",
    "l = [4,5,6]\n",
    "y = [list(l)] * 4\n",
    "l[1] = 0\n",
    "print(y)"
   ],
   "metadata": {
    "collapsed": false,
    "pycharm": {
     "name": "#%%\n"
    }
   }
  },
  {
   "cell_type": "markdown",
   "source": [
    "### 2.6.4.3 注意循环数据结构"
   ],
   "metadata": {
    "collapsed": false
   }
  },
  {
   "cell_type": "code",
   "execution_count": 26,
   "outputs": [
    {
     "name": "stdout",
     "output_type": "stream",
     "text": [
      "['grail', [...]]\n"
     ]
    }
   ],
   "source": [
    "l = ['grail']\n",
    "l.append(l)\n",
    "# ...表示带有循环\n",
    "print(l)"
   ],
   "metadata": {
    "collapsed": false,
    "pycharm": {
     "name": "#%%\n"
    }
   }
  },
  {
   "cell_type": "markdown",
   "source": [
    "### 2.6.4.4 不可变类型不可以在原位置改变"
   ],
   "metadata": {
    "collapsed": false
   }
  },
  {
   "cell_type": "code",
   "source": [
    "t = (1,2,3)\n",
    "t[2] = 4"
   ],
   "metadata": {
    "collapsed": false,
    "pycharm": {
     "name": "#%%\n"
    }
   },
   "execution_count": 27,
   "outputs": [
    {
     "ename": "TypeError",
     "evalue": "'tuple' object does not support item assignment",
     "output_type": "error",
     "traceback": [
      "\u001B[1;31m---------------------------------------------------------------------------\u001B[0m",
      "\u001B[1;31mTypeError\u001B[0m                                 Traceback (most recent call last)",
      "\u001B[1;32m~\\AppData\\Local\\Temp\\ipykernel_14592\\37902078.py\u001B[0m in \u001B[0;36m<module>\u001B[1;34m\u001B[0m\n\u001B[0;32m      1\u001B[0m \u001B[0mt\u001B[0m \u001B[1;33m=\u001B[0m \u001B[1;33m(\u001B[0m\u001B[1;36m1\u001B[0m\u001B[1;33m,\u001B[0m\u001B[1;36m2\u001B[0m\u001B[1;33m,\u001B[0m\u001B[1;36m3\u001B[0m\u001B[1;33m)\u001B[0m\u001B[1;33m\u001B[0m\u001B[1;33m\u001B[0m\u001B[0m\n\u001B[1;32m----> 2\u001B[1;33m \u001B[0mt\u001B[0m\u001B[1;33m[\u001B[0m\u001B[1;36m2\u001B[0m\u001B[1;33m]\u001B[0m \u001B[1;33m=\u001B[0m \u001B[1;36m4\u001B[0m\u001B[1;33m\u001B[0m\u001B[1;33m\u001B[0m\u001B[0m\n\u001B[0m",
      "\u001B[1;31mTypeError\u001B[0m: 'tuple' object does not support item assignment"
     ]
    }
   ]
  },
  {
   "cell_type": "code",
   "execution_count": 29,
   "outputs": [
    {
     "name": "stdout",
     "output_type": "stream",
     "text": [
      "(1, 2, 4)\n"
     ]
    }
   ],
   "source": [
    "# 可以这样解决\n",
    "t = (1,2,3)\n",
    "t = t[:2] + (4,)\n",
    "print(t)"
   ],
   "metadata": {
    "collapsed": false,
    "pycharm": {
     "name": "#%%\n"
    }
   }
  }
 ],
 "metadata": {
  "kernelspec": {
   "display_name": "Python 3",
   "language": "python",
   "name": "python3"
  },
  "language_info": {
   "codemirror_mode": {
    "name": "ipython",
    "version": 2
   },
   "file_extension": ".py",
   "mimetype": "text/x-python",
   "name": "python",
   "nbconvert_exporter": "python",
   "pygments_lexer": "ipython2",
   "version": "2.7.6"
  }
 },
 "nbformat": 4,
 "nbformat_minor": 0
}