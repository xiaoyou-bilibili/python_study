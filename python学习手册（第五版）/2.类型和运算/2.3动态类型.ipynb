{
 "cells": [
  {
   "cell_type": "markdown",
   "metadata": {
    "collapsed": true,
    "pycharm": {
     "name": "#%% md\n"
    }
   },
   "source": [
    "## 3.1 缺少声明语句的情况"
   ]
  },
  {
   "cell_type": "markdown",
   "source": [
    "### 2.3.1.1 变量、对象和引用\n",
    "\n",
    "python变量只是对象的引用\n",
    "![](.2_images/b7927192.png)"
   ],
   "metadata": {
    "collapsed": false
   }
  },
  {
   "cell_type": "markdown",
   "source": [
    "### 2.3.1.2 类型属于对象、而不是变量"
   ],
   "metadata": {
    "collapsed": false
   }
  },
  {
   "cell_type": "code",
   "execution_count": null,
   "outputs": [],
   "source": [
    "# 我们对一个变量多次赋值后，实际上a的类型没有变，只是引用了不同类型的变量而已\n",
    "# 每个对象都一个头部字段，标记了这个对象的类型\n",
    "a = 3\n",
    "a = 'span'\n",
    "a = 1.23"
   ],
   "metadata": {
    "collapsed": false,
    "pycharm": {
     "name": "#%%\n"
    }
   }
  },
  {
   "cell_type": "markdown",
   "source": [
    "### 2.3.1.3 对象的垃圾收集\n",
    "\n",
    "python使用引用计数器来进行垃圾收集"
   ],
   "metadata": {
    "collapsed": false
   }
  },
  {
   "cell_type": "markdown",
   "source": [
    "## 2.3.2 共享引用\n",
    "\n",
    "![](.2_images/2a4f8d06.png)\n",
    "![](.2_images/daf7d594.png)"
   ],
   "metadata": {
    "collapsed": false
   }
  },
  {
   "cell_type": "code",
   "execution_count": 2,
   "outputs": [
    {
     "name": "stdout",
     "output_type": "stream",
     "text": [
      "3 4\n"
     ]
    }
   ],
   "source": [
    "# 变量引用是共享的，但是我们变量值修改后原来的值并不会发生变化\n",
    "a = 3\n",
    "b = a\n",
    "b+=1\n",
    "print(a, b)"
   ],
   "metadata": {
    "collapsed": false,
    "pycharm": {
     "name": "#%%\n"
    }
   }
  },
  {
   "cell_type": "markdown",
   "source": [
    "### 2.3.2.1 共享引用和在原位置修改"
   ],
   "metadata": {
    "collapsed": false
   }
  },
  {
   "cell_type": "code",
   "execution_count": 3,
   "outputs": [
    {
     "name": "stdout",
     "output_type": "stream",
     "text": [
      "[2, 2, 3] [2, 2, 3]\n"
     ]
    }
   ],
   "source": [
    "# 但是如果我们对对象进行操作时就会影响到原来的变量\n",
    "l1 = [1,2,3]\n",
    "l2 = l1\n",
    "l2[0] = 2\n",
    "print(l1, l2)"
   ],
   "metadata": {
    "collapsed": false,
    "pycharm": {
     "name": "#%%\n"
    }
   }
  },
  {
   "cell_type": "code",
   "execution_count": 4,
   "outputs": [
    {
     "name": "stdout",
     "output_type": "stream",
     "text": [
      "[2, 3, 4] [1, 3, 4]\n"
     ]
    }
   ],
   "source": [
    "# 为了避免这个问题，我们可以复制对象，而不是创建引用\n",
    "l1 = [2,3,4]\n",
    "l2 = l1[:]\n",
    "l2[0] = 1\n",
    "print(l1, l2)"
   ],
   "metadata": {
    "collapsed": false,
    "pycharm": {
     "name": "#%%\n"
    }
   }
  },
  {
   "cell_type": "code",
   "execution_count": 6,
   "outputs": [
    {
     "name": "stdout",
     "output_type": "stream",
     "text": [
      "{'a': 2, 'b': 2} {'a': 1, 'b': 2} {'a': 2, 'b': 2}\n"
     ]
    }
   ],
   "source": [
    "# 字典，集合可以使用copy方法\n",
    "a = {'a':1,'b':2}\n",
    "b = a.copy()\n",
    "c = a\n",
    "c['a'] = 2\n",
    "print(a,b,c)"
   ],
   "metadata": {
    "collapsed": false,
    "pycharm": {
     "name": "#%%\n"
    }
   }
  },
  {
   "cell_type": "code",
   "execution_count": 7,
   "outputs": [
    {
     "name": "stdout",
     "output_type": "stream",
     "text": [
      "[1, [1, 2]]\n"
     ]
    }
   ],
   "source": [
    "# 深层次的对象可以使用deepcopy方法\n",
    "import copy\n",
    "a = [1,[1,2]]\n",
    "print(copy.deepcopy(a))"
   ],
   "metadata": {
    "collapsed": false,
    "pycharm": {
     "name": "#%%\n"
    }
   }
  },
  {
   "cell_type": "markdown",
   "source": [
    "### 2.3.2.2 共享引用和相等"
   ],
   "metadata": {
    "collapsed": false
   }
  },
  {
   "cell_type": "code",
   "execution_count": 9,
   "outputs": [
    {
     "name": "stdout",
     "output_type": "stream",
     "text": [
      "True\n",
      "True\n",
      "True\n",
      "False\n"
     ]
    }
   ],
   "source": [
    "# ==检测两个对象是否有相同的值，is检测对象是否指向同一个对象，is更加严格\n",
    "l1 = [1,2,3]\n",
    "l2 = l1\n",
    "l3 = [1,2,3]\n",
    "print(l1==l2)\n",
    "print(l1==l3)\n",
    "print(l1 is l2)\n",
    "print(l1 is l3)"
   ],
   "metadata": {
    "collapsed": false,
    "pycharm": {
     "name": "#%%\n"
    }
   }
  },
  {
   "cell_type": "code",
   "execution_count": 11,
   "outputs": [
    {
     "name": "stdout",
     "output_type": "stream",
     "text": [
      "True\n",
      "True\n"
     ]
    }
   ],
   "source": [
    "# 下面这种情况看起来虽然看起来很奇怪\n",
    "l1 = 42\n",
    "l2 = 42\n",
    "print(l1==l2)\n",
    "print(l1 is l2)\n",
    "# 这两个都是True，其实这两个变量是被缓存了，也就是说l1和l2实际上是引用的同一个对象"
   ],
   "metadata": {
    "collapsed": false,
    "pycharm": {
     "name": "#%%\n"
    }
   }
  },
  {
   "cell_type": "code",
   "execution_count": 12,
   "outputs": [
    {
     "data": {
      "text/plain": "3105"
     },
     "execution_count": 12,
     "metadata": {},
     "output_type": "execute_result"
    }
   ],
   "source": [
    "# 我们可以使用下面这个方法来判断一个对象被引用的次数\n",
    "import sys\n",
    "sys.getrefcount(1)"
   ],
   "metadata": {
    "collapsed": false,
    "pycharm": {
     "name": "#%%\n"
    }
   }
  },
  {
   "cell_type": "code",
   "execution_count": null,
   "outputs": [],
   "source": [
    "# 当然我们实际上不用太关心这个，除非你使用is来检查，这个现象反应了python为了加快执行速度采用的一种优化方式"
   ],
   "metadata": {
    "collapsed": false,
    "pycharm": {
     "name": "#%%\n"
    }
   }
  }
 ],
 "metadata": {
  "kernelspec": {
   "display_name": "Python 3",
   "language": "python",
   "name": "python3"
  },
  "language_info": {
   "codemirror_mode": {
    "name": "ipython",
    "version": 2
   },
   "file_extension": ".py",
   "mimetype": "text/x-python",
   "name": "python",
   "nbconvert_exporter": "python",
   "pygments_lexer": "ipython2",
   "version": "2.7.6"
  }
 },
 "nbformat": 4,
 "nbformat_minor": 0
}