{
 "cells": [
  {
   "cell_type": "markdown",
   "metadata": {
    "collapsed": true,
    "pycharm": {
     "name": "#%% md\n"
    }
   },
   "source": [
    "## 2.5.1 列表\n",
    "![](.2_images/579cfbfc.png)\n",
    "![](.2_images/e341816d.png)"
   ]
  },
  {
   "cell_type": "markdown",
   "source": [
    "### 2.5.1.1 基本列表操作"
   ],
   "metadata": {
    "collapsed": false
   }
  },
  {
   "cell_type": "code",
   "execution_count": 1,
   "outputs": [
    {
     "name": "stdout",
     "output_type": "stream",
     "text": [
      "3\n",
      "[1, 2, 3, 4, 5, 6]\n",
      "[1, 1, 1, 1, 1]\n"
     ]
    }
   ],
   "source": [
    "# 获取长度\n",
    "print(len([1,2,3]))\n",
    "# 列表拼接\n",
    "print([1,2,3]+[4,5,6])\n",
    "# 列表重复\n",
    "print([1]*5)"
   ],
   "metadata": {
    "collapsed": false,
    "pycharm": {
     "name": "#%%\n"
    }
   }
  },
  {
   "cell_type": "code",
   "execution_count": 2,
   "outputs": [
    {
     "name": "stdout",
     "output_type": "stream",
     "text": [
      "[1, 2]34\n",
      "[1, 2, '3', '4']\n"
     ]
    }
   ],
   "source": [
    "# 可以把列表转换为字符串\n",
    "print(str([1,2])+\"34\")\n",
    "# 也可以把字符串转换为列表\n",
    "print([1,2]+list(\"34\"))"
   ],
   "metadata": {
    "collapsed": false,
    "pycharm": {
     "name": "#%%\n"
    }
   }
  },
  {
   "cell_type": "markdown",
   "source": [
    "### 2.5.1.2 列表迭代和推导"
   ],
   "metadata": {
    "collapsed": false
   }
  },
  {
   "cell_type": "code",
   "execution_count": 5,
   "outputs": [
    {
     "name": "stdout",
     "output_type": "stream",
     "text": [
      "True\n",
      "4 5 6 "
     ]
    }
   ],
   "source": [
    "# 判断某个字段是否在列表中\n",
    "print(1 in [1,2,3])\n",
    "# 列表迭代\n",
    "for i in [4,5,6]:\n",
    "    print(i, end=' ')"
   ],
   "metadata": {
    "collapsed": false,
    "pycharm": {
     "name": "#%%\n"
    }
   }
  },
  {
   "cell_type": "code",
   "execution_count": 6,
   "outputs": [
    {
     "name": "stdout",
     "output_type": "stream",
     "text": [
      "['ssss', 'pppp', 'aaaa', 'nnnn']\n"
     ]
    }
   ],
   "source": [
    "# 列表的推导\n",
    "print([c*4 for c in 'span'])"
   ],
   "metadata": {
    "collapsed": false,
    "pycharm": {
     "name": "#%%\n"
    }
   }
  },
  {
   "cell_type": "markdown",
   "source": [
    "### 2.5.1.3 索引、分片、和矩阵"
   ],
   "metadata": {
    "collapsed": false
   }
  },
  {
   "cell_type": "code",
   "execution_count": 7,
   "outputs": [
    {
     "name": "stdout",
     "output_type": "stream",
     "text": [
      "c\n",
      "c\n",
      "['b', 'c', 'd']\n"
     ]
    }
   ],
   "source": [
    "# 索引和分片其实和前面字符串的操作是一样的\n",
    "l = ['a','b','c','d']\n",
    "print(l[2])\n",
    "print(l[-2])\n",
    "print(l[1:])"
   ],
   "metadata": {
    "collapsed": false,
    "pycharm": {
     "name": "#%%\n"
    }
   }
  },
  {
   "cell_type": "code",
   "execution_count": 8,
   "outputs": [
    {
     "name": "stdout",
     "output_type": "stream",
     "text": [
      "5\n"
     ]
    }
   ],
   "source": [
    "# 列表可以嵌套\n",
    "matrix = [\n",
    "    [1,2,3],\n",
    "    [4,5,6],\n",
    "    [7,8,9]\n",
    "]\n",
    "print(matrix[1][1])"
   ],
   "metadata": {
    "collapsed": false,
    "pycharm": {
     "name": "#%%\n"
    }
   }
  },
  {
   "cell_type": "markdown",
   "source": [
    "### 2.5.1.4 原位置修改列表"
   ],
   "metadata": {
    "collapsed": false
   }
  },
  {
   "cell_type": "code",
   "execution_count": 9,
   "outputs": [
    {
     "name": "stdout",
     "output_type": "stream",
     "text": [
      "['a', 'b', 'c']\n",
      "['z', 'y', 'c']\n"
     ]
    }
   ],
   "source": [
    "# 列表是可变的，可以直接修改列表\n",
    "l = ['a','a','c']\n",
    "l[1] = 'b'\n",
    "print(l)\n",
    "# 也支持修改某一个区域\n",
    "l[0:2] = ['z', 'y']\n",
    "print(l)"
   ],
   "metadata": {
    "collapsed": false,
    "pycharm": {
     "name": "#%%\n"
    }
   }
  },
  {
   "cell_type": "code",
   "execution_count": 12,
   "outputs": [
    {
     "name": "stdout",
     "output_type": "stream",
     "text": [
      "[1, 4, 5, 3]\n",
      "[1, 6, 7, 4, 5, 3]\n",
      "[1, 7, 4, 5, 3]\n"
     ]
    }
   ],
   "source": [
    "# 这个修改某一个区域实际上就是插入操作\n",
    "l = [1,2,3]\n",
    "l[1:2] = [4,5]\n",
    "print(l)\n",
    "# 我们可以直接插入数据\n",
    "l[1:1] = [6,7]\n",
    "print(l)\n",
    "# 也可以删除数据\n",
    "l[1:2] = []\n",
    "print(l)"
   ],
   "metadata": {
    "collapsed": false,
    "pycharm": {
     "name": "#%%\n"
    }
   }
  },
  {
   "cell_type": "markdown",
   "source": [
    "### 2.5.1.5 列表方法调用"
   ],
   "metadata": {
    "collapsed": false,
    "pycharm": {
     "name": "#%% md\n"
    }
   }
  },
  {
   "cell_type": "code",
   "execution_count": 14,
   "outputs": [
    {
     "name": "stdout",
     "output_type": "stream",
     "text": [
      "['c', 'b', 'a', 'd']\n",
      "['a', 'b', 'c', 'd']\n",
      "['d', 'c', 'b', 'a']\n"
     ]
    }
   ],
   "source": [
    "# 上面这种插入和删除操作实际上并不常用，我们用的多的主要是下面这几个方法\n",
    "l = ['c','b','a']\n",
    "# 添加元素\n",
    "l.append('d')\n",
    "print(l)\n",
    "# 对元素进行排序\n",
    "l.sort()\n",
    "print(l)\n",
    "# 也可以倒序\n",
    "l.sort(reverse=True)\n",
    "print(l)"
   ],
   "metadata": {
    "collapsed": false,
    "pycharm": {
     "name": "#%%\n"
    }
   }
  },
  {
   "cell_type": "code",
   "execution_count": 16,
   "outputs": [
    {
     "name": "stdout",
     "output_type": "stream",
     "text": [
      "[1, 2, 3, 4, 5]\n",
      "5\n",
      "[1, 2, 3, 4]\n",
      "[4, 3, 2, 1]\n",
      "[1, 2, 3, 4]\n",
      "[4, 3, 2, 1]\n"
     ]
    }
   ],
   "source": [
    "# 列表添加列表\n",
    "l = [1,2]\n",
    "l.extend([3,4,5])\n",
    "print(l)\n",
    "# 出队\n",
    "print(l.pop())\n",
    "print(l)\n",
    "# 倒序也可以这样\n",
    "l.reverse()\n",
    "print(l)\n",
    "# 重新倒序会变正\n",
    "l.reverse()\n",
    "print(l)\n",
    "# 也可以这样\n",
    "print(list(reversed(l)))"
   ],
   "metadata": {
    "collapsed": false,
    "pycharm": {
     "name": "#%%\n"
    }
   }
  },
  {
   "cell_type": "code",
   "execution_count": 17,
   "outputs": [
    {
     "name": "stdout",
     "output_type": "stream",
     "text": [
      "1\n",
      "['a', 'c']\n",
      "['a', 'b', 'c']\n",
      "['a', 'c']\n",
      "1\n"
     ]
    }
   ],
   "source": [
    "l = ['a','b','c']\n",
    "# 定位元素位置\n",
    "print(l.index('b'))\n",
    "# 删除元素\n",
    "l.remove('b')\n",
    "print(l)\n",
    "# 指定位置插入元素\n",
    "l.insert(1, 'b')\n",
    "print(l)\n",
    "# 指定位置删除元素\n",
    "l.pop(1)\n",
    "print(l)\n",
    "# 统计元素出现的次数\n",
    "print(l.count('a'))"
   ],
   "metadata": {
    "collapsed": false,
    "pycharm": {
     "name": "#%%\n"
    }
   }
  },
  {
   "cell_type": "code",
   "execution_count": 18,
   "outputs": [
    {
     "name": "stdout",
     "output_type": "stream",
     "text": [
      "['b', 'c', 'd']\n",
      "['b']\n"
     ]
    }
   ],
   "source": [
    "# 可以使用del快速删除列表\n",
    "l = ['a', 'b', 'c', 'd']\n",
    "del l[0]\n",
    "print(l)\n",
    "# 可以删除某一个区域\n",
    "del l[1:]\n",
    "print(l)"
   ],
   "metadata": {
    "collapsed": false,
    "pycharm": {
     "name": "#%%\n"
    }
   }
  },
  {
   "cell_type": "markdown",
   "source": [
    "## 2.5.2 字典\n",
    "![](.2_images/029892fe.png)\n",
    "![](.2_images/28c731e7.png)"
   ],
   "metadata": {
    "collapsed": false
   }
  },
  {
   "cell_type": "markdown",
   "source": [
    "### 2.5.2.1 字典基本操作"
   ],
   "metadata": {
    "collapsed": false
   }
  },
  {
   "cell_type": "code",
   "execution_count": 20,
   "outputs": [
    {
     "name": "stdout",
     "output_type": "stream",
     "text": [
      "2\n",
      "{'span': 2, 'ham': 1, 'eggs': 3}\n",
      "3\n",
      "True\n",
      "['span', 'ham', 'eggs']\n"
     ]
    }
   ],
   "source": [
    "# 基本的创建和访问字典\n",
    "d = {'span':2, 'ham': 1, 'eggs': 3}\n",
    "print(d['span'])\n",
    "print(d)\n",
    "# 获取字典长度\n",
    "print(len(d))\n",
    "# 判断键是否存在\n",
    "print('ham' in d)\n",
    "# 获取所有的key\n",
    "print(list(d.keys()))"
   ],
   "metadata": {
    "collapsed": false,
    "pycharm": {
     "name": "#%%\n"
    }
   }
  },
  {
   "cell_type": "markdown",
   "source": [
    "### 2.5.2.2 原位置修改字典"
   ],
   "metadata": {
    "collapsed": false
   }
  },
  {
   "cell_type": "code",
   "execution_count": 22,
   "outputs": [
    {
     "name": "stdout",
     "output_type": "stream",
     "text": [
      "{'eggs': 3, 'spam': 2, 'ham': ['grill', 'bake', 'fry']}\n",
      "{'spam': 2, 'ham': ['grill', 'bake', 'fry']}\n",
      "{'spam': 2, 'ham': ['grill', 'bake', 'fry'], 'branch': 'bacon'}\n"
     ]
    }
   ],
   "source": [
    "# 字典也是可变的，可以直接修字典\n",
    "d = {'eggs':3,'spam':2,'ham':1}\n",
    "d['ham'] = ['grill','bake','fry']\n",
    "print(d)\n",
    "# 删除某个元素\n",
    "del d['eggs']\n",
    "print(d)\n",
    "# 如果键不存在会新增，存在则会修改\n",
    "d['branch'] = 'bacon'\n",
    "print(d)"
   ],
   "metadata": {
    "collapsed": false,
    "pycharm": {
     "name": "#%%\n"
    }
   }
  },
  {
   "cell_type": "markdown",
   "source": [
    "### 2.5.2.3 其他字典方法"
   ],
   "metadata": {
    "collapsed": false
   }
  },
  {
   "cell_type": "code",
   "execution_count": 24,
   "outputs": [
    {
     "name": "stdout",
     "output_type": "stream",
     "text": [
      "[3, 2, 1]\n",
      "[('eggs', 3), ('spam', 2), ('ham', 1)]\n",
      "2\n",
      "None\n",
      "88\n"
     ]
    }
   ],
   "source": [
    "# 获取字典里面所有的值\n",
    "d = {'eggs':3,'spam':2,'ham':1}\n",
    "print(list(d.values()))\n",
    "# 获取字典里面每个item对象\n",
    "print(list(d.items()))\n",
    "# 可以使用get安全的访问字典\n",
    "print(d.get('spam'))\n",
    "# 不存在会返回None\n",
    "print(d.get('toast'))\n",
    "# 也可以指定一下默认值\n",
    "print(d.get('toast', 88))"
   ],
   "metadata": {
    "collapsed": false,
    "pycharm": {
     "name": "#%%\n"
    }
   }
  },
  {
   "cell_type": "code",
   "execution_count": 27,
   "outputs": [
    {
     "name": "stdout",
     "output_type": "stream",
     "text": [
      "{'eggs': 3, 'spam': 2, 'ham': 6, 'toast': 4}\n",
      "6\n",
      "{'eggs': 3, 'spam': 2, 'toast': 4}\n"
     ]
    }
   ],
   "source": [
    "# 可以使用update来更新字典\n",
    "d = {'eggs':3,'spam':2,'ham':1}\n",
    "d2 = {'toast': 4, 'ham': 6}\n",
    "# 不存在会新建，存在则会修改\n",
    "d.update(d2)\n",
    "print(d)\n",
    "# 删除某个元素，这里会返回对应的值\n",
    "print(d.pop('ham'))\n",
    "print(d)"
   ],
   "metadata": {
    "collapsed": false,
    "pycharm": {
     "name": "#%%\n"
    }
   }
  },
  {
   "cell_type": "markdown",
   "source": [
    "### 2.5.2.4 字典注意事项"
   ],
   "metadata": {
    "collapsed": false
   }
  },
  {
   "cell_type": "markdown",
   "source": [
    "### 2.5.2.5 创建字典的其他方式"
   ],
   "metadata": {
    "collapsed": false
   }
  },
  {
   "cell_type": "code",
   "execution_count": 28,
   "outputs": [
    {
     "name": "stdout",
     "output_type": "stream",
     "text": [
      "{'a': 1}\n",
      "{'a': 1}\n",
      "{'name': 'bob', 'age': 40}\n",
      "{'name': 'bob', 'age': 40}\n"
     ]
    }
   ],
   "source": [
    "# 默认方式\n",
    "print({'a':1})\n",
    "# 手动赋值\n",
    "d = {}\n",
    "d['a'] = 1\n",
    "print(d)\n",
    "# 使用dict方法\n",
    "print(dict(name='bob', age=40))\n",
    "# 也可以这样\n",
    "print(dict([('name','bob'), ('age', 40)]))"
   ],
   "metadata": {
    "collapsed": false,
    "pycharm": {
     "name": "#%%\n"
    }
   }
  },
  {
   "cell_type": "code",
   "execution_count": 29,
   "outputs": [
    {
     "name": "stdout",
     "output_type": "stream",
     "text": [
      "{'a': 0, 'b': 0}\n"
     ]
    }
   ],
   "source": [
    "# 如果所有键的值都是确定的话\n",
    "print(dict.fromkeys(['a','b'], 0))"
   ],
   "metadata": {
    "collapsed": false,
    "pycharm": {
     "name": "#%%\n"
    }
   }
  }
 ],
 "metadata": {
  "kernelspec": {
   "display_name": "Python 3",
   "language": "python",
   "name": "python3"
  },
  "language_info": {
   "codemirror_mode": {
    "name": "ipython",
    "version": 2
   },
   "file_extension": ".py",
   "mimetype": "text/x-python",
   "name": "python",
   "nbconvert_exporter": "python",
   "pygments_lexer": "ipython2",
   "version": "2.7.6"
  }
 },
 "nbformat": 4,
 "nbformat_minor": 0
}