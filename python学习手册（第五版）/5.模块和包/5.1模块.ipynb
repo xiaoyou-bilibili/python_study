{
 "cells": [
  {
   "cell_type": "markdown",
   "metadata": {
    "collapsed": true,
    "pycharm": {
     "name": "#%% md\n"
    }
   },
   "source": [
    "## 5.1.1 为什么使用模块"
   ]
  },
  {
   "cell_type": "markdown",
   "source": [
    "## 5.1.2 python程序架构"
   ],
   "metadata": {
    "collapsed": false
   }
  },
  {
   "cell_type": "markdown",
   "source": [
    "### 5.1.2.1 如何组织一个程序\n",
    "![](.5_images/abb3abfe.png)"
   ],
   "metadata": {
    "collapsed": false
   }
  },
  {
   "cell_type": "markdown",
   "source": [
    "### 5.1.2.2 导入和属性"
   ],
   "metadata": {
    "collapsed": false
   }
  },
  {
   "cell_type": "code",
   "execution_count": 1,
   "outputs": [
    {
     "name": "stdout",
     "output_type": "stream",
     "text": [
      "gumby spam\n"
     ]
    }
   ],
   "source": [
    "import sys\n",
    "\n",
    "import b\n",
    "b.spam(\"gumby\")"
   ],
   "metadata": {
    "collapsed": false,
    "pycharm": {
     "name": "#%%\n"
    }
   }
  },
  {
   "cell_type": "markdown",
   "source": [
    "### 5.1.2.3 标准库模块"
   ],
   "metadata": {
    "collapsed": false
   }
  },
  {
   "cell_type": "markdown",
   "source": [
    "## 5.1.3 import如何工作"
   ],
   "metadata": {
    "collapsed": false
   }
  },
  {
   "cell_type": "markdown",
   "source": [
    "### 5.1.3.1 搜索\n",
    "![](.5_images/001f1764.png)"
   ],
   "metadata": {
    "collapsed": false
   }
  },
  {
   "cell_type": "markdown",
   "source": [
    "### 5.1.3.2 编译\n",
    "![](.5_images/8b02c192.png)\n",
    "![](.5_images/4f45ddb9.png)"
   ],
   "metadata": {
    "collapsed": false
   }
  },
  {
   "cell_type": "markdown",
   "source": [
    "### 5.1.3.3 运行\n",
    "![](.5_images/9ccec993.png)"
   ],
   "metadata": {
    "collapsed": false
   }
  },
  {
   "cell_type": "markdown",
   "source": [
    "## 5.1.4 字节码文件"
   ],
   "metadata": {
    "collapsed": false
   }
  },
  {
   "cell_type": "markdown",
   "source": [
    "## 5.1.5 模块搜索路径\n",
    "![](.5_images/0055b61d.png)"
   ],
   "metadata": {
    "collapsed": false
   }
  },
  {
   "cell_type": "markdown",
   "source": [
    "### 5.1.5.1 配置搜索路径"
   ],
   "metadata": {
    "collapsed": false
   }
  },
  {
   "cell_type": "markdown",
   "source": [
    "### 5.1.5.2 搜索路径的变化"
   ],
   "metadata": {
    "collapsed": false
   }
  },
  {
   "cell_type": "markdown",
   "source": [
    "### 5.1.5.3 sys.path 列表"
   ],
   "metadata": {
    "collapsed": false
   }
  },
  {
   "cell_type": "code",
   "execution_count": 3,
   "outputs": [
    {
     "name": "stdout",
     "output_type": "stream",
     "text": [
      "['D:\\\\APP\\\\ToolBox\\\\apps\\\\PyCharm-P\\\\ch-0\\\\213.7172.26\\\\plugins\\\\python\\\\helpers-pro\\\\jupyter_debug', 'D:\\\\APP\\\\ToolBox\\\\apps\\\\PyCharm-P\\\\ch-0\\\\213.7172.26\\\\plugins\\\\python\\\\helpers\\\\pydev', 'E:\\\\CODE\\\\xiaoyou-bilibili\\\\python-study\\\\python学习手册（第五版）\\\\5.模块和包', 'E:\\\\CODE\\\\xiaoyou-bilibili\\\\python-study', 'd:\\\\app\\\\python\\\\377\\\\python37.zip', 'd:\\\\app\\\\python\\\\377\\\\DLLs', 'd:\\\\app\\\\python\\\\377\\\\lib', 'd:\\\\app\\\\python\\\\377', '', 'd:\\\\app\\\\python\\\\377\\\\lib\\\\site-packages', 'd:\\\\app\\\\python\\\\377\\\\lib\\\\site-packages\\\\win32', 'd:\\\\app\\\\python\\\\377\\\\lib\\\\site-packages\\\\win32\\\\lib', 'd:\\\\app\\\\python\\\\377\\\\lib\\\\site-packages\\\\Pythonwin', 'd:\\\\app\\\\python\\\\377\\\\lib\\\\site-packages\\\\IPython\\\\extensions', 'C:\\\\Users\\\\xiaoyou\\\\.ipython']\n"
     ]
    }
   ],
   "source": [
    "print(sys.path)"
   ],
   "metadata": {
    "collapsed": false,
    "pycharm": {
     "name": "#%%\n"
    }
   }
  },
  {
   "cell_type": "markdown",
   "source": [
    "### 5.1.5.4 模块文件选择\n",
    "![](.5_images/c6e127bc.png)"
   ],
   "metadata": {
    "collapsed": false
   }
  },
  {
   "cell_type": "markdown",
   "source": [
    "### 5.1.5.5 第三方工具"
   ],
   "metadata": {
    "collapsed": false
   }
  },
  {
   "cell_type": "markdown",
   "source": [],
   "metadata": {
    "collapsed": false
   }
  }
 ],
 "metadata": {
  "kernelspec": {
   "display_name": "Python 3",
   "language": "python",
   "name": "python3"
  },
  "language_info": {
   "codemirror_mode": {
    "name": "ipython",
    "version": 2
   },
   "file_extension": ".py",
   "mimetype": "text/x-python",
   "name": "python",
   "nbconvert_exporter": "python",
   "pygments_lexer": "ipython2",
   "version": "2.7.6"
  }
 },
 "nbformat": 4,
 "nbformat_minor": 0
}