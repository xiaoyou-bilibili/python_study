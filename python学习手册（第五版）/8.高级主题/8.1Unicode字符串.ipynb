{
 "cells": [
  {
   "cell_type": "markdown",
   "metadata": {
    "collapsed": true,
    "pycharm": {
     "name": "#%% md\n"
    }
   },
   "source": [
    "## 8.1.1 python3中的字符串修改"
   ]
  },
  {
   "cell_type": "markdown",
   "metadata": {
    "collapsed": false
   },
   "source": [
    "## 8.1.2 字符串基础知识"
   ]
  },
  {
   "cell_type": "code",
   "execution_count": 2,
   "metadata": {
    "collapsed": false,
    "pycharm": {
     "name": "#%%\n"
    }
   },
   "outputs": [
    {
     "name": "stdout",
     "output_type": "stream",
     "text": [
      "97\n",
      "0x61\n",
      "a\n"
     ]
    }
   ],
   "source": [
    "# 查看ascii码\n",
    "print(ord('a'))\n",
    "# 查看16进制信息\n",
    "print(hex(97))\n",
    "# 查看ascii对应的字符串\n",
    "print(chr(97))"
   ]
  },
  {
   "cell_type": "code",
   "execution_count": 3,
   "metadata": {
    "collapsed": false,
    "pycharm": {
     "name": "#%%\n"
    }
   },
   "outputs": [
    {
     "name": "stdout",
     "output_type": "stream",
     "text": [
      "Ä\n"
     ]
    }
   ],
   "source": [
    "# python提供了一些特殊的非ascii\n",
    "print(chr(196))"
   ]
  },
  {
   "cell_type": "code",
   "execution_count": 4,
   "metadata": {
    "collapsed": false,
    "pycharm": {
     "name": "#%%\n"
    }
   },
   "outputs": [
    {
     "name": "stdout",
     "output_type": "stream",
     "text": [
      "b'ni'\n",
      "b'ni'\n",
      "b'ni'\n"
     ]
    }
   ],
   "source": [
    "s = 'ni'\n",
    "# 下面我们可以对这些字符串进行编码\n",
    "print(s.encode('ascii'))\n",
    "print(s.encode('latin1'))\n",
    "print(s.encode('utf8'))"
   ]
  },
  {
   "cell_type": "code",
   "execution_count": 5,
   "metadata": {
    "collapsed": false,
    "pycharm": {
     "name": "#%%\n"
    }
   },
   "outputs": [
    {
     "name": "stdout",
     "output_type": "stream",
     "text": [
      "b'\\xff\\xfen\\x00i\\x00'\n",
      "b'\\xff\\xfe\\x00\\x00n\\x00\\x00\\x00i\\x00\\x00\\x00'\n"
     ]
    }
   ],
   "source": [
    "# 我们也可以使用更宽的格式去编码\n",
    "print(s.encode('utf16'))\n",
    "print(s.encode('utf32'))"
   ]
  },
  {
   "cell_type": "markdown",
   "metadata": {
    "collapsed": false
   },
   "source": [
    "## 8.1.3 编写基本的字符串"
   ]
  },
  {
   "cell_type": "code",
   "execution_count": 6,
   "metadata": {
    "collapsed": false,
    "pycharm": {
     "name": "#%%\n"
    }
   },
   "outputs": [
    {
     "name": "stdout",
     "output_type": "stream",
     "text": [
      "<class 'bytes'> <class 'str'>\n"
     ]
    }
   ],
   "source": [
    "# 创建一个字节类型的变量\n",
    "b = b'spam'\n",
    "s = 'eggs'\n",
    "# 我们可以看一下类型\n",
    "print(type(b),type(s))"
   ]
  },
  {
   "cell_type": "code",
   "execution_count": 7,
   "metadata": {
    "collapsed": false,
    "pycharm": {
     "name": "#%%\n"
    }
   },
   "outputs": [
    {
     "name": "stdout",
     "output_type": "stream",
     "text": [
      "115 e\n",
      "b'pam' ggs\n",
      "[115, 112, 97, 109] ['e', 'g', 'g', 's']\n"
     ]
    }
   ],
   "source": [
    "# bytes对象实际上是一个短整数序列\n",
    "print(b[0],s[0])\n",
    "print(b[1:],s[1:])\n",
    "print(list(b), list(s))"
   ]
  },
  {
   "cell_type": "code",
   "execution_count": 8,
   "metadata": {
    "collapsed": false,
    "pycharm": {
     "name": "#%%\n"
    }
   },
   "outputs": [
    {
     "ename": "TypeError",
     "evalue": "'bytes' object does not support item assignment",
     "output_type": "error",
     "traceback": [
      "\u001b[1;31m---------------------------------------------------------------------------\u001b[0m",
      "\u001b[1;31mTypeError\u001b[0m                                 Traceback (most recent call last)",
      "\u001b[1;32m~\\AppData\\Local\\Temp\\ipykernel_7964\\3986089407.py\u001b[0m in \u001b[0;36m<module>\u001b[1;34m\u001b[0m\n\u001b[0;32m      1\u001b[0m \u001b[1;31m# 字节和字符串都不能修改\u001b[0m\u001b[1;33m\u001b[0m\u001b[1;33m\u001b[0m\u001b[1;33m\u001b[0m\u001b[0m\n\u001b[1;32m----> 2\u001b[1;33m \u001b[0mb\u001b[0m\u001b[1;33m[\u001b[0m\u001b[1;36m1\u001b[0m\u001b[1;33m]\u001b[0m \u001b[1;33m=\u001b[0m \u001b[1;36m10\u001b[0m\u001b[1;33m\u001b[0m\u001b[1;33m\u001b[0m\u001b[0m\n\u001b[0m\u001b[0;32m      3\u001b[0m \u001b[0ms\u001b[0m\u001b[1;33m[\u001b[0m\u001b[1;36m0\u001b[0m\u001b[1;33m]\u001b[0m \u001b[1;33m=\u001b[0m \u001b[1;34m's'\u001b[0m\u001b[1;33m\u001b[0m\u001b[1;33m\u001b[0m\u001b[0m\n",
      "\u001b[1;31mTypeError\u001b[0m: 'bytes' object does not support item assignment"
     ]
    }
   ],
   "source": [
    "# 字节和字符串都不能修改\n",
    "b[1] = 10\n",
    "s[0] = 's'"
   ]
  },
  {
   "cell_type": "code",
   "execution_count": 9,
   "metadata": {
    "collapsed": false,
    "pycharm": {
     "name": "#%%\n"
    }
   },
   "outputs": [
    {
     "name": "stdout",
     "output_type": "stream",
     "text": [
      "<class 'str'>\n"
     ]
    }
   ],
   "source": [
    "# 下面我们可以创建一个Unicode字符串\n",
    "u = u'spam'\n",
    "# 实际上本质上还是字符串，只是为了向前兼容而已\n",
    "print(type(u))"
   ]
  },
  {
   "cell_type": "code",
   "execution_count": 10,
   "metadata": {
    "collapsed": false,
    "pycharm": {
     "name": "#%%\n"
    }
   },
   "outputs": [
    {
     "name": "stdout",
     "output_type": "stream",
     "text": [
      "b'eggs'\n"
     ]
    }
   ],
   "source": [
    "# 把字符串转换为字节\n",
    "s = 'eggs'\n",
    "print(s.encode())"
   ]
  },
  {
   "cell_type": "code",
   "execution_count": 11,
   "metadata": {
    "collapsed": false,
    "pycharm": {
     "name": "#%%\n"
    }
   },
   "outputs": [
    {
     "name": "stdout",
     "output_type": "stream",
     "text": [
      "b'eggs'\n"
     ]
    }
   ],
   "source": [
    "# 也可以这样\n",
    "print(bytes(s,encoding='ascii'))"
   ]
  },
  {
   "cell_type": "code",
   "execution_count": 12,
   "metadata": {
    "collapsed": false,
    "pycharm": {
     "name": "#%%\n"
    }
   },
   "outputs": [
    {
     "name": "stdout",
     "output_type": "stream",
     "text": [
      "spam\n",
      "spam\n"
     ]
    }
   ],
   "source": [
    "# 字节转换为字符串\n",
    "b = b'spam'\n",
    "print(b.decode())\n",
    "print(str(b,encoding='ascii'))"
   ]
  },
  {
   "cell_type": "code",
   "execution_count": 13,
   "metadata": {
    "collapsed": false,
    "pycharm": {
     "name": "#%%\n"
    }
   },
   "outputs": [
    {
     "name": "stdout",
     "output_type": "stream",
     "text": [
      "win32\n",
      "utf-8\n"
     ]
    }
   ],
   "source": [
    "# 我们可以查看系统默认的编码\n",
    "import sys\n",
    "print(sys.platform)\n",
    "print(sys.getdefaultencoding())"
   ]
  },
  {
   "cell_type": "code",
   "execution_count": 14,
   "metadata": {
    "collapsed": false,
    "pycharm": {
     "name": "#%%\n"
    }
   },
   "outputs": [
    {
     "name": "stdout",
     "output_type": "stream",
     "text": [
      "7\n",
      "4\n"
     ]
    }
   ],
   "source": [
    "# 不同编码方式长度不一样\n",
    "b = b'spam'\n",
    "# 因为第一个是使用了utf8的编码\n",
    "print(len(str(b)))\n",
    "print(len(str(b,encoding='ascii')))"
   ]
  },
  {
   "cell_type": "markdown",
   "metadata": {
    "collapsed": false
   },
   "source": [
    "## 8.1.4 编写Unicode字符串"
   ]
  },
  {
   "cell_type": "code",
   "execution_count": 15,
   "metadata": {
    "collapsed": false,
    "pycharm": {
     "name": "#%%\n"
    }
   },
   "outputs": [
    {
     "name": "stdout",
     "output_type": "stream",
     "text": [
      "3\n",
      "[88, 89, 90]\n",
      "[88, 89, 90]\n",
      "[88, 89, 90]\n",
      "[255, 254, 88, 0, 89, 0, 90, 0]\n"
     ]
    }
   ],
   "source": [
    "s = 'XYZ'\n",
    "# 这个默认为ascii码\n",
    "print(len(s))\n",
    "# 然后我们可以看每一位的ascii码值\n",
    "print([ord(c) for c in s])\n",
    "# 我们可以先使用第一个编码\n",
    "print(list(s.encode('latin-1')))\n",
    "# 使用其他的编码\n",
    "print(list(s.encode('utf8')))\n",
    "print(list(s.encode('utf16')))"
   ]
  },
  {
   "cell_type": "code",
   "execution_count": 16,
   "metadata": {
    "collapsed": false,
    "pycharm": {
     "name": "#%%\n"
    }
   },
   "outputs": [
    {
     "name": "stdout",
     "output_type": "stream",
     "text": [
      "Ä\n",
      "è\n"
     ]
    }
   ],
   "source": [
    "# 我们可以让python显示非ascii码\n",
    "print(chr(0xc4))\n",
    "print(chr(0xe8))"
   ]
  },
  {
   "cell_type": "code",
   "execution_count": 17,
   "metadata": {
    "collapsed": false,
    "pycharm": {
     "name": "#%%\n"
    }
   },
   "outputs": [
    {
     "name": "stdout",
     "output_type": "stream",
     "text": [
      "Äè\n"
     ]
    }
   ],
   "source": [
    "# 也可这样写\n",
    "s = '\\u00c4\\u00e8'\n",
    "print(s)"
   ]
  },
  {
   "cell_type": "code",
   "execution_count": 18,
   "metadata": {
    "collapsed": false,
    "pycharm": {
     "name": "#%%\n"
    }
   },
   "outputs": [
    {
     "ename": "UnicodeEncodeError",
     "evalue": "'ascii' codec can't encode characters in position 0-1: ordinal not in range(128)",
     "output_type": "error",
     "traceback": [
      "\u001b[1;31m---------------------------------------------------------------------------\u001b[0m",
      "\u001b[1;31mUnicodeEncodeError\u001b[0m                        Traceback (most recent call last)",
      "\u001b[1;32m~\\AppData\\Local\\Temp\\ipykernel_7964\\855786542.py\u001b[0m in \u001b[0;36m<module>\u001b[1;34m\u001b[0m\n\u001b[0;32m      1\u001b[0m \u001b[1;31m# 注意，我们不能使用上面的去编码成ascii码，会提示不支持\u001b[0m\u001b[1;33m\u001b[0m\u001b[1;33m\u001b[0m\u001b[1;33m\u001b[0m\u001b[0m\n\u001b[1;32m----> 2\u001b[1;33m \u001b[0mprint\u001b[0m\u001b[1;33m(\u001b[0m\u001b[0ms\u001b[0m\u001b[1;33m.\u001b[0m\u001b[0mencode\u001b[0m\u001b[1;33m(\u001b[0m\u001b[1;34m'ascii'\u001b[0m\u001b[1;33m)\u001b[0m\u001b[1;33m)\u001b[0m\u001b[1;33m\u001b[0m\u001b[1;33m\u001b[0m\u001b[0m\n\u001b[0m",
      "\u001b[1;31mUnicodeEncodeError\u001b[0m: 'ascii' codec can't encode characters in position 0-1: ordinal not in range(128)"
     ]
    }
   ],
   "source": [
    "# 注意，我们不能使用上面的去编码成ascii码，会提示不支持\n",
    "print(s.encode('ascii'))"
   ]
  },
  {
   "cell_type": "code",
   "execution_count": 19,
   "metadata": {
    "collapsed": false,
    "pycharm": {
     "name": "#%%\n"
    }
   },
   "outputs": [
    {
     "name": "stdout",
     "output_type": "stream",
     "text": [
      "b'\\xc4\\xe8'\n",
      "b'\\xc3\\x84\\xc3\\xa8'\n"
     ]
    }
   ],
   "source": [
    "# 但是可以编码成其他的\n",
    "print(s.encode('latin-1'))\n",
    "print(s.encode('utf-8'))"
   ]
  },
  {
   "cell_type": "code",
   "execution_count": 20,
   "metadata": {
    "collapsed": false,
    "pycharm": {
     "name": "#%%\n"
    }
   },
   "outputs": [
    {
     "name": "stdout",
     "output_type": "stream",
     "text": [
      "b'\\xc4\\xe8'\n",
      "Äè\n"
     ]
    }
   ],
   "source": [
    "# 所以我们也可以直接这些写字节编码\n",
    "b = b'\\xc4\\xe8'\n",
    "print(b)\n",
    "print(b.decode('latin-1'))"
   ]
  },
  {
   "cell_type": "code",
   "execution_count": 21,
   "metadata": {
    "collapsed": false,
    "pycharm": {
     "name": "#%%\n"
    }
   },
   "outputs": [
    {
     "name": "stdout",
     "output_type": "stream",
     "text": [
      "AÄBèC\n",
      "b'A\\xc4B\\xe8C'\n",
      "b'A\\xc3\\x84B\\xc3\\xa8C'\n"
     ]
    }
   ],
   "source": [
    "# 现在我们可以把不同的编码混合起来使用\n",
    "s = 'A\\u00c4B\\U000000e8C'\n",
    "print(s)\n",
    "print(s.encode('latin-1'))\n",
    "print(s.encode('utf-8'))"
   ]
  },
  {
   "cell_type": "code",
   "execution_count": 22,
   "metadata": {
    "collapsed": false,
    "pycharm": {
     "name": "#%%\n"
    }
   },
   "outputs": [
    {
     "name": "stdout",
     "output_type": "stream",
     "text": [
      "AÄ8èC\n",
      "AÄBèC\n",
      "b'A\\xc48\\xe8C'\n",
      "b'A\\\\u00c4B\\\\U000000e8C'\n"
     ]
    }
   ],
   "source": [
    "# python3允许特殊字符以16进制和Unicode转义的方式编码到str字符串中\n",
    "s = 'A\\xc48\\xE8C'\n",
    "print(s)\n",
    "s= 'A\\u00c4B\\U000000e8C'\n",
    "print(s)\n",
    "# 字节也可以这样表示\n",
    "b = b'A\\xc48\\xE8C'\n",
    "print(b)\n",
    "b= b'A\\u00c4B\\U000000e8C'\n",
    "print(b)"
   ]
  },
  {
   "cell_type": "code",
   "execution_count": 23,
   "metadata": {
    "collapsed": false,
    "pycharm": {
     "name": "#%%\n"
    }
   },
   "outputs": [
    {
     "name": "stdout",
     "output_type": "stream",
     "text": [
      "AÄBèC\n"
     ]
    }
   ],
   "source": [
    "# 下面我们来进行编码转换\n",
    "b = b'A\\xc3\\x84B\\xc3\\xa8C'\n",
    "print(b.decode('utf-8'))"
   ]
  },
  {
   "cell_type": "code",
   "execution_count": 24,
   "metadata": {
    "collapsed": false,
    "pycharm": {
     "name": "#%%\n"
    }
   },
   "outputs": [
    {
     "name": "stdout",
     "output_type": "stream",
     "text": [
      "b'\\xc1c\\xc2T\\xc3'\n",
      "AÄBèC\n",
      "b'A\\xc3\\x84B\\xc3\\xa8C'\n"
     ]
    }
   ],
   "source": [
    "# 我们使用另外一种方式来编码\n",
    "t = s.encode('cp500')\n",
    "print(t)\n",
    "u = t.decode('cp500')\n",
    "print(u)\n",
    "# 我们重新编码,番编码是一致的\n",
    "print(u.encode())"
   ]
  },
  {
   "cell_type": "code",
   "execution_count": null,
   "metadata": {
    "collapsed": false,
    "pycharm": {
     "name": "#%%\n"
    }
   },
   "outputs": [],
   "source": [
    "# 我们可以在首行注释里加上文本的编码方式\n",
    "# _*_ coding: latin-1 _*_"
   ]
  },
  {
   "cell_type": "markdown",
   "metadata": {
    "collapsed": false
   },
   "source": [
    "## 8.1.5 使用python3 bytes对象"
   ]
  },
  {
   "cell_type": "code",
   "execution_count": 25,
   "metadata": {
    "collapsed": false,
    "pycharm": {
     "name": "#%%\n"
    }
   },
   "outputs": [
    {
     "name": "stdout",
     "output_type": "stream",
     "text": [
      "{'isnumeric', 'encode', 'casefold', 'isidentifier', 'format_map', 'isdecimal', 'isprintable', 'format'}\n"
     ]
    }
   ],
   "source": [
    "# 我们可以通过集合运算来确定字符串的拥有哪些字节数组没有的属性\n",
    "print(set(dir('abc'))-set(dir(b'abc')))"
   ]
  },
  {
   "cell_type": "code",
   "execution_count": 26,
   "metadata": {
    "collapsed": false,
    "pycharm": {
     "name": "#%%\n"
    }
   },
   "outputs": [
    {
     "name": "stdout",
     "output_type": "stream",
     "text": [
      "1\n",
      "b'sxym'\n",
      "[b's', b'm']\n",
      "b'spam'\n"
     ]
    },
    {
     "ename": "TypeError",
     "evalue": "'bytes' object does not support item assignment",
     "output_type": "error",
     "traceback": [
      "\u001b[1;31m---------------------------------------------------------------------------\u001b[0m",
      "\u001b[1;31mTypeError\u001b[0m                                 Traceback (most recent call last)",
      "\u001b[1;32m~\\AppData\\Local\\Temp\\ipykernel_7964\\898750962.py\u001b[0m in \u001b[0;36m<module>\u001b[1;34m\u001b[0m\n\u001b[0;32m      6\u001b[0m \u001b[0mprint\u001b[0m\u001b[1;33m(\u001b[0m\u001b[0mb\u001b[0m\u001b[1;33m)\u001b[0m\u001b[1;33m\u001b[0m\u001b[1;33m\u001b[0m\u001b[0m\n\u001b[0;32m      7\u001b[0m \u001b[1;31m# 不能修改，下面会报错\u001b[0m\u001b[1;33m\u001b[0m\u001b[1;33m\u001b[0m\u001b[1;33m\u001b[0m\u001b[0m\n\u001b[1;32m----> 8\u001b[1;33m \u001b[0mb\u001b[0m\u001b[1;33m[\u001b[0m\u001b[1;36m0\u001b[0m\u001b[1;33m]\u001b[0m \u001b[1;33m=\u001b[0m \u001b[1;34m'x'\u001b[0m\u001b[1;33m\u001b[0m\u001b[1;33m\u001b[0m\u001b[0m\n\u001b[0m",
      "\u001b[1;31mTypeError\u001b[0m: 'bytes' object does not support item assignment"
     ]
    }
   ],
   "source": [
    "# 字节对象和字符串一样，是不能修改的\n",
    "b = b'spam'\n",
    "print(b.find(b'pa'))\n",
    "print(b.replace(b'pa',b'xy'))\n",
    "print(b.split(b'pa'))\n",
    "print(b)\n",
    "# 不能修改，下面会报错\n",
    "b[0] = 'x'"
   ]
  },
  {
   "cell_type": "code",
   "execution_count": 27,
   "metadata": {
    "collapsed": false,
    "pycharm": {
     "name": "#%%\n"
    }
   },
   "outputs": [
    {
     "name": "stdout",
     "output_type": "stream",
     "text": [
      "97\n",
      "s\n",
      "b'spamaaaaa'\n",
      "b'spamspamspamspam'\n"
     ]
    }
   ],
   "source": [
    "# 我们直接查看某一位实际上会打印ascii码值\n",
    "print(b[2])\n",
    "# 可以这样\n",
    "print(chr(b[0]))\n",
    "# 字节支持拼接和重复\n",
    "print(b+b'aaaaa')\n",
    "print(b * 4)"
   ]
  },
  {
   "cell_type": "code",
   "execution_count": 28,
   "metadata": {
    "collapsed": false,
    "pycharm": {
     "name": "#%%\n"
    }
   },
   "outputs": [
    {
     "name": "stdout",
     "output_type": "stream",
     "text": [
      "b'abc'\n",
      "b'abc'\n",
      "97\n",
      "b'abc'\n",
      "b'abc'\n"
     ]
    }
   ],
   "source": [
    "# 使用下面的方式来初始化字节对象\n",
    "print( b'abc')\n",
    "# 可以使用bytes函数\n",
    "print(bytes('abc', 'ascii'))\n",
    "# 可以是ord\n",
    "print(ord('a'))\n",
    "# 也可以直接输入ascii\n",
    "print(bytes([97,98,99]))\n",
    "# 也可以直接使用encode\n",
    "print('abc'.encode())"
   ]
  },
  {
   "cell_type": "markdown",
   "metadata": {
    "collapsed": false
   },
   "source": [
    "## 8.1.6 使用bytearray对象"
   ]
  },
  {
   "cell_type": "code",
   "execution_count": 29,
   "metadata": {
    "collapsed": false,
    "pycharm": {
     "name": "#%%\n"
    }
   },
   "outputs": [
    {
     "name": "stdout",
     "output_type": "stream",
     "text": [
      "bytearray(b'spam')\n"
     ]
    }
   ],
   "source": [
    "s='spam'\n",
    "c = bytearray(s,'latin1')\n",
    "print(c)"
   ]
  },
  {
   "cell_type": "code",
   "execution_count": 30,
   "metadata": {
    "collapsed": false,
    "pycharm": {
     "name": "#%%\n"
    }
   },
   "outputs": [
    {
     "name": "stdout",
     "output_type": "stream",
     "text": [
      "115\n",
      "bytearray(b'xpam')\n"
     ]
    }
   ],
   "source": [
    "# bytearray和byte的区别就是array支持修改\n",
    "print(c[0])\n",
    "c[0] = ord('x')\n",
    "print(c)"
   ]
  },
  {
   "cell_type": "code",
   "execution_count": 31,
   "metadata": {
    "collapsed": false,
    "pycharm": {
     "name": "#%%\n"
    }
   },
   "outputs": [
    {
     "name": "stdout",
     "output_type": "stream",
     "text": [
      "bytearray(b'Ypam')\n"
     ]
    }
   ],
   "source": [
    "c[0] = b'Y'[0]\n",
    "print(c)"
   ]
  },
  {
   "cell_type": "code",
   "execution_count": 32,
   "metadata": {
    "collapsed": false,
    "pycharm": {
     "name": "#%%\n"
    }
   },
   "outputs": [
    {
     "name": "stdout",
     "output_type": "stream",
     "text": [
      "bytearray(b'xYamxYam')\n",
      "bytearray(b'xYamxYaml')\n"
     ]
    }
   ],
   "source": [
    "c = bytearray(b'xYam')\n",
    "c.extend(b'xYam')\n",
    "print(c)\n",
    "# 如果只添加一个字符，需要这样操作\n",
    "c.append(ord('l'))\n",
    "print(c)"
   ]
  },
  {
   "cell_type": "code",
   "execution_count": 33,
   "metadata": {
    "collapsed": false,
    "pycharm": {
     "name": "#%%\n"
    }
   },
   "outputs": [
    {
     "name": "stdout",
     "output_type": "stream",
     "text": [
      "bytearray(b'xYamxYaml!#$%')\n"
     ]
    }
   ],
   "source": [
    "# 也可以直接使用+的操作符\n",
    "print(c+b'!#$%')"
   ]
  },
  {
   "cell_type": "code",
   "execution_count": 34,
   "metadata": {
    "collapsed": false,
    "pycharm": {
     "name": "#%%\n"
    }
   },
   "outputs": [
    {
     "name": "stdout",
     "output_type": "stream",
     "text": [
      "bytearray(b'YamxYaml')\n"
     ]
    }
   ],
   "source": [
    "print(c[1:])"
   ]
  },
  {
   "cell_type": "markdown",
   "metadata": {
    "collapsed": false
   },
   "source": [
    "## 8.1.7 使用文本和二进制文件"
   ]
  },
  {
   "cell_type": "code",
   "execution_count": null,
   "metadata": {
    "collapsed": false,
    "pycharm": {
     "name": "#%%\n"
    }
   },
   "outputs": [],
   "source": [
    "# 写文本文件\n",
    "file = open('tmp.txt','w')\n",
    "# 读文本文件\n",
    "file = open('tmp.txt','r')\n",
    "# 写二进制文件\n",
    "file = open('tmp.txt','wb')\n",
    "# 读二进制文件\n",
    "file = open('tmp.txt','rb')"
   ]
  },
  {
   "cell_type": "code",
   "execution_count": 35,
   "metadata": {
    "collapsed": false,
    "pycharm": {
     "name": "#%%\n"
    }
   },
   "outputs": [],
   "source": [
    "#写二进制文件需要写入二进制格式\n",
    "with open(\"tmp.txt\",\"wb\") as f:\n",
    "    # 这样写写入失败\n",
    "    # f.write(\"12\")\n",
    "    # 需要这样\n",
    "    f.write(b'123\\n')\n",
    "    # 或者使用bytearray\n",
    "    f.write(bytearray(b'456'))"
   ]
  },
  {
   "cell_type": "markdown",
   "metadata": {
    "collapsed": false
   },
   "source": [
    "## 8.1.8 使用Unicode文件"
   ]
  },
  {
   "cell_type": "code",
   "execution_count": 36,
   "metadata": {
    "collapsed": false,
    "pycharm": {
     "name": "#%%\n"
    }
   },
   "outputs": [
    {
     "data": {
      "text/plain": [
       "6"
      ]
     },
     "execution_count": 36,
     "metadata": {},
     "output_type": "execute_result"
    }
   ],
   "source": [
    "# 我们写文件的时候可以直接指定编码\n",
    "open(\"tmp.txt\",\"w\",encoding='latin-1').write(\"abcdef\")"
   ]
  },
  {
   "cell_type": "code",
   "execution_count": 37,
   "metadata": {
    "collapsed": false,
    "pycharm": {
     "name": "#%%\n"
    }
   },
   "outputs": [
    {
     "name": "stdout",
     "output_type": "stream",
     "text": [
      "abcdef\n"
     ]
    }
   ],
   "source": [
    "# 读也可以指定编码\n",
    "print(open('tmp.txt','r',encoding='utf-8').read())"
   ]
  },
  {
   "cell_type": "markdown",
   "metadata": {
    "collapsed": false
   },
   "source": [
    "## 8.1.9 其他字符串工具的修改"
   ]
  },
  {
   "cell_type": "code",
   "execution_count": 38,
   "metadata": {
    "collapsed": false,
    "pycharm": {
     "name": "#%%\n"
    }
   },
   "outputs": [
    {
     "name": "stdout",
     "output_type": "stream",
     "text": [
      "('Bugger all', 'here', 'earth')\n"
     ]
    }
   ],
   "source": [
    "# re正则匹配模块\n",
    "import re\n",
    "s = 'Bugger all down here on earth'\n",
    "print(re.match('(.*) down (.*) on (.*)',s).groups())"
   ]
  },
  {
   "cell_type": "code",
   "execution_count": null,
   "metadata": {
    "collapsed": false,
    "pycharm": {
     "name": "#%%\n"
    }
   },
   "outputs": [],
   "source": [
    "# struct处理二进制数据的模块\n",
    "import struct"
   ]
  },
  {
   "cell_type": "code",
   "execution_count": null,
   "metadata": {
    "collapsed": false,
    "pycharm": {
     "name": "#%%\n"
    }
   },
   "outputs": [],
   "source": [
    "# 对象序列化模块\n",
    "import pickle"
   ]
  },
  {
   "cell_type": "code",
   "execution_count": null,
   "metadata": {
    "collapsed": false,
    "pycharm": {
     "name": "#%%\n"
    }
   },
   "outputs": [],
   "source": []
  }
 ],
 "metadata": {
  "kernelspec": {
   "display_name": "Python 3",
   "language": "python",
   "name": "python3"
  },
  "language_info": {
   "codemirror_mode": {
    "name": "ipython",
    "version": 3
   },
   "file_extension": ".py",
   "mimetype": "text/x-python",
   "name": "python",
   "nbconvert_exporter": "python",
   "pygments_lexer": "ipython3",
   "version": "3.7.7"
  }
 },
 "nbformat": 4,
 "nbformat_minor": 0
}
