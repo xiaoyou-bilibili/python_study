{
 "cells": [
  {
   "cell_type": "markdown",
   "metadata": {
    "collapsed": true,
    "pycharm": {
     "name": "#%% md\n"
    }
   },
   "source": [
    "## 8.1.1 python3中的字符串修改"
   ]
  },
  {
   "cell_type": "markdown",
   "source": [
    "## 8.1.2 字符串基础知识"
   ],
   "metadata": {
    "collapsed": false
   }
  },
  {
   "cell_type": "code",
   "execution_count": 7,
   "outputs": [
    {
     "name": "stdout",
     "output_type": "stream",
     "text": [
      "97\n",
      "0x61\n",
      "a\n"
     ]
    }
   ],
   "source": [
    "# 查看ascii码\n",
    "print(ord('a'))\n",
    "# 查看16进制信息\n",
    "print(hex(97))\n",
    "# 查看ascii对应的字符串\n",
    "print(chr(97))"
   ],
   "metadata": {
    "collapsed": false,
    "pycharm": {
     "name": "#%%\n"
    }
   }
  },
  {
   "cell_type": "code",
   "execution_count": 4,
   "outputs": [
    {
     "name": "stdout",
     "output_type": "stream",
     "text": [
      "Ä\n"
     ]
    }
   ],
   "source": [
    "# python提供了一些特殊的非ascii\n",
    "print(chr(196))"
   ],
   "metadata": {
    "collapsed": false,
    "pycharm": {
     "name": "#%%\n"
    }
   }
  },
  {
   "cell_type": "code",
   "execution_count": 1,
   "outputs": [
    {
     "name": "stdout",
     "output_type": "stream",
     "text": [
      "b'ni'\n",
      "b'ni'\n",
      "b'ni'\n"
     ]
    }
   ],
   "source": [
    "s = 'ni'\n",
    "# 下面我们可以对这些字符串进行编码\n",
    "print(s.encode('ascii'))\n",
    "print(s.encode('latin1'))\n",
    "print(s.encode('utf8'))"
   ],
   "metadata": {
    "collapsed": false,
    "pycharm": {
     "name": "#%%\n"
    }
   }
  },
  {
   "cell_type": "code",
   "execution_count": 2,
   "outputs": [
    {
     "name": "stdout",
     "output_type": "stream",
     "text": [
      "b'\\xff\\xfen\\x00i\\x00'\n",
      "b'\\xff\\xfe\\x00\\x00n\\x00\\x00\\x00i\\x00\\x00\\x00'\n"
     ]
    }
   ],
   "source": [
    "# 我们也可以使用更宽的格式去编码\n",
    "print(s.encode('utf16'))\n",
    "print(s.encode('utf32'))"
   ],
   "metadata": {
    "collapsed": false,
    "pycharm": {
     "name": "#%%\n"
    }
   }
  },
  {
   "cell_type": "markdown",
   "source": [
    "## 8.1.3 编写基本的字符串"
   ],
   "metadata": {
    "collapsed": false
   }
  },
  {
   "cell_type": "code",
   "execution_count": 3,
   "outputs": [
    {
     "name": "stdout",
     "output_type": "stream",
     "text": [
      "<class 'bytes'> <class 'str'>\n"
     ]
    }
   ],
   "source": [
    "# 创建一个字节类型的变量\n",
    "b = b'spam'\n",
    "s = 'eggs'\n",
    "# 我们可以看一下类型\n",
    "print(type(b),type(s))"
   ],
   "metadata": {
    "collapsed": false,
    "pycharm": {
     "name": "#%%\n"
    }
   }
  },
  {
   "cell_type": "code",
   "execution_count": 6,
   "outputs": [
    {
     "name": "stdout",
     "output_type": "stream",
     "text": [
      "115 e\n",
      "b'pam' ggs\n",
      "[115, 112, 97, 109] ['e', 'g', 'g', 's']\n"
     ]
    }
   ],
   "source": [
    "# bytes对象实际上是一个短整数序列\n",
    "print(b[0],s[0])\n",
    "print(b[1:],s[1:])\n",
    "print(list(b), list(s))"
   ],
   "metadata": {
    "collapsed": false,
    "pycharm": {
     "name": "#%%\n"
    }
   }
  },
  {
   "cell_type": "code",
   "execution_count": 7,
   "outputs": [
    {
     "ename": "TypeError",
     "evalue": "'bytes' object does not support item assignment",
     "output_type": "error",
     "traceback": [
      "\u001B[1;31m---------------------------------------------------------------------------\u001B[0m",
      "\u001B[1;31mTypeError\u001B[0m                                 Traceback (most recent call last)",
      "\u001B[1;32m~\\AppData\\Local\\Temp\\ipykernel_12084\\2430348092.py\u001B[0m in \u001B[0;36m<module>\u001B[1;34m\u001B[0m\n\u001B[0;32m      1\u001B[0m \u001B[1;31m# 字节和字符串都不能修改\u001B[0m\u001B[1;33m\u001B[0m\u001B[1;33m\u001B[0m\u001B[1;33m\u001B[0m\u001B[0m\n\u001B[1;32m----> 2\u001B[1;33m \u001B[0mb\u001B[0m\u001B[1;33m[\u001B[0m\u001B[1;36m1\u001B[0m\u001B[1;33m]\u001B[0m \u001B[1;33m=\u001B[0m \u001B[1;36m10\u001B[0m\u001B[1;33m\u001B[0m\u001B[1;33m\u001B[0m\u001B[0m\n\u001B[0m\u001B[0;32m      3\u001B[0m \u001B[0ms\u001B[0m\u001B[1;33m[\u001B[0m\u001B[1;36m0\u001B[0m\u001B[1;33m]\u001B[0m \u001B[1;33m=\u001B[0m \u001B[1;34m's'\u001B[0m\u001B[1;33m\u001B[0m\u001B[1;33m\u001B[0m\u001B[0m\n",
      "\u001B[1;31mTypeError\u001B[0m: 'bytes' object does not support item assignment"
     ]
    }
   ],
   "source": [
    "# 字节和字符串都不能修改\n",
    "b[1] = 10\n",
    "s[0] = 's'"
   ],
   "metadata": {
    "collapsed": false,
    "pycharm": {
     "name": "#%%\n"
    }
   }
  },
  {
   "cell_type": "code",
   "execution_count": 8,
   "outputs": [
    {
     "name": "stdout",
     "output_type": "stream",
     "text": [
      "<class 'str'>\n"
     ]
    }
   ],
   "source": [
    "# 下面我们可以创建一个Unicode字符串\n",
    "u = u'spam'\n",
    "# 实际上本质上还是字符串，只是为了向前兼容而已\n",
    "print(type(u))"
   ],
   "metadata": {
    "collapsed": false,
    "pycharm": {
     "name": "#%%\n"
    }
   }
  },
  {
   "cell_type": "code",
   "execution_count": 9,
   "outputs": [
    {
     "name": "stdout",
     "output_type": "stream",
     "text": [
      "b'eggs'\n"
     ]
    }
   ],
   "source": [
    "# 把字符串转换为字节\n",
    "s = 'eggs'\n",
    "print(s.encode())"
   ],
   "metadata": {
    "collapsed": false,
    "pycharm": {
     "name": "#%%\n"
    }
   }
  },
  {
   "cell_type": "code",
   "execution_count": 10,
   "outputs": [
    {
     "name": "stdout",
     "output_type": "stream",
     "text": [
      "b'eggs'\n"
     ]
    }
   ],
   "source": [
    "# 也可以这样\n",
    "print(bytes(s,encoding='ascii'))"
   ],
   "metadata": {
    "collapsed": false,
    "pycharm": {
     "name": "#%%\n"
    }
   }
  },
  {
   "cell_type": "code",
   "execution_count": 11,
   "outputs": [
    {
     "name": "stdout",
     "output_type": "stream",
     "text": [
      "spam\n",
      "spam\n"
     ]
    }
   ],
   "source": [
    "# 字节转换为字符串\n",
    "b = b'spam'\n",
    "print(b.decode())\n",
    "print(str(b,encoding='ascii'))"
   ],
   "metadata": {
    "collapsed": false,
    "pycharm": {
     "name": "#%%\n"
    }
   }
  },
  {
   "cell_type": "code",
   "execution_count": 12,
   "outputs": [
    {
     "name": "stdout",
     "output_type": "stream",
     "text": [
      "win32\n",
      "utf-8\n"
     ]
    }
   ],
   "source": [
    "# 我们可以查看系统默认的编码\n",
    "import sys\n",
    "print(sys.platform)\n",
    "print(sys.getdefaultencoding())"
   ],
   "metadata": {
    "collapsed": false,
    "pycharm": {
     "name": "#%%\n"
    }
   }
  },
  {
   "cell_type": "code",
   "execution_count": 13,
   "outputs": [
    {
     "name": "stdout",
     "output_type": "stream",
     "text": [
      "7\n",
      "4\n"
     ]
    }
   ],
   "source": [
    "# 不同编码方式长度不一样\n",
    "b = b'spam'\n",
    "# 因为第一个是使用了utf8的编码\n",
    "print(len(str(b)))\n",
    "print(len(str(b,encoding='ascii')))"
   ],
   "metadata": {
    "collapsed": false,
    "pycharm": {
     "name": "#%%\n"
    }
   }
  },
  {
   "cell_type": "markdown",
   "source": [
    "## 8.1.4 编写Unicode字符串"
   ],
   "metadata": {
    "collapsed": false
   }
  },
  {
   "cell_type": "code",
   "execution_count": 18,
   "outputs": [
    {
     "name": "stdout",
     "output_type": "stream",
     "text": [
      "3\n",
      "[88, 89, 90]\n",
      "[88, 89, 90]\n",
      "[88, 89, 90]\n",
      "[255, 254, 88, 0, 89, 0, 90, 0]\n"
     ]
    }
   ],
   "source": [
    "s = 'XYZ'\n",
    "# 这个默认为ascii码\n",
    "print(len(s))\n",
    "# 然后我们可以看每一位的ascii码值\n",
    "print([ord(c) for c in s])\n",
    "# 我们可以先使用第一个编码\n",
    "print(list(s.encode('latin-1')))\n",
    "# 使用其他的编码\n",
    "print(list(s.encode('utf8')))\n",
    "print(list(s.encode('utf16')))"
   ],
   "metadata": {
    "collapsed": false,
    "pycharm": {
     "name": "#%%\n"
    }
   }
  },
  {
   "cell_type": "code",
   "execution_count": 19,
   "outputs": [
    {
     "name": "stdout",
     "output_type": "stream",
     "text": [
      "Ä\n",
      "è\n"
     ]
    }
   ],
   "source": [
    "# 我们可以让python显示非ascii码\n",
    "print(chr(0xc4))\n",
    "print(chr(0xe8))"
   ],
   "metadata": {
    "collapsed": false,
    "pycharm": {
     "name": "#%%\n"
    }
   }
  },
  {
   "cell_type": "code",
   "execution_count": 20,
   "outputs": [
    {
     "name": "stdout",
     "output_type": "stream",
     "text": [
      "Äè\n"
     ]
    }
   ],
   "source": [
    "# 也可这样写\n",
    "s = '\\u00c4\\u00e8'\n",
    "print(s)"
   ],
   "metadata": {
    "collapsed": false,
    "pycharm": {
     "name": "#%%\n"
    }
   }
  },
  {
   "cell_type": "code",
   "execution_count": 21,
   "outputs": [
    {
     "ename": "UnicodeEncodeError",
     "evalue": "'ascii' codec can't encode characters in position 0-1: ordinal not in range(128)",
     "output_type": "error",
     "traceback": [
      "\u001B[1;31m---------------------------------------------------------------------------\u001B[0m",
      "\u001B[1;31mUnicodeEncodeError\u001B[0m                        Traceback (most recent call last)",
      "\u001B[1;32m~\\AppData\\Local\\Temp\\ipykernel_12084\\1635566713.py\u001B[0m in \u001B[0;36m<module>\u001B[1;34m\u001B[0m\n\u001B[0;32m      1\u001B[0m \u001B[1;31m# 注意，我们不能使用上面的去编码成ascii码，会提示不支持\u001B[0m\u001B[1;33m\u001B[0m\u001B[1;33m\u001B[0m\u001B[1;33m\u001B[0m\u001B[0m\n\u001B[1;32m----> 2\u001B[1;33m \u001B[0mprint\u001B[0m\u001B[1;33m(\u001B[0m\u001B[0ms\u001B[0m\u001B[1;33m.\u001B[0m\u001B[0mencode\u001B[0m\u001B[1;33m(\u001B[0m\u001B[1;34m'ascii'\u001B[0m\u001B[1;33m)\u001B[0m\u001B[1;33m)\u001B[0m\u001B[1;33m\u001B[0m\u001B[1;33m\u001B[0m\u001B[0m\n\u001B[0m",
      "\u001B[1;31mUnicodeEncodeError\u001B[0m: 'ascii' codec can't encode characters in position 0-1: ordinal not in range(128)"
     ]
    }
   ],
   "source": [
    "# 注意，我们不能使用上面的去编码成ascii码，会提示不支持\n",
    "print(s.encode('ascii'))"
   ],
   "metadata": {
    "collapsed": false,
    "pycharm": {
     "name": "#%%\n"
    }
   }
  },
  {
   "cell_type": "code",
   "execution_count": 22,
   "outputs": [
    {
     "name": "stdout",
     "output_type": "stream",
     "text": [
      "b'\\xc4\\xe8'\n",
      "b'\\xc3\\x84\\xc3\\xa8'\n"
     ]
    }
   ],
   "source": [
    "# 但是可以编码成其他的\n",
    "print(s.encode('latin-1'))\n",
    "print(s.encode('utf-8'))"
   ],
   "metadata": {
    "collapsed": false,
    "pycharm": {
     "name": "#%%\n"
    }
   }
  },
  {
   "cell_type": "code",
   "execution_count": 23,
   "outputs": [
    {
     "name": "stdout",
     "output_type": "stream",
     "text": [
      "b'\\xc4\\xe8'\n",
      "Äè\n"
     ]
    }
   ],
   "source": [
    "# 所以我们也可以直接这些写字节编码\n",
    "b = b'\\xc4\\xe8'\n",
    "print(b)\n",
    "print(b.decode('latin-1'))"
   ],
   "metadata": {
    "collapsed": false,
    "pycharm": {
     "name": "#%%\n"
    }
   }
  },
  {
   "cell_type": "code",
   "execution_count": 26,
   "outputs": [
    {
     "name": "stdout",
     "output_type": "stream",
     "text": [
      "AÄBèC\n",
      "b'A\\xc4B\\xe8C'\n",
      "b'A\\xc3\\x84B\\xc3\\xa8C'\n"
     ]
    }
   ],
   "source": [
    "# 现在我们可以把不同的编码混合起来使用\n",
    "s = 'A\\u00c4B\\U000000e8C'\n",
    "print(s)\n",
    "print(s.encode('latin-1'))\n",
    "print(s.encode('utf-8'))"
   ],
   "metadata": {
    "collapsed": false,
    "pycharm": {
     "name": "#%%\n"
    }
   }
  },
  {
   "cell_type": "code",
   "execution_count": 28,
   "outputs": [
    {
     "name": "stdout",
     "output_type": "stream",
     "text": [
      "AÄ8èC\n",
      "AÄBèC\n",
      "b'A\\xc48\\xe8C'\n",
      "b'A\\\\u00c4B\\\\U000000e8C'\n"
     ]
    }
   ],
   "source": [
    "# python3允许特殊字符以16进制和Unicode转义的方式编码到str字符串中\n",
    "s = 'A\\xc48\\xE8C'\n",
    "print(s)\n",
    "s= 'A\\u00c4B\\U000000e8C'\n",
    "print(s)\n",
    "# 字节也可以这样表示\n",
    "b = b'A\\xc48\\xE8C'\n",
    "print(b)\n",
    "b= b'A\\u00c4B\\U000000e8C'\n",
    "print(b)"
   ],
   "metadata": {
    "collapsed": false,
    "pycharm": {
     "name": "#%%\n"
    }
   }
  },
  {
   "cell_type": "code",
   "execution_count": 29,
   "outputs": [
    {
     "name": "stdout",
     "output_type": "stream",
     "text": [
      "AÄBèC\n"
     ]
    }
   ],
   "source": [
    "# 下面我们来进行编码转换\n",
    "b = b'A\\xc3\\x84B\\xc3\\xa8C'\n",
    "print(b.decode('utf-8'))"
   ],
   "metadata": {
    "collapsed": false,
    "pycharm": {
     "name": "#%%\n"
    }
   }
  },
  {
   "cell_type": "code",
   "execution_count": 30,
   "outputs": [
    {
     "name": "stdout",
     "output_type": "stream",
     "text": [
      "b'\\xc1c\\xc2T\\xc3'\n",
      "AÄBèC\n",
      "b'A\\xc3\\x84B\\xc3\\xa8C'\n"
     ]
    }
   ],
   "source": [
    "# 我们使用另外一种方式来编码\n",
    "t = s.encode('cp500')\n",
    "print(t)\n",
    "u = t.decode('cp500')\n",
    "print(u)\n",
    "# 我们重新编码,番编码是一致的\n",
    "print(u.encode())"
   ],
   "metadata": {
    "collapsed": false,
    "pycharm": {
     "name": "#%%\n"
    }
   }
  },
  {
   "cell_type": "code",
   "execution_count": 32,
   "outputs": [],
   "source": [
    "# 我们可以在首行注释里加上文本的编码方式\n",
    "# _*_ coding: latin-1 _*_"
   ],
   "metadata": {
    "collapsed": false,
    "pycharm": {
     "name": "#%%\n"
    }
   }
  },
  {
   "cell_type": "markdown",
   "source": [
    "## 8.1.5 使用python3 bytes对象"
   ],
   "metadata": {
    "collapsed": false
   }
  },
  {
   "cell_type": "code",
   "execution_count": null,
   "outputs": [],
   "source": [],
   "metadata": {
    "collapsed": false,
    "pycharm": {
     "name": "#%%\n"
    }
   }
  },
  {
   "cell_type": "markdown",
   "source": [
    "## 8.1.6 使用bytearray对象"
   ],
   "metadata": {
    "collapsed": false
   }
  },
  {
   "cell_type": "markdown",
   "source": [
    "## 8.1.7 使用文本和二进制文件"
   ],
   "metadata": {
    "collapsed": false
   }
  },
  {
   "cell_type": "markdown",
   "source": [
    "## 8.1.8 使用Unicode文件"
   ],
   "metadata": {
    "collapsed": false
   }
  },
  {
   "cell_type": "markdown",
   "source": [
    "## 8.1.9 其他字符串工具的修改"
   ],
   "metadata": {
    "collapsed": false
   }
  }
 ],
 "metadata": {
  "kernelspec": {
   "display_name": "Python 3",
   "language": "python",
   "name": "python3"
  },
  "language_info": {
   "codemirror_mode": {
    "name": "ipython",
    "version": 2
   },
   "file_extension": ".py",
   "mimetype": "text/x-python",
   "name": "python",
   "nbconvert_exporter": "python",
   "pygments_lexer": "ipython2",
   "version": "2.7.6"
  }
 },
 "nbformat": 4,
 "nbformat_minor": 0
}