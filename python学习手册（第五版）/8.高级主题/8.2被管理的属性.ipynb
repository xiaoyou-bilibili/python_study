{
 "cells": [
  {
   "cell_type": "markdown",
   "metadata": {
    "collapsed": true,
    "pycharm": {
     "name": "#%% md\n"
    }
   },
   "source": [
    "## 8.2.1 为什么需要被管理的属性"
   ]
  },
  {
   "cell_type": "code",
   "execution_count": 2,
   "metadata": {
    "collapsed": false,
    "pycharm": {
     "name": "#%%\n"
    }
   },
   "outputs": [
    {
     "name": "stdout",
     "output_type": "stream",
     "text": [
      "fetch...\n",
      "bot smith\n",
      "name property docs\n",
      "change...\n",
      "fetch...\n",
      "robert\n",
      "remove...\n"
     ]
    }
   ],
   "source": [
    "# 我们可以把内置函数的结果赋值给一个类属性来创建一个property\n",
    "class Person:\n",
    "    def __init__(self, name):\n",
    "        self._name = name\n",
    "    def getName(self):\n",
    "        print('fetch...')\n",
    "        return self._name\n",
    "    def setName(self,value):\n",
    "        print('change...')\n",
    "        self._name = value\n",
    "    def delName(self):\n",
    "        print('remove...')\n",
    "        del self._name\n",
    "\n",
    "    name = property(getName, setName, delName, \"name property docs\")\n",
    "\n",
    "# 下面我们来演示一下\n",
    "bob = Person(\"bot smith\")\n",
    "print(bob.name)\n",
    "print(Person.name.__doc__)\n",
    "bob.name = 'robert'\n",
    "print(bob.name)\n",
    "del bob.name"
   ]
  },
  {
   "cell_type": "code",
   "execution_count": 3,
   "metadata": {
    "collapsed": false,
    "pycharm": {
     "name": "#%%\n"
    }
   },
   "outputs": [
    {
     "name": "stdout",
     "output_type": "stream",
     "text": [
      "fetch...\n",
      "123\n"
     ]
    }
   ],
   "source": [
    "# 子类可以继承property\n",
    "class APerson(Person):\n",
    "    pass\n",
    "a = APerson(\"123\")\n",
    "print(a.name)"
   ]
  },
  {
   "cell_type": "code",
   "execution_count": 4,
   "metadata": {
    "collapsed": false,
    "pycharm": {
     "name": "#%%\n"
    }
   },
   "outputs": [
    {
     "name": "stdout",
     "output_type": "stream",
     "text": [
      "9\n",
      "16\n",
      "1024\n"
     ]
    }
   ],
   "source": [
    "# property 还可以动态的计算属性\n",
    "class ProSquare:\n",
    "    def __init__(self, start):\n",
    "        self.value = start\n",
    "    def getX(self):\n",
    "        return self.value**2\n",
    "    def setX(self, value):\n",
    "        self.value = value\n",
    "    X = property(getX,setX)\n",
    "\n",
    "P = ProSquare(3)\n",
    "Q = ProSquare(32)\n",
    "\n",
    "# 通过前面的定义，我们可以把它当成静态数据一样去访问\n",
    "print(P.X)\n",
    "P.X = 4\n",
    "print(P.X)\n",
    "print(Q.X)"
   ]
  },
  {
   "cell_type": "code",
   "execution_count": 5,
   "metadata": {
    "collapsed": false,
    "pycharm": {
     "name": "#%%\n"
    }
   },
   "outputs": [
    {
     "name": "stdout",
     "output_type": "stream",
     "text": [
      "fetch...\n",
      "bot smith\n",
      "None\n",
      "change...\n",
      "fetch...\n",
      "robert\n",
      "remove...\n"
     ]
    }
   ],
   "source": [
    "# 我们也可以通过装饰器来实现\n",
    "class Person:\n",
    "    def __init__(self, name):\n",
    "        self._name = name\n",
    "    @property\n",
    "    def name(self):\n",
    "        print('fetch...')\n",
    "        return self._name\n",
    "    @name.setter\n",
    "    def name(self,value):\n",
    "        print('change...')\n",
    "        self._name = value\n",
    "    @name.deleter\n",
    "    def name(self):\n",
    "        print('remove...')\n",
    "        del self._name\n",
    "\n",
    "# 这个和上面是一样的\n",
    "bob = Person(\"bot smith\")\n",
    "print(bob.name)\n",
    "print(Person.name.__doc__)\n",
    "bob.name = 'robert'\n",
    "print(bob.name)\n",
    "del bob.name"
   ]
  },
  {
   "cell_type": "markdown",
   "metadata": {
    "collapsed": false
   },
   "source": [
    "## 8.2.2 描述符"
   ]
  },
  {
   "cell_type": "code",
   "execution_count": 6,
   "metadata": {
    "collapsed": false,
    "pycharm": {
     "name": "#%%\n"
    }
   },
   "outputs": [
    {
     "name": "stdout",
     "output_type": "stream",
     "text": [
      "<__main__.Descriptor object at 0x0000023F91B0FE48>\n",
      "<__main__.Subject object at 0x0000023F91AEC388>\n",
      "<class '__main__.Subject'>\n",
      "None\n"
     ]
    }
   ],
   "source": [
    "# 下面我们定义一个描述符\n",
    "class Descriptor:\n",
    "    def __get__(self, instance, owner):\n",
    "        print(self,instance,owner,sep='\\n')\n",
    "# 有一个类继承了描述符\n",
    "class Subject:\n",
    "    attr = Descriptor()\n",
    "x = Subject()\n",
    "print(x.attr)"
   ]
  },
  {
   "cell_type": "code",
   "execution_count": 7,
   "metadata": {
    "collapsed": false,
    "pycharm": {
     "name": "#%%\n"
    }
   },
   "outputs": [
    {
     "name": "stdout",
     "output_type": "stream",
     "text": [
      "<__main__.Descriptor object at 0x0000023F91B0FE48>\n",
      "None\n",
      "<class '__main__.Subject'>\n",
      "None\n"
     ]
    }
   ],
   "source": [
    "print(Subject.attr)"
   ]
  },
  {
   "cell_type": "code",
   "execution_count": 8,
   "metadata": {
    "collapsed": false,
    "pycharm": {
     "name": "#%%\n"
    }
   },
   "outputs": [
    {
     "name": "stdout",
     "output_type": "stream",
     "text": [
      "get\n",
      "get\n",
      "99\n",
      "dict_keys(['a'])\n"
     ]
    }
   ],
   "source": [
    "# 如果只有get方法那就是只读描述符\n",
    "class D:\n",
    "    def __get__(*args): print('get')\n",
    "class C:\n",
    "    a = D()\n",
    "X = C()\n",
    "X.a\n",
    "C.a\n",
    "X.a = 99\n",
    "print(X.a)\n",
    "print(X.__dict__.keys())"
   ]
  },
  {
   "cell_type": "code",
   "execution_count": 9,
   "metadata": {
    "collapsed": false,
    "pycharm": {
     "name": "#%%\n"
    }
   },
   "outputs": [
    {
     "name": "stdout",
     "output_type": "stream",
     "text": [
      "get\n",
      "get\n"
     ]
    }
   ],
   "source": [
    "Y = C()\n",
    "Y.a\n",
    "C.a"
   ]
  },
  {
   "cell_type": "code",
   "execution_count": 10,
   "metadata": {
    "collapsed": false,
    "pycharm": {
     "name": "#%%\n"
    }
   },
   "outputs": [
    {
     "name": "stdout",
     "output_type": "stream",
     "text": [
      "get\n"
     ]
    }
   ],
   "source": [
    "# 我们也可以这样，如果用户想对类进行赋值就抛出异常\n",
    "class D:\n",
    "    def __get__(*args): print('get')\n",
    "    def __set__(*args):  raise AttributeError('cannot set')\n",
    "\n",
    "class C:\n",
    "    a = D()\n",
    "X = C()\n",
    "X.a"
   ]
  },
  {
   "cell_type": "code",
   "execution_count": 11,
   "metadata": {
    "collapsed": false,
    "pycharm": {
     "name": "#%%\n"
    }
   },
   "outputs": [
    {
     "ename": "AttributeError",
     "evalue": "cannot set",
     "output_type": "error",
     "traceback": [
      "\u001b[1;31m---------------------------------------------------------------------------\u001b[0m",
      "\u001b[1;31mAttributeError\u001b[0m                            Traceback (most recent call last)",
      "\u001b[1;32m~\\AppData\\Local\\Temp\\ipykernel_9220\\2628767118.py\u001b[0m in \u001b[0;36m<module>\u001b[1;34m\u001b[0m\n\u001b[1;32m----> 1\u001b[1;33m \u001b[0mX\u001b[0m\u001b[1;33m.\u001b[0m\u001b[0ma\u001b[0m \u001b[1;33m=\u001b[0m \u001b[1;36m99\u001b[0m\u001b[1;33m\u001b[0m\u001b[1;33m\u001b[0m\u001b[0m\n\u001b[0m",
      "\u001b[1;32m~\\AppData\\Local\\Temp\\ipykernel_9220\\532408670.py\u001b[0m in \u001b[0;36m__set__\u001b[1;34m(*args)\u001b[0m\n\u001b[0;32m      2\u001b[0m \u001b[1;32mclass\u001b[0m \u001b[0mD\u001b[0m\u001b[1;33m:\u001b[0m\u001b[1;33m\u001b[0m\u001b[1;33m\u001b[0m\u001b[0m\n\u001b[0;32m      3\u001b[0m     \u001b[1;32mdef\u001b[0m \u001b[0m__get__\u001b[0m\u001b[1;33m(\u001b[0m\u001b[1;33m*\u001b[0m\u001b[0margs\u001b[0m\u001b[1;33m)\u001b[0m\u001b[1;33m:\u001b[0m \u001b[0mprint\u001b[0m\u001b[1;33m(\u001b[0m\u001b[1;34m'get'\u001b[0m\u001b[1;33m)\u001b[0m\u001b[1;33m\u001b[0m\u001b[1;33m\u001b[0m\u001b[0m\n\u001b[1;32m----> 4\u001b[1;33m     \u001b[1;32mdef\u001b[0m \u001b[0m__set__\u001b[0m\u001b[1;33m(\u001b[0m\u001b[1;33m*\u001b[0m\u001b[0margs\u001b[0m\u001b[1;33m)\u001b[0m\u001b[1;33m:\u001b[0m  \u001b[1;32mraise\u001b[0m \u001b[0mAttributeError\u001b[0m\u001b[1;33m(\u001b[0m\u001b[1;34m'cannot set'\u001b[0m\u001b[1;33m)\u001b[0m\u001b[1;33m\u001b[0m\u001b[1;33m\u001b[0m\u001b[0m\n\u001b[0m\u001b[0;32m      5\u001b[0m \u001b[1;33m\u001b[0m\u001b[0m\n\u001b[0;32m      6\u001b[0m \u001b[1;32mclass\u001b[0m \u001b[0mC\u001b[0m\u001b[1;33m:\u001b[0m\u001b[1;33m\u001b[0m\u001b[1;33m\u001b[0m\u001b[0m\n",
      "\u001b[1;31mAttributeError\u001b[0m: cannot set"
     ]
    }
   ],
   "source": [
    "X.a = 99"
   ]
  },
  {
   "cell_type": "code",
   "execution_count": 12,
   "metadata": {
    "collapsed": false,
    "pycharm": {
     "name": "#%%\n"
    }
   },
   "outputs": [
    {
     "name": "stdout",
     "output_type": "stream",
     "text": [
      "fetch...\n",
      "bot smith\n",
      "change...\n",
      "fetch...\n",
      "rebert\n",
      "remove...\n"
     ]
    }
   ],
   "source": [
    "# 下面来一个实例\n",
    "class Name:\n",
    "    \"name description\"\n",
    "    def __get__(self, instance, owner):\n",
    "        print('fetch...')\n",
    "        return instance._name\n",
    "    def __set__(self, instance, value):\n",
    "        print('change...')\n",
    "        instance._name = value\n",
    "    def __delete__(self, instance):\n",
    "        print('remove...')\n",
    "        del instance._name\n",
    "\n",
    "class Person:\n",
    "    def __init__(self, name):\n",
    "        self._name = name\n",
    "    name = Name()\n",
    "\n",
    "bob = Person('bot smith')\n",
    "print(bob.name)\n",
    "bob.name = 'rebert'\n",
    "print(bob.name)\n",
    "del bob.name"
   ]
  },
  {
   "cell_type": "code",
   "execution_count": null,
   "metadata": {
    "collapsed": false,
    "pycharm": {
     "name": "#%%\n"
    }
   },
   "outputs": [],
   "source": [
    "# 描述符类同样可以被子类继承，这里就不演示了"
   ]
  },
  {
   "cell_type": "markdown",
   "metadata": {
    "collapsed": false
   },
   "source": [
    "## 8.2.3 getattr和getattribute\n",
    "\n",
    "![](.8_images/095a5fe1.png)"
   ]
  },
  {
   "cell_type": "code",
   "execution_count": 13,
   "metadata": {
    "collapsed": false,
    "pycharm": {
     "name": "#%%\n"
    }
   },
   "outputs": [
    {
     "name": "stdout",
     "output_type": "stream",
     "text": [
      "get job\n",
      "get pay\n",
      "set pay 99\n"
     ]
    }
   ],
   "source": [
    "class Catcher:\n",
    "    def __getattr__(self, name):\n",
    "        print('get %s' % name)\n",
    "    def __setattr__(self, key, value):\n",
    "        print('set %s %s'%(key,value))\n",
    "X = Catcher()\n",
    "X.job\n",
    "X.pay\n",
    "X.pay = 99"
   ]
  },
  {
   "cell_type": "code",
   "execution_count": 14,
   "metadata": {
    "collapsed": false,
    "pycharm": {
     "name": "#%%\n"
    }
   },
   "outputs": [
    {
     "name": "stdout",
     "output_type": "stream",
     "text": [
      "trace:append\n",
      "[1, 2, 3, 4]\n"
     ]
    }
   ],
   "source": [
    "# 可以使用委托设计模式\n",
    "class Wrapper:\n",
    "    def __init__(self, object):\n",
    "        self.wrapped = object\n",
    "    def __getattr__(self, item):\n",
    "        print('trace:'+item)\n",
    "        return getattr(self.wrapped, item)\n",
    "\n",
    "x = Wrapper([1,2,3])\n",
    "# 当我们执行append时会触发getattr方法\n",
    "x.append(4)\n",
    "print(x.wrapped)"
   ]
  },
  {
   "cell_type": "code",
   "execution_count": null,
   "metadata": {
    "collapsed": false,
    "pycharm": {
     "name": "#%%\n"
    }
   },
   "outputs": [],
   "source": [
    "# 不要在属性拦截方法里面再次获取属性，要不然会触发死循环\n",
    "def __getattribute__(self,name):\n",
    "    x = self.other"
   ]
  },
  {
   "cell_type": "code",
   "execution_count": null,
   "metadata": {
    "collapsed": false,
    "pycharm": {
     "name": "#%%\n"
    }
   },
   "outputs": [],
   "source": [
    "# 我们可以把它指向一个父类\n",
    "def __getattribute__(self,name):\n",
    "    x = object.__getattribute__(self, 'other')"
   ]
  },
  {
   "cell_type": "code",
   "execution_count": null,
   "metadata": {
    "collapsed": false,
    "pycharm": {
     "name": "#%%\n"
    }
   },
   "outputs": [],
   "source": [
    "# 设置属性同样会触发死循环，所以我们需要这样操作,当然也可以传给父类\n",
    "def __setattr__(self, name,value):\n",
    "    self.__dict__['other'] = value"
   ]
  },
  {
   "cell_type": "code",
   "execution_count": null,
   "metadata": {
    "collapsed": false,
    "pycharm": {
     "name": "#%%\n"
    }
   },
   "outputs": [],
   "source": [
    "# 不能这样用，这样也会触发循环、\n",
    "def __getattribute__(self,name):\n",
    "    x = self.__dict__['other']"
   ]
  },
  {
   "cell_type": "code",
   "execution_count": 15,
   "metadata": {
    "collapsed": false,
    "pycharm": {
     "name": "#%%\n"
    }
   },
   "outputs": [
    {
     "name": "stdout",
     "output_type": "stream",
     "text": [
      "1\n",
      "2\n",
      "getattr3\n",
      "3\n"
     ]
    }
   ],
   "source": [
    "# 下面我们总结一下getattr和getattribute的区别\n",
    "class getAttr:\n",
    "    attr1 = 1\n",
    "    def __init__(self):\n",
    "        self.attr2 = 2\n",
    "    def __getattr__(self, item):\n",
    "        print('get'+item)\n",
    "        if item == 'attr3':\n",
    "            return 3\n",
    "        else:\n",
    "            raise AttributeError(item)\n",
    "x = getAttr()\n",
    "print(x.attr1)\n",
    "print(x.attr2)\n",
    "print(x.attr3)"
   ]
  },
  {
   "cell_type": "code",
   "execution_count": 16,
   "metadata": {
    "collapsed": false,
    "pycharm": {
     "name": "#%%\n"
    }
   },
   "outputs": [
    {
     "name": "stdout",
     "output_type": "stream",
     "text": [
      "getattr1\n",
      "1\n",
      "getattr2\n",
      "2\n",
      "getattr3\n",
      "3\n"
     ]
    }
   ],
   "source": [
    "# __getattribute__可以拦截所有的\n",
    "class getAttr(object):\n",
    "    attr1 = 1\n",
    "    def __init__(self):\n",
    "        self.attr2 = 2\n",
    "    def __getattribute__(self, item):\n",
    "        print('get'+item)\n",
    "        if item == 'attr3':\n",
    "            return 3\n",
    "        else:\n",
    "            return object.__getattribute__(self,item)\n",
    "x = getAttr()\n",
    "print(x.attr1)\n",
    "print(x.attr2)\n",
    "print(x.attr3)"
   ]
  },
  {
   "cell_type": "markdown",
   "metadata": {
    "collapsed": false,
    "pycharm": {
     "name": "#%% md\n"
    }
   },
   "source": [
    "## 8.2.4 属性验证"
   ]
  }
 ],
 "metadata": {
  "kernelspec": {
   "display_name": "Python 3",
   "language": "python",
   "name": "python3"
  },
  "language_info": {
   "codemirror_mode": {
    "name": "ipython",
    "version": 3
   },
   "file_extension": ".py",
   "mimetype": "text/x-python",
   "name": "python",
   "nbconvert_exporter": "python",
   "pygments_lexer": "ipython3",
   "version": "3.7.7"
  }
 },
 "nbformat": 4,
 "nbformat_minor": 0
}
