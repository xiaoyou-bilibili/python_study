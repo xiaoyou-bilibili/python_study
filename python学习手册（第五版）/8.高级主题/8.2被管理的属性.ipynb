{
 "cells": [
  {
   "cell_type": "markdown",
   "metadata": {
    "collapsed": true,
    "pycharm": {
     "name": "#%% md\n"
    }
   },
   "source": [
    "## 8.2.1 为什么需要被管理的属性"
   ]
  },
  {
   "cell_type": "code",
   "execution_count": 3,
   "outputs": [
    {
     "name": "stdout",
     "output_type": "stream",
     "text": [
      "fetch...\n",
      "bot smith\n",
      "name property docs\n",
      "change...\n",
      "fetch...\n",
      "robert\n",
      "remove...\n"
     ]
    }
   ],
   "source": [
    "# 我们可以把内置函数的结果赋值给一个类属性来创建一个property\n",
    "class Person:\n",
    "    def __init__(self, name):\n",
    "        self._name = name\n",
    "    def getName(self):\n",
    "        print('fetch...')\n",
    "        return self._name\n",
    "    def setName(self,value):\n",
    "        print('change...')\n",
    "        self._name = value\n",
    "    def delName(self):\n",
    "        print('remove...')\n",
    "        del self._name\n",
    "\n",
    "    name = property(getName, setName, delName, \"name property docs\")\n",
    "\n",
    "# 下面我们来演示一下\n",
    "bob = Person(\"bot smith\")\n",
    "print(bob.name)\n",
    "print(Person.name.__doc__)\n",
    "bob.name = 'robert'\n",
    "print(bob.name)\n",
    "del bob.name"
   ],
   "metadata": {
    "collapsed": false,
    "pycharm": {
     "name": "#%%\n"
    }
   }
  },
  {
   "cell_type": "code",
   "execution_count": 4,
   "outputs": [
    {
     "name": "stdout",
     "output_type": "stream",
     "text": [
      "fetch...\n",
      "123\n"
     ]
    }
   ],
   "source": [
    "# 子类可以继承property\n",
    "class APerson(Person):\n",
    "    pass\n",
    "a = APerson(\"123\")\n",
    "print(a.name)"
   ],
   "metadata": {
    "collapsed": false,
    "pycharm": {
     "name": "#%%\n"
    }
   }
  },
  {
   "cell_type": "code",
   "execution_count": 7,
   "outputs": [
    {
     "name": "stdout",
     "output_type": "stream",
     "text": [
      "9\n",
      "16\n",
      "1024\n"
     ]
    }
   ],
   "source": [
    "# property 还可以动态的计算属性\n",
    "class ProSquare:\n",
    "    def __init__(self, start):\n",
    "        self.value = start\n",
    "    def getX(self):\n",
    "        return self.value**2\n",
    "    def setX(self, value):\n",
    "        self.value = value\n",
    "    X = property(getX,setX)\n",
    "\n",
    "P = ProSquare(3)\n",
    "Q = ProSquare(32)\n",
    "\n",
    "# 通过前面的定义，我们可以把它当成静态数据一样去访问\n",
    "print(P.X)\n",
    "P.X = 4\n",
    "print(P.X)\n",
    "print(Q.X)"
   ],
   "metadata": {
    "collapsed": false,
    "pycharm": {
     "name": "#%%\n"
    }
   }
  },
  {
   "cell_type": "code",
   "execution_count": 8,
   "outputs": [
    {
     "name": "stdout",
     "output_type": "stream",
     "text": [
      "fetch...\n",
      "bot smith\n",
      "None\n",
      "change...\n",
      "fetch...\n",
      "robert\n",
      "remove...\n"
     ]
    }
   ],
   "source": [
    "# 我们也可以通过装饰器来实现\n",
    "class Person:\n",
    "    def __init__(self, name):\n",
    "        self._name = name\n",
    "    @property\n",
    "    def name(self):\n",
    "        print('fetch...')\n",
    "        return self._name\n",
    "    @name.setter\n",
    "    def name(self,value):\n",
    "        print('change...')\n",
    "        self._name = value\n",
    "    @name.deleter\n",
    "    def name(self):\n",
    "        print('remove...')\n",
    "        del self._name\n",
    "\n",
    "# 这个和上面是一样的\n",
    "bob = Person(\"bot smith\")\n",
    "print(bob.name)\n",
    "print(Person.name.__doc__)\n",
    "bob.name = 'robert'\n",
    "print(bob.name)\n",
    "del bob.name"
   ],
   "metadata": {
    "collapsed": false,
    "pycharm": {
     "name": "#%%\n"
    }
   }
  },
  {
   "cell_type": "markdown",
   "source": [
    "## 8.2.2 描述符"
   ],
   "metadata": {
    "collapsed": false
   }
  },
  {
   "cell_type": "code",
   "execution_count": 9,
   "outputs": [
    {
     "name": "stdout",
     "output_type": "stream",
     "text": [
      "<__main__.Descriptor object at 0x000002B82CC05608>\n",
      "<__main__.Subject object at 0x000002B82CC05948>\n",
      "<class '__main__.Subject'>\n",
      "None\n"
     ]
    }
   ],
   "source": [
    "# 下面我们定义一个描述符\n",
    "class Descriptor:\n",
    "    def __get__(self, instance, owner):\n",
    "        print(self,instance,owner,sep='\\n')\n",
    "# 有一个类继承了描述符\n",
    "class Subject:\n",
    "    attr = Descriptor()\n",
    "x = Subject()\n",
    "print(x.attr)"
   ],
   "metadata": {
    "collapsed": false,
    "pycharm": {
     "name": "#%%\n"
    }
   }
  },
  {
   "cell_type": "code",
   "execution_count": 10,
   "outputs": [
    {
     "name": "stdout",
     "output_type": "stream",
     "text": [
      "<__main__.Descriptor object at 0x000002B82CC05608>\n",
      "None\n",
      "<class '__main__.Subject'>\n",
      "None\n"
     ]
    }
   ],
   "source": [
    "print(Subject.attr)"
   ],
   "metadata": {
    "collapsed": false,
    "pycharm": {
     "name": "#%%\n"
    }
   }
  },
  {
   "cell_type": "code",
   "execution_count": 13,
   "outputs": [
    {
     "name": "stdout",
     "output_type": "stream",
     "text": [
      "get\n",
      "get\n",
      "99\n",
      "dict_keys(['a'])\n"
     ]
    }
   ],
   "source": [
    "# 如果只有get方法那就是只读描述符\n",
    "class D:\n",
    "    def __get__(*args): print('get')\n",
    "class C:\n",
    "    a = D()\n",
    "X = C()\n",
    "X.a\n",
    "C.a\n",
    "X.a = 99\n",
    "print(X.a)\n",
    "print(X.__dict__.keys())"
   ],
   "metadata": {
    "collapsed": false,
    "pycharm": {
     "name": "#%%\n"
    }
   }
  },
  {
   "cell_type": "code",
   "execution_count": 14,
   "outputs": [
    {
     "name": "stdout",
     "output_type": "stream",
     "text": [
      "get\n",
      "get\n"
     ]
    }
   ],
   "source": [
    "Y = C()\n",
    "Y.a\n",
    "C.a"
   ],
   "metadata": {
    "collapsed": false,
    "pycharm": {
     "name": "#%%\n"
    }
   }
  },
  {
   "cell_type": "code",
   "execution_count": 15,
   "outputs": [
    {
     "name": "stdout",
     "output_type": "stream",
     "text": [
      "get\n"
     ]
    }
   ],
   "source": [
    "# 我们也可以这样，如果用户想对类进行赋值就抛出异常\n",
    "class D:\n",
    "    def __get__(*args): print('get')\n",
    "    def __set__(*args):  raise AttributeError('cannot set')\n",
    "\n",
    "class C:\n",
    "    a = D()\n",
    "X = C()\n",
    "X.a"
   ],
   "metadata": {
    "collapsed": false,
    "pycharm": {
     "name": "#%%\n"
    }
   }
  },
  {
   "cell_type": "code",
   "execution_count": 16,
   "outputs": [
    {
     "ename": "AttributeError",
     "evalue": "cannot set",
     "output_type": "error",
     "traceback": [
      "\u001B[1;31m---------------------------------------------------------------------------\u001B[0m",
      "\u001B[1;31mAttributeError\u001B[0m                            Traceback (most recent call last)",
      "\u001B[1;32m~\\AppData\\Local\\Temp\\ipykernel_12784\\799175647.py\u001B[0m in \u001B[0;36m<module>\u001B[1;34m\u001B[0m\n\u001B[1;32m----> 1\u001B[1;33m \u001B[0mX\u001B[0m\u001B[1;33m.\u001B[0m\u001B[0ma\u001B[0m \u001B[1;33m=\u001B[0m \u001B[1;36m99\u001B[0m\u001B[1;33m\u001B[0m\u001B[1;33m\u001B[0m\u001B[0m\n\u001B[0m",
      "\u001B[1;32m~\\AppData\\Local\\Temp\\ipykernel_12784\\59178277.py\u001B[0m in \u001B[0;36m__set__\u001B[1;34m(*args)\u001B[0m\n\u001B[0;32m      2\u001B[0m \u001B[1;32mclass\u001B[0m \u001B[0mD\u001B[0m\u001B[1;33m:\u001B[0m\u001B[1;33m\u001B[0m\u001B[1;33m\u001B[0m\u001B[0m\n\u001B[0;32m      3\u001B[0m     \u001B[1;32mdef\u001B[0m \u001B[0m__get__\u001B[0m\u001B[1;33m(\u001B[0m\u001B[1;33m*\u001B[0m\u001B[0margs\u001B[0m\u001B[1;33m)\u001B[0m\u001B[1;33m:\u001B[0m \u001B[0mprint\u001B[0m\u001B[1;33m(\u001B[0m\u001B[1;34m'get'\u001B[0m\u001B[1;33m)\u001B[0m\u001B[1;33m\u001B[0m\u001B[1;33m\u001B[0m\u001B[0m\n\u001B[1;32m----> 4\u001B[1;33m     \u001B[1;32mdef\u001B[0m \u001B[0m__set__\u001B[0m\u001B[1;33m(\u001B[0m\u001B[1;33m*\u001B[0m\u001B[0margs\u001B[0m\u001B[1;33m)\u001B[0m\u001B[1;33m:\u001B[0m  \u001B[1;32mraise\u001B[0m \u001B[0mAttributeError\u001B[0m\u001B[1;33m(\u001B[0m\u001B[1;34m'cannot set'\u001B[0m\u001B[1;33m)\u001B[0m\u001B[1;33m\u001B[0m\u001B[1;33m\u001B[0m\u001B[0m\n\u001B[0m\u001B[0;32m      5\u001B[0m \u001B[1;33m\u001B[0m\u001B[0m\n\u001B[0;32m      6\u001B[0m \u001B[1;32mclass\u001B[0m \u001B[0mC\u001B[0m\u001B[1;33m:\u001B[0m\u001B[1;33m\u001B[0m\u001B[1;33m\u001B[0m\u001B[0m\n",
      "\u001B[1;31mAttributeError\u001B[0m: cannot set"
     ]
    }
   ],
   "source": [
    "X.a = 99"
   ],
   "metadata": {
    "collapsed": false,
    "pycharm": {
     "name": "#%%\n"
    }
   }
  },
  {
   "cell_type": "code",
   "execution_count": 17,
   "outputs": [
    {
     "name": "stdout",
     "output_type": "stream",
     "text": [
      "fetch...\n",
      "bot smith\n",
      "change...\n",
      "fetch...\n",
      "rebert\n",
      "remove...\n"
     ]
    }
   ],
   "source": [
    "# 下面来一个实例\n",
    "class Name:\n",
    "    \"name description\"\n",
    "    def __get__(self, instance, owner):\n",
    "        print('fetch...')\n",
    "        return instance._name\n",
    "    def __set__(self, instance, value):\n",
    "        print('change...')\n",
    "        instance._name = value\n",
    "    def __delete__(self, instance):\n",
    "        print('remove...')\n",
    "        del instance._name\n",
    "\n",
    "class Person:\n",
    "    def __init__(self, name):\n",
    "        self._name = name\n",
    "    name = Name()\n",
    "\n",
    "bob = Person('bot smith')\n",
    "print(bob.name)\n",
    "bob.name = 'rebert'\n",
    "print(bob.name)\n",
    "del bob.name"
   ],
   "metadata": {
    "collapsed": false,
    "pycharm": {
     "name": "#%%\n"
    }
   }
  },
  {
   "cell_type": "code",
   "execution_count": null,
   "outputs": [],
   "source": [
    "# 描述符类同样可以被子类继承，这里就不演示了"
   ],
   "metadata": {
    "collapsed": false,
    "pycharm": {
     "name": "#%%\n"
    }
   }
  },
  {
   "cell_type": "markdown",
   "source": [
    "## 8.2.3 getattr和getattribute"
   ],
   "metadata": {
    "collapsed": false
   }
  },
  {
   "cell_type": "markdown",
   "source": [
    "## 8.2.4 属性验证"
   ],
   "metadata": {
    "collapsed": false
   }
  },
  {
   "cell_type": "markdown",
   "source": [],
   "metadata": {
    "collapsed": false
   }
  },
  {
   "cell_type": "markdown",
   "source": [],
   "metadata": {
    "collapsed": false
   }
  },
  {
   "cell_type": "markdown",
   "source": [],
   "metadata": {
    "collapsed": false
   }
  },
  {
   "cell_type": "markdown",
   "source": [],
   "metadata": {
    "collapsed": false
   }
  },
  {
   "cell_type": "markdown",
   "source": [],
   "metadata": {
    "collapsed": false
   }
  }
 ],
 "metadata": {
  "kernelspec": {
   "display_name": "Python 3",
   "language": "python",
   "name": "python3"
  },
  "language_info": {
   "codemirror_mode": {
    "name": "ipython",
    "version": 2
   },
   "file_extension": ".py",
   "mimetype": "text/x-python",
   "name": "python",
   "nbconvert_exporter": "python",
   "pygments_lexer": "ipython2",
   "version": "2.7.6"
  }
 },
 "nbformat": 4,
 "nbformat_minor": 0
}