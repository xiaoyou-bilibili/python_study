{
 "cells": [
  {
   "cell_type": "markdown",
   "metadata": {
    "collapsed": true,
    "pycharm": {
     "name": "#%% md\n"
    }
   },
   "source": [
    "## 8.3.1 什么是装饰器"
   ]
  },
  {
   "cell_type": "markdown",
   "metadata": {
    "collapsed": false
   },
   "source": [
    "## 8.3.2 基础知识"
   ]
  },
  {
   "cell_type": "code",
   "execution_count": 1,
   "metadata": {
    "collapsed": false,
    "pycharm": {
     "name": "#%%\n"
    }
   },
   "outputs": [],
   "source": [
    "# 装饰器可以这样理解，就是直接在函数里面插入一段函数\n",
    "# func(6,7)\n",
    "# decorator(func)(6,7)  这个就是装饰器代码了"
   ]
  },
  {
   "cell_type": "code",
   "execution_count": 2,
   "metadata": {
    "collapsed": false,
    "pycharm": {
     "name": "#%%\n"
    }
   },
   "outputs": [],
   "source": [
    "# 装饰器支持嵌套，也就是支持加入多个装饰器\n",
    "def d1(F): return lambda: 'X' + F()\n",
    "def d2(F): return lambda: 'Y' + F()\n",
    "def d3(F): return lambda: 'Z' + F()\n",
    "\n",
    "@d1\n",
    "@d2\n",
    "@d3\n",
    "def func():\n",
    "    return 'spam'"
   ]
  },
  {
   "cell_type": "code",
   "execution_count": 3,
   "metadata": {
    "collapsed": false,
    "pycharm": {
     "name": "#%%\n"
    }
   },
   "outputs": [
    {
     "name": "stdout",
     "output_type": "stream",
     "text": [
      "XYZspam\n"
     ]
    }
   ],
   "source": [
    "print(func())"
   ]
  },
  {
   "cell_type": "code",
   "execution_count": null,
   "metadata": {
    "collapsed": false,
    "pycharm": {
     "name": "#%%\n"
    }
   },
   "outputs": [],
   "source": [
    "# 装饰器支持添加参数"
   ]
  },
  {
   "cell_type": "markdown",
   "metadata": {
    "collapsed": false
   },
   "source": [
    "## 8.3.3 编写函数装饰器"
   ]
  },
  {
   "cell_type": "code",
   "execution_count": 4,
   "metadata": {
    "collapsed": false,
    "pycharm": {
     "name": "#%%\n"
    }
   },
   "outputs": [],
   "source": [
    "# 首先我们定义了一个装饰器\n",
    "class tracer:\n",
    "    def __init__(self, func):\n",
    "        self.calls = 0\n",
    "        self.func = func\n",
    "    def __call__(self, *args):\n",
    "        self.calls += 1\n",
    "        print('call %s  to %s' % (self.calls, self.func.__name__))\n",
    "        self.func(*args)"
   ]
  },
  {
   "cell_type": "code",
   "execution_count": 5,
   "metadata": {
    "collapsed": false,
    "pycharm": {
     "name": "#%%\n"
    }
   },
   "outputs": [
    {
     "name": "stdout",
     "output_type": "stream",
     "text": [
      "call 1  to spam\n",
      "15\n",
      "call 2  to spam\n",
      "24\n"
     ]
    }
   ],
   "source": [
    "# 我们的装饰器结果如下\n",
    "@tracer\n",
    "def spam(a,b,c):\n",
    "    print(a+b+c)\n",
    "spam(4,5,6)\n",
    "spam(7,8,9)"
   ]
  },
  {
   "cell_type": "code",
   "execution_count": 6,
   "metadata": {
    "collapsed": false,
    "pycharm": {
     "name": "#%%\n"
    }
   },
   "outputs": [
    {
     "name": "stdout",
     "output_type": "stream",
     "text": [
      "2\n",
      "<__main__.tracer object at 0x00000246633CCA48>\n"
     ]
    }
   ],
   "source": [
    "# 我们可以直接看到这个函数的参数\n",
    "print(spam.calls)\n",
    "print(spam)"
   ]
  },
  {
   "cell_type": "code",
   "execution_count": 7,
   "metadata": {
    "collapsed": false,
    "pycharm": {
     "name": "#%%\n"
    }
   },
   "outputs": [
    {
     "name": "stdout",
     "output_type": "stream",
     "text": [
      "call 1  to spam\n",
      "6\n",
      "call 2  to spam\n",
      "15\n"
     ]
    }
   ],
   "source": [
    "# 我们可以使用下面的方法来模拟装饰器\n",
    "calls = 0\n",
    "def tracer(func,*args):\n",
    "    global calls\n",
    "    calls += 1\n",
    "    print('call %s  to %s' % (calls, func.__name__))\n",
    "    func(*args)\n",
    "def spam(a,b,c):\n",
    "    print(a+b+c)\n",
    "\n",
    "tracer(spam,1,2,3)\n",
    "tracer(spam,4,5,6)"
   ]
  },
  {
   "cell_type": "code",
   "execution_count": 8,
   "metadata": {
    "collapsed": false,
    "pycharm": {
     "name": "#%%\n"
    }
   },
   "outputs": [
    {
     "name": "stdout",
     "output_type": "stream",
     "text": [
      "call 1  to spam\n",
      "6\n",
      "call 2  to spam\n",
      "15\n",
      "======\n",
      "call 1  to eggs\n",
      "65536\n",
      "call 2  to eggs\n",
      "256\n"
     ]
    }
   ],
   "source": [
    "# 每个函数的装饰器的变量都是单独的\n",
    "class tracer:\n",
    "    def __init__(self, func):\n",
    "        self.calls = 0\n",
    "        self.func = func\n",
    "    # 函数调用支持位置参数和key类型的参数\n",
    "    def __call__(self, *args, **kwargs):\n",
    "        self.calls += 1\n",
    "        print('call %s  to %s' % (self.calls, self.func.__name__))\n",
    "        self.func(*args,**kwargs)\n",
    "@tracer\n",
    "def spam(a,b,c):\n",
    "    print(a+b+c)\n",
    "@tracer\n",
    "def eggs(x,y):\n",
    "    print(x**y)\n",
    "\n",
    "spam(1,2,3)\n",
    "spam(a=4,b=5,c=6)\n",
    "print(\"======\")\n",
    "eggs(2,16)\n",
    "eggs(4,y=4)"
   ]
  },
  {
   "cell_type": "code",
   "execution_count": 9,
   "metadata": {
    "collapsed": false,
    "pycharm": {
     "name": "#%%\n"
    }
   },
   "outputs": [
    {
     "name": "stdout",
     "output_type": "stream",
     "text": [
      "call 1 to spam\n",
      "6\n",
      "call 2 to spam\n",
      "15\n",
      "======\n",
      "call 3 to eggs\n",
      "65536\n",
      "call 4 to eggs\n",
      "256\n"
     ]
    }
   ],
   "source": [
    "# 因为类属性不能全局共享，我们可以返回一个包装器\n",
    "calls = 0\n",
    "def tracer(func):\n",
    "    def wrapper(*args, **kwargs):\n",
    "        global calls\n",
    "        calls += 1\n",
    "        print('call %s to %s' % (calls, func.__name__))\n",
    "        return func(*args,**kwargs)\n",
    "    return wrapper\n",
    "\n",
    "@tracer\n",
    "def spam(a,b,c):\n",
    "    print(a+b+c)\n",
    "@tracer\n",
    "def eggs(x,y):\n",
    "    print(x**y)\n",
    "spam(1,2,3)\n",
    "spam(a=4,b=5,c=6)\n",
    "print(\"======\")\n",
    "eggs(2,16)\n",
    "eggs(4,y=4)"
   ]
  },
  {
   "cell_type": "code",
   "execution_count": 10,
   "metadata": {
    "collapsed": false,
    "pycharm": {
     "name": "#%%\n"
    }
   },
   "outputs": [
    {
     "name": "stdout",
     "output_type": "stream",
     "text": [
      "call 1 to spam\n",
      "6\n",
      "call 2 to spam\n",
      "15\n",
      "======\n",
      "call 1 to eggs\n",
      "65536\n",
      "call 2 to eggs\n",
      "256\n"
     ]
    }
   ],
   "source": [
    "# 如果还是想让每个函数都有自己的计数器的话\n",
    "def tracer(func):\n",
    "    calls = 0\n",
    "    def wrapper(*args,**kwargs):\n",
    "        nonlocal calls\n",
    "        calls += 1\n",
    "        print('call %s to %s' % (calls, func.__name__))\n",
    "        return func(*args,**kwargs)\n",
    "    return wrapper\n",
    "@tracer\n",
    "def spam(a,b,c):\n",
    "    print(a+b+c)\n",
    "@tracer\n",
    "def eggs(x,y):\n",
    "    print(x**y)\n",
    "spam(1,2,3)\n",
    "spam(a=4,b=5,c=6)\n",
    "print(\"======\")\n",
    "eggs(2,16)\n",
    "eggs(4,y=4)"
   ]
  },
  {
   "cell_type": "code",
   "execution_count": 11,
   "metadata": {
    "collapsed": false,
    "pycharm": {
     "name": "#%%\n"
    }
   },
   "outputs": [
    {
     "name": "stdout",
     "output_type": "stream",
     "text": [
      "call 1 to spam\n",
      "6\n",
      "call 2 to spam\n",
      "15\n",
      "======\n",
      "call 1 to eggs\n",
      "65536\n",
      "call 2 to eggs\n",
      "256\n"
     ]
    }
   ],
   "source": [
    "# 或者直接这样给函数加上参数\n",
    "def tracer(func):\n",
    "    def wrapper(*args,**kwargs):\n",
    "        wrapper.calls += 1\n",
    "        print('call %s to %s' % (wrapper.calls, func.__name__))\n",
    "        return func(*args,**kwargs)\n",
    "    wrapper.calls = 0\n",
    "    return wrapper\n",
    "@tracer\n",
    "def spam(a,b,c):\n",
    "    print(a+b+c)\n",
    "@tracer\n",
    "def eggs(x,y):\n",
    "    print(x**y)\n",
    "spam(1,2,3)\n",
    "spam(a=4,b=5,c=6)\n",
    "print(\"======\")\n",
    "eggs(2,16)\n",
    "eggs(4,y=4)"
   ]
  },
  {
   "cell_type": "code",
   "execution_count": 12,
   "metadata": {
    "collapsed": false,
    "pycharm": {
     "name": "#%%\n"
    }
   },
   "outputs": [
    {
     "name": "stdout",
     "output_type": "stream",
     "text": [
      "call get <__main__.Person object at 0x00000246633CE708> <class '__main__.Person'>\n",
      "call 1  to giveRaise\n",
      "None\n"
     ]
    }
   ],
   "source": [
    "# 我们可以给装饰器添加描述符\n",
    "class tracer(object):\n",
    "    def __init__(self, func):\n",
    "        self.calls = 0\n",
    "        self.func = func\n",
    "    def __call__(self, *args, **kwargs):\n",
    "        self.calls += 1\n",
    "        print('call %s  to %s' % (self.calls, self.func.__name__))\n",
    "        self.func(*args,**kwargs)\n",
    "    def __get__(self, instance, owner):\n",
    "        def wrapper(*args,**kwargs):\n",
    "            print('call get', instance, owner, *args, **kwargs)\n",
    "            return self(instance, *args, **kwargs)\n",
    "        return wrapper()\n",
    "\n",
    "class Person:\n",
    "    @tracer\n",
    "    def giveRaise(self):\n",
    "        return 10\n",
    "\n",
    "p = Person()\n",
    "print(p.giveRaise)"
   ]
  },
  {
   "cell_type": "code",
   "execution_count": 13,
   "metadata": {
    "collapsed": false,
    "pycharm": {
     "name": "#%%\n"
    }
   },
   "outputs": [
    {
     "name": "stdout",
     "output_type": "stream",
     "text": [
      "call 1  to spam\n",
      "None\n"
     ]
    }
   ],
   "source": [
    "# 上面这个不能适用于函数\n",
    "@tracer\n",
    "def spam(a,b,c):\n",
    "    return a+b+c\n",
    "print(spam(1,2,3))"
   ]
  },
  {
   "cell_type": "code",
   "execution_count": 14,
   "metadata": {
    "collapsed": false,
    "pycharm": {
     "name": "#%%\n"
    }
   },
   "outputs": [
    {
     "name": "stdout",
     "output_type": "stream",
     "text": [
      "listcomp:0.00513,0.00513\n",
      "listcomp:0.00369,0.00882\n",
      "listcomp:0.00449,0.01330\n",
      "listcomp:0.00561,0.01892\n",
      "all time 0.018918600000006336\n"
     ]
    },
    {
     "name": "stderr",
     "output_type": "stream",
     "text": [
      "D:\\APP\\python\\377\\lib\\site-packages\\ipykernel_launcher.py:8: DeprecationWarning: time.clock has been deprecated in Python 3.3 and will be removed from Python 3.8: use time.perf_counter or time.process_time instead\n",
      "  \n",
      "D:\\APP\\python\\377\\lib\\site-packages\\ipykernel_launcher.py:10: DeprecationWarning: time.clock has been deprecated in Python 3.3 and will be removed from Python 3.8: use time.perf_counter or time.process_time instead\n",
      "  # Remove the CWD from sys.path while we load stuff.\n"
     ]
    }
   ],
   "source": [
    "# 我们可以使用装饰器来计时\n",
    "import time,sys\n",
    "class timer:\n",
    "    def __init__(self, func):\n",
    "        self.func = func\n",
    "        self.alltime = 0\n",
    "    def __call__(self, *args, **kwargs):\n",
    "        start = time.clock()\n",
    "        result = self.func(*args,**kwargs)\n",
    "        elapsed = time.clock() - start\n",
    "        self.alltime += elapsed\n",
    "        print('%s:%.5f,%.5f' % (self.func.__name__, elapsed, self.alltime))\n",
    "        return result\n",
    "@timer\n",
    "def listcomp(N):\n",
    "    return [x*3 for x in range(N)]\n",
    "\n",
    "# 这样我们就可以获取每次计算的耗时信息了\n",
    "listcomp(50000)\n",
    "listcomp(50000)\n",
    "listcomp(50000)\n",
    "listcomp(50000)\n",
    "print(\"all time\", listcomp.alltime)"
   ]
  },
  {
   "cell_type": "code",
   "execution_count": 15,
   "metadata": {
    "collapsed": false,
    "pycharm": {
     "name": "#%%\n"
    }
   },
   "outputs": [
    {
     "name": "stdout",
     "output_type": "stream",
     "text": [
      "--->\n"
     ]
    }
   ],
   "source": [
    "# 最后我们可以给装饰器添加参数\n",
    "def timer2(label=''):\n",
    "    def decorator(func):\n",
    "        def onCall(*args):\n",
    "            func(*args)\n",
    "            print(label)\n",
    "        return onCall\n",
    "    return decorator\n",
    "\n",
    "@timer2(\"--->\")\n",
    "def listLoop(N):\n",
    "    return [x*3 for x in range(N)]\n",
    "\n",
    "listLoop(1000)"
   ]
  },
  {
   "cell_type": "code",
   "execution_count": 16,
   "metadata": {
    "collapsed": false,
    "pycharm": {
     "name": "#%%\n"
    }
   },
   "outputs": [],
   "source": [
    "# 下面我们来改造一下，支持传入参数\n",
    "def timer(label='',trace=True):\n",
    "    class Timer:\n",
    "        def __init__(self, func):\n",
    "            self.func = func\n",
    "            self.alltime = 0\n",
    "        def __call__(self, *args, **kwargs):\n",
    "            start = time.clock()\n",
    "            result = self.func(*args,**kwargs)\n",
    "            elapsed = time.clock() - start\n",
    "            self.alltime += elapsed\n",
    "            if trace:\n",
    "                print('%s %s:%.5f,%.5f' % (label,self.func.__name__, elapsed, self.alltime))\n",
    "            return result\n",
    "    return Timer"
   ]
  },
  {
   "cell_type": "code",
   "execution_count": 17,
   "metadata": {
    "collapsed": false,
    "pycharm": {
     "name": "#%%\n"
    }
   },
   "outputs": [
    {
     "name": "stdout",
     "output_type": "stream",
     "text": [
      "[CCC]==> listcomp:0.00010,0.00010\n",
      "[CCC]==> listcomp:0.00008,0.00018\n",
      "[CCC]==> listcomp:0.00007,0.00025\n",
      "[CCC]==> listcomp:0.00006,0.00031\n",
      "alll time 0.00031079999996563856\n"
     ]
    },
    {
     "name": "stderr",
     "output_type": "stream",
     "text": [
      "D:\\APP\\python\\377\\lib\\site-packages\\ipykernel_launcher.py:8: DeprecationWarning: time.clock has been deprecated in Python 3.3 and will be removed from Python 3.8: use time.perf_counter or time.process_time instead\n",
      "  \n",
      "D:\\APP\\python\\377\\lib\\site-packages\\ipykernel_launcher.py:10: DeprecationWarning: time.clock has been deprecated in Python 3.3 and will be removed from Python 3.8: use time.perf_counter or time.process_time instead\n",
      "  # Remove the CWD from sys.path while we load stuff.\n"
     ]
    }
   ],
   "source": [
    "@timer(label=\"[CCC]==>\")\n",
    "def listcomp(N):\n",
    "    return [x*3 for x in range(N)]\n",
    "\n",
    "listcomp(1000)\n",
    "listcomp(1000)\n",
    "listcomp(1000)\n",
    "listcomp(1000)\n",
    "print(\"alll time\", listcomp.alltime)"
   ]
  },
  {
   "cell_type": "markdown",
   "metadata": {
    "collapsed": false
   },
   "source": [
    "## 8.3.4 编写类装饰器"
   ]
  },
  {
   "cell_type": "code",
   "execution_count": 18,
   "metadata": {
    "collapsed": false,
    "pycharm": {
     "name": "#%%\n"
    }
   },
   "outputs": [],
   "source": [
    "# 首先我们来创建一个单例类\n",
    "instances = {}\n",
    "def singleton(aClass):\n",
    "    def onCall(*args,**kwargs):\n",
    "        if aClass not in instances:\n",
    "            instances[aClass] = aClass(*args,**kwargs)\n",
    "        return instances[aClass]\n",
    "    return onCall"
   ]
  },
  {
   "cell_type": "code",
   "execution_count": 19,
   "metadata": {
    "collapsed": false,
    "pycharm": {
     "name": "#%%\n"
    }
   },
   "outputs": [
    {
     "name": "stdout",
     "output_type": "stream",
     "text": [
      "Bob 400\n",
      "Bob 400\n"
     ]
    }
   ],
   "source": [
    "# 下面我们我们给类加上这个装饰器\n",
    "@singleton\n",
    "class Person:\n",
    "    def __init__(self,name,hours,rate):\n",
    "        self.name = name\n",
    "        self.hours = hours\n",
    "        self.rate = rate\n",
    "    def pay(self):\n",
    "        return self.hours*self.rate\n",
    "\n",
    "@singleton\n",
    "class Spam:\n",
    "    def __init__(self, val):\n",
    "        self.attr = val\n",
    "\n",
    "bob = Person('Bob', 40, 10)\n",
    "print(bob.name, bob.pay())\n",
    "# 这里我们再创建其实就还是只相当于调用了第一个实例\n",
    "sue = Person('Sue',50,20)\n",
    "print(sue.name, sue.pay())"
   ]
  },
  {
   "cell_type": "code",
   "execution_count": 20,
   "metadata": {
    "collapsed": false,
    "pycharm": {
     "name": "#%%\n"
    }
   },
   "outputs": [
    {
     "name": "stdout",
     "output_type": "stream",
     "text": [
      "42 42\n"
     ]
    }
   ],
   "source": [
    "# 其他类也是一样的\n",
    "x=Spam(42)\n",
    "y=Spam(99)\n",
    "print(x.attr, y.attr)"
   ]
  },
  {
   "cell_type": "code",
   "execution_count": 21,
   "metadata": {
    "collapsed": false,
    "pycharm": {
     "name": "#%%\n"
    }
   },
   "outputs": [
    {
     "name": "stdout",
     "output_type": "stream",
     "text": [
      "trace:display\n",
      "spam!spam!spam!spam!spam!spam!spam!spam!\n",
      "[1]\n",
      "trace:name\n",
      "bob\n",
      "trace:pay\n",
      "2000\n"
     ]
    }
   ],
   "source": [
    "# 下面我们使用类装饰器来跟踪接口\n",
    "def Tracer(aClass):\n",
    "    class Wrapper:\n",
    "        def __init__(self,*args, **kwargs):\n",
    "            self.fetches = 0\n",
    "            self.wrapped = aClass(*args,**kwargs)\n",
    "        def __getattr__(self, item):\n",
    "            print('trace:'+item)\n",
    "            self.fetches += 1\n",
    "            return  getattr(self.wrapped, item)\n",
    "    return Wrapper\n",
    "\n",
    "@Tracer\n",
    "class Spam:\n",
    "    def display(self):\n",
    "        print('spam!'*8)\n",
    "\n",
    "@Tracer\n",
    "class Person:\n",
    "    def __init__(self,name,hours,rate):\n",
    "        self.name = name\n",
    "        self.hours = hours\n",
    "        self.rate = rate\n",
    "    def pay(self):\n",
    "        return self.hours * self.rate\n",
    "\n",
    "food = Spam()\n",
    "food.display()\n",
    "print([food.fetches])\n",
    "\n",
    "bob = Person('bob',40,50)\n",
    "print(bob.name)\n",
    "print(bob.pay())"
   ]
  },
  {
   "cell_type": "code",
   "execution_count": 22,
   "metadata": {
    "collapsed": false,
    "pycharm": {
     "name": "#%%\n"
    }
   },
   "outputs": [
    {
     "name": "stdout",
     "output_type": "stream",
     "text": [
      "trace:name\n",
      "sue\n",
      "trace:pay\n",
      "6000\n"
     ]
    }
   ],
   "source": [
    "sue = Person('sue',rate=100,hours=60)\n",
    "print(sue.name)\n",
    "print(sue.pay())"
   ]
  },
  {
   "cell_type": "code",
   "execution_count": 23,
   "metadata": {
    "collapsed": false,
    "pycharm": {
     "name": "#%%\n"
    }
   },
   "outputs": [
    {
     "name": "stdout",
     "output_type": "stream",
     "text": [
      "[2, 2]\n"
     ]
    }
   ],
   "source": [
    "print([bob.fetches,sue.fetches])"
   ]
  },
  {
   "cell_type": "code",
   "execution_count": null,
   "metadata": {
    "collapsed": false,
    "pycharm": {
     "name": "#%%\n"
    }
   },
   "outputs": [],
   "source": [
    "# 我们也可以给内置类型加上装饰器"
   ]
  },
  {
   "cell_type": "markdown",
   "metadata": {
    "collapsed": false
   },
   "source": [
    "## 8.3.5 直接管理函数和类"
   ]
  },
  {
   "cell_type": "code",
   "execution_count": 25,
   "metadata": {
    "collapsed": false,
    "pycharm": {
     "name": "#%%\n"
    }
   },
   "outputs": [
    {
     "name": "stdout",
     "output_type": "stream",
     "text": [
      "register\n",
      "spam => <function spam at 0x00000246633FCEE8> <class 'function'>\n",
      "ham => <function ham at 0x00000246633FC3A8> <class 'function'>\n",
      "Eggs => <class '__main__.Eggs'> <class 'type'>\n",
      "\n",
      "Manual calls:\n",
      "4\n",
      "8\n",
      "16\n",
      "\n",
      "Registry calls:\n",
      "spam => 4\n",
      "ham => 8\n",
      "Eggs => 16\n"
     ]
    }
   ],
   "source": [
    "# 我们可以使用装饰器来管理函数和类\n",
    "registry = {}\n",
    "def register(obj):\n",
    "    registry[obj.__name__] = obj\n",
    "    return obj\n",
    "@register\n",
    "def spam(x):\n",
    "    return x**2\n",
    "\n",
    "@register\n",
    "def ham(x):\n",
    "    return x**3\n",
    "\n",
    "@register\n",
    "class Eggs:\n",
    "    def __init__(self,x ):\n",
    "        self.data = x**4\n",
    "    def __str__(self):\n",
    "        return str(self.data)\n",
    "\n",
    "print('register')\n",
    "for name in registry:\n",
    "    print(name,'=>',registry[name],type(registry[name]))\n",
    "\n",
    "print('\\nManual calls:')\n",
    "print(spam(2))\n",
    "print(ham(2))\n",
    "x = Eggs(2)\n",
    "print(x)\n",
    "\n",
    "print('\\nRegistry calls:')\n",
    "for name in registry:\n",
    "    print(name,'=>',registry[name](2))"
   ]
  },
  {
   "cell_type": "markdown",
   "metadata": {
    "collapsed": false
   },
   "source": [
    "## 8.3.6 示例：私有和公有属性"
   ]
  },
  {
   "cell_type": "code",
   "execution_count": null,
   "metadata": {
    "collapsed": false,
    "pycharm": {
     "name": "#%%\n"
    }
   },
   "outputs": [],
   "source": [
    "# 这块就是利用装饰器来实现一个私有属性和公有属性的功能，跳过"
   ]
  },
  {
   "cell_type": "markdown",
   "metadata": {
    "collapsed": false
   },
   "source": [
    "## 8.3.7 验证函数参数"
   ]
  },
  {
   "cell_type": "code",
   "execution_count": null,
   "metadata": {
    "collapsed": false,
    "pycharm": {
     "name": "#%%\n"
    }
   },
   "outputs": [],
   "source": [
    "# 这个就是使用装饰器来实现一个参数验证的功能，跳过"
   ]
  },
  {
   "cell_type": "markdown",
   "metadata": {
    "collapsed": false
   },
   "source": []
  }
 ],
 "metadata": {
  "kernelspec": {
   "display_name": "Python 3",
   "language": "python",
   "name": "python3"
  },
  "language_info": {
   "codemirror_mode": {
    "name": "ipython",
    "version": 3
   },
   "file_extension": ".py",
   "mimetype": "text/x-python",
   "name": "python",
   "nbconvert_exporter": "python",
   "pygments_lexer": "ipython3",
   "version": "3.7.7"
  }
 },
 "nbformat": 4,
 "nbformat_minor": 0
}
