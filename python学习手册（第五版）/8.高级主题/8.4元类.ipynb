{
 "cells": [
  {
   "cell_type": "markdown",
   "metadata": {
    "collapsed": true,
    "pycharm": {
     "name": "#%% md\n"
    }
   },
   "source": [
    "## 8.4.1 勇敢面对还是知难而退"
   ]
  },
  {
   "cell_type": "markdown",
   "source": [
    "## 8.4.2 元类模型"
   ],
   "metadata": {
    "collapsed": false
   }
  },
  {
   "cell_type": "code",
   "execution_count": 1,
   "outputs": [
    {
     "name": "stdout",
     "output_type": "stream",
     "text": [
      "1\n",
      "5\n"
     ]
    }
   ],
   "source": [
    "# 我们可以通过type来直接创建一个类\n",
    "import typing_extensions\n",
    "\n",
    "\n",
    "class Eggs: pass\n",
    "class Spam(Eggs):\n",
    "    data = 1\n",
    "    def meth(self, arg):\n",
    "        return self.data + arg\n",
    "\n",
    "# 我们使用type来创建一个和上面Spam一样的类\n",
    "Spam2 = type('Spam2',(Eggs,),{'data':1, 'meth': (lambda x,y: x.data+y)})\n",
    "s = Spam2()\n",
    "print(s.data)\n",
    "print(s.meth(4))"
   ],
   "metadata": {
    "collapsed": false,
    "pycharm": {
     "name": "#%%\n"
    }
   }
  },
  {
   "cell_type": "markdown",
   "source": [
    "## 8.4.3 声明元类"
   ],
   "metadata": {
    "collapsed": false
   }
  },
  {
   "cell_type": "code",
   "execution_count": 2,
   "outputs": [
    {
     "ename": "TypeError",
     "evalue": "'NoneType' object is not callable",
     "output_type": "error",
     "traceback": [
      "\u001B[1;31m---------------------------------------------------------------------------\u001B[0m",
      "\u001B[1;31mTypeError\u001B[0m                                 Traceback (most recent call last)",
      "\u001B[1;32m~\\AppData\\Local\\Temp\\ipykernel_1976\\1940781091.py\u001B[0m in \u001B[0;36m<module>\u001B[1;34m\u001B[0m\n\u001B[0;32m      1\u001B[0m \u001B[1;31m# 元类可以这样去声明\u001B[0m\u001B[1;33m\u001B[0m\u001B[1;33m\u001B[0m\u001B[1;33m\u001B[0m\u001B[0m\n\u001B[1;32m----> 2\u001B[1;33m \u001B[1;32mclass\u001B[0m \u001B[0mSpam\u001B[0m\u001B[1;33m(\u001B[0m\u001B[0mmetaclass\u001B[0m\u001B[1;33m=\u001B[0m\u001B[1;32mNone\u001B[0m\u001B[1;33m)\u001B[0m\u001B[1;33m:\u001B[0m \u001B[1;32mpass\u001B[0m\u001B[1;33m\u001B[0m\u001B[1;33m\u001B[0m\u001B[0m\n\u001B[0m",
      "\u001B[1;31mTypeError\u001B[0m: 'NoneType' object is not callable"
     ]
    }
   ],
   "source": [
    "# 元类可以这样去声明\n",
    "class Spam(metaclass=None): pass"
   ],
   "metadata": {
    "collapsed": false,
    "pycharm": {
     "name": "#%%\n"
    }
   }
  },
  {
   "cell_type": "markdown",
   "source": [
    "## 8.4.4 编写元类"
   ],
   "metadata": {
    "collapsed": false
   }
  },
  {
   "cell_type": "code",
   "execution_count": 6,
   "outputs": [],
   "source": [
    "# 下面我们来创建一个元类\n",
    "class MetaOne(type):\n",
    "    def __new__(meta, classname, supers, classdict):\n",
    "        print('in metaone.new:', meta,classname,supers,classdict,sep='\\n')\n",
    "        return type.__new__(meta, classname, supers, classdict)"
   ],
   "metadata": {
    "collapsed": false,
    "pycharm": {
     "name": "#%%\n"
    }
   }
  },
  {
   "cell_type": "code",
   "execution_count": 8,
   "outputs": [
    {
     "name": "stdout",
     "output_type": "stream",
     "text": [
      "making class....\n",
      "in metaone.new:\n",
      "<class '__main__.MetaOne'>\n",
      "Spam\n",
      "(<class '__main__.Eggs'>,)\n",
      "{'__module__': '__main__', '__qualname__': 'Spam', 'data': 1, 'meth': <function Spam.meth at 0x00000218DEFCBD38>}\n",
      "making instance....\n",
      "data: 1 3\n"
     ]
    }
   ],
   "source": [
    "# 然后我们可以这样使用\n",
    "class Eggs:\n",
    "    pass\n",
    "print('making class....')\n",
    "class Spam(Eggs, metaclass=MetaOne):\n",
    "    data = 1\n",
    "    def meth(self, arg):\n",
    "        return self.data + arg\n",
    "print('making instance....')\n",
    "x=Spam()\n",
    "print('data:', x.data, x.meth(2))"
   ],
   "metadata": {
    "collapsed": false,
    "pycharm": {
     "name": "#%%\n"
    }
   }
  },
  {
   "cell_type": "code",
   "execution_count": 9,
   "outputs": [],
   "source": [
    "# 元类还可以接入init，new创建并返回了类对象，然后init初始化了一个参数被传入的已经创建了的类\n",
    "class MetaTwo(type):\n",
    "    def __new__(meta, classname, supers, classdict):\n",
    "        print('in metaTwo new:', meta,classname,supers,classdict,sep='\\n')\n",
    "        return type.__new__(meta, classname, supers, classdict)\n",
    "    def __init__(Class, classname, supers, classdict):\n",
    "        print('in metaTwo init:', Class,classname,supers,classdict,sep='\\n')\n",
    "        print('...init class object:', list(Class.__dict__.keys()))"
   ],
   "metadata": {
    "collapsed": false,
    "pycharm": {
     "name": "#%%\n"
    }
   }
  },
  {
   "cell_type": "code",
   "execution_count": 11,
   "outputs": [
    {
     "name": "stdout",
     "output_type": "stream",
     "text": [
      "making class....\n",
      "in metaTwo new:\n",
      "<class '__main__.MetaTwo'>\n",
      "Spam\n",
      "(<class '__main__.Eggs'>,)\n",
      "{'__module__': '__main__', '__qualname__': 'Spam', 'data': 1, 'meth': <function Spam.meth at 0x00000218DF003318>}\n",
      "in metaTwo init:\n",
      "<class '__main__.Spam'>\n",
      "Spam\n",
      "(<class '__main__.Eggs'>,)\n",
      "{'__module__': '__main__', '__qualname__': 'Spam', 'data': 1, 'meth': <function Spam.meth at 0x00000218DF003318>}\n",
      "...init class object: ['__module__', 'data', 'meth', '__doc__']\n",
      "making instance....\n",
      "data: 1 3\n"
     ]
    }
   ],
   "source": [
    "class Eggs:\n",
    "    pass\n",
    "print('making class....')\n",
    "class Spam(Eggs, metaclass=MetaTwo):\n",
    "    data = 1\n",
    "    def meth(self, arg):\n",
    "        return self.data + arg\n",
    "print('making instance....')\n",
    "x=Spam()\n",
    "print('data:', x.data, x.meth(2))"
   ],
   "metadata": {
    "collapsed": false,
    "pycharm": {
     "name": "#%%\n"
    }
   }
  },
  {
   "cell_type": "code",
   "execution_count": 13,
   "outputs": [],
   "source": [
    "# 元类不一定是类，也可以是一个函数\n",
    "def MetaFunc(classname,suupers,clasdict):\n",
    "    print('in meta func', classname, suupers, clasdict,sep='\\n..')\n",
    "    return type(classname, suupers, clasdict)\n"
   ],
   "metadata": {
    "collapsed": false,
    "pycharm": {
     "name": "#%%\n"
    }
   }
  },
  {
   "cell_type": "code",
   "execution_count": 14,
   "outputs": [
    {
     "name": "stdout",
     "output_type": "stream",
     "text": [
      "making class....\n",
      "in meta func\n",
      "..Spam\n",
      "..(<class '__main__.Eggs'>,)\n",
      "..{'__module__': '__main__', '__qualname__': 'Spam', 'data': 1, 'meth': <function Spam.meth at 0x00000218DF003948>}\n",
      "making instance....\n",
      "data: 1 3\n"
     ]
    }
   ],
   "source": [
    "class Eggs:\n",
    "    pass\n",
    "print('making class....')\n",
    "class Spam(Eggs, metaclass=MetaFunc):\n",
    "    data = 1\n",
    "    def meth(self, arg):\n",
    "        return self.data + arg\n",
    "print('making instance....')\n",
    "x=Spam()\n",
    "print('data:', x.data, x.meth(2))"
   ],
   "metadata": {
    "collapsed": false,
    "pycharm": {
     "name": "#%%\n"
    }
   }
  },
  {
   "cell_type": "code",
   "execution_count": 18,
   "outputs": [
    {
     "name": "stdout",
     "output_type": "stream",
     "text": [
      "making meta class\n",
      "in supermeta init\n",
      "..SubMeta\n",
      "..(<class 'type'>,)\n",
      "..{'__module__': '__main__', '__qualname__': 'SubMeta', '__new__': <function SubMeta.__new__ at 0x00000218DF167C18>, '__init__': <function SubMeta.__init__ at 0x00000218DF167CA8>}\n",
      "...init class object: ['__module__', '__new__', '__init__', '__doc__']\n"
     ]
    }
   ],
   "source": [
    "# 下面演示一下原理的重载\n",
    "class SuperMeta(type):\n",
    "    def __call__(meta, classname, supers, classdict):\n",
    "        print('in supermeta call', classname, supers, classdict, sep='\\n..')\n",
    "        return type.__call__(meta, classname, supers, classdict)\n",
    "    def __init__(Class, classname, supers, classdict):\n",
    "        print('in supermeta init', classname, supers, classdict, sep='\\n..')\n",
    "        print(\"...init class object:\", list(Class.__dict__.keys()))\n",
    "print('making meta class')\n",
    "class SubMeta(type, metaclass=SuperMeta):\n",
    "    def __new__(meta, classname, supers, classdict):\n",
    "        print('in subMeta bew', classname, supers, classdict, sep='\\n..')\n",
    "        return type.__new__(meta, classname, supers, classdict)\n",
    "    def __init__(Class, classname, supers, classdict):\n",
    "        print('in SubMeta init', classname, supers, classdict, sep='\\n..')\n",
    "        print(\"...init class object:\", list(Class.__dict__.keys()))"
   ],
   "metadata": {
    "collapsed": false,
    "pycharm": {
     "name": "#%%\n"
    }
   }
  },
  {
   "cell_type": "code",
   "execution_count": 19,
   "outputs": [
    {
     "name": "stdout",
     "output_type": "stream",
     "text": [
      "making class....\n",
      "in supermeta call\n",
      "..Spam\n",
      "..(<class '__main__.Eggs'>,)\n",
      "..{'__module__': '__main__', '__qualname__': 'Spam', 'data': 1, 'meth': <function Spam.meth at 0x00000218DF167B88>}\n",
      "in subMeta bew\n",
      "..Spam\n",
      "..(<class '__main__.Eggs'>,)\n",
      "..{'__module__': '__main__', '__qualname__': 'Spam', 'data': 1, 'meth': <function Spam.meth at 0x00000218DF167B88>}\n",
      "in SubMeta init\n",
      "..Spam\n",
      "..(<class '__main__.Eggs'>,)\n",
      "..{'__module__': '__main__', '__qualname__': 'Spam', 'data': 1, 'meth': <function Spam.meth at 0x00000218DF167B88>}\n",
      "...init class object: ['__module__', 'data', 'meth', '__doc__']\n",
      "making instance....\n",
      "data: 1 3\n"
     ]
    }
   ],
   "source": [
    "class Eggs:\n",
    "    pass\n",
    "print('making class....')\n",
    "class Spam(Eggs, metaclass=SubMeta):\n",
    "    data = 1\n",
    "    def meth(self, arg):\n",
    "        return self.data + arg\n",
    "print('making instance....')\n",
    "x=Spam()\n",
    "print('data:', x.data, x.meth(2))"
   ],
   "metadata": {
    "collapsed": false,
    "pycharm": {
     "name": "#%%\n"
    }
   }
  },
  {
   "cell_type": "markdown",
   "source": [
    "## 8.4.5 继承与实例"
   ],
   "metadata": {
    "collapsed": false
   }
  },
  {
   "cell_type": "code",
   "execution_count": 21,
   "outputs": [
    {
     "name": "stdout",
     "output_type": "stream",
     "text": [
      "in MetaOne new Super\n",
      "in MetaOne new Sub\n"
     ]
    }
   ],
   "source": [
    "class MetaOne(type):\n",
    "    def __new__(meta, classname, supers, classdict):\n",
    "        print('in MetaOne new', classname)\n",
    "        return type.__new__(meta, classname, supers, classdict)\n",
    "    def toast(self):\n",
    "        return 'toast'\n",
    "class Super(metaclass=MetaOne):\n",
    "    def spam(self):\n",
    "        return 'spam'\n",
    "class Sub(Super):\n",
    "    def eggs(self):\n",
    "        return 'eggs'"
   ],
   "metadata": {
    "collapsed": false,
    "pycharm": {
     "name": "#%%\n"
    }
   }
  },
  {
   "cell_type": "code",
   "execution_count": 23,
   "outputs": [
    {
     "name": "stdout",
     "output_type": "stream",
     "text": [
      "eggs\n",
      "spam\n"
     ]
    }
   ],
   "source": [
    "x = Sub()\n",
    "# 正常的类继承是可以使用的\n",
    "print(x.eggs())\n",
    "print(x.spam())"
   ],
   "metadata": {
    "collapsed": false,
    "pycharm": {
     "name": "#%%\n"
    }
   }
  },
  {
   "cell_type": "code",
   "execution_count": 24,
   "outputs": [
    {
     "ename": "AttributeError",
     "evalue": "'Sub' object has no attribute 'toast'",
     "output_type": "error",
     "traceback": [
      "\u001B[1;31m---------------------------------------------------------------------------\u001B[0m",
      "\u001B[1;31mAttributeError\u001B[0m                            Traceback (most recent call last)",
      "\u001B[1;32m~\\AppData\\Local\\Temp\\ipykernel_1976\\1682546287.py\u001B[0m in \u001B[0;36m<module>\u001B[1;34m\u001B[0m\n\u001B[0;32m      1\u001B[0m \u001B[1;31m# 但是不能使用元类的方法\u001B[0m\u001B[1;33m\u001B[0m\u001B[1;33m\u001B[0m\u001B[1;33m\u001B[0m\u001B[0m\n\u001B[1;32m----> 2\u001B[1;33m \u001B[0mprint\u001B[0m\u001B[1;33m(\u001B[0m\u001B[0mx\u001B[0m\u001B[1;33m.\u001B[0m\u001B[0mtoast\u001B[0m\u001B[1;33m(\u001B[0m\u001B[1;33m)\u001B[0m\u001B[1;33m)\u001B[0m\u001B[1;33m\u001B[0m\u001B[1;33m\u001B[0m\u001B[0m\n\u001B[0m",
      "\u001B[1;31mAttributeError\u001B[0m: 'Sub' object has no attribute 'toast'"
     ]
    }
   ],
   "source": [
    "# 但是不能使用元类的方法\n",
    "print(x.toast())"
   ],
   "metadata": {
    "collapsed": false,
    "pycharm": {
     "name": "#%%\n"
    }
   }
  },
  {
   "cell_type": "code",
   "execution_count": 26,
   "outputs": [
    {
     "name": "stdout",
     "output_type": "stream",
     "text": [
      "eggs\n",
      "spam\n",
      "toast\n"
     ]
    }
   ],
   "source": [
    "# 但是类可以继承属性\n",
    "print(Sub.eggs(x))\n",
    "print(Sub.spam(x))\n",
    "# 类可以使用原类的属性\n",
    "print(Sub.toast())"
   ],
   "metadata": {
    "collapsed": false,
    "pycharm": {
     "name": "#%%\n"
    }
   }
  },
  {
   "cell_type": "markdown",
   "source": [
    "## 8.4.6 元类方法"
   ],
   "metadata": {
    "collapsed": false
   }
  },
  {
   "cell_type": "code",
   "execution_count": 27,
   "outputs": [],
   "source": [
    "class A(type):\n",
    "    def x(cls): print('ax', cls)\n",
    "    def y(cls): print('ay', cls)\n",
    "class B(metaclass=A):\n",
    "    def y(self): print('by', self)\n",
    "    def z(self): print('bz', self)"
   ],
   "metadata": {
    "collapsed": false,
    "pycharm": {
     "name": "#%%\n"
    }
   }
  },
  {
   "cell_type": "code",
   "execution_count": 30,
   "outputs": [
    {
     "name": "stdout",
     "output_type": "stream",
     "text": [
      "<bound method A.x of <class '__main__.B'>>\n",
      "<function B.y at 0x00000218DEC540D8>\n",
      "<function B.z at 0x00000218DEC50318>\n",
      "ax <class '__main__.B'>\n",
      "None\n"
     ]
    }
   ],
   "source": [
    "# 可以看到类继承的元类方法\n",
    "print(B.x)\n",
    "print(B.y)\n",
    "print(B.z)\n",
    "print(B.x())"
   ],
   "metadata": {
    "collapsed": false,
    "pycharm": {
     "name": "#%%\n"
    }
   }
  },
  {
   "cell_type": "code",
   "execution_count": 31,
   "outputs": [
    {
     "name": "stdout",
     "output_type": "stream",
     "text": [
      "by <__main__.B object at 0x00000218DEEEC488>\n"
     ]
    }
   ],
   "source": [
    "I = B()\n",
    "I.y()"
   ],
   "metadata": {
    "collapsed": false,
    "pycharm": {
     "name": "#%%\n"
    }
   }
  },
  {
   "cell_type": "code",
   "execution_count": 32,
   "outputs": [
    {
     "name": "stdout",
     "output_type": "stream",
     "text": [
      "bz <__main__.B object at 0x00000218DEEEC488>\n"
     ]
    },
    {
     "ename": "AttributeError",
     "evalue": "'B' object has no attribute 'x'",
     "output_type": "error",
     "traceback": [
      "\u001B[1;31m---------------------------------------------------------------------------\u001B[0m",
      "\u001B[1;31mAttributeError\u001B[0m                            Traceback (most recent call last)",
      "\u001B[1;32m~\\AppData\\Local\\Temp\\ipykernel_1976\\585237351.py\u001B[0m in \u001B[0;36m<module>\u001B[1;34m\u001B[0m\n\u001B[0;32m      1\u001B[0m \u001B[0mI\u001B[0m\u001B[1;33m.\u001B[0m\u001B[0mz\u001B[0m\u001B[1;33m(\u001B[0m\u001B[1;33m)\u001B[0m\u001B[1;33m\u001B[0m\u001B[1;33m\u001B[0m\u001B[0m\n\u001B[1;32m----> 2\u001B[1;33m \u001B[0mI\u001B[0m\u001B[1;33m.\u001B[0m\u001B[0mx\u001B[0m\u001B[1;33m(\u001B[0m\u001B[1;33m)\u001B[0m\u001B[1;33m\u001B[0m\u001B[1;33m\u001B[0m\u001B[0m\n\u001B[0m",
      "\u001B[1;31mAttributeError\u001B[0m: 'B' object has no attribute 'x'"
     ]
    }
   ],
   "source": [
    "I.z()\n",
    "# 实例化的对象无法获取元类方法\n",
    "I.x()"
   ],
   "metadata": {
    "collapsed": false,
    "pycharm": {
     "name": "#%%\n"
    }
   }
  },
  {
   "cell_type": "code",
   "execution_count": 33,
   "outputs": [],
   "source": [
    "# 元类方法的运算符重载\n",
    "class A(type):\n",
    "    def __getitem__(cls, i):\n",
    "        return cls.data[i]\n",
    "class B(metaclass=A):\n",
    "    data = 'spam'"
   ],
   "metadata": {
    "collapsed": false,
    "pycharm": {
     "name": "#%%\n"
    }
   }
  },
  {
   "cell_type": "code",
   "execution_count": 34,
   "outputs": [
    {
     "name": "stdout",
     "output_type": "stream",
     "text": [
      "s\n",
      "<bound method A.__getitem__ of <class '__main__.B'>>\n"
     ]
    }
   ],
   "source": [
    "print(B[0])\n",
    "print(B.__getitem__)"
   ],
   "metadata": {
    "collapsed": false,
    "pycharm": {
     "name": "#%%\n"
    }
   }
  },
  {
   "cell_type": "code",
   "execution_count": 35,
   "outputs": [
    {
     "name": "stdout",
     "output_type": "stream",
     "text": [
      "spam spam\n"
     ]
    }
   ],
   "source": [
    "I = B()\n",
    "print(I.data, B.data)"
   ],
   "metadata": {
    "collapsed": false,
    "pycharm": {
     "name": "#%%\n"
    }
   }
  },
  {
   "cell_type": "code",
   "execution_count": 36,
   "outputs": [
    {
     "ename": "TypeError",
     "evalue": "'B' object is not subscriptable",
     "output_type": "error",
     "traceback": [
      "\u001B[1;31m---------------------------------------------------------------------------\u001B[0m",
      "\u001B[1;31mTypeError\u001B[0m                                 Traceback (most recent call last)",
      "\u001B[1;32m~\\AppData\\Local\\Temp\\ipykernel_1976\\2938887842.py\u001B[0m in \u001B[0;36m<module>\u001B[1;34m\u001B[0m\n\u001B[0;32m      1\u001B[0m \u001B[1;31m# 对象也无法获取元类的重载方法\u001B[0m\u001B[1;33m\u001B[0m\u001B[1;33m\u001B[0m\u001B[1;33m\u001B[0m\u001B[0m\n\u001B[1;32m----> 2\u001B[1;33m \u001B[0mI\u001B[0m\u001B[1;33m[\u001B[0m\u001B[1;36m0\u001B[0m\u001B[1;33m]\u001B[0m\u001B[1;33m\u001B[0m\u001B[1;33m\u001B[0m\u001B[0m\n\u001B[0m",
      "\u001B[1;31mTypeError\u001B[0m: 'B' object is not subscriptable"
     ]
    }
   ],
   "source": [
    "# 对象也无法获取元类的重载方法\n",
    "I[0]"
   ],
   "metadata": {
    "collapsed": false,
    "pycharm": {
     "name": "#%%\n"
    }
   }
  },
  {
   "cell_type": "code",
   "execution_count": 38,
   "outputs": [
    {
     "name": "stdout",
     "output_type": "stream",
     "text": [
      "SPAM\n",
      "<built-in method upper of str object at 0x00000218DEEEA3F0>\n",
      "<bound method A.__getattr__ of <class '__main__.B'>>\n"
     ]
    }
   ],
   "source": [
    "# 我们在元类中定义一个getattr方法\n",
    "class A(type):\n",
    "    def __getattr__(cls, name):\n",
    "        return getattr(cls.data, name)\n",
    "class B(metaclass=A):\n",
    "    data = 'spam'\n",
    "print(B.upper())\n",
    "print(B.upper)\n",
    "print(B.__getattr__)"
   ],
   "metadata": {
    "collapsed": false,
    "pycharm": {
     "name": "#%%\n"
    }
   }
  },
  {
   "cell_type": "code",
   "execution_count": 39,
   "outputs": [
    {
     "ename": "AttributeError",
     "evalue": "'B' object has no attribute 'upper'",
     "output_type": "error",
     "traceback": [
      "\u001B[1;31m---------------------------------------------------------------------------\u001B[0m",
      "\u001B[1;31mAttributeError\u001B[0m                            Traceback (most recent call last)",
      "\u001B[1;32m~\\AppData\\Local\\Temp\\ipykernel_1976\\267158965.py\u001B[0m in \u001B[0;36m<module>\u001B[1;34m\u001B[0m\n\u001B[0;32m      1\u001B[0m \u001B[0mI\u001B[0m \u001B[1;33m=\u001B[0m \u001B[0mB\u001B[0m\u001B[1;33m(\u001B[0m\u001B[1;33m)\u001B[0m\u001B[1;33m\u001B[0m\u001B[1;33m\u001B[0m\u001B[0m\n\u001B[1;32m----> 2\u001B[1;33m \u001B[0mI\u001B[0m\u001B[1;33m.\u001B[0m\u001B[0mupper\u001B[0m\u001B[1;33m\u001B[0m\u001B[1;33m\u001B[0m\u001B[0m\n\u001B[0m\u001B[0;32m      3\u001B[0m \u001B[0mI\u001B[0m\u001B[1;33m.\u001B[0m\u001B[0m__getattr__\u001B[0m\u001B[1;33m\u001B[0m\u001B[1;33m\u001B[0m\u001B[0m\n",
      "\u001B[1;31mAttributeError\u001B[0m: 'B' object has no attribute 'upper'"
     ]
    }
   ],
   "source": [
    "I = B()\n",
    "I.upper\n",
    "I.__getattr__"
   ],
   "metadata": {
    "collapsed": false,
    "pycharm": {
     "name": "#%%\n"
    }
   }
  },
  {
   "cell_type": "markdown",
   "source": [
    "## 8.4.7 向类添加方法"
   ],
   "metadata": {
    "collapsed": false
   }
  },
  {
   "cell_type": "code",
   "execution_count": 40,
   "outputs": [],
   "source": [
    "# 我们可以通过元类，自动给子类添加方法\n",
    "def eggsfunc(obj):\n",
    "    return obj.value *4\n",
    "def hamfunc(obj, value):\n",
    "    return value+'ham'\n",
    "class Extender(type):\n",
    "    def __new__(meta, classname, supers, classdict):\n",
    "        classdict['eggs'] = eggsfunc\n",
    "        classdict['ham'] = hamfunc\n",
    "        return type.__new__(meta, classname, supers, classdict)\n",
    "class Client1(metaclass=Extender):\n",
    "    def __init__(self,value):\n",
    "        self.value = value\n",
    "    def spam(self):\n",
    "        return self.value * 2\n",
    "class Client2(metaclass=Extender):\n",
    "    value = 'ni?'"
   ],
   "metadata": {
    "collapsed": false,
    "pycharm": {
     "name": "#%%\n"
    }
   }
  },
  {
   "cell_type": "code",
   "execution_count": 41,
   "outputs": [
    {
     "name": "stdout",
     "output_type": "stream",
     "text": [
      "Ni!Ni!\n",
      "Ni!Ni!Ni!Ni!\n",
      "baconham\n"
     ]
    }
   ],
   "source": [
    "x = Client1('Ni!')\n",
    "print(x.spam())\n",
    "print(x.eggs())\n",
    "print(x.ham('bacon'))"
   ],
   "metadata": {
    "collapsed": false,
    "pycharm": {
     "name": "#%%\n"
    }
   }
  },
  {
   "cell_type": "code",
   "execution_count": 46,
   "outputs": [
    {
     "name": "stdout",
     "output_type": "stream",
     "text": [
      "ni?ni?ni?ni?\n",
      "aaaham\n"
     ]
    }
   ],
   "source": [
    "y = Client2()\n",
    "print(y.eggs())\n",
    "print(y.ham('aaa'))"
   ],
   "metadata": {
    "collapsed": false,
    "pycharm": {
     "name": "#%%\n"
    }
   }
  },
  {
   "cell_type": "code",
   "execution_count": 43,
   "outputs": [],
   "source": [
    "# 实际上我们也可以通过装饰器来实现上面的效果\n",
    "def eggsfunc(obj):\n",
    "    return obj.value *4\n",
    "def hamfunc(obj, value):\n",
    "    return value+'ham'\n",
    "def Extender(aClass):\n",
    "    aClass.eggs = eggsfunc\n",
    "    aClass.ham = hamfunc\n",
    "    return aClass"
   ],
   "metadata": {
    "collapsed": false,
    "pycharm": {
     "name": "#%%\n"
    }
   }
  },
  {
   "cell_type": "code",
   "execution_count": 47,
   "outputs": [
    {
     "name": "stdout",
     "output_type": "stream",
     "text": [
      "Ni!Ni!\n",
      "Ni!Ni!Ni!Ni!\n",
      "baconham\n",
      "ni?ni?ni?ni?\n",
      "sssham\n"
     ]
    }
   ],
   "source": [
    "@Extender\n",
    "class Client3:\n",
    "    def __init__(self, value):\n",
    "        self.value = value\n",
    "    def spam(self):\n",
    "        return self.value * 2\n",
    "@Extender\n",
    "class Client4:\n",
    "    value = 'ni?'\n",
    "x = Client3('Ni!')\n",
    "print(x.spam())\n",
    "print(x.eggs())\n",
    "print(x.ham('bacon'))\n",
    "y = Client4()\n",
    "print(y.eggs())\n",
    "print(y.ham('sss'))"
   ],
   "metadata": {
    "collapsed": false,
    "pycharm": {
     "name": "#%%\n"
    }
   }
  },
  {
   "cell_type": "markdown",
   "source": [
    "类装饰器可以扮演和元类一样的角色\n",
    "\n",
    "![](.8_images/c6a44007.png)"
   ],
   "metadata": {
    "collapsed": false,
    "pycharm": {
     "name": "#%% md\n"
    }
   }
  },
  {
   "cell_type": "markdown",
   "source": [
    "## 8.4.8 对方法应用装饰器"
   ],
   "metadata": {
    "collapsed": false
   }
  },
  {
   "cell_type": "code",
   "execution_count": null,
   "outputs": [],
   "source": [],
   "metadata": {
    "collapsed": false,
    "pycharm": {
     "name": "#%%\n"
    }
   }
  },
  {
   "cell_type": "markdown",
   "source": [],
   "metadata": {
    "collapsed": false
   }
  }
 ],
 "metadata": {
  "kernelspec": {
   "display_name": "Python 3",
   "language": "python",
   "name": "python3"
  },
  "language_info": {
   "codemirror_mode": {
    "name": "ipython",
    "version": 2
   },
   "file_extension": ".py",
   "mimetype": "text/x-python",
   "name": "python",
   "nbconvert_exporter": "python",
   "pygments_lexer": "ipython2",
   "version": "2.7.6"
  }
 },
 "nbformat": 4,
 "nbformat_minor": 0
}