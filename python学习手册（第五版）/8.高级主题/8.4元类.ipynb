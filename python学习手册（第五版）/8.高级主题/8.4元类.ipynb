{
 "cells": [
  {
   "cell_type": "markdown",
   "metadata": {
    "collapsed": true,
    "pycharm": {
     "name": "#%% md\n"
    }
   },
   "source": [
    "## 8.4.1 勇敢面对还是知难而退"
   ]
  },
  {
   "cell_type": "markdown",
   "metadata": {
    "collapsed": false
   },
   "source": [
    "## 8.4.2 元类模型"
   ]
  },
  {
   "cell_type": "code",
   "execution_count": 2,
   "metadata": {
    "collapsed": false,
    "pycharm": {
     "name": "#%%\n"
    }
   },
   "outputs": [
    {
     "name": "stdout",
     "output_type": "stream",
     "text": [
      "1\n",
      "5\n"
     ]
    }
   ],
   "source": [
    "# 我们可以通过type来直接创建一个类\n",
    "import typing_extensions\n",
    "\n",
    "\n",
    "class Eggs: pass\n",
    "class Spam(Eggs):\n",
    "    data = 1\n",
    "    def meth(self, arg):\n",
    "        return self.data + arg\n",
    "\n",
    "# 我们使用type来创建一个和上面Spam一样的类\n",
    "Spam2 = type('Spam2',(Eggs,),{'data':1, 'meth': (lambda x,y: x.data+y)})\n",
    "s = Spam2()\n",
    "print(s.data)\n",
    "print(s.meth(4))"
   ]
  },
  {
   "cell_type": "markdown",
   "metadata": {
    "collapsed": false
   },
   "source": [
    "## 8.4.3 声明元类"
   ]
  },
  {
   "cell_type": "code",
   "execution_count": null,
   "metadata": {
    "collapsed": false,
    "pycharm": {
     "name": "#%%\n"
    }
   },
   "outputs": [],
   "source": [
    "# 元类可以这样去声明\n",
    "class Spam(metaclass=None): pass"
   ]
  },
  {
   "cell_type": "markdown",
   "metadata": {
    "collapsed": false
   },
   "source": [
    "## 8.4.4 编写元类"
   ]
  },
  {
   "cell_type": "code",
   "execution_count": 3,
   "metadata": {
    "collapsed": false,
    "pycharm": {
     "name": "#%%\n"
    }
   },
   "outputs": [],
   "source": [
    "# 下面我们来创建一个元类\n",
    "class MetaOne(type):\n",
    "    def __new__(meta, classname, supers, classdict):\n",
    "        print('in metaone.new:', meta,classname,supers,classdict,sep='\\n')\n",
    "        return type.__new__(meta, classname, supers, classdict)"
   ]
  },
  {
   "cell_type": "code",
   "execution_count": 4,
   "metadata": {
    "collapsed": false,
    "pycharm": {
     "name": "#%%\n"
    }
   },
   "outputs": [
    {
     "name": "stdout",
     "output_type": "stream",
     "text": [
      "making class....\n",
      "in metaone.new:\n",
      "<class '__main__.MetaOne'>\n",
      "Spam\n",
      "(<class '__main__.Eggs'>,)\n",
      "{'__module__': '__main__', '__qualname__': 'Spam', 'data': 1, 'meth': <function Spam.meth at 0x000002156BD7D678>}\n",
      "making instance....\n",
      "data: 1 3\n"
     ]
    }
   ],
   "source": [
    "# 然后我们可以这样使用\n",
    "class Eggs:\n",
    "    pass\n",
    "print('making class....')\n",
    "class Spam(Eggs, metaclass=MetaOne):\n",
    "    data = 1\n",
    "    def meth(self, arg):\n",
    "        return self.data + arg\n",
    "print('making instance....')\n",
    "x=Spam()\n",
    "print('data:', x.data, x.meth(2))"
   ]
  },
  {
   "cell_type": "code",
   "execution_count": 5,
   "metadata": {
    "collapsed": false,
    "pycharm": {
     "name": "#%%\n"
    }
   },
   "outputs": [],
   "source": [
    "# 元类还可以接入init，new创建并返回了类对象，然后init初始化了一个参数被传入的已经创建了的类\n",
    "class MetaTwo(type):\n",
    "    def __new__(meta, classname, supers, classdict):\n",
    "        print('in metaTwo new:', meta,classname,supers,classdict,sep='\\n')\n",
    "        return type.__new__(meta, classname, supers, classdict)\n",
    "    def __init__(Class, classname, supers, classdict):\n",
    "        print('in metaTwo init:', Class,classname,supers,classdict,sep='\\n')\n",
    "        print('...init class object:', list(Class.__dict__.keys()))"
   ]
  },
  {
   "cell_type": "code",
   "execution_count": 6,
   "metadata": {
    "collapsed": false,
    "pycharm": {
     "name": "#%%\n"
    }
   },
   "outputs": [
    {
     "name": "stdout",
     "output_type": "stream",
     "text": [
      "making class....\n",
      "in metaTwo new:\n",
      "<class '__main__.MetaTwo'>\n",
      "Spam\n",
      "(<class '__main__.Eggs'>,)\n",
      "{'__module__': '__main__', '__qualname__': 'Spam', 'data': 1, 'meth': <function Spam.meth at 0x000002156BD7D4C8>}\n",
      "in metaTwo init:\n",
      "<class '__main__.Spam'>\n",
      "Spam\n",
      "(<class '__main__.Eggs'>,)\n",
      "{'__module__': '__main__', '__qualname__': 'Spam', 'data': 1, 'meth': <function Spam.meth at 0x000002156BD7D4C8>}\n",
      "...init class object: ['__module__', 'data', 'meth', '__doc__']\n",
      "making instance....\n",
      "data: 1 3\n"
     ]
    }
   ],
   "source": [
    "class Eggs:\n",
    "    pass\n",
    "print('making class....')\n",
    "class Spam(Eggs, metaclass=MetaTwo):\n",
    "    data = 1\n",
    "    def meth(self, arg):\n",
    "        return self.data + arg\n",
    "print('making instance....')\n",
    "x=Spam()\n",
    "print('data:', x.data, x.meth(2))"
   ]
  },
  {
   "cell_type": "code",
   "execution_count": 7,
   "metadata": {
    "collapsed": false,
    "pycharm": {
     "name": "#%%\n"
    }
   },
   "outputs": [],
   "source": [
    "# 元类不一定是类，也可以是一个函数\n",
    "def MetaFunc(classname,suupers,clasdict):\n",
    "    print('in meta func', classname, suupers, clasdict,sep='\\n..')\n",
    "    return type(classname, suupers, clasdict)\n"
   ]
  },
  {
   "cell_type": "code",
   "execution_count": 8,
   "metadata": {
    "collapsed": false,
    "pycharm": {
     "name": "#%%\n"
    }
   },
   "outputs": [
    {
     "name": "stdout",
     "output_type": "stream",
     "text": [
      "making class....\n",
      "in meta func\n",
      "..Spam\n",
      "..(<class '__main__.Eggs'>,)\n",
      "..{'__module__': '__main__', '__qualname__': 'Spam', 'data': 1, 'meth': <function Spam.meth at 0x000002156BD535E8>}\n",
      "making instance....\n",
      "data: 1 3\n"
     ]
    }
   ],
   "source": [
    "class Eggs:\n",
    "    pass\n",
    "print('making class....')\n",
    "class Spam(Eggs, metaclass=MetaFunc):\n",
    "    data = 1\n",
    "    def meth(self, arg):\n",
    "        return self.data + arg\n",
    "print('making instance....')\n",
    "x=Spam()\n",
    "print('data:', x.data, x.meth(2))"
   ]
  },
  {
   "cell_type": "code",
   "execution_count": 11,
   "metadata": {
    "collapsed": false,
    "pycharm": {
     "name": "#%%\n"
    }
   },
   "outputs": [
    {
     "name": "stdout",
     "output_type": "stream",
     "text": [
      "making meta class\n",
      "in supermeta init\n",
      "..SubMeta\n",
      "..(<class 'type'>,)\n",
      "..{'__module__': '__main__', '__qualname__': 'SubMeta', '__new__': <function SubMeta.__new__ at 0x000002156BD7DEE8>, '__init__': <function SubMeta.__init__ at 0x000002156BD7DCA8>}\n",
      "...init class object: ['__module__', '__new__', '__init__', '__doc__']\n"
     ]
    }
   ],
   "source": [
    "# 下面演示一下元类的重载\n",
    "class SuperMeta(type):\n",
    "    def __call__(meta, classname, supers, classdict):\n",
    "        print('in supermeta call', classname, supers, classdict, sep='\\n..')\n",
    "        return type.__call__(meta, classname, supers, classdict)\n",
    "    def __init__(Class, classname, supers, classdict):\n",
    "        print('in supermeta init', classname, supers, classdict, sep='\\n..')\n",
    "        print(\"...init class object:\", list(Class.__dict__.keys()))\n",
    "print('making meta class')\n",
    "class SubMeta(type, metaclass=SuperMeta):\n",
    "    def __new__(meta, classname, supers, classdict):\n",
    "        print('in subMeta bew', classname, supers, classdict, sep='\\n..')\n",
    "        return type.__new__(meta, classname, supers, classdict)\n",
    "    def __init__(Class, classname, supers, classdict):\n",
    "        print('in SubMeta init', classname, supers, classdict, sep='\\n..')\n",
    "        print(\"...init class object:\", list(Class.__dict__.keys()))"
   ]
  },
  {
   "cell_type": "code",
   "execution_count": 12,
   "metadata": {
    "collapsed": false,
    "pycharm": {
     "name": "#%%\n"
    }
   },
   "outputs": [
    {
     "name": "stdout",
     "output_type": "stream",
     "text": [
      "making class....\n",
      "in supermeta call\n",
      "..Spam\n",
      "..(<class '__main__.Eggs'>,)\n",
      "..{'__module__': '__main__', '__qualname__': 'Spam', 'data': 1, 'meth': <function Spam.meth at 0x000002156BD7F5E8>}\n",
      "in subMeta bew\n",
      "..Spam\n",
      "..(<class '__main__.Eggs'>,)\n",
      "..{'__module__': '__main__', '__qualname__': 'Spam', 'data': 1, 'meth': <function Spam.meth at 0x000002156BD7F5E8>}\n",
      "in SubMeta init\n",
      "..Spam\n",
      "..(<class '__main__.Eggs'>,)\n",
      "..{'__module__': '__main__', '__qualname__': 'Spam', 'data': 1, 'meth': <function Spam.meth at 0x000002156BD7F5E8>}\n",
      "...init class object: ['__module__', 'data', 'meth', '__doc__']\n",
      "making instance....\n",
      "data: 1 3\n"
     ]
    }
   ],
   "source": [
    "class Eggs:\n",
    "    pass\n",
    "print('making class....')\n",
    "class Spam(Eggs, metaclass=SubMeta):\n",
    "    data = 1\n",
    "    def meth(self, arg):\n",
    "        return self.data + arg\n",
    "print('making instance....')\n",
    "x=Spam()\n",
    "print('data:', x.data, x.meth(2))"
   ]
  },
  {
   "cell_type": "markdown",
   "metadata": {
    "collapsed": false
   },
   "source": [
    "## 8.4.5 继承与实例"
   ]
  },
  {
   "cell_type": "code",
   "execution_count": 13,
   "metadata": {
    "collapsed": false,
    "pycharm": {
     "name": "#%%\n"
    }
   },
   "outputs": [
    {
     "name": "stdout",
     "output_type": "stream",
     "text": [
      "in MetaOne new Super\n",
      "in MetaOne new Sub\n"
     ]
    }
   ],
   "source": [
    "class MetaOne(type):\n",
    "    def __new__(meta, classname, supers, classdict):\n",
    "        print('in MetaOne new', classname)\n",
    "        return type.__new__(meta, classname, supers, classdict)\n",
    "    def toast(self):\n",
    "        return 'toast'\n",
    "class Super(metaclass=MetaOne):\n",
    "    def spam(self):\n",
    "        return 'spam'\n",
    "class Sub(Super):\n",
    "    def eggs(self):\n",
    "        return 'eggs'"
   ]
  },
  {
   "cell_type": "code",
   "execution_count": 14,
   "metadata": {
    "collapsed": false,
    "pycharm": {
     "name": "#%%\n"
    }
   },
   "outputs": [
    {
     "name": "stdout",
     "output_type": "stream",
     "text": [
      "eggs\n",
      "spam\n"
     ]
    }
   ],
   "source": [
    "x = Sub()\n",
    "# 正常的类继承是可以使用的\n",
    "print(x.eggs())\n",
    "print(x.spam())"
   ]
  },
  {
   "cell_type": "code",
   "execution_count": 15,
   "metadata": {
    "collapsed": false,
    "pycharm": {
     "name": "#%%\n"
    }
   },
   "outputs": [
    {
     "ename": "AttributeError",
     "evalue": "'Sub' object has no attribute 'toast'",
     "output_type": "error",
     "traceback": [
      "\u001b[1;31m---------------------------------------------------------------------------\u001b[0m",
      "\u001b[1;31mAttributeError\u001b[0m                            Traceback (most recent call last)",
      "\u001b[1;32m~\\AppData\\Local\\Temp\\ipykernel_7588\\3994192030.py\u001b[0m in \u001b[0;36m<module>\u001b[1;34m\u001b[0m\n\u001b[0;32m      1\u001b[0m \u001b[1;31m# 但是不能使用元类的方法\u001b[0m\u001b[1;33m\u001b[0m\u001b[1;33m\u001b[0m\u001b[1;33m\u001b[0m\u001b[0m\n\u001b[1;32m----> 2\u001b[1;33m \u001b[0mprint\u001b[0m\u001b[1;33m(\u001b[0m\u001b[0mx\u001b[0m\u001b[1;33m.\u001b[0m\u001b[0mtoast\u001b[0m\u001b[1;33m(\u001b[0m\u001b[1;33m)\u001b[0m\u001b[1;33m)\u001b[0m\u001b[1;33m\u001b[0m\u001b[1;33m\u001b[0m\u001b[0m\n\u001b[0m",
      "\u001b[1;31mAttributeError\u001b[0m: 'Sub' object has no attribute 'toast'"
     ]
    }
   ],
   "source": [
    "# 但是不能使用元类的方法\n",
    "print(x.toast())"
   ]
  },
  {
   "cell_type": "code",
   "execution_count": 16,
   "metadata": {
    "collapsed": false,
    "pycharm": {
     "name": "#%%\n"
    }
   },
   "outputs": [
    {
     "name": "stdout",
     "output_type": "stream",
     "text": [
      "eggs\n",
      "spam\n",
      "toast\n"
     ]
    }
   ],
   "source": [
    "# 但是类可以继承属性\n",
    "print(Sub.eggs(x))\n",
    "print(Sub.spam(x))\n",
    "# 类可以使用原类的属性\n",
    "print(Sub.toast())"
   ]
  },
  {
   "cell_type": "markdown",
   "metadata": {
    "collapsed": false
   },
   "source": [
    "## 8.4.6 元类方法"
   ]
  },
  {
   "cell_type": "code",
   "execution_count": 17,
   "metadata": {
    "collapsed": false,
    "pycharm": {
     "name": "#%%\n"
    }
   },
   "outputs": [],
   "source": [
    "class A(type):\n",
    "    def x(cls): print('ax', cls)\n",
    "    def y(cls): print('ay', cls)\n",
    "class B(metaclass=A):\n",
    "    def y(self): print('by', self)\n",
    "    def z(self): print('bz', self)"
   ]
  },
  {
   "cell_type": "code",
   "execution_count": 18,
   "metadata": {
    "collapsed": false,
    "pycharm": {
     "name": "#%%\n"
    }
   },
   "outputs": [
    {
     "name": "stdout",
     "output_type": "stream",
     "text": [
      "<bound method A.x of <class '__main__.B'>>\n",
      "<function B.y at 0x000002156BD82DC8>\n",
      "<function B.z at 0x000002156BE413A8>\n",
      "ax <class '__main__.B'>\n",
      "None\n"
     ]
    }
   ],
   "source": [
    "# 可以看到类继承的元类方法\n",
    "print(B.x)\n",
    "print(B.y)\n",
    "print(B.z)\n",
    "print(B.x())"
   ]
  },
  {
   "cell_type": "code",
   "execution_count": 19,
   "metadata": {
    "collapsed": false,
    "pycharm": {
     "name": "#%%\n"
    }
   },
   "outputs": [
    {
     "name": "stdout",
     "output_type": "stream",
     "text": [
      "by <__main__.B object at 0x000002156BE43748>\n"
     ]
    }
   ],
   "source": [
    "I = B()\n",
    "I.y()"
   ]
  },
  {
   "cell_type": "code",
   "execution_count": 20,
   "metadata": {
    "collapsed": false,
    "pycharm": {
     "name": "#%%\n"
    }
   },
   "outputs": [
    {
     "name": "stdout",
     "output_type": "stream",
     "text": [
      "bz <__main__.B object at 0x000002156BE43748>\n"
     ]
    },
    {
     "ename": "AttributeError",
     "evalue": "'B' object has no attribute 'x'",
     "output_type": "error",
     "traceback": [
      "\u001b[1;31m---------------------------------------------------------------------------\u001b[0m",
      "\u001b[1;31mAttributeError\u001b[0m                            Traceback (most recent call last)",
      "\u001b[1;32m~\\AppData\\Local\\Temp\\ipykernel_7588\\937650039.py\u001b[0m in \u001b[0;36m<module>\u001b[1;34m\u001b[0m\n\u001b[0;32m      1\u001b[0m \u001b[0mI\u001b[0m\u001b[1;33m.\u001b[0m\u001b[0mz\u001b[0m\u001b[1;33m(\u001b[0m\u001b[1;33m)\u001b[0m\u001b[1;33m\u001b[0m\u001b[1;33m\u001b[0m\u001b[0m\n\u001b[0;32m      2\u001b[0m \u001b[1;31m# 实例化的对象无法获取元类方法\u001b[0m\u001b[1;33m\u001b[0m\u001b[1;33m\u001b[0m\u001b[1;33m\u001b[0m\u001b[0m\n\u001b[1;32m----> 3\u001b[1;33m \u001b[0mI\u001b[0m\u001b[1;33m.\u001b[0m\u001b[0mx\u001b[0m\u001b[1;33m(\u001b[0m\u001b[1;33m)\u001b[0m\u001b[1;33m\u001b[0m\u001b[1;33m\u001b[0m\u001b[0m\n\u001b[0m",
      "\u001b[1;31mAttributeError\u001b[0m: 'B' object has no attribute 'x'"
     ]
    }
   ],
   "source": [
    "I.z()\n",
    "# 实例化的对象无法获取元类方法\n",
    "I.x()"
   ]
  },
  {
   "cell_type": "code",
   "execution_count": 21,
   "metadata": {
    "collapsed": false,
    "pycharm": {
     "name": "#%%\n"
    }
   },
   "outputs": [],
   "source": [
    "# 元类方法的运算符重载\n",
    "class A(type):\n",
    "    def __getitem__(cls, i):\n",
    "        return cls.data[i]\n",
    "class B(metaclass=A):\n",
    "    data = 'spam'"
   ]
  },
  {
   "cell_type": "code",
   "execution_count": 22,
   "metadata": {
    "collapsed": false,
    "pycharm": {
     "name": "#%%\n"
    }
   },
   "outputs": [
    {
     "name": "stdout",
     "output_type": "stream",
     "text": [
      "s\n",
      "<bound method A.__getitem__ of <class '__main__.B'>>\n"
     ]
    }
   ],
   "source": [
    "print(B[0])\n",
    "print(B.__getitem__)"
   ]
  },
  {
   "cell_type": "code",
   "execution_count": 23,
   "metadata": {
    "collapsed": false,
    "pycharm": {
     "name": "#%%\n"
    }
   },
   "outputs": [
    {
     "name": "stdout",
     "output_type": "stream",
     "text": [
      "spam spam\n"
     ]
    }
   ],
   "source": [
    "I = B()\n",
    "print(I.data, B.data)"
   ]
  },
  {
   "cell_type": "code",
   "execution_count": 24,
   "metadata": {
    "collapsed": false,
    "pycharm": {
     "name": "#%%\n"
    }
   },
   "outputs": [
    {
     "ename": "TypeError",
     "evalue": "'B' object is not subscriptable",
     "output_type": "error",
     "traceback": [
      "\u001b[1;31m---------------------------------------------------------------------------\u001b[0m",
      "\u001b[1;31mTypeError\u001b[0m                                 Traceback (most recent call last)",
      "\u001b[1;32m~\\AppData\\Local\\Temp\\ipykernel_7588\\80974723.py\u001b[0m in \u001b[0;36m<module>\u001b[1;34m\u001b[0m\n\u001b[0;32m      1\u001b[0m \u001b[1;31m# 对象也无法获取元类的重载方法\u001b[0m\u001b[1;33m\u001b[0m\u001b[1;33m\u001b[0m\u001b[1;33m\u001b[0m\u001b[0m\n\u001b[1;32m----> 2\u001b[1;33m \u001b[0mI\u001b[0m\u001b[1;33m[\u001b[0m\u001b[1;36m0\u001b[0m\u001b[1;33m]\u001b[0m\u001b[1;33m\u001b[0m\u001b[1;33m\u001b[0m\u001b[0m\n\u001b[0m",
      "\u001b[1;31mTypeError\u001b[0m: 'B' object is not subscriptable"
     ]
    }
   ],
   "source": [
    "# 对象也无法获取元类的重载方法\n",
    "I[0]"
   ]
  },
  {
   "cell_type": "code",
   "execution_count": 25,
   "metadata": {
    "collapsed": false,
    "pycharm": {
     "name": "#%%\n"
    }
   },
   "outputs": [
    {
     "name": "stdout",
     "output_type": "stream",
     "text": [
      "SPAM\n",
      "<built-in method upper of str object at 0x000002156BD280B0>\n",
      "<bound method A.__getattr__ of <class '__main__.B'>>\n"
     ]
    }
   ],
   "source": [
    "# 我们在元类中定义一个getattr方法\n",
    "class A(type):\n",
    "    def __getattr__(cls, name):\n",
    "        return getattr(cls.data, name)\n",
    "class B(metaclass=A):\n",
    "    data = 'spam'\n",
    "print(B.upper())\n",
    "print(B.upper)\n",
    "print(B.__getattr__)"
   ]
  },
  {
   "cell_type": "code",
   "execution_count": 26,
   "metadata": {
    "collapsed": false,
    "pycharm": {
     "name": "#%%\n"
    }
   },
   "outputs": [
    {
     "ename": "AttributeError",
     "evalue": "'B' object has no attribute 'upper'",
     "output_type": "error",
     "traceback": [
      "\u001b[1;31m---------------------------------------------------------------------------\u001b[0m",
      "\u001b[1;31mAttributeError\u001b[0m                            Traceback (most recent call last)",
      "\u001b[1;32m~\\AppData\\Local\\Temp\\ipykernel_7588\\721562548.py\u001b[0m in \u001b[0;36m<module>\u001b[1;34m\u001b[0m\n\u001b[0;32m      1\u001b[0m \u001b[0mI\u001b[0m \u001b[1;33m=\u001b[0m \u001b[0mB\u001b[0m\u001b[1;33m(\u001b[0m\u001b[1;33m)\u001b[0m\u001b[1;33m\u001b[0m\u001b[1;33m\u001b[0m\u001b[0m\n\u001b[1;32m----> 2\u001b[1;33m \u001b[0mI\u001b[0m\u001b[1;33m.\u001b[0m\u001b[0mupper\u001b[0m\u001b[1;33m\u001b[0m\u001b[1;33m\u001b[0m\u001b[0m\n\u001b[0m\u001b[0;32m      3\u001b[0m \u001b[0mI\u001b[0m\u001b[1;33m.\u001b[0m\u001b[0m__getattr__\u001b[0m\u001b[1;33m\u001b[0m\u001b[1;33m\u001b[0m\u001b[0m\n",
      "\u001b[1;31mAttributeError\u001b[0m: 'B' object has no attribute 'upper'"
     ]
    }
   ],
   "source": [
    "I = B()\n",
    "I.upper\n",
    "I.__getattr__"
   ]
  },
  {
   "cell_type": "markdown",
   "metadata": {
    "collapsed": false
   },
   "source": [
    "## 8.4.7 向类添加方法"
   ]
  },
  {
   "cell_type": "code",
   "execution_count": 27,
   "metadata": {
    "collapsed": false,
    "pycharm": {
     "name": "#%%\n"
    }
   },
   "outputs": [],
   "source": [
    "# 我们可以通过元类，自动给子类添加方法\n",
    "def eggsfunc(obj):\n",
    "    return obj.value *4\n",
    "def hamfunc(obj, value):\n",
    "    return value+'ham'\n",
    "class Extender(type):\n",
    "    def __new__(meta, classname, supers, classdict):\n",
    "        classdict['eggs'] = eggsfunc\n",
    "        classdict['ham'] = hamfunc\n",
    "        return type.__new__(meta, classname, supers, classdict)\n",
    "class Client1(metaclass=Extender):\n",
    "    def __init__(self,value):\n",
    "        self.value = value\n",
    "    def spam(self):\n",
    "        return self.value * 2\n",
    "class Client2(metaclass=Extender):\n",
    "    value = 'ni?'"
   ]
  },
  {
   "cell_type": "code",
   "execution_count": 28,
   "metadata": {
    "collapsed": false,
    "pycharm": {
     "name": "#%%\n"
    }
   },
   "outputs": [
    {
     "name": "stdout",
     "output_type": "stream",
     "text": [
      "Ni!Ni!\n",
      "Ni!Ni!Ni!Ni!\n",
      "baconham\n"
     ]
    }
   ],
   "source": [
    "x = Client1('Ni!')\n",
    "print(x.spam())\n",
    "print(x.eggs())\n",
    "print(x.ham('bacon'))"
   ]
  },
  {
   "cell_type": "code",
   "execution_count": 29,
   "metadata": {
    "collapsed": false,
    "pycharm": {
     "name": "#%%\n"
    }
   },
   "outputs": [
    {
     "name": "stdout",
     "output_type": "stream",
     "text": [
      "ni?ni?ni?ni?\n",
      "aaaham\n"
     ]
    }
   ],
   "source": [
    "y = Client2()\n",
    "print(y.eggs())\n",
    "print(y.ham('aaa'))"
   ]
  },
  {
   "cell_type": "code",
   "execution_count": 30,
   "metadata": {
    "collapsed": false,
    "pycharm": {
     "name": "#%%\n"
    }
   },
   "outputs": [],
   "source": [
    "# 实际上我们也可以通过装饰器来实现上面的效果\n",
    "def eggsfunc(obj):\n",
    "    return obj.value *4\n",
    "def hamfunc(obj, value):\n",
    "    return value+'ham'\n",
    "def Extender(aClass):\n",
    "    aClass.eggs = eggsfunc\n",
    "    aClass.ham = hamfunc\n",
    "    return aClass"
   ]
  },
  {
   "cell_type": "code",
   "execution_count": 31,
   "metadata": {
    "collapsed": false,
    "pycharm": {
     "name": "#%%\n"
    }
   },
   "outputs": [
    {
     "name": "stdout",
     "output_type": "stream",
     "text": [
      "Ni!Ni!\n",
      "Ni!Ni!Ni!Ni!\n",
      "baconham\n",
      "ni?ni?ni?ni?\n",
      "sssham\n"
     ]
    }
   ],
   "source": [
    "@Extender\n",
    "class Client3:\n",
    "    def __init__(self, value):\n",
    "        self.value = value\n",
    "    def spam(self):\n",
    "        return self.value * 2\n",
    "@Extender\n",
    "class Client4:\n",
    "    value = 'ni?'\n",
    "x = Client3('Ni!')\n",
    "print(x.spam())\n",
    "print(x.eggs())\n",
    "print(x.ham('bacon'))\n",
    "y = Client4()\n",
    "print(y.eggs())\n",
    "print(y.ham('sss'))"
   ]
  },
  {
   "cell_type": "markdown",
   "metadata": {
    "collapsed": false,
    "pycharm": {
     "name": "#%% md\n"
    }
   },
   "source": [
    "类装饰器可以扮演和元类一样的角色\n",
    "\n",
    "![](.8_images/c6a44007.png)"
   ]
  },
  {
   "cell_type": "markdown",
   "metadata": {
    "collapsed": false
   },
   "source": [
    "## 8.4.8 对方法应用装饰器"
   ]
  },
  {
   "cell_type": "code",
   "execution_count": null,
   "metadata": {
    "collapsed": false,
    "pycharm": {
     "name": "#%%\n"
    }
   },
   "outputs": [],
   "source": []
  },
  {
   "cell_type": "markdown",
   "metadata": {
    "collapsed": false
   },
   "source": []
  }
 ],
 "metadata": {
  "kernelspec": {
   "display_name": "Python 3",
   "language": "python",
   "name": "python3"
  },
  "language_info": {
   "codemirror_mode": {
    "name": "ipython",
    "version": 3
   },
   "file_extension": ".py",
   "mimetype": "text/x-python",
   "name": "python",
   "nbconvert_exporter": "python",
   "pygments_lexer": "ipython3",
   "version": "3.7.7"
  }
 },
 "nbformat": 4,
 "nbformat_minor": 0
}
