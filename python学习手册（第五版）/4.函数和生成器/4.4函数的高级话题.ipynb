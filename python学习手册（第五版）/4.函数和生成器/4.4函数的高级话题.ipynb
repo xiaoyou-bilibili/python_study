{
 "cells": [
  {
   "cell_type": "markdown",
   "metadata": {
    "collapsed": true,
    "pycharm": {
     "name": "#%% md\n"
    }
   },
   "source": [
    "## 4.4.1 函数设计概念"
   ]
  },
  {
   "cell_type": "markdown",
   "source": [
    "## 4.4.2 递归函数"
   ],
   "metadata": {
    "collapsed": false
   }
  },
  {
   "cell_type": "code",
   "execution_count": 2,
   "outputs": [
    {
     "name": "stdout",
     "output_type": "stream",
     "text": [
      "[1, 2, 3, 4, 5]\n",
      "[2, 3, 4, 5]\n",
      "[3, 4, 5]\n",
      "[4, 5]\n",
      "[5]\n",
      "[]\n",
      "15\n"
     ]
    }
   ],
   "source": [
    "# 使用递归求和\n",
    "def mysum(l):\n",
    "    print(l)\n",
    "    if not l:\n",
    "        return 0\n",
    "    else:\n",
    "        return l[0]+mysum(l[1:])\n",
    "print(mysum([1,2,3,4,5]))"
   ],
   "metadata": {
    "collapsed": false,
    "pycharm": {
     "name": "#%%\n"
    }
   }
  },
  {
   "cell_type": "markdown",
   "source": [
    "### 4.4.2.2 编码代替方案"
   ],
   "metadata": {
    "collapsed": false
   }
  },
  {
   "cell_type": "code",
   "execution_count": 4,
   "outputs": [
    {
     "name": "stdout",
     "output_type": "stream",
     "text": [
      "15\n"
     ]
    }
   ],
   "source": [
    "# 上面这个可以简化一下\n",
    "def mysum(l):\n",
    "    return 0 if not l else  l[0]+mysum(l[1:])\n",
    "print(mysum([1,2,3,4,5]))"
   ],
   "metadata": {
    "collapsed": false,
    "pycharm": {
     "name": "#%%\n"
    }
   }
  },
  {
   "cell_type": "code",
   "execution_count": 6,
   "outputs": [
    {
     "name": "stdout",
     "output_type": "stream",
     "text": [
      "15\n",
      "spam\n"
     ]
    }
   ],
   "source": [
    "# 可以使用解包来做\n",
    "def mysum(l):\n",
    "    first,*rest = l\n",
    "    return first if not rest else first+mysum(rest)\n",
    "print(mysum([1,2,3,4,5]))\n",
    "print(mysum(['s','p','a','m']))"
   ],
   "metadata": {
    "collapsed": false,
    "pycharm": {
     "name": "#%%\n"
    }
   }
  },
  {
   "cell_type": "markdown",
   "source": [
    "### 4.4.2.3 循环语句vs递归"
   ],
   "metadata": {
    "collapsed": false
   }
  },
  {
   "cell_type": "markdown",
   "source": [
    "### 4.4.2.4 处理任意结构"
   ],
   "metadata": {
    "collapsed": false
   }
  },
  {
   "cell_type": "code",
   "execution_count": 7,
   "outputs": [
    {
     "name": "stdout",
     "output_type": "stream",
     "text": [
      "36\n"
     ]
    }
   ],
   "source": [
    "# 使用递归可以遍历多重嵌套函数\n",
    "def sumtree(l):\n",
    "    tot = 0\n",
    "    for x in l:\n",
    "        if not isinstance(x, list):\n",
    "            tot +=x\n",
    "        else:\n",
    "            tot += sumtree(x)\n",
    "    return tot\n",
    "\n",
    "print(sumtree([1,[2,[3,4],5],6,[7,8]]))"
   ],
   "metadata": {
    "collapsed": false,
    "pycharm": {
     "name": "#%%\n"
    }
   }
  },
  {
   "cell_type": "markdown",
   "source": [
    "## 4.4.3 函数对象：属性和注解"
   ],
   "metadata": {
    "collapsed": false
   }
  },
  {
   "cell_type": "markdown",
   "source": [
    "### 4.4.3.1 间接函数调用"
   ],
   "metadata": {
    "collapsed": false
   }
  },
  {
   "cell_type": "code",
   "execution_count": 8,
   "outputs": [
    {
     "name": "stdout",
     "output_type": "stream",
     "text": [
      "直接调用\n",
      "间接调用\n"
     ]
    }
   ],
   "source": [
    "# 函数可以作为对象\n",
    "def echo(message):\n",
    "    print(message)\n",
    "echo('直接调用')\n",
    "x = echo\n",
    "x(\"间接调用\")"
   ],
   "metadata": {
    "collapsed": false,
    "pycharm": {
     "name": "#%%\n"
    }
   }
  },
  {
   "cell_type": "code",
   "execution_count": 9,
   "outputs": [
    {
     "name": "stdout",
     "output_type": "stream",
     "text": [
      "参数调用\n"
     ]
    }
   ],
   "source": [
    "# 参数可以是函数类型\n",
    "def indirect(func,arg):\n",
    "    func(arg)\n",
    "indirect(echo,'参数调用')"
   ],
   "metadata": {
    "collapsed": false,
    "pycharm": {
     "name": "#%%\n"
    }
   }
  },
  {
   "cell_type": "code",
   "execution_count": 11,
   "outputs": [
    {
     "name": "stdout",
     "output_type": "stream",
     "text": [
      "spam\n",
      "ham\n"
     ]
    }
   ],
   "source": [
    "# 可以把函数存入数据机构中\n",
    "schedule = [(echo,'spam'),(echo,'ham')]\n",
    "for (func,arg) in schedule:\n",
    "    func(arg)"
   ],
   "metadata": {
    "collapsed": false,
    "pycharm": {
     "name": "#%%\n"
    }
   }
  },
  {
   "cell_type": "markdown",
   "source": [
    "### 4.4.3.2 函数自省"
   ],
   "metadata": {
    "collapsed": false
   }
  },
  {
   "cell_type": "code",
   "execution_count": 12,
   "outputs": [
    {
     "name": "stdout",
     "output_type": "stream",
     "text": [
      "spamspamspamspamspamspamspamspam\n"
     ]
    }
   ],
   "source": [
    "def func(a):\n",
    "    b = 'spam'\n",
    "    return b*a\n",
    "print(func(8))"
   ],
   "metadata": {
    "collapsed": false,
    "pycharm": {
     "name": "#%%\n"
    }
   }
  },
  {
   "cell_type": "code",
   "execution_count": 13,
   "outputs": [
    {
     "name": "stdout",
     "output_type": "stream",
     "text": [
      "func\n",
      "['__annotations__', '__call__', '__class__', '__closure__', '__code__', '__defaults__', '__delattr__', '__dict__', '__dir__', '__doc__', '__eq__', '__format__', '__ge__', '__get__', '__getattribute__', '__globals__', '__gt__', '__hash__', '__init__', '__init_subclass__', '__kwdefaults__', '__le__', '__lt__', '__module__', '__name__', '__ne__', '__new__', '__qualname__', '__reduce__', '__reduce_ex__', '__repr__', '__setattr__', '__sizeof__', '__str__', '__subclasshook__']\n"
     ]
    }
   ],
   "source": [
    "# 我们可以检查函数的属性\n",
    "print(func.__name__)\n",
    "print(dir(func))"
   ],
   "metadata": {
    "collapsed": false,
    "pycharm": {
     "name": "#%%\n"
    }
   }
  },
  {
   "cell_type": "code",
   "execution_count": 15,
   "outputs": [
    {
     "name": "stdout",
     "output_type": "stream",
     "text": [
      "<code object func at 0x0000027760B44780, file \"C:\\Users\\xiaoyou\\AppData\\Local\\Temp\\ipykernel_10868\\1430597623.py\", line 1>\n",
      "['__class__', '__delattr__', '__dir__', '__doc__', '__eq__', '__format__', '__ge__', '__getattribute__', '__gt__', '__hash__', '__init__', '__init_subclass__', '__le__', '__lt__', '__ne__', '__new__', '__reduce__', '__reduce_ex__', '__repr__', '__setattr__', '__sizeof__', '__str__', '__subclasshook__', 'co_argcount', 'co_cellvars', 'co_code', 'co_consts', 'co_filename', 'co_firstlineno', 'co_flags', 'co_freevars', 'co_kwonlyargcount', 'co_lnotab', 'co_name', 'co_names', 'co_nlocals', 'co_stacksize', 'co_varnames']\n",
      "('a', 'b')\n",
      "1\n"
     ]
    }
   ],
   "source": [
    "# 自省工具可以探索实现的细节\n",
    "# 查看代码对象\n",
    "print(func.__code__)\n",
    "print(dir(func.__code__))\n",
    "# 查看局部变量\n",
    "print(func.__code__.co_varnames)\n",
    "# 查看参数\n",
    "print(func.__code__.co_argcount)"
   ],
   "metadata": {
    "collapsed": false,
    "pycharm": {
     "name": "#%%\n"
    }
   }
  },
  {
   "cell_type": "markdown",
   "source": [
    "### 4.4.3.3 函数属性"
   ],
   "metadata": {
    "collapsed": false
   }
  },
  {
   "cell_type": "code",
   "execution_count": 17,
   "outputs": [
    {
     "name": "stdout",
     "output_type": "stream",
     "text": [
      "<function func at 0x0000027760C7EC18>\n",
      "1\n"
     ]
    }
   ],
   "source": [
    "print(func)\n",
    "# 可以给函数添加属性\n",
    "func.count = 0\n",
    "func.count += 1\n",
    "print(func.count)"
   ],
   "metadata": {
    "collapsed": false,
    "pycharm": {
     "name": "#%%\n"
    }
   }
  },
  {
   "cell_type": "code",
   "execution_count": 19,
   "outputs": [
    {
     "name": "stdout",
     "output_type": "stream",
     "text": [
      "button\n",
      "['__annotations__', '__call__', '__class__', '__closure__', '__code__', '__defaults__', '__delattr__', '__dict__', '__dir__', '__doc__', '__eq__', '__format__', '__ge__', '__get__', '__getattribute__', '__globals__', '__gt__', '__hash__', '__init__', '__init_subclass__', '__kwdefaults__', '__le__', '__lt__', '__module__', '__name__', '__ne__', '__new__', '__qualname__', '__reduce__', '__reduce_ex__', '__repr__', '__setattr__', '__sizeof__', '__str__', '__subclasshook__', 'count', 'handles']\n"
     ]
    }
   ],
   "source": [
    "func.handles = 'button'\n",
    "print(func.handles)\n",
    "print(dir(func))"
   ],
   "metadata": {
    "collapsed": false,
    "pycharm": {
     "name": "#%%\n"
    }
   }
  },
  {
   "cell_type": "markdown",
   "source": [
    "### 4.4.3.4 函数注解"
   ],
   "metadata": {
    "collapsed": false
   }
  },
  {
   "cell_type": "code",
   "execution_count": 20,
   "outputs": [
    {
     "name": "stdout",
     "output_type": "stream",
     "text": [
      "6\n"
     ]
    }
   ],
   "source": [
    "# 函数注解如下\n",
    "def func(a:'spam',b:(1,10),c:float) ->int:\n",
    "    return a+b+c\n",
    "\n",
    "# 我们正常使用函数不影响\n",
    "print(func(1,2,3))"
   ],
   "metadata": {
    "collapsed": false,
    "pycharm": {
     "name": "#%%\n"
    }
   }
  },
  {
   "cell_type": "code",
   "execution_count": 21,
   "outputs": [
    {
     "name": "stdout",
     "output_type": "stream",
     "text": [
      "{'a': 'spam', 'b': (1, 10), 'c': <class 'float'>, 'return': <class 'int'>}\n"
     ]
    }
   ],
   "source": [
    "# 但是我们可以使用下面这个来获取函数的注解\n",
    "print(func.__annotations__)"
   ],
   "metadata": {
    "collapsed": false,
    "pycharm": {
     "name": "#%%\n"
    }
   }
  },
  {
   "cell_type": "code",
   "execution_count": 22,
   "outputs": [
    {
     "name": "stdout",
     "output_type": "stream",
     "text": [
      "6\n",
      "{'a': 'spam', 'c': 90}\n"
     ]
    }
   ],
   "source": [
    "# 注解可以只设置两个\n",
    "def func(a:'spam',b,c:90):\n",
    "    return a+b+c\n",
    "\n",
    "print(func(1,2,3))\n",
    "print(func.__annotations__)"
   ],
   "metadata": {
    "collapsed": false,
    "pycharm": {
     "name": "#%%\n"
    }
   }
  },
  {
   "cell_type": "code",
   "execution_count": 25,
   "outputs": [
    {
     "name": "stdout",
     "output_type": "stream",
     "text": [
      "6\n",
      "15\n",
      "{'a': 'spam', 'b': (1, 10), 'c': <class 'float'>, 'return': <class 'int'>}\n"
     ]
    }
   ],
   "source": [
    "# 注解和默认值同时存在\n",
    "def func(a:'spam'=4,b:(1,10)=5,c:float=6)->int:\n",
    "    return a+b+c\n",
    "print(func(1,2,3))\n",
    "print(func())\n",
    "print(func.__annotations__)"
   ],
   "metadata": {
    "collapsed": false,
    "pycharm": {
     "name": "#%%\n"
    }
   }
  },
  {
   "cell_type": "markdown",
   "source": [
    "## 4.4.4 匿名函数lambda"
   ],
   "metadata": {
    "collapsed": false
   }
  },
  {
   "cell_type": "markdown",
   "source": [
    "### 4.4.4.1 lambda表达式基础"
   ],
   "metadata": {
    "collapsed": false
   }
  },
  {
   "cell_type": "code",
   "execution_count": 27,
   "outputs": [
    {
     "name": "stdout",
     "output_type": "stream",
     "text": [
      "9\n",
      "9\n"
     ]
    }
   ],
   "source": [
    "# 下面两个函数是完全等价的\n",
    "def func(x,y,z): return x+y+z\n",
    "func2 = lambda x,y,z: x+y+z\n",
    "print(func(2,3,4))\n",
    "print(func2(2,3,4))"
   ],
   "metadata": {
    "collapsed": false,
    "pycharm": {
     "name": "#%%\n"
    }
   }
  },
  {
   "cell_type": "code",
   "execution_count": 28,
   "outputs": [
    {
     "name": "stdout",
     "output_type": "stream",
     "text": [
      "3\n",
      "7\n"
     ]
    }
   ],
   "source": [
    "# lambda也可以使用默认值\n",
    "f = lambda x=1,y=2:x+y\n",
    "print(f())\n",
    "print(f(3,4))"
   ],
   "metadata": {
    "collapsed": false,
    "pycharm": {
     "name": "#%%\n"
    }
   }
  },
  {
   "cell_type": "code",
   "execution_count": 29,
   "outputs": [
    {
     "name": "stdout",
     "output_type": "stream",
     "text": [
      "sir robin\n"
     ]
    }
   ],
   "source": [
    "# lambda的变量也会遵循LEGB规则\n",
    "def knights():\n",
    "    title = 'sir'\n",
    "    action = lambda x:title+' '+x\n",
    "    return action\n",
    "\n",
    "# 执行\n",
    "act = knights()\n",
    "msg = act('robin')\n",
    "print(msg)"
   ],
   "metadata": {
    "collapsed": false,
    "pycharm": {
     "name": "#%%\n"
    }
   }
  },
  {
   "cell_type": "markdown",
   "source": [
    "### 4.4.4.2 为什么使用lambda"
   ],
   "metadata": {
    "collapsed": false
   }
  },
  {
   "cell_type": "code",
   "execution_count": 30,
   "outputs": [
    {
     "name": "stdout",
     "output_type": "stream",
     "text": [
      "8\n"
     ]
    }
   ],
   "source": [
    "key = 'got'\n",
    "print({\n",
    "    'already': lambda: 2+2,\n",
    "    'got': lambda: 2*4,\n",
    "    'one': lambda :2**6\n",
    "}[key]())"
   ],
   "metadata": {
    "collapsed": false,
    "pycharm": {
     "name": "#%%\n"
    }
   }
  },
  {
   "cell_type": "markdown",
   "source": [
    "### 4.4.4.3 不让代码变得晦涩"
   ],
   "metadata": {
    "collapsed": false
   }
  },
  {
   "cell_type": "code",
   "execution_count": 32,
   "outputs": [
    {
     "name": "stdout",
     "output_type": "stream",
     "text": [
      "aa\n",
      "aa\n"
     ]
    }
   ],
   "source": [
    "# lambda嵌入判断语句\n",
    "lower = lambda x,y: x if x<y else y\n",
    "print(lower('bb','aa'))\n",
    "print(lower('aa','bb'))"
   ],
   "metadata": {
    "collapsed": false,
    "pycharm": {
     "name": "#%%\n"
    }
   }
  },
  {
   "cell_type": "code",
   "execution_count": 33,
   "outputs": [
    {
     "name": "stdout",
     "output_type": "stream",
     "text": [
      "[2, 4]\n"
     ]
    }
   ],
   "source": [
    "# lambda嵌入推导\n",
    "line = [1,2,3,4,5]\n",
    "show = lambda x: [line for line in x if line%2==0]\n",
    "print(show(line))"
   ],
   "metadata": {
    "collapsed": false,
    "pycharm": {
     "name": "#%%\n"
    }
   }
  },
  {
   "cell_type": "markdown",
   "source": [
    "### 4.4.4.4 作用域"
   ],
   "metadata": {
    "collapsed": false
   }
  },
  {
   "cell_type": "code",
   "execution_count": 34,
   "outputs": [
    {
     "name": "stdout",
     "output_type": "stream",
     "text": [
      "102\n"
     ]
    }
   ],
   "source": [
    "# lambda嵌套\n",
    "action = lambda x: lambda y: x+y\n",
    "# 建议使用下面这种括号的形式\n",
    "# action = (lambda x: (lambda y: x+y))\n",
    "act = action(99)\n",
    "print(act(3))"
   ],
   "metadata": {
    "collapsed": false,
    "pycharm": {
     "name": "#%%\n"
    }
   }
  },
  {
   "cell_type": "markdown",
   "source": [
    "## 4.4.5 函数式编程工具"
   ],
   "metadata": {
    "collapsed": false
   }
  },
  {
   "cell_type": "markdown",
   "source": [
    "### 4.4.5.1 在可迭代对象上映射函数：map"
   ],
   "metadata": {
    "collapsed": false
   }
  },
  {
   "cell_type": "code",
   "execution_count": 35,
   "outputs": [
    {
     "name": "stdout",
     "output_type": "stream",
     "text": [
      "[11, 12, 13, 14]\n"
     ]
    }
   ],
   "source": [
    "# 我们使用map来进行list迭代操作\n",
    "def inc(x): return x+10\n",
    "print(list(map(inc, [1,2,3,4])))"
   ],
   "metadata": {
    "collapsed": false,
    "pycharm": {
     "name": "#%%\n"
    }
   }
  },
  {
   "cell_type": "code",
   "execution_count": 36,
   "outputs": [
    {
     "name": "stdout",
     "output_type": "stream",
     "text": [
      "[4, 5, 6, 7]\n"
     ]
    }
   ],
   "source": [
    "# 使用lambd简化后\n",
    "print(list(map(lambda x:x+3,[1,2,3,4])))"
   ],
   "metadata": {
    "collapsed": false,
    "pycharm": {
     "name": "#%%\n"
    }
   }
  },
  {
   "cell_type": "code",
   "execution_count": 37,
   "outputs": [
    {
     "name": "stdout",
     "output_type": "stream",
     "text": [
      "81\n",
      "[1, 8, 81]\n"
     ]
    }
   ],
   "source": [
    "# map也可以用于其他地方\n",
    "print(pow(3,4))\n",
    "print(list(map(pow,[1,2,3],[2,3,4]))) # 1**2 2**3 3**4"
   ],
   "metadata": {
    "collapsed": false,
    "pycharm": {
     "name": "#%%\n"
    }
   }
  },
  {
   "cell_type": "markdown",
   "source": [
    "### 4.4.5.2 在可迭代对象中的元素：filter"
   ],
   "metadata": {
    "collapsed": false
   }
  },
  {
   "cell_type": "code",
   "execution_count": 39,
   "outputs": [
    {
     "name": "stdout",
     "output_type": "stream",
     "text": [
      "[-5, -4, -3, -2, -1, 0, 1, 2, 3, 4]\n",
      "[1, 2, 3, 4]\n"
     ]
    }
   ],
   "source": [
    "print(list(range(-5,5)))\n",
    "# 下面我们进行过滤，只需要大于0的数据\n",
    "print(list(filter(lambda x:x>0, range(-5,5))))"
   ],
   "metadata": {
    "collapsed": false,
    "pycharm": {
     "name": "#%%\n"
    }
   }
  },
  {
   "cell_type": "code",
   "execution_count": 40,
   "outputs": [
    {
     "name": "stdout",
     "output_type": "stream",
     "text": [
      "[1, 2, 3, 4]\n"
     ]
    }
   ],
   "source": [
    "# 这个和生成器很像\n",
    "print([x for x in range(-5,5) if x>0])"
   ],
   "metadata": {
    "collapsed": false,
    "pycharm": {
     "name": "#%%\n"
    }
   }
  },
  {
   "cell_type": "markdown",
   "source": [
    "### 4.4.5.3 合并可迭代对象 reduce"
   ],
   "metadata": {
    "collapsed": false
   }
  },
  {
   "cell_type": "code",
   "execution_count": 41,
   "outputs": [
    {
     "name": "stdout",
     "output_type": "stream",
     "text": [
      "10\n"
     ]
    }
   ],
   "source": [
    "from functools import reduce\n",
    "# 计算列表所有元素的和\n",
    "print(reduce(lambda x,y:x+y, [1,2,3,4]))"
   ],
   "metadata": {
    "collapsed": false,
    "pycharm": {
     "name": "#%%\n"
    }
   }
  },
  {
   "cell_type": "code",
   "execution_count": 42,
   "outputs": [
    {
     "name": "stdout",
     "output_type": "stream",
     "text": [
      "24\n"
     ]
    }
   ],
   "source": [
    "print(reduce(lambda x,y:x*y, [1,2,3,4]))"
   ],
   "metadata": {
    "collapsed": false,
    "pycharm": {
     "name": "#%%\n"
    }
   }
  },
  {
   "cell_type": "markdown",
   "source": [
    "![](.4_images/5bf314df.png)"
   ],
   "metadata": {
    "collapsed": false,
    "pycharm": {
     "name": "#%% md\n"
    }
   }
  }
 ],
 "metadata": {
  "kernelspec": {
   "display_name": "Python 3",
   "language": "python",
   "name": "python3"
  },
  "language_info": {
   "codemirror_mode": {
    "name": "ipython",
    "version": 2
   },
   "file_extension": ".py",
   "mimetype": "text/x-python",
   "name": "python",
   "nbconvert_exporter": "python",
   "pygments_lexer": "ipython2",
   "version": "2.7.6"
  }
 },
 "nbformat": 4,
 "nbformat_minor": 0
}