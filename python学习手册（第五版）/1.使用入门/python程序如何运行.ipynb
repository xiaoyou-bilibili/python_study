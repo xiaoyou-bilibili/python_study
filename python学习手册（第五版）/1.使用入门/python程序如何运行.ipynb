{
 "cells": [
  {
   "cell_type": "markdown",
   "metadata": {
    "collapsed": true,
    "pycharm": {
     "name": "#%% md\n"
    }
   },
   "source": [
    "## python运行流程\n",
    "![](.1_images/b2c29915.png)"
   ]
  },
  {
   "cell_type": "markdown",
   "source": [
    "## python的各种实现\n",
    "python有5主要实现方式。Cpython（基于C语言）、Jython（基于java）、ironPython（基于.net）、stackless（注重并发）、PyPy（注重速度）。CPython是目前标准的python实现"
   ],
   "metadata": {
    "collapsed": false,
    "pycharm": {
     "name": "#%% md\n"
    }
   }
  }
 ],
 "metadata": {
  "kernelspec": {
   "display_name": "Python 3",
   "language": "python",
   "name": "python3"
  },
  "language_info": {
   "codemirror_mode": {
    "name": "ipython",
    "version": 2
   },
   "file_extension": ".py",
   "mimetype": "text/x-python",
   "name": "python",
   "nbconvert_exporter": "python",
   "pygments_lexer": "ipython2",
   "version": "2.7.6"
  }
 },
 "nbformat": 4,
 "nbformat_minor": 0
}