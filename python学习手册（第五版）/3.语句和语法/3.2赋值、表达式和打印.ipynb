{
 "cells": [
  {
   "cell_type": "markdown",
   "source": [
    "## 3.2.1 赋值语句\n",
    "![](.3_images/e72c71e3.png)"
   ],
   "metadata": {
    "collapsed": false
   }
  },
  {
   "cell_type": "markdown",
   "source": [
    "### 3.2.1.1 赋值语句形式"
   ],
   "metadata": {
    "collapsed": false
   }
  },
  {
   "cell_type": "markdown",
   "source": [
    "### 3.2.1.2 序列赋值"
   ],
   "metadata": {
    "collapsed": false
   }
  },
  {
   "cell_type": "code",
   "execution_count": 4,
   "outputs": [
    {
     "name": "stdout",
     "output_type": "stream",
     "text": [
      "(1, 2)\n",
      "<class 'tuple'>\n"
     ]
    }
   ],
   "source": [
    "nudge = 1\n",
    "wink = 2\n",
    "# 下面这个a实际上一个元组，只是没有加括号而已\n",
    "a =nudge,wink\n",
    "print(a)\n",
    "print(type(a))"
   ],
   "metadata": {
    "collapsed": false,
    "pycharm": {
     "name": "#%%\n"
    }
   }
  },
  {
   "cell_type": "code",
   "execution_count": 5,
   "outputs": [
    {
     "name": "stdout",
     "output_type": "stream",
     "text": [
      "1 2\n"
     ]
    }
   ],
   "source": [
    "# 也可以这样赋值\n",
    "[c,d] = [nudge,wink]\n",
    "print(c,d)"
   ],
   "metadata": {
    "collapsed": false,
    "pycharm": {
     "name": "#%%\n"
    }
   }
  },
  {
   "cell_type": "code",
   "execution_count": 8,
   "outputs": [
    {
     "name": "stdout",
     "output_type": "stream",
     "text": [
      "A B C\n",
      "<class 'str'>\n"
     ]
    }
   ],
   "source": [
    "(a,b,c) = \"ABC\"\n",
    "print(a,b,c)\n",
    "print(type(a))"
   ],
   "metadata": {
    "collapsed": false,
    "pycharm": {
     "name": "#%%\n"
    }
   }
  },
  {
   "cell_type": "code",
   "execution_count": 9,
   "outputs": [
    {
     "name": "stdout",
     "output_type": "stream",
     "text": [
      "S P AM\n"
     ]
    }
   ],
   "source": [
    "# 我们甚至可以嵌套赋值\n",
    "((a,b),c)  = ('SP', 'AM')\n",
    "print(a,b,c)"
   ],
   "metadata": {
    "collapsed": false,
    "pycharm": {
     "name": "#%%\n"
    }
   }
  },
  {
   "cell_type": "code",
   "execution_count": 10,
   "outputs": [
    {
     "name": "stdout",
     "output_type": "stream",
     "text": [
      "0 1 2\n"
     ]
    }
   ],
   "source": [
    "# 可以使用range来批量赋值\n",
    "red,green,blue = range(3)\n",
    "print(red,green,blue)"
   ],
   "metadata": {
    "collapsed": false,
    "pycharm": {
     "name": "#%%\n"
    }
   }
  },
  {
   "cell_type": "code",
   "execution_count": 11,
   "outputs": [
    {
     "name": "stdout",
     "output_type": "stream",
     "text": [
      "[0, 1, 2, 3, 4]\n"
     ]
    }
   ],
   "source": [
    "print(list(range(5)))"
   ],
   "metadata": {
    "collapsed": false,
    "pycharm": {
     "name": "#%%\n"
    }
   }
  },
  {
   "cell_type": "markdown",
   "source": [
    "### 3.2.1.3 扩展序列解包"
   ],
   "metadata": {
    "collapsed": false
   }
  },
  {
   "cell_type": "code",
   "execution_count": 15,
   "outputs": [
    {
     "name": "stdout",
     "output_type": "stream",
     "text": [
      "1 [2, 3, 4]\n",
      "[1, 2, 3] 4\n",
      "1 [2, 3] 4\n"
     ]
    }
   ],
   "source": [
    "# 可以使用*来指定通配序列，b可以匹配到剩余的内容\n",
    "a, *b = [1,2,3,4]\n",
    "print(a,b)\n",
    "# 当然也可以这样\n",
    "*a,b = [1,2,3,4]\n",
    "print(a,b)\n",
    "# 也可以这样\n",
    "a,*b,c = [1,2,3,4]\n",
    "print(a,b,c)"
   ],
   "metadata": {
    "collapsed": false,
    "pycharm": {
     "name": "#%%\n"
    }
   }
  },
  {
   "cell_type": "code",
   "execution_count": 16,
   "outputs": [
    {
     "name": "stdout",
     "output_type": "stream",
     "text": [
      "1 [2]\n"
     ]
    }
   ],
   "source": [
    "# 当然这个*会有边界问题\n",
    "a,*b = [1,2]\n",
    "# b实际上获取的是一个列表\n",
    "print(a,b)"
   ],
   "metadata": {
    "collapsed": false,
    "pycharm": {
     "name": "#%%\n"
    }
   }
  },
  {
   "cell_type": "code",
   "execution_count": 17,
   "outputs": [
    {
     "ename": "SyntaxError",
     "evalue": "two starred expressions in assignment (3912483108.py, line 5)",
     "output_type": "error",
     "traceback": [
      "\u001B[1;36m  File \u001B[1;32m\"C:\\Users\\xiaoyou\\AppData\\Local\\Temp\\ipykernel_4424\\3912483108.py\"\u001B[1;36m, line \u001B[1;32m5\u001B[0m\n\u001B[1;31mSyntaxError\u001B[0m\u001B[1;31m:\u001B[0m two starred expressions in assignment\n"
     ]
    }
   ],
   "source": [
    "# 还有使用多个*会有问题\n",
    "*a,*b = [1,2,3,4]"
   ],
   "metadata": {
    "collapsed": false,
    "pycharm": {
     "name": "#%%\n"
    }
   }
  },
  {
   "cell_type": "code",
   "execution_count": 18,
   "outputs": [
    {
     "name": "stdout",
     "output_type": "stream",
     "text": [
      "1 [2, 3] 4\n",
      "5 [6, 7] 8\n"
     ]
    }
   ],
   "source": [
    "# *可以用在for循环里面去\n",
    "for (a,*b,c) in [(1,2,3,4),(5,6,7,8)]:\n",
    "    print(a,b,c)"
   ],
   "metadata": {
    "collapsed": false,
    "pycharm": {
     "name": "#%%\n"
    }
   }
  },
  {
   "cell_type": "markdown",
   "source": [
    "### 3.2.1.4 多目标赋值"
   ],
   "metadata": {
    "collapsed": false
   }
  },
  {
   "cell_type": "code",
   "execution_count": 19,
   "outputs": [
    {
     "name": "stdout",
     "output_type": "stream",
     "text": [
      "span span span\n"
     ]
    }
   ],
   "source": [
    "# 多个变量可以赋同一个值\n",
    "a = b = c = 'span'\n",
    "print(a,b,c)"
   ],
   "metadata": {
    "collapsed": false,
    "pycharm": {
     "name": "#%%\n"
    }
   }
  },
  {
   "cell_type": "code",
   "execution_count": 20,
   "outputs": [
    {
     "name": "stdout",
     "output_type": "stream",
     "text": [
      "1 2\n"
     ]
    }
   ],
   "source": [
    "# 数字等基本对象修改不会影响其他的值\n",
    "a = b = 1\n",
    "b += 1\n",
    "print(a,b)"
   ],
   "metadata": {
    "collapsed": false,
    "pycharm": {
     "name": "#%%\n"
    }
   }
  },
  {
   "cell_type": "code",
   "execution_count": 21,
   "outputs": [
    {
     "name": "stdout",
     "output_type": "stream",
     "text": [
      "[2] [2]\n"
     ]
    }
   ],
   "source": [
    "# 但是可变变量会影响\n",
    "a = b = []\n",
    "b.append(2)\n",
    "print(a,b)"
   ],
   "metadata": {
    "collapsed": false,
    "pycharm": {
     "name": "#%%\n"
    }
   }
  },
  {
   "cell_type": "markdown",
   "source": [
    "### 3.2.1.5 增量赋值\n",
    "![](.3_images/728a617f.png)"
   ],
   "metadata": {
    "collapsed": false
   }
  },
  {
   "cell_type": "code",
   "execution_count": 22,
   "outputs": [
    {
     "name": "stdout",
     "output_type": "stream",
     "text": [
      "[1, 2, 3, 4]\n"
     ]
    }
   ],
   "source": [
    "l = [1,2]\n",
    "l+=[3,4]\n",
    "print(l)"
   ],
   "metadata": {
    "collapsed": false,
    "pycharm": {
     "name": "#%%\n"
    }
   }
  },
  {
   "cell_type": "code",
   "execution_count": 24,
   "outputs": [
    {
     "name": "stdout",
     "output_type": "stream",
     "text": [
      "['s', 'p', 'a', 'n']\n"
     ]
    }
   ],
   "source": [
    "l = []\n",
    "l += 'span'\n",
    "print(l)"
   ],
   "metadata": {
    "collapsed": false,
    "pycharm": {
     "name": "#%%\n"
    }
   }
  },
  {
   "cell_type": "code",
   "execution_count": 25,
   "outputs": [
    {
     "name": "stdout",
     "output_type": "stream",
     "text": [
      "[1, 2, 3, 4] [1, 2]\n",
      "[1, 2, 3, 4] [1, 2, 3, 4]\n"
     ]
    }
   ],
   "source": [
    "# 当然+=会对可变对象有影响\n",
    "l = [1,2]\n",
    "m = l\n",
    "l = l + [3,4]\n",
    "print(l,m)\n",
    "\n",
    "l = [1,2]\n",
    "m = l\n",
    "l += [3,4]\n",
    "print(l,m)"
   ],
   "metadata": {
    "collapsed": false,
    "pycharm": {
     "name": "#%%\n"
    }
   }
  },
  {
   "cell_type": "markdown",
   "source": [
    "### 3.2.1.6 变量命名规则\n",
    "![](.3_images/6643bf50.png)\n",
    "![](.3_images/b378ad11.png)"
   ],
   "metadata": {
    "collapsed": false
   }
  },
  {
   "cell_type": "markdown",
   "source": [
    "## 3.2.2 表达式语句\n",
    "\n",
    "![](.3_images/97f6b82f.png)"
   ],
   "metadata": {
    "collapsed": false
   }
  },
  {
   "cell_type": "markdown",
   "source": [
    "## 3.2.3 打印操作"
   ],
   "metadata": {
    "collapsed": false,
    "pycharm": {
     "name": "#%% md\n"
    }
   }
  },
  {
   "cell_type": "code",
   "execution_count": 26,
   "outputs": [
    {
     "name": "stdout",
     "output_type": "stream",
     "text": [
      "span 99 ['eggs']\n",
      "span,99,['eggs']\n"
     ]
    }
   ],
   "source": [
    "# 打印对象操作\n",
    "x = 'span'\n",
    "y = 99\n",
    "z = ['eggs']\n",
    "print(x,y,z)\n",
    "# 使用特定符号隔开\n",
    "print(x,y,z, sep=',')"
   ],
   "metadata": {
    "collapsed": false,
    "pycharm": {
     "name": "#%%\n"
    }
   }
  },
  {
   "cell_type": "code",
   "execution_count": 27,
   "outputs": [
    {
     "name": "stdout",
     "output_type": "stream",
     "text": [
      "span,99,['eggs']!"
     ]
    }
   ],
   "source": [
    "# 间隔和结尾\n",
    "print(x,y,z,sep=',',end='!')"
   ],
   "metadata": {
    "collapsed": false,
    "pycharm": {
     "name": "#%%\n"
    }
   }
  },
  {
   "cell_type": "code",
   "execution_count": 28,
   "outputs": [
    {
     "name": "stdout",
     "output_type": "stream",
     "text": [
      "span...99...['eggs']\n",
      "\n"
     ]
    }
   ],
   "source": [
    "# 可以打打印的内容重定向到文件中\n",
    "print(x,y,z,sep='...',file=open(\"log.txt\",\"w\"))\n",
    "# 我们读取一下\n",
    "print(open(\"log.txt\").read())"
   ],
   "metadata": {
    "collapsed": false,
    "pycharm": {
     "name": "#%%\n"
    }
   }
  },
  {
   "cell_type": "code",
   "execution_count": 29,
   "outputs": [
    {
     "name": "stdout",
     "output_type": "stream",
     "text": [
      "666"
     ]
    },
    {
     "data": {
      "text/plain": "3"
     },
     "execution_count": 29,
     "metadata": {},
     "output_type": "execute_result"
    }
   ],
   "source": [
    "# 我们可以使用下面这种方式来重定向\n",
    "import sys\n",
    "sys.stdout.write('666')"
   ],
   "metadata": {
    "collapsed": false,
    "pycharm": {
     "name": "#%%\n"
    }
   }
  },
  {
   "cell_type": "code",
   "execution_count": 6,
   "outputs": [],
   "source": [
    "# 我们可以手动指定输出的位置\n",
    "import sys\n",
    "temp = sys.stdout\n",
    "sys.stdout = open('log.txt','w')\n",
    "# 这样我们print就会自动写入文件\n",
    "print(\"666\")"
   ],
   "metadata": {
    "collapsed": false,
    "pycharm": {
     "name": "#%%\n"
    }
   }
  },
  {
   "cell_type": "code",
   "execution_count": 8,
   "outputs": [
    {
     "name": "stdout",
     "output_type": "stream",
     "text": [
      "666\n",
      "<xml><var name=\"In\" type=\"list\" qualifier=\"builtins\" value=\"%5B%27%27%2C %27%23 %E6%88%91%E4%BB%AC%E5%8F%AF%E4%BB%A5%E6%89%8B%E5%8A%A8%E6%8C%87%E5%AE%9A%E8%BE%93%E5%87%BA%E7%9A%84%E4%BD%8D%E7%BD%AE%5Cnimport sys%5Cntemp = sys.stdout%5Cnsys.stdout = open%28%5C%27log.txt%5C%27%2C%5C%27w%5C%27%29%5Cn%23 %E8%BF%99%E6%A0%B7%E6%88%91%E4%BB%ACprint%E5%B0%B1%E4%BC%9A%E8%87%AA%E5%8A%A8%E5%86%99%E5%85%A5%E6%96%87%E4%BB%B6%5Cnprint%28%22666%22%29%27%2C %27sys.stdout.close%28%29%5Cnsys.stdout = temp%5Cnwith open%28%22log.txt%22%29 as f%3A%5Cn    print%28f%29%27%2C %27%23 %E6%88%91%E4%BB%AC%E5%8F%AF%E4%BB%A5%E6%89%8B%E5%8A%A8%E6%8C%87%E5%AE%9A%E8%BE%93%E5%87%BA%E7%9A%84%E4%BD%8D%E7%BD%AE%5Cnimport sys%5Cntemp = sys.stdout%5Cnsys.stdout = open%28%5C%27log.txt%5C%27%2C%5C%27w%5C%27%29%5Cn%23 %E8%BF%99%E6%A0%B7%E6%88%91%E4%BB%ACprint%E5%B0%B1%E4%BC%9A%E8%87%AA%E5%8A%A8%E5%86%99%E5%85%A5%E6%96%87%E4%BB%B6%5Cnprint%28%22666%22%29%27%2C %27sys.stdout.close%28%29%5Cnsys.stdout = temp%5Cnwith open%28%22log.txt%22%29 as f%3A%5Cn    print%28f%29%27%2C %27sys.stdout.close%28%29%5Cnsys.stdout = temp%5Cnwith open%28%22log.txt%22%29 as f%3A%5Cn    print%28f.read%28%29%29%27%2C %27%23 %E6%88%91%E4%BB%AC%E5%8F%AF%E4%BB%A5%E6%89%8B%E5%8A%A8%E6%8C%87%E5%AE%9A%E8%BE%93%E5%87%BA%E7%9A%84%E4%BD%8D%E7%BD%AE%5Cnimport sys%5Cntemp = sys.stdout%5Cnsys.stdout = open%28%5C%27log.txt%5C%27%2C%5C%27w%5C%27%29%5Cn%23 %E8%BF%99%E6%A0%B7%E6%88%91%E4%BB%ACprint%E5%B0%B1%E4%BC%9A%E8%87%AA%E5%8A%A8%E5%86%99%E5%85%A5%E6%96%87%E4%BB%B6%5Cnprint%28%22666%22%29%27%5D\" isContainer=\"True\" shape=\"7\" isIPythonHidden=\"True\" />\n",
      "<var name=\"Out\" type=\"dict\" qualifier=\"builtins\" value=\"%7B%7D\" isContainer=\"True\" shape=\"0\" isIPythonHidden=\"True\" />\n",
      "<var name=\"_\" type=\"str\" qualifier=\"builtins\" value=\"\" isIPythonHidden=\"True\" />\n",
      "<var name=\"__\" type=\"str\" qualifier=\"builtins\" value=\"\" isIPythonHidden=\"True\" />\n",
      "<var name=\"___\" type=\"str\" qualifier=\"builtins\" value=\"\" isIPythonHidden=\"True\" />\n",
      "<var name=\"__builtin__\" type=\"module\" qualifier=\"builtins\" value=\"%3Cmodule %27builtins%27 %28built-in%29&gt;\" isContainer=\"True\" isIPythonHidden=\"True\" />\n",
      "<var name=\"__builtins__\" type=\"module\" qualifier=\"builtins\" value=\"%3Cmodule %27builtins%27 %28built-in%29&gt;\" isContainer=\"True\" isIPythonHidden=\"True\" />\n",
      "<var name=\"__doc__\" type=\"str\" qualifier=\"builtins\" value=\"Automatically created module for IPython interactive environment\" isIPythonHidden=\"True\" />\n",
      "<var name=\"__loader__\" type=\"NoneType\" qualifier=\"builtins\" value=\"None\" isIPythonHidden=\"True\" />\n",
      "<var name=\"__name__\" type=\"str\" qualifier=\"builtins\" value=\"__main__\" isIPythonHidden=\"True\" />\n",
      "<var name=\"__package__\" type=\"NoneType\" qualifier=\"builtins\" value=\"None\" isIPythonHidden=\"True\" />\n",
      "<var name=\"__spec__\" type=\"NoneType\" qualifier=\"builtins\" value=\"None\" isIPythonHidden=\"True\" />\n",
      "<var name=\"_dh\" type=\"list\" qualifier=\"builtins\" value=\"%5B%27E%3A%5C%5CCODE%5C%5Cxiaoyou-bilibili%5C%5Cpython-study%5C%5Cpython%E5%AD%A6%E4%B9%A0%E6%89%8B%E5%86%8C%EF%BC%88%E7%AC%AC%E4%BA%94%E7%89%88%EF%BC%89%5C%5C3.%E8%AF%AD%E5%8F%A5%E5%92%8C%E8%AF%AD%E6%B3%95%27%5D\" isContainer=\"True\" shape=\"1\" isIPythonHidden=\"True\" />\n",
      "<var name=\"_i\" type=\"str\" qualifier=\"builtins\" value=\"sys.stdout.close%28%29%0Asys.stdout = temp%0Awith open%28%22log.txt%22%29 as f%3A%0A    print%28f.read%28%29%29\" isIPythonHidden=\"True\" />\n",
      "<var name=\"_i1\" type=\"str\" qualifier=\"builtins\" value=\"%23 %E6%88%91%E4%BB%AC%E5%8F%AF%E4%BB%A5%E6%89%8B%E5%8A%A8%E6%8C%87%E5%AE%9A%E8%BE%93%E5%87%BA%E7%9A%84%E4%BD%8D%E7%BD%AE%0Aimport sys%0Atemp = sys.stdout%0Asys.stdout = open%28%27log.txt%27%2C%27w%27%29%0A%23 %E8%BF%99%E6%A0%B7%E6%88%91%E4%BB%ACprint%E5%B0%B1%E4%BC%9A%E8%87%AA%E5%8A%A8%E5%86%99%E5%85%A5%E6%96%87%E4%BB%B6%0Aprint%28%22666%22%29\" isIPythonHidden=\"True\" />\n",
      "<var name=\"_i2\" type=\"str\" qualifier=\"builtins\" value=\"sys.stdout.close%28%29%0Asys.stdout = temp%0Awith open%28%22log.txt%22%29 as f%3A%0A    print%28f%29\" isIPythonHidden=\"True\" />\n",
      "<var name=\"_i3\" type=\"str\" qualifier=\"builtins\" value=\"%23 %E6%88%91%E4%BB%AC%E5%8F%AF%E4%BB%A5%E6%89%8B%E5%8A%A8%E6%8C%87%E5%AE%9A%E8%BE%93%E5%87%BA%E7%9A%84%E4%BD%8D%E7%BD%AE%0Aimport sys%0Atemp = sys.stdout%0Asys.stdout = open%28%27log.txt%27%2C%27w%27%29%0A%23 %E8%BF%99%E6%A0%B7%E6%88%91%E4%BB%ACprint%E5%B0%B1%E4%BC%9A%E8%87%AA%E5%8A%A8%E5%86%99%E5%85%A5%E6%96%87%E4%BB%B6%0Aprint%28%22666%22%29\" isIPythonHidden=\"True\" />\n",
      "<var name=\"_i4\" type=\"str\" qualifier=\"builtins\" value=\"sys.stdout.close%28%29%0Asys.stdout = temp%0Awith open%28%22log.txt%22%29 as f%3A%0A    print%28f%29\" isIPythonHidden=\"True\" />\n",
      "<var name=\"_i5\" type=\"str\" qualifier=\"builtins\" value=\"sys.stdout.close%28%29%0Asys.stdout = temp%0Awith open%28%22log.txt%22%29 as f%3A%0A    print%28f.read%28%29%29\" isIPythonHidden=\"True\" />\n",
      "<var name=\"_i6\" type=\"str\" qualifier=\"builtins\" value=\"%23 %E6%88%91%E4%BB%AC%E5%8F%AF%E4%BB%A5%E6%89%8B%E5%8A%A8%E6%8C%87%E5%AE%9A%E8%BE%93%E5%87%BA%E7%9A%84%E4%BD%8D%E7%BD%AE%0Aimport sys%0Atemp = sys.stdout%0Asys.stdout = open%28%27log.txt%27%2C%27w%27%29%0A%23 %E8%BF%99%E6%A0%B7%E6%88%91%E4%BB%ACprint%E5%B0%B1%E4%BC%9A%E8%87%AA%E5%8A%A8%E5%86%99%E5%85%A5%E6%96%87%E4%BB%B6%0Aprint%28%22666%22%29\" isIPythonHidden=\"True\" />\n",
      "<var name=\"_ih\" type=\"list\" qualifier=\"builtins\" value=\"%5B%27%27%2C %27%23 %E6%88%91%E4%BB%AC%E5%8F%AF%E4%BB%A5%E6%89%8B%E5%8A%A8%E6%8C%87%E5%AE%9A%E8%BE%93%E5%87%BA%E7%9A%84%E4%BD%8D%E7%BD%AE%5Cnimport sys%5Cntemp = sys.stdout%5Cnsys.stdout = open%28%5C%27log.txt%5C%27%2C%5C%27w%5C%27%29%5Cn%23 %E8%BF%99%E6%A0%B7%E6%88%91%E4%BB%ACprint%E5%B0%B1%E4%BC%9A%E8%87%AA%E5%8A%A8%E5%86%99%E5%85%A5%E6%96%87%E4%BB%B6%5Cnprint%28%22666%22%29%27%2C %27sys.stdout.close%28%29%5Cnsys.stdout = temp%5Cnwith open%28%22log.txt%22%29 as f%3A%5Cn    print%28f%29%27%2C %27%23 %E6%88%91%E4%BB%AC%E5%8F%AF%E4%BB%A5%E6%89%8B%E5%8A%A8%E6%8C%87%E5%AE%9A%E8%BE%93%E5%87%BA%E7%9A%84%E4%BD%8D%E7%BD%AE%5Cnimport sys%5Cntemp = sys.stdout%5Cnsys.stdout = open%28%5C%27log.txt%5C%27%2C%5C%27w%5C%27%29%5Cn%23 %E8%BF%99%E6%A0%B7%E6%88%91%E4%BB%ACprint%E5%B0%B1%E4%BC%9A%E8%87%AA%E5%8A%A8%E5%86%99%E5%85%A5%E6%96%87%E4%BB%B6%5Cnprint%28%22666%22%29%27%2C %27sys.stdout.close%28%29%5Cnsys.stdout = temp%5Cnwith open%28%22log.txt%22%29 as f%3A%5Cn    print%28f%29%27%2C %27sys.stdout.close%28%29%5Cnsys.stdout = temp%5Cnwith open%28%22log.txt%22%29 as f%3A%5Cn    print%28f.read%28%29%29%27%2C %27%23 %E6%88%91%E4%BB%AC%E5%8F%AF%E4%BB%A5%E6%89%8B%E5%8A%A8%E6%8C%87%E5%AE%9A%E8%BE%93%E5%87%BA%E7%9A%84%E4%BD%8D%E7%BD%AE%5Cnimport sys%5Cntemp = sys.stdout%5Cnsys.stdout = open%28%5C%27log.txt%5C%27%2C%5C%27w%5C%27%29%5Cn%23 %E8%BF%99%E6%A0%B7%E6%88%91%E4%BB%ACprint%E5%B0%B1%E4%BC%9A%E8%87%AA%E5%8A%A8%E5%86%99%E5%85%A5%E6%96%87%E4%BB%B6%5Cnprint%28%22666%22%29%27%5D\" isContainer=\"True\" shape=\"7\" isIPythonHidden=\"True\" />\n",
      "<var name=\"_ii\" type=\"str\" qualifier=\"builtins\" value=\"sys.stdout.close%28%29%0Asys.stdout = temp%0Awith open%28%22log.txt%22%29 as f%3A%0A    print%28f%29\" isIPythonHidden=\"True\" />\n",
      "<var name=\"_iii\" type=\"str\" qualifier=\"builtins\" value=\"%23 %E6%88%91%E4%BB%AC%E5%8F%AF%E4%BB%A5%E6%89%8B%E5%8A%A8%E6%8C%87%E5%AE%9A%E8%BE%93%E5%87%BA%E7%9A%84%E4%BD%8D%E7%BD%AE%0Aimport sys%0Atemp = sys.stdout%0Asys.stdout = open%28%27log.txt%27%2C%27w%27%29%0A%23 %E8%BF%99%E6%A0%B7%E6%88%91%E4%BB%ACprint%E5%B0%B1%E4%BC%9A%E8%87%AA%E5%8A%A8%E5%86%99%E5%85%A5%E6%96%87%E4%BB%B6%0Aprint%28%22666%22%29\" isIPythonHidden=\"True\" />\n",
      "<var name=\"_oh\" type=\"dict\" qualifier=\"builtins\" value=\"%7B%7D\" isContainer=\"True\" shape=\"0\" isIPythonHidden=\"True\" />\n",
      "<var name=\"_pydevd_bundle\" type=\"module\" qualifier=\"builtins\" value=\"%3Cmodule %27_pydevd_bundle%27 from %27D%3A%5C%5CAPP%5C%5CToolBox%5C%5Capps%5C%5CPyCharm-P%5C%5Cch-0%5C%5C213.7172.26%5C%5Cplugins%5C%5Cpython%5C%5Chelpers%5C%5Cpydev%5C%5C_pydevd_bundle%5C%5C__init__.py%27&gt;\" isContainer=\"True\" />\n",
      "<var name=\"exit\" type=\"ZMQExitAutocall\" qualifier=\"IPython.core.autocall\" value=\"%3CIPython.core.autocall.ZMQExitAutocall object at 0x000001B9C297CE88&gt;\" isContainer=\"True\" isIPythonHidden=\"True\" />\n",
      "<var name=\"f\" type=\"TextIOWrapper\" qualifier=\"_io\" value=\"%3C_io.TextIOWrapper name=%27log.txt%27 mode=%27r%27 encoding=%27cp936%27&gt;\" isContainer=\"True\" />\n",
      "<var name=\"get_ipython\" type=\"method\" qualifier=\"builtins\" value=\"%3Cbound method InteractiveShell.get_ipython of %3Cipykernel.zmqshell.ZMQInteractiveShell object at 0x000001B9C296F4C8&gt;&gt;\" isContainer=\"True\" isIPythonHidden=\"True\" />\n",
      "<var name=\"pydev_jupyter_vars\" type=\"module\" qualifier=\"builtins\" value=\"%3Cmodule %27pydev_jupyter_vars%27 from %27D%3A%5C%5CAPP%5C%5CToolBox%5C%5Capps%5C%5CPyCharm-P%5C%5Cch-0%5C%5C213.7172.26%5C%5Cplugins%5C%5Cpython%5C%5Chelpers-pro%5C%5Cjupyter_debug%5C%5Cpydev_jupyter_vars.py%27&gt;\" isContainer=\"True\" />\n",
      "<var name=\"quit\" type=\"ZMQExitAutocall\" qualifier=\"IPython.core.autocall\" value=\"%3CIPython.core.autocall.ZMQExitAutocall object at 0x000001B9C297CE88&gt;\" isContainer=\"True\" isIPythonHidden=\"True\" />\n",
      "<var name=\"remove_imported_pydev_package\" type=\"function\" qualifier=\"builtins\" value=\"%3Cfunction remove_imported_pydev_package at 0x000001B9C29F48B8&gt;\" isContainer=\"True\" />\n",
      "<var name=\"sys\" type=\"module\" qualifier=\"builtins\" value=\"%3Cmodule %27sys%27 %28built-in%29&gt;\" isContainer=\"True\" />\n",
      "<var name=\"temp\" type=\"OutStream\" qualifier=\"ipykernel.iostream\" value=\"%3Cipykernel.iostream.OutStream object at 0x000001B9C294D088&gt;\" isContainer=\"True\" />\n",
      "</xml>\n",
      "\n"
     ]
    }
   ],
   "source": [
    "# sys.stdout.close()\n",
    "sys.stdout = temp\n",
    "with open(\"log.txt\") as f:\n",
    "    print(f.read())"
   ],
   "metadata": {
    "collapsed": false,
    "pycharm": {
     "name": "#%%\n"
    }
   }
  },
  {
   "cell_type": "code",
   "execution_count": null,
   "outputs": [],
   "source": [],
   "metadata": {
    "collapsed": false,
    "pycharm": {
     "name": "#%%\n"
    }
   }
  }
 ],
 "metadata": {
  "kernelspec": {
   "display_name": "Python 3",
   "language": "python",
   "name": "python3"
  },
  "language_info": {
   "codemirror_mode": {
    "name": "ipython",
    "version": 2
   },
   "file_extension": ".py",
   "mimetype": "text/x-python",
   "name": "python",
   "nbconvert_exporter": "python",
   "pygments_lexer": "ipython2",
   "version": "2.7.6"
  }
 },
 "nbformat": 4,
 "nbformat_minor": 0
}