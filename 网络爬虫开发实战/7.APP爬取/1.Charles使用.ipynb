{
 "cells": [
  {
   "cell_type": "code",
   "execution_count": null,
   "metadata": {
    "collapsed": true
   },
   "outputs": [],
   "source": [
    "# 软件地址 https://www.charlesproxy.com/\n",
    "\n",
    "# 手机访问代理可以直接访问 http://chls.pro.ssl 就可以下载证书了\n",
    "# 如果是windows，可以点help->ssl proxying->install charles cer\n",
    "\n",
    "# 我试了一下，某些APP无法抓包。。不是软件的问题"
   ]
  }
 ],
 "metadata": {
  "kernelspec": {
   "display_name": "Python 3",
   "language": "python",
   "name": "python3"
  },
  "language_info": {
   "codemirror_mode": {
    "name": "ipython",
    "version": 2
   },
   "file_extension": ".py",
   "mimetype": "text/x-python",
   "name": "python",
   "nbconvert_exporter": "python",
   "pygments_lexer": "ipython2",
   "version": "2.7.6"
  }
 },
 "nbformat": 4,
 "nbformat_minor": 0
}