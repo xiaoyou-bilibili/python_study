{
 "cells": [
  {
   "cell_type": "markdown",
   "metadata": {
    "collapsed": true,
    "pycharm": {
     "name": "#%% md\n"
    }
   },
   "source": [
    "![](.6_images/0c791de0.png)"
   ]
  },
  {
   "cell_type": "code",
   "execution_count": null,
   "outputs": [],
   "source": [
    "# 官网地址：https://mitmproxy.org/\n",
    "# 安装好后输入mitproxy就可以启动一个代理服务了（他会监听8080端口）\n",
    "# 使用mitmdump会生成CA证书（在用户目录下的.mitmproxy目录下）\n",
    "# 双击 mitmproxy-ca.p12"
   ],
   "metadata": {
    "collapsed": false,
    "pycharm": {
     "name": "#%%\n"
    }
   }
  },
  {
   "cell_type": "code",
   "execution_count": null,
   "outputs": [],
   "source": [
    "from mitmproxy import ctx\n",
    "# 这个函数会自动修改agent信息\n",
    "def request(flow):\n",
    "    request = flow.request\n",
    "    flow.request.headers['User-Agent'] = 'MitmProxy'\n",
    "    ctx.log.info(str(request.headers))"
   ],
   "metadata": {
    "collapsed": false,
    "pycharm": {
     "name": "#%%\n"
    }
   }
  },
  {
   "cell_type": "code",
   "execution_count": null,
   "outputs": [],
   "source": [
    "# 上面那个需要保存为一个脚本，然后使用mitmdump -s script.py来让我们的脚本处理请求"
   ],
   "metadata": {
    "collapsed": false,
    "pycharm": {
     "name": "#%%\n"
    }
   }
  },
  {
   "cell_type": "code",
   "execution_count": null,
   "outputs": [],
   "source": [
    "# 这个mitmproxy还可以输出日志啥的\n",
    "def request(flow):\n",
    "    request = flow.request\n",
    "    info = ctx.log.info\n",
    "    info(request.url)\n",
    "    info(str(request.headers))\n",
    "    info(str(request.cookies))\n",
    "    info(request.host)\n",
    "    info(request.method)\n",
    "    info(str(request.port))\n",
    "    info(request.scheme)"
   ],
   "metadata": {
    "collapsed": false,
    "pycharm": {
     "name": "#%%\n"
    }
   }
  },
  {
   "cell_type": "code",
   "execution_count": null,
   "outputs": [],
   "source": [
    "# 还支持对任意属性进行修改，比如直接修改url\n",
    "def request(flow):\n",
    "    url = 'https://httpbin.org/get'\n",
    "    flow.request.url = url"
   ],
   "metadata": {
    "collapsed": false,
    "pycharm": {
     "name": "#%%\n"
    }
   }
  },
  {
   "cell_type": "markdown",
   "source": [
    "![](.6_images/cda9cadf.png)"
   ],
   "metadata": {
    "collapsed": false,
    "pycharm": {
     "name": "#%% md\n"
    }
   }
  },
  {
   "cell_type": "code",
   "execution_count": null,
   "outputs": [],
   "source": [
    "# 当然也可以获取响应结果，例子如下\n",
    "def response(flow):\n",
    "    print('Url', flow.request.url)\n",
    "    response = flow.response\n",
    "    info = ctx.log.info\n",
    "    info(str(response.status_code))\n",
    "    info(str(response.headers))\n",
    "    info(str(response.cookies))\n",
    "    info(str(response.text))"
   ],
   "metadata": {
    "collapsed": false,
    "pycharm": {
     "name": "#%%\n"
    }
   }
  }
 ],
 "metadata": {
  "kernelspec": {
   "display_name": "Python 3",
   "language": "python",
   "name": "python3"
  },
  "language_info": {
   "codemirror_mode": {
    "name": "ipython",
    "version": 2
   },
   "file_extension": ".py",
   "mimetype": "text/x-python",
   "name": "python",
   "nbconvert_exporter": "python",
   "pygments_lexer": "ipython2",
   "version": "2.7.6"
  }
 },
 "nbformat": 4,
 "nbformat_minor": 0
}