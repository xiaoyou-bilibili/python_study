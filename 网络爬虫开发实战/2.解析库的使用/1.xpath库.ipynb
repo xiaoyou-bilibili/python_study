{
 "cells": [
  {
   "cell_type": "markdown",
   "metadata": {
    "collapsed": true,
    "pycharm": {
     "name": "#%% md\n"
    }
   },
   "source": [
    "![](.2_images/bdd63d40.png)"
   ]
  },
  {
   "cell_type": "code",
   "execution_count": 1,
   "outputs": [
    {
     "name": "stdout",
     "output_type": "stream",
     "text": [
      "<html><body><div>\n",
      "    <ul>\n",
      "         <li class=\"item-0\"><a href=\"link1.html\">first item</a></li>\n",
      "         <li class=\"item-1\"><a href=\"link2.html\">second item</a></li>\n",
      "         <li class=\"item-inactive\"><a href=\"link3.html\">third item</a></li>\n",
      "         <li class=\"item-1\"><a href=\"link4.html\">fourth item</a></li>\n",
      "         <li class=\"item-0\"><a href=\"link5.html\">fifth item</a>\n",
      "     </li></ul>\n",
      " </div>\n",
      "</body></html>\n"
     ]
    }
   ],
   "source": [
    "from lxml import etree\n",
    "\n",
    "text = '''\n",
    "<div>\n",
    "    <ul>\n",
    "         <li class=\"item-0\"><a href=\"link1.html\">first item</a></li>\n",
    "         <li class=\"item-1\"><a href=\"link2.html\">second item</a></li>\n",
    "         <li class=\"item-inactive\"><a href=\"link3.html\">third item</a></li>\n",
    "         <li class=\"item-1\"><a href=\"link4.html\">fourth item</a></li>\n",
    "         <li class=\"item-0\"><a href=\"link5.html\">fifth item</a>\n",
    "     </ul>\n",
    " </div>\n",
    "'''\n",
    "# 这里我们可以使用etree来进行解析，这里我们的HTML文本最后一个节点是没有闭和的，但是我们可以使用etree来自动修正HTML文本\n",
    "html = etree.HTML(text)\n",
    "# 这里转换出来的是二进制的信息\n",
    "result = etree.tostring(html)\n",
    "# 我们这里把二进制编码成字符串\n",
    "print(result.decode('utf-8'))"
   ],
   "metadata": {
    "collapsed": false,
    "pycharm": {
     "name": "#%%\n"
    }
   }
  },
  {
   "cell_type": "code",
   "execution_count": 2,
   "outputs": [
    {
     "name": "stdout",
     "output_type": "stream",
     "text": [
      "<!DOCTYPE html PUBLIC \"-//W3C//DTD HTML 4.0 Transitional//EN\" \"http://www.w3.org/TR/REC-html40/loose.dtd\">\n",
      "<html><body><div>&#13;\n",
      "    <ul>&#13;\n",
      "         <li class=\"item-0\"><a href=\"link1.html\">first item</a></li>&#13;\n",
      "         <li class=\"item-1\"><a href=\"link2.html\">second item</a></li>&#13;\n",
      "         <li class=\"item-inactive\"><a href=\"link3.html\">third item</a></li>&#13;\n",
      "         <li class=\"item-1\"><a href=\"link4.html\">fourth item</a></li>&#13;\n",
      "         <li class=\"item-0\"><a href=\"link5.html\">fifth item</a>&#13;\n",
      "     </li></ul>&#13;\n",
      " </div></body></html>\n"
     ]
    }
   ],
   "source": [
    "# 也可以直接解析文件，这里会多出<!DOCTYPE声明\n",
    "html = etree.parse('./test.html', etree.HTMLParser())\n",
    "result = etree.tostring(html)\n",
    "print(result.decode('utf-8'))"
   ],
   "metadata": {
    "collapsed": false,
    "pycharm": {
     "name": "#%%\n"
    }
   }
  },
  {
   "cell_type": "code",
   "execution_count": 3,
   "outputs": [
    {
     "name": "stdout",
     "output_type": "stream",
     "text": [
      "[<Element li at 0x2a7c23f2408>, <Element li at 0x2a7c23f2308>, <Element li at 0x2a7c23f23c8>, <Element li at 0x2a7c23f2448>, <Element li at 0x2a7c23f2488>]\n",
      "<Element li at 0x2a7c23f2408>\n"
     ]
    }
   ],
   "source": [
    "# 下面我们使用xpath来解析所有的节点\n",
    "html = etree.parse('./test.html', etree.HTMLParser())\n",
    "# 选取所有的li节点\n",
    "result = html.xpath('//li')\n",
    "print(result)\n",
    "print(result[0])"
   ],
   "metadata": {
    "collapsed": false,
    "pycharm": {
     "name": "#%%\n"
    }
   }
  },
  {
   "cell_type": "code",
   "execution_count": 5,
   "outputs": [
    {
     "name": "stdout",
     "output_type": "stream",
     "text": [
      "[<Element a at 0x2a7c23fab08>, <Element a at 0x2a7c23faac8>, <Element a at 0x2a7c2405448>, <Element a at 0x2a7c2405108>, <Element a at 0x2a7c2405048>]\n"
     ]
    }
   ],
   "source": [
    "# 我们也可以解析子节点，比如解析li下的a标签\n",
    "result = html.xpath('//li/a')\n",
    "print(result)"
   ],
   "metadata": {
    "collapsed": false,
    "pycharm": {
     "name": "#%%\n"
    }
   }
  },
  {
   "cell_type": "code",
   "execution_count": 7,
   "outputs": [
    {
     "name": "stdout",
     "output_type": "stream",
     "text": [
      "[<Element a at 0x2a7c23fab08>, <Element a at 0x2a7c23faac8>, <Element a at 0x2a7c2405448>, <Element a at 0x2a7c2405108>, <Element a at 0x2a7c2405048>]\n"
     ]
    }
   ],
   "source": [
    "# 如果想获取子孙节点，可以这样\n",
    "result = html.xpath('//ul//a')\n",
    "print(result)"
   ],
   "metadata": {
    "collapsed": false,
    "pycharm": {
     "name": "#%%\n"
    }
   }
  },
  {
   "cell_type": "code",
   "execution_count": 9,
   "outputs": [
    {
     "name": "stdout",
     "output_type": "stream",
     "text": [
      "[]\n"
     ]
    }
   ],
   "source": [
    "# 下面这样就不行，会获取不到\n",
    "result = html.xpath('//ul/a')\n",
    "print(result)"
   ],
   "metadata": {
    "collapsed": false,
    "pycharm": {
     "name": "#%%\n"
    }
   }
  },
  {
   "cell_type": "code",
   "execution_count": 10,
   "outputs": [
    {
     "name": "stdout",
     "output_type": "stream",
     "text": [
      "['item-1']\n"
     ]
    }
   ],
   "source": [
    "# 我们也可以根据子节点来获取到父节点的信息\n",
    "result = html.xpath('//a[@href=\"link4.html\"]/../@class')\n",
    "print(result)"
   ],
   "metadata": {
    "collapsed": false,
    "pycharm": {
     "name": "#%%\n"
    }
   }
  },
  {
   "cell_type": "code",
   "execution_count": 11,
   "outputs": [
    {
     "name": "stdout",
     "output_type": "stream",
     "text": [
      "['item-1']\n"
     ]
    }
   ],
   "source": [
    "# 除了使用..我们也可以使用parent来获取\n",
    "result = html.xpath('//a[@href=\"link4.html\"]/parent::*/@class')\n",
    "print(result)"
   ],
   "metadata": {
    "collapsed": false,
    "pycharm": {
     "name": "#%%\n"
    }
   }
  },
  {
   "cell_type": "code",
   "execution_count": 12,
   "outputs": [
    {
     "name": "stdout",
     "output_type": "stream",
     "text": [
      "[<Element li at 0x2a7c2427308>, <Element li at 0x2a7c2427348>]\n"
     ]
    }
   ],
   "source": [
    "# 根据属性来匹配内容，这里查找class=\"item-0\"的标签\n",
    "result = html.xpath('//li[@class=\"item-0\"]')\n",
    "print(result)"
   ],
   "metadata": {
    "collapsed": false,
    "pycharm": {
     "name": "#%%\n"
    }
   }
  },
  {
   "cell_type": "code",
   "execution_count": 13,
   "outputs": [
    {
     "name": "stdout",
     "output_type": "stream",
     "text": [
      "['\\r\\n     ']\n"
     ]
    }
   ],
   "source": [
    "# 获取标签下面的文本内容\n",
    "result = html.xpath('//li[@class=\"item-0\"]/text()')\n",
    "# 这里会获取不到文本，因为xpath这里使用了子节点也就是<li>标签里面的东西\n",
    "print(result)"
   ],
   "metadata": {
    "collapsed": false,
    "pycharm": {
     "name": "#%%\n"
    }
   }
  },
  {
   "cell_type": "code",
   "execution_count": 14,
   "outputs": [
    {
     "name": "stdout",
     "output_type": "stream",
     "text": [
      "['first item', 'fifth item']\n"
     ]
    }
   ],
   "source": [
    "# 这样就可以获取到了\n",
    "result = html.xpath('//li[@class=\"item-0\"]/a/text()')\n",
    "print(result)"
   ],
   "metadata": {
    "collapsed": false,
    "pycharm": {
     "name": "#%%\n"
    }
   }
  },
  {
   "cell_type": "code",
   "execution_count": 15,
   "outputs": [
    {
     "name": "stdout",
     "output_type": "stream",
     "text": [
      "['first item', 'fifth item', '\\r\\n     ']\n"
     ]
    }
   ],
   "source": [
    "# 当然也可以直接使用子孙节点的方式来获取。这里会获取所有的子孙节点信息\n",
    "result = html.xpath('//li[@class=\"item-0\"]//text()')\n",
    "print(result)"
   ],
   "metadata": {
    "collapsed": false,
    "pycharm": {
     "name": "#%%\n"
    }
   }
  },
  {
   "cell_type": "code",
   "execution_count": 16,
   "outputs": [
    {
     "name": "stdout",
     "output_type": "stream",
     "text": [
      "['link1.html', 'link2.html', 'link3.html', 'link4.html', 'link5.html']\n"
     ]
    }
   ],
   "source": [
    "# 除了可以获取文本，还可以获取属性，比如这里获取a标签的链接信息\n",
    "result = html.xpath('//li/a/@href')\n",
    "print(result)"
   ],
   "metadata": {
    "collapsed": false,
    "pycharm": {
     "name": "#%%\n"
    }
   }
  },
  {
   "cell_type": "code",
   "execution_count": 17,
   "outputs": [
    {
     "name": "stdout",
     "output_type": "stream",
     "text": [
      "[]\n"
     ]
    }
   ],
   "source": [
    "# 如果节点属性有多个值时，这个时候就无法匹配到内容了\n",
    "text = '''\n",
    "<li class=\"li li-first\"><a href=\"link.html\">first item</a></li>\n",
    "'''\n",
    "html = etree.HTML(text)\n",
    "# 比如这里class属性有两个，这里就不能匹配到结果了\n",
    "result = html.xpath('//li[@class=\"li\"]/a/text()')\n",
    "print(result)"
   ],
   "metadata": {
    "collapsed": false,
    "pycharm": {
     "name": "#%%\n"
    }
   }
  },
  {
   "cell_type": "code",
   "execution_count": 18,
   "outputs": [
    {
     "name": "stdout",
     "output_type": "stream",
     "text": [
      "['first item']\n"
     ]
    }
   ],
   "source": [
    "# 这个时候我们可以使用contains，表示包含\n",
    "result = html.xpath('//li[contains(@class, \"li\")]/a/text()')\n",
    "print(result)"
   ],
   "metadata": {
    "collapsed": false,
    "pycharm": {
     "name": "#%%\n"
    }
   }
  },
  {
   "cell_type": "code",
   "execution_count": 19,
   "outputs": [
    {
     "name": "stdout",
     "output_type": "stream",
     "text": [
      "['first item']\n"
     ]
    }
   ],
   "source": [
    "# 还有另外一种情况，就是根据多个属性来确定一个节点，这里我们可以使用and来连接\n",
    "text = '''\n",
    "<li class=\"li li-first\" name=\"item\"><a href=\"link.html\">first item</a></li>\n",
    "'''\n",
    "html = etree.HTML(text)\n",
    "result = html.xpath('//li[contains(@class, \"li\") and @name=\"item\"]/a/text()')\n",
    "print(result)"
   ],
   "metadata": {
    "collapsed": false,
    "pycharm": {
     "name": "#%%\n"
    }
   }
  },
  {
   "cell_type": "markdown",
   "source": [
    "xpath还有很多运算符，下面是这些运算符的简单介绍\n",
    "\n",
    "![](.2_images/9d4da00d.png)"
   ],
   "metadata": {
    "collapsed": false,
    "pycharm": {
     "name": "#%% md\n"
    }
   }
  },
  {
   "cell_type": "code",
   "execution_count": 20,
   "outputs": [
    {
     "name": "stdout",
     "output_type": "stream",
     "text": [
      "['first item']\n",
      "['fifth item']\n",
      "['first item', 'second item']\n",
      "['third item']\n"
     ]
    }
   ],
   "source": [
    "# 下面演示一下安装顺序来选择对应的节点\n",
    "text = '''\n",
    "<div>\n",
    "    <ul>\n",
    "         <li class=\"item-0\"><a href=\"link1.html\">first item</a></li>\n",
    "         <li class=\"item-1\"><a href=\"link2.html\">second item</a></li>\n",
    "         <li class=\"item-inactive\"><a href=\"link3.html\">third item</a></li>\n",
    "         <li class=\"item-1\"><a href=\"link4.html\">fourth item</a></li>\n",
    "         <li class=\"item-0\"><a href=\"link5.html\">fifth item</a>\n",
    "     </ul>\n",
    " </div>\n",
    "'''\n",
    "html = etree.HTML(text)\n",
    "# 获取第一个（注意，顺序是从1开始的）\n",
    "result = html.xpath('//li[1]/a/text()')\n",
    "print(result)\n",
    "# 获取最后一个节点\n",
    "result = html.xpath('//li[last()]/a/text()')\n",
    "print(result)\n",
    "# 获取前面两个节点\n",
    "result = html.xpath('//li[position()<3]/a/text()')\n",
    "print(result)\n",
    "# 获取倒数第三个节点\n",
    "result = html.xpath('//li[last()-2]/a/text()')\n",
    "print(result)"
   ],
   "metadata": {
    "collapsed": false,
    "pycharm": {
     "name": "#%%\n"
    }
   }
  },
  {
   "cell_type": "code",
   "execution_count": 21,
   "outputs": [
    {
     "name": "stdout",
     "output_type": "stream",
     "text": [
      "[<Element html at 0x2a7c241eb08>, <Element body at 0x2a7c2415788>, <Element div at 0x2a7c2415348>, <Element ul at 0x2a7c2415248>]\n",
      "[<Element div at 0x2a7c2415348>]\n",
      "['item-0']\n",
      "[<Element a at 0x2a7c2415608>]\n",
      "[<Element span at 0x2a7c2415348>]\n",
      "[<Element a at 0x2a7c2415e08>]\n",
      "[<Element li at 0x2a7c2415248>, <Element li at 0x2a7c24159c8>, <Element li at 0x2a7c2415788>, <Element li at 0x2a7c2415f48>]\n"
     ]
    }
   ],
   "source": [
    "# 下面演示一下节点轴选择\n",
    "text = '''\n",
    "<div>\n",
    "    <ul>\n",
    "         <li class=\"item-0\"><a href=\"link1.html\"><span>first item</span></a></li>\n",
    "         <li class=\"item-1\"><a href=\"link2.html\">second item</a></li>\n",
    "         <li class=\"item-inactive\"><a href=\"link3.html\">third item</a></li>\n",
    "         <li class=\"item-1\"><a href=\"link4.html\">fourth item</a></li>\n",
    "         <li class=\"item-0\"><a href=\"link5.html\">fifth item</a>\n",
    "     </ul>\n",
    " </div>\n",
    "'''\n",
    "html = etree.HTML(text)\n",
    "# 获取所有的祖先节点\n",
    "result = html.xpath('//li[1]/ancestor::*')\n",
    "print(result)\n",
    "# 获取某一个祖先节点\n",
    "result = html.xpath('//li[1]/ancestor::div')\n",
    "print(result)\n",
    "# 获取节点所有的属性\n",
    "result = html.xpath('//li[1]/attribute::*')\n",
    "print(result)\n",
    "# 获取特定的字节点\n",
    "result = html.xpath('//li[1]/child::a[@href=\"link1.html\"]')\n",
    "print(result)\n",
    "# 获取特定的子孙节点\n",
    "result = html.xpath('//li[1]/descendant::span')\n",
    "print(result)\n",
    "# 获取当前节点之后的所有节点\n",
    "result = html.xpath('//li[1]/following::*[2]')\n",
    "print(result)\n",
    "# 获取当前节点之后的同级节点\n",
    "result = html.xpath('//li[1]/following-sibling::*')\n",
    "print(result)"
   ],
   "metadata": {
    "collapsed": false,
    "pycharm": {
     "name": "#%%\n"
    }
   }
  },
  {
   "cell_type": "code",
   "execution_count": null,
   "outputs": [],
   "source": [],
   "metadata": {
    "collapsed": false,
    "pycharm": {
     "name": "#%%\n"
    }
   }
  }
 ],
 "metadata": {
  "kernelspec": {
   "display_name": "Python 3",
   "language": "python",
   "name": "python3"
  },
  "language_info": {
   "codemirror_mode": {
    "name": "ipython",
    "version": 2
   },
   "file_extension": ".py",
   "mimetype": "text/x-python",
   "name": "python",
   "nbconvert_exporter": "python",
   "pygments_lexer": "ipython2",
   "version": "2.7.6"
  }
 },
 "nbformat": 4,
 "nbformat_minor": 0
}