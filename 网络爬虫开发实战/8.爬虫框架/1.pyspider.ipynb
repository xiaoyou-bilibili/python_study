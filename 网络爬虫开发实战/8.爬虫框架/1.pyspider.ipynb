{
 "cells": [
  {
   "cell_type": "code",
   "execution_count": 2,
   "metadata": {
    "collapsed": true
   },
   "outputs": [
    {
     "name": "stdout",
     "output_type": "stream",
     "text": [
      "Collecting pyspider\n",
      "  Downloading https://files.pythonhosted.org/packages/d0/97/d6062c928f53d899ff2a8538fed11d4d425ba3d27c96248a2c601c1c9fef/pyspider-0.3.10.tar.gz (110kB)\n",
      "Requirement already satisfied: Flask>=0.10 in d:\\app\\python\\377\\lib\\site-packages (from pyspider) (1.1.4)\n",
      "Requirement already satisfied: Jinja2>=2.7 in d:\\app\\python\\377\\lib\\site-packages (from pyspider) (2.11.3)\n",
      "Collecting chardet>=2.2 (from pyspider)\n",
      "  Downloading https://files.pythonhosted.org/packages/19/c7/fa589626997dd07bd87d9269342ccb74b1720384a4d739a1872bd84fbe68/chardet-4.0.0-py2.py3-none-any.whl (178kB)\n",
      "Requirement already satisfied: cssselect>=0.9 in d:\\app\\python\\377\\lib\\site-packages (from pyspider) (1.1.0)\n",
      "Requirement already satisfied: lxml in d:\\app\\python\\377\\lib\\site-packages (from pyspider) (4.8.0)\n",
      "Collecting pycurl (from pyspider)\n",
      "  Downloading https://files.pythonhosted.org/packages/09/ca/0b6da1d0f391acb8991ac6fdf8823ed9cf4c19680d4f378ab1727f90bd5c/pycurl-7.45.1.tar.gz (233kB)\n"
     ]
    },
    {
     "name": "stderr",
     "output_type": "stream",
     "text": [
      "  WARNING: Retrying (Retry(total=4, connect=None, read=None, redirect=None, status=None)) after connection broken by 'ProxyError('Cannot connect to proxy.', ConnectionResetError(10054, '远程主机强迫关闭了一个现有的连接。', None, 10054, None))': /packages/d0/97/d6062c928f53d899ff2a8538fed11d4d425ba3d27c96248a2c601c1c9fef/pyspider-0.3.10.tar.gz\n",
      "    ERROR: Command errored out with exit status 10:\n",
      "     command: 'd:\\app\\python\\377\\python.exe' -c 'import sys, setuptools, tokenize; sys.argv[0] = '\"'\"'C:\\\\Users\\\\xiaoyou\\\\AppData\\\\Local\\\\Temp\\\\pip-install-qd_5vpfw\\\\pycurl\\\\setup.py'\"'\"'; __file__='\"'\"'C:\\\\Users\\\\xiaoyou\\\\AppData\\\\Local\\\\Temp\\\\pip-install-qd_5vpfw\\\\pycurl\\\\setup.py'\"'\"';f=getattr(tokenize, '\"'\"'open'\"'\"', open)(__file__);code=f.read().replace('\"'\"'\\r\\n'\"'\"', '\"'\"'\\n'\"'\"');f.close();exec(compile(code, __file__, '\"'\"'exec'\"'\"'))' egg_info --egg-base pip-egg-info\n",
      "         cwd: C:\\Users\\xiaoyou\\AppData\\Local\\Temp\\pip-install-qd_5vpfw\\pycurl\\\n",
      "    Complete output (1 lines):\n",
      "    Please specify --curl-dir=/path/to/built/libcurl\n",
      "    ----------------------------------------\n",
      "ERROR: Command errored out with exit status 10: python setup.py egg_info Check the logs for full command output.\n",
      "WARNING: You are using pip version 19.2.3, however version 22.1.2 is available.\n",
      "You should consider upgrading via the 'python -m pip install --upgrade pip' command.\n"
     ]
    }
   ],
   "source": [
    "# pyspider框架是一个强大的网络爬虫系统\n",
    "!pip install pyspider"
   ]
  },
  {
   "cell_type": "code",
   "execution_count": null,
   "outputs": [],
   "source": [
    "# 这个框架很久没更新了，而且依赖的无头浏览器也已经停止更新了，所以这里就不介绍了"
   ],
   "metadata": {
    "collapsed": false,
    "pycharm": {
     "name": "#%%\n"
    }
   }
  }
 ],
 "metadata": {
  "kernelspec": {
   "display_name": "Python 3",
   "language": "python",
   "name": "python3"
  },
  "language_info": {
   "codemirror_mode": {
    "name": "ipython",
    "version": 2
   },
   "file_extension": ".py",
   "mimetype": "text/x-python",
   "name": "python",
   "nbconvert_exporter": "python",
   "pygments_lexer": "ipython2",
   "version": "2.7.6"
  }
 },
 "nbformat": 4,
 "nbformat_minor": 0
}