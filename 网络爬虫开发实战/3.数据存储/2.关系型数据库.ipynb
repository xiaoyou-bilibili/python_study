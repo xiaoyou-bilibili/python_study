{
 "cells": [
  {
   "cell_type": "code",
   "execution_count": 1,
   "metadata": {
    "collapsed": true,
    "pycharm": {
     "name": "#%%\n"
    }
   },
   "outputs": [
    {
     "name": "stdout",
     "output_type": "stream",
     "text": [
      "Database version: ('8.0.27',)\n"
     ]
    }
   ],
   "source": [
    "# 这里主要介绍一下mysql\n",
    "import pymysql\n",
    "\n",
    "# 最简单的例子\n",
    "db = pymysql.connect(host='192.168.1.50',user='root', password='xiaoyou', port=30000)\n",
    "cursor = db.cursor()\n",
    "# 这里我们查看一下数据库的版本\n",
    "cursor.execute('SELECT VERSION()')\n",
    "data = cursor.fetchone()\n",
    "print('Database version:', data)\n",
    "# 这里我们新增一个数据库\n",
    "cursor.execute(\"CREATE DATABASE spiders DEFAULT CHARACTER SET utf8\")\n",
    "db.close()"
   ]
  },
  {
   "cell_type": "code",
   "execution_count": 4,
   "outputs": [
    {
     "data": {
      "text/plain": "0"
     },
     "execution_count": 4,
     "metadata": {},
     "output_type": "execute_result"
    }
   ],
   "source": [
    "# 下面我们新建一个数据表，这里需要使用db参数来指定数据库\n",
    "db = pymysql.connect(host='192.168.1.50',user='root', password='xiaoyou', port=30000, db='spiders')\n",
    "cursor = db.cursor()\n",
    "# 这里新建一个student的表\n",
    "sql = 'CREATE TABLE IF NOT EXISTS students (id VARCHAR(255) NOT NULL, name VARCHAR(255) NOT NULL, age INT NOT NULL, PRIMARY KEY (id))'\n",
    "cursor.execute(sql)"
   ],
   "metadata": {
    "collapsed": false,
    "pycharm": {
     "name": "#%%\n"
    }
   }
  },
  {
   "cell_type": "code",
   "execution_count": 7,
   "outputs": [],
   "source": [
    "# 新建好了表后，我们就可以插入一条数据了\n",
    "sql = 'INSERT INTO students(id, name, age) values(%s, %s, %s)'\n",
    "\n",
    "id = '20120001'\n",
    "user = 'Bob'\n",
    "age = 20\n",
    "\n",
    "try:\n",
    "    # 这里执行我们的sql语句来插入数据。这里我们使用了事务，需要执行commit\n",
    "    cursor.execute(sql, (id, user, age))\n",
    "    db.commit()\n",
    "except:\n",
    "    db.rollback()"
   ],
   "metadata": {
    "collapsed": false,
    "pycharm": {
     "name": "#%%\n"
    }
   }
  },
  {
   "cell_type": "code",
   "execution_count": 8,
   "outputs": [
    {
     "name": "stdout",
     "output_type": "stream",
     "text": [
      "INSERT INTO students(id, name, age) VALUES (%s, %s, %s)\n"
     ]
    }
   ],
   "source": [
    "# 这里我们可以使用格式化来读取数据\n",
    "data = {\n",
    "    'id': '20120001',\n",
    "    'name': 'Bob',\n",
    "    'age': 20\n",
    "}\n",
    "table = 'students'\n",
    "keys = ', '.join(data.keys())\n",
    "values = ', '.join(['%s'] * len(data))\n",
    "# 使用这种方式插入数据就非常灵活了\n",
    "sql = 'INSERT INTO {table}({keys}) VALUES ({values})'.format(table=table, keys=keys, values=values)\n",
    "print(sql)"
   ],
   "metadata": {
    "collapsed": false,
    "pycharm": {
     "name": "#%%\n"
    }
   }
  },
  {
   "cell_type": "code",
   "execution_count": 9,
   "outputs": [],
   "source": [
    "# 下面我们试一下更新数据\n",
    "# 修改bob的年龄为25\n",
    "sql = 'UPDATE students SET age = %s WHERE name = %s'\n",
    "try:\n",
    "    cursor.execute(sql, (25, 'Bob'))\n",
    "    db.commit()\n",
    "except:\n",
    "    db.rollback()\n",
    "db.close()"
   ],
   "metadata": {
    "collapsed": false,
    "pycharm": {
     "name": "#%%\n"
    }
   }
  },
  {
   "cell_type": "code",
   "execution_count": 12,
   "outputs": [
    {
     "name": "stdout",
     "output_type": "stream",
     "text": [
      "INSERT INTO students(id, name, age) VALUES (%s, %s, %s) ON DUPLICATE KEY UPDATE id = %s, name = %s, age = %s\n",
      "Successful\n"
     ]
    }
   ],
   "source": [
    "# 如果出现重复数据时要怎么操作\n",
    "data = {\n",
    "    'id': '20120001',\n",
    "    'name': 'Bob',\n",
    "    'age': 21\n",
    "}\n",
    "\n",
    "table = 'students'\n",
    "keys = ', '.join(data.keys())\n",
    "values = ', '.join(['%s'] * len(data))\n",
    "\n",
    "db = pymysql.connect(host='192.168.1.50',user='root', password='xiaoyou', port=30000, db='spiders')\n",
    "cursor = db.cursor()\n",
    "# 这里可以使用ON DUPLICATE KEY UPDATE，就是当主键存在的时候执行更新操作，否则执行插入操作\n",
    "sql = 'INSERT INTO {table}({keys}) VALUES ({values}) ON DUPLICATE KEY UPDATE'.format(table=table, keys=keys,\n",
    "                                                                                     values=values)\n",
    "update = ','.join([\" {key} = %s\".format(key=key) for key in data])\n",
    "sql += update\n",
    "print(sql)\n",
    "try:\n",
    "    if cursor.execute(sql, tuple(data.values()) * 2):\n",
    "        print('Successful')\n",
    "        db.commit()\n",
    "except:\n",
    "    print('Failed')\n",
    "    db.rollback()\n",
    "db.close()"
   ],
   "metadata": {
    "collapsed": false,
    "pycharm": {
     "name": "#%%\n"
    }
   }
  },
  {
   "cell_type": "code",
   "execution_count": null,
   "outputs": [],
   "source": [
    "# 上面那个例子因为数据已经存在了，所以会直接执行更新操作，更新年龄为21"
   ],
   "metadata": {
    "collapsed": false,
    "pycharm": {
     "name": "#%%\n"
    }
   }
  },
  {
   "cell_type": "code",
   "execution_count": 14,
   "outputs": [],
   "source": [
    "# 下面演示一下删除数据\n",
    "table = 'students'\n",
    "condition = 'age > 20'\n",
    "\n",
    "db = pymysql.connect(host='192.168.1.50',user='root', password='xiaoyou', port=30000, db='spiders')\n",
    "cursor = db.cursor()\n",
    "sql = 'DELETE FROM  {table} WHERE {condition}'.format(table=table, condition=condition)\n",
    "try:\n",
    "    cursor.execute(sql)\n",
    "    db.commit()\n",
    "except:\n",
    "    db.rollback()\n",
    "\n",
    "db.close()"
   ],
   "metadata": {
    "collapsed": false,
    "pycharm": {
     "name": "#%%\n"
    }
   }
  },
  {
   "cell_type": "code",
   "execution_count": 15,
   "outputs": [
    {
     "name": "stdout",
     "output_type": "stream",
     "text": [
      "Count: 0\n"
     ]
    }
   ],
   "source": [
    "# 最后就是查询操作\n",
    "sql = 'SELECT * FROM students WHERE age >= 20'\n",
    "db = pymysql.connect(host='192.168.1.50',user='root', password='xiaoyou', port=30000, db='spiders')\n",
    "cursor = db.cursor()\n",
    "try:\n",
    "    cursor.execute(sql)\n",
    "    print('Count:', cursor.rowcount)\n",
    "    # 这里我们这里我们使用游标不断遍历数据\n",
    "    row = cursor.fetchone()\n",
    "    while row:\n",
    "        print('Row:', row)\n",
    "        row = cursor.fetchone()\n",
    "except:\n",
    "    print('Error')"
   ],
   "metadata": {
    "collapsed": false,
    "pycharm": {
     "name": "#%%\n"
    }
   }
  }
 ],
 "metadata": {
  "kernelspec": {
   "display_name": "Python 3",
   "language": "python",
   "name": "python3"
  },
  "language_info": {
   "codemirror_mode": {
    "name": "ipython",
    "version": 2
   },
   "file_extension": ".py",
   "mimetype": "text/x-python",
   "name": "python",
   "nbconvert_exporter": "python",
   "pygments_lexer": "ipython2",
   "version": "2.7.6"
  }
 },
 "nbformat": 4,
 "nbformat_minor": 0
}