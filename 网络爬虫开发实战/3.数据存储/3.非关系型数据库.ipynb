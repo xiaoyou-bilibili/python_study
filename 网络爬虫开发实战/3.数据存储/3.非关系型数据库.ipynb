{
 "cells": [
  {
   "cell_type": "markdown",
   "metadata": {
    "collapsed": true,
    "pycharm": {
     "name": "#%% md\n"
    }
   },
   "source": [
    "非关系型数据库主要有下面这几种\n",
    "\n",
    "![](.3_images/578f0ae6.png)"
   ]
  },
  {
   "cell_type": "markdown",
   "source": [
    "## monoDB"
   ],
   "metadata": {
    "collapsed": false,
    "pycharm": {
     "name": "#%% md\n"
    }
   }
  },
  {
   "cell_type": "code",
   "execution_count": 19,
   "outputs": [
    {
     "name": "stdout",
     "output_type": "stream",
     "text": [
      "['aaa', 'admin', 'config', 'demo', 'local']\n"
     ]
    }
   ],
   "source": [
    "import pymongo\n",
    "\n",
    "# 首先连接一下数据库\n",
    "client = pymongo.MongoClient(host='192.168.1.50', port=30001)\n",
    "# 列出所有数据库名字\n",
    "print(client.list_database_names())\n",
    "# 然后指定一下数据库\n",
    "# db = client.demo\n",
    "# 下面这样也可以\n",
    "db = client['demo']"
   ],
   "metadata": {
    "collapsed": false,
    "pycharm": {
     "name": "#%%\n"
    }
   }
  },
  {
   "cell_type": "code",
   "execution_count": 20,
   "outputs": [],
   "source": [
    "# 再指定一下集合\n",
    "# collection  = db.students\n",
    "# 下面这样也可以\n",
    "collection = db['student']"
   ],
   "metadata": {
    "collapsed": false,
    "pycharm": {
     "name": "#%%\n"
    }
   }
  },
  {
   "cell_type": "code",
   "execution_count": 28,
   "outputs": [
    {
     "name": "stdout",
     "output_type": "stream",
     "text": [
      "<pymongo.results.InsertOneResult object at 0x0000020D8D66E548>\n"
     ]
    }
   ],
   "source": [
    "# 指定好集合后就可以开始准备插入数据了\n",
    "student = {\n",
    "    'id': '20170101',\n",
    "    'name': 'Jordan',\n",
    "    'age': 20,\n",
    "    'gender': 'male'\n",
    "}\n",
    "# 插入我们的数据(不要用insert方法，那个方法已经没用了)\n",
    "result = collection.insert_one(student)\n",
    "print(result)"
   ],
   "metadata": {
    "collapsed": false,
    "pycharm": {
     "name": "#%%\n"
    }
   }
  },
  {
   "cell_type": "code",
   "execution_count": 24,
   "outputs": [
    {
     "name": "stdout",
     "output_type": "stream",
     "text": [
      "<pymongo.results.InsertManyResult object at 0x0000020DFD333488>\n"
     ]
    }
   ],
   "source": [
    "# 我们还可以插入多条数据\n",
    "student1 = {\n",
    "    'id': '20170101',\n",
    "    'name': 'Jordan',\n",
    "    'age': 20,\n",
    "    'gender': 'male'\n",
    "}\n",
    "\n",
    "student2 = {\n",
    "    'id': '20170202',\n",
    "    'name': 'Mike',\n",
    "    'age': 21,\n",
    "    'gender': 'male'\n",
    "}\n",
    "# 多条数据需要使用insert_many方法\n",
    "result = collection.insert_many([student1, student2])\n",
    "print(result)"
   ],
   "metadata": {
    "collapsed": false,
    "pycharm": {
     "name": "#%%\n"
    }
   }
  },
  {
   "cell_type": "code",
   "execution_count": 25,
   "outputs": [
    {
     "name": "stdout",
     "output_type": "stream",
     "text": [
      "<class 'dict'>\n",
      "{'_id': ObjectId('62a13b9df33902758f88e1a8'), 'id': '20170202', 'name': 'Mike', 'age': 21, 'gender': 'male'}\n"
     ]
    }
   ],
   "source": [
    "# 下面演示一下查询操作，我们查询一下name为mike的数据\n",
    "result = collection.find_one({'name': 'Mike'})\n",
    "print(type(result))\n",
    "print(result)"
   ],
   "metadata": {
    "collapsed": false,
    "pycharm": {
     "name": "#%%\n"
    }
   }
  },
  {
   "cell_type": "code",
   "execution_count": 27,
   "outputs": [
    {
     "name": "stdout",
     "output_type": "stream",
     "text": [
      "{'_id': ObjectId('62a13b9df33902758f88e1a7'), 'id': '20170101', 'name': 'Jordan', 'age': 20, 'gender': 'male'}\n"
     ]
    }
   ],
   "source": [
    "# 也可以使用objectid来进行查询，这里需要引入对应的对象，这个id要换成自己的\n",
    "from bson.objectid import ObjectId\n",
    "\n",
    "result = collection.find_one({'_id': ObjectId('62a13b9df33902758f88e1a7')})\n",
    "print(result)"
   ],
   "metadata": {
    "collapsed": false,
    "pycharm": {
     "name": "#%%\n"
    }
   }
  },
  {
   "cell_type": "code",
   "execution_count": 29,
   "outputs": [
    {
     "name": "stdout",
     "output_type": "stream",
     "text": [
      "<pymongo.cursor.Cursor object at 0x0000020DFCE6DE88>\n",
      "{'_id': ObjectId('62a13b9df33902758f88e1a7'), 'id': '20170101', 'name': 'Jordan', 'age': 20, 'gender': 'male'}\n",
      "{'_id': ObjectId('62a13c93f33902758f88e1a9'), 'id': '20170101', 'name': 'Jordan', 'age': 20, 'gender': 'male'}\n"
     ]
    }
   ],
   "source": [
    "# 下面演示一下多条数据查询\n",
    "# 这个返回的是一个游标对象\n",
    "results = collection.find({'age': 20})\n",
    "print(results)\n",
    "# 这里直接使用for循环遍历即可\n",
    "for result in results:\n",
    "    print(result)"
   ],
   "metadata": {
    "collapsed": false,
    "pycharm": {
     "name": "#%%\n"
    }
   }
  },
  {
   "cell_type": "code",
   "execution_count": 30,
   "outputs": [
    {
     "name": "stdout",
     "output_type": "stream",
     "text": [
      "{'_id': ObjectId('62a13b9df33902758f88e1a8'), 'id': '20170202', 'name': 'Mike', 'age': 21, 'gender': 'male'}\n"
     ]
    }
   ],
   "source": [
    "# 我们可以通过下面这个来查询年龄大于20的对象\n",
    "results = collection.find({'age': {'$gt':20}})\n",
    "for result in results:\n",
    "    print(result)"
   ],
   "metadata": {
    "collapsed": false,
    "pycharm": {
     "name": "#%%\n"
    }
   }
  },
  {
   "cell_type": "markdown",
   "source": [
    "![](.3_images/e81c311b.png)"
   ],
   "metadata": {
    "collapsed": false,
    "pycharm": {
     "name": "#%% md\n"
    }
   }
  },
  {
   "cell_type": "code",
   "execution_count": 31,
   "outputs": [
    {
     "name": "stdout",
     "output_type": "stream",
     "text": [
      "{'_id': ObjectId('62a13b9df33902758f88e1a8'), 'id': '20170202', 'name': 'Mike', 'age': 21, 'gender': 'male'}\n"
     ]
    }
   ],
   "source": [
    "# 也可以直接使用正则匹配\n",
    "results = collection.find({'name': {'$regex': '^M.*'}})\n",
    "for result in results:\n",
    "    print(result)"
   ],
   "metadata": {
    "collapsed": false,
    "pycharm": {
     "name": "#%%\n"
    }
   }
  },
  {
   "cell_type": "markdown",
   "source": [
    "![](.3_images/275f6a79.png)"
   ],
   "metadata": {
    "collapsed": false,
    "pycharm": {
     "name": "#%% md\n"
    }
   }
  },
  {
   "cell_type": "code",
   "execution_count": 32,
   "outputs": [
    {
     "ename": "AttributeError",
     "evalue": "'Cursor' object has no attribute 'count'",
     "output_type": "error",
     "traceback": [
      "\u001B[1;31m---------------------------------------------------------------------------\u001B[0m",
      "\u001B[1;31mAttributeError\u001B[0m                            Traceback (most recent call last)",
      "\u001B[1;32m~\\AppData\\Local\\Temp\\ipykernel_1344\\3410778346.py\u001B[0m in \u001B[0;36m<module>\u001B[1;34m\u001B[0m\n\u001B[0;32m      1\u001B[0m \u001B[1;31m# 如果想知道查询结果有多少条数据，可以使用计数功能\u001B[0m\u001B[1;33m\u001B[0m\u001B[1;33m\u001B[0m\u001B[1;33m\u001B[0m\u001B[0m\n\u001B[1;32m----> 2\u001B[1;33m \u001B[0mcount\u001B[0m \u001B[1;33m=\u001B[0m \u001B[0mcollection\u001B[0m\u001B[1;33m.\u001B[0m\u001B[0mfind\u001B[0m\u001B[1;33m(\u001B[0m\u001B[1;33m)\u001B[0m\u001B[1;33m.\u001B[0m\u001B[0mcount\u001B[0m\u001B[1;33m(\u001B[0m\u001B[1;33m)\u001B[0m\u001B[1;33m\u001B[0m\u001B[1;33m\u001B[0m\u001B[0m\n\u001B[0m\u001B[0;32m      3\u001B[0m \u001B[0mprint\u001B[0m\u001B[1;33m(\u001B[0m\u001B[0mcount\u001B[0m\u001B[1;33m)\u001B[0m\u001B[1;33m\u001B[0m\u001B[1;33m\u001B[0m\u001B[0m\n",
      "\u001B[1;31mAttributeError\u001B[0m: 'Cursor' object has no attribute 'count'"
     ]
    }
   ],
   "source": [
    "# 如果想知道查询结果有多少条数据，可以使用计数功能（这个功能在最新版本已经失效了）\n",
    "count = collection.find().count()\n",
    "print(count)"
   ],
   "metadata": {
    "collapsed": false,
    "pycharm": {
     "name": "#%%\n"
    }
   }
  },
  {
   "cell_type": "code",
   "execution_count": 33,
   "outputs": [
    {
     "name": "stdout",
     "output_type": "stream",
     "text": [
      "['Jordan', 'Jordan', 'Mike']\n"
     ]
    }
   ],
   "source": [
    "# 我们可以对查询到的结果进行排序（这里是升序排序）\n",
    "results = collection.find().sort('name', pymongo.ASCENDING)\n",
    "print([result['name'] for result in results])"
   ],
   "metadata": {
    "collapsed": false,
    "pycharm": {
     "name": "#%%\n"
    }
   }
  },
  {
   "cell_type": "code",
   "execution_count": 34,
   "outputs": [
    {
     "name": "stdout",
     "output_type": "stream",
     "text": [
      "['Mike']\n"
     ]
    }
   ],
   "source": [
    "# 我们可以使用skip来偏移位置（比如这里我们跳过前两个数据）\n",
    "results = collection.find().sort('name', pymongo.ASCENDING).skip(2)\n",
    "print([result['name'] for result in results])"
   ],
   "metadata": {
    "collapsed": false,
    "pycharm": {
     "name": "#%%\n"
    }
   }
  },
  {
   "cell_type": "code",
   "execution_count": 35,
   "outputs": [
    {
     "name": "stdout",
     "output_type": "stream",
     "text": [
      "['Jordan', 'Jordan']\n"
     ]
    }
   ],
   "source": [
    "# 我们这里可以限制返回的数据条数\n",
    "results = collection.find().sort('name', pymongo.ASCENDING).limit(2)\n",
    "print([result['name'] for result in results])"
   ],
   "metadata": {
    "collapsed": false,
    "pycharm": {
     "name": "#%%\n"
    }
   }
  },
  {
   "cell_type": "code",
   "execution_count": 45,
   "outputs": [
    {
     "name": "stdout",
     "output_type": "stream",
     "text": [
      "{'_id': ObjectId('62a13b9df33902758f88e1a8'), 'id': '20170202', 'name': 'Mike', 'age': 25, 'gender': 'male'}\n",
      "<pymongo.results.UpdateResult object at 0x0000020D8D6D82C8>\n",
      "1 0\n"
     ]
    }
   ],
   "source": [
    "# 下面演示一下更新数据\n",
    "# 首先查找一下数据\n",
    "condition = {'name': 'Mike'}\n",
    "student = collection.find_one(condition)\n",
    "print(student)\n",
    "# 然后我们修改一下数据\n",
    "student['age'] = 25\n",
    "# 最后更新一下这个数据，这里需要使用update one，然后使用set来设置对象\n",
    "result = collection.update_one(condition, {'$set':student})\n",
    "print(result)\n",
    "print(result.matched_count, result.modified_count)"
   ],
   "metadata": {
    "collapsed": false,
    "pycharm": {
     "name": "#%%\n"
    }
   }
  },
  {
   "cell_type": "code",
   "execution_count": 46,
   "outputs": [
    {
     "name": "stdout",
     "output_type": "stream",
     "text": [
      "<pymongo.results.UpdateResult object at 0x0000020D8D6BDB08>\n",
      "1 1\n"
     ]
    }
   ],
   "source": [
    "# 指定查询条件为年龄大于20，然后直接修改年龄并+1，然后之前为25的，现在改成了26\n",
    "condition = {'age': {'$gt': 20}}\n",
    "# 如果使用update_many的话就会全部更新了\n",
    "result = collection.update_one(condition, {'$inc': {'age': 1}})\n",
    "print(result)\n",
    "print(result.matched_count, result.modified_count)"
   ],
   "metadata": {
    "collapsed": false,
    "pycharm": {
     "name": "#%%\n"
    }
   }
  },
  {
   "cell_type": "code",
   "execution_count": 48,
   "outputs": [
    {
     "name": "stdout",
     "output_type": "stream",
     "text": [
      "<pymongo.results.DeleteResult object at 0x0000020D8D6D2E88>\n"
     ]
    }
   ],
   "source": [
    "# 下面是删除操作\n",
    "# delete_one删除一条，delete_many删除多条\n",
    "result = collection.delete_one({'name': 'Kevin'})\n",
    "print(result)"
   ],
   "metadata": {
    "collapsed": false,
    "pycharm": {
     "name": "#%%\n"
    }
   }
  },
  {
   "cell_type": "markdown",
   "source": [
    "## redis"
   ],
   "metadata": {
    "collapsed": false,
    "pycharm": {
     "name": "#%% md\n"
    }
   }
  },
  {
   "cell_type": "code",
   "execution_count": 50,
   "outputs": [
    {
     "name": "stdout",
     "output_type": "stream",
     "text": [
      "b'Bob'\n"
     ]
    }
   ],
   "source": [
    "from redis import StrictRedis\n",
    "# 建立连接\n",
    "redis = StrictRedis(host='192.168.1.50', port=30319, db=0)\n",
    "# 直接插入一条数据\n",
    "redis.set('name', 'Bob')\n",
    "print(redis.get('name'))"
   ],
   "metadata": {
    "collapsed": false,
    "pycharm": {
     "name": "#%%\n"
    }
   }
  },
  {
   "cell_type": "code",
   "execution_count": null,
   "outputs": [],
   "source": [
    "from redis import StrictRedis, ConnectionPool\n",
    "# 我们可以创建一个连接池\n",
    "pool = ConnectionPool(host='192.168.1.50', port=30319, db=0)\n",
    "redis = StrictRedis(connection_pool=pool)"
   ],
   "metadata": {
    "collapsed": false,
    "pycharm": {
     "name": "#%%\n"
    }
   }
  },
  {
   "cell_type": "markdown",
   "source": [
    "![](.3_images/b2cacdbc.png)\n",
    "\n",
    "![](.3_images/f0f8135a.png)\n",
    "\n",
    "![](.3_images/92bf8c21.png)\n",
    "\n",
    "![](.3_images/4cc22107.png)"
   ],
   "metadata": {
    "collapsed": false,
    "pycharm": {
     "name": "#%% md\n"
    }
   }
  },
  {
   "cell_type": "markdown",
   "source": [
    "![](.3_images/4f23b983.png)\n",
    "\n",
    "![](.3_images/a03b76bf.png)\n",
    "\n",
    "![](.3_images/77198242.png)\n",
    "\n",
    "![](.3_images/210e4c65.png)"
   ],
   "metadata": {
    "collapsed": false,
    "pycharm": {
     "name": "#%% md\n"
    }
   }
  },
  {
   "cell_type": "markdown",
   "source": [
    "![](.3_images/1878483f.png)\n",
    "\n",
    "![](.3_images/bc099428.png)\n",
    "\n",
    "![](.3_images/4430adbd.png)\n",
    "\n",
    "![](.3_images/c662cf5a.png)"
   ],
   "metadata": {
    "collapsed": false,
    "pycharm": {
     "name": "#%% md\n"
    }
   }
  },
  {
   "cell_type": "code",
   "execution_count": null,
   "outputs": [],
   "source": [],
   "metadata": {
    "collapsed": false,
    "pycharm": {
     "name": "#%%\n"
    }
   }
  }
 ],
 "metadata": {
  "kernelspec": {
   "display_name": "Python 3",
   "language": "python",
   "name": "python3"
  },
  "language_info": {
   "codemirror_mode": {
    "name": "ipython",
    "version": 2
   },
   "file_extension": ".py",
   "mimetype": "text/x-python",
   "name": "python",
   "nbconvert_exporter": "python",
   "pygments_lexer": "ipython2",
   "version": "2.7.6"
  }
 },
 "nbformat": 4,
 "nbformat_minor": 0
}