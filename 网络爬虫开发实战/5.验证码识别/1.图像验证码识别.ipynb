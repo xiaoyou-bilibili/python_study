{
 "cells": [
  {
   "cell_type": "code",
   "execution_count": 3,
   "metadata": {
    "collapsed": true
   },
   "outputs": [
    {
     "name": "stdout",
     "output_type": "stream",
     "text": [
      "Requirement already satisfied: pillow in d:\\app\\python\\377\\lib\\site-packages (9.0.1)"
     ]
    },
    {
     "name": "stderr",
     "output_type": "stream",
     "text": [
      "WARNING: You are using pip version 19.2.3, however version 22.1.2 is available.\n",
      "You should consider upgrading via the 'python -m pip install --upgrade pip' command.\n"
     ]
    },
    {
     "name": "stdout",
     "output_type": "stream",
     "text": [
      "\n"
     ]
    }
   ],
   "source": [
    "# 我们拿知网举例https://my.cnki.net/Register/CheckCode.aspx\n",
    "# 首先安装tesseract，地址 https://github.com/tesseract-ocr/tesseract\n",
    "# exe下载地址：https://github.com/UB-Mannheim/tesseract/wiki\n",
    "# tesserocr模块可以直接到 https://github.com/simonflueckiger/tesserocr-windows_build/releases 下载\n",
    "# 使用pip install tesserocr-2.5.2-cp37-cp37m-win_amd64.whl 来安装\n",
    "# 安装对应的包\n",
    "!pip3 install pillow"
   ]
  },
  {
   "cell_type": "code",
   "execution_count": 5,
   "outputs": [
    {
     "name": "stdout",
     "output_type": "stream",
     "text": [
      "7DE3\n",
      "\n"
     ]
    }
   ],
   "source": [
    "import tesserocr\n",
    "from PIL import Image\n",
    "\n",
    "image = Image.open('code.jpg')\n",
    "# 识别图片，如果提示没有test data那么就自己到安装目录把那个文件夹直接拷贝到python安装目录下\n",
    "result = tesserocr.image_to_text(image)\n",
    "# 这里可以直接打印我们的结果\n",
    "print(result)"
   ],
   "metadata": {
    "collapsed": false,
    "pycharm": {
     "name": "#%%\n"
    }
   }
  },
  {
   "cell_type": "code",
   "execution_count": 6,
   "outputs": [
    {
     "name": "stdout",
     "output_type": "stream",
     "text": [
      "7DE3\n",
      "\n"
     ]
    }
   ],
   "source": [
    "# 还有一个更简单的方法\n",
    "print(tesserocr.file_to_text('code.jpg'))"
   ],
   "metadata": {
    "collapsed": false,
    "pycharm": {
     "name": "#%%\n"
    }
   }
  },
  {
   "cell_type": "code",
   "execution_count": 7,
   "outputs": [],
   "source": [
    "# 为了提高正确率，我们可以转换一下灰度图像\n",
    "image1 = image.convert('L')\n",
    "image1.show()"
   ],
   "metadata": {
    "collapsed": false,
    "pycharm": {
     "name": "#%%\n"
    }
   }
  },
  {
   "cell_type": "code",
   "execution_count": 8,
   "outputs": [],
   "source": [
    "# 也可以进行二值化处理\n",
    "image1 = image.convert('1')\n",
    "image1.show()"
   ],
   "metadata": {
    "collapsed": false,
    "pycharm": {
     "name": "#%%\n"
    }
   }
  },
  {
   "cell_type": "code",
   "execution_count": 11,
   "outputs": [],
   "source": [
    "# 我们可以指定二值化的阈值\n",
    "image1 = image.convert('L')\n",
    "# 这里我们指定二值化的阈值\n",
    "threshold = 80\n",
    "table = []\n",
    "for i in range(256):\n",
    "    if i < threshold:\n",
    "        table.append(0)\n",
    "    else:\n",
    "        table.append(1)\n",
    "\n",
    "image1 = image1.point(table, '1')\n",
    "image1.show()"
   ],
   "metadata": {
    "collapsed": false,
    "pycharm": {
     "name": "#%%\n"
    }
   }
  }
 ],
 "metadata": {
  "kernelspec": {
   "display_name": "Python 3",
   "language": "python",
   "name": "python3"
  },
  "language_info": {
   "codemirror_mode": {
    "name": "ipython",
    "version": 2
   },
   "file_extension": ".py",
   "mimetype": "text/x-python",
   "name": "python",
   "nbconvert_exporter": "python",
   "pygments_lexer": "ipython2",
   "version": "2.7.6"
  }
 },
 "nbformat": 4,
 "nbformat_minor": 0
}